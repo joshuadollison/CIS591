{
 "cells": [
  {
   "cell_type": "markdown",
   "metadata": {
    "editable": true,
    "id": "Yom3oZkweFhd",
    "slideshow": {
     "slide_type": ""
    },
    "tags": []
   },
   "source": [
    "# **Mini Business Case Study - Sales Analytics for EcoTrek Solutions**\n",
    "\n",
    "**Case Background**\n",
    "\n",
    "You are a new hire at EcoTrek Solutions, a U.S.-based company that specializes in eco-friendly travel accessories. As a business data analyst, your role involves analyzing sales trends and providing insights to help shape the company's marketing and production strategies.\n",
    "\n",
    "**Pandas, Reading/Writing Data Assignment (Due: TUESDAY, 9/9, 11:59 pm.)**\n",
    "\n"
   ]
  },
  {
   "cell_type": "markdown",
   "metadata": {
    "id": "OJjmBVpwik_a"
   },
   "source": [
    "You, the business data analyst, wonder if such correlation has more to do with the climate than the products themselves.\n",
    "\n",
    "You collected temperature data for the last 20 days as well as the daily sales of GreenTote With this data, you will perform the following tasks:\n",
    "\n",
    "1. create a data frame to store the data read from the file.\n",
    "2. get a summary of each data field (i.e., the count, mean, standard deviation, minimum, maximum, ... etc. ) and interpret the summary in the Markdown or Text Cell (e.g., what does maximum mean for the daily temperature field?)\n",
    "\n",
    "3. use the Pearson Correlation function to examine the correlation relationship between daily sold units and daily temperaturll\n",
    "\n",
    "4. sort the data frame according to the number of units sold per day\n",
    "\n",
    "5. write the sorted data frame to a csv file named \"**GreenTote_analysis_YourLastName_FirstName.csv*\n",
    "\n",
    "6. based on your analysis, choose one of the following options to recommend to your company: (in the text cell)\n",
    "- Option 1: Develop a marketing campaign that considers weather information to strategize the sales of GreenTote\n",
    "- Option 2: Use a random campaign to help increase the sales for the new year*\"\n",
    "\n",
    "**​What to Submit:​**\n",
    "\n",
    "You can choose to submit a Jupyter Notebook file.\n",
    "\n",
    "1). Please name your file **YourLastName_FirstInitial_3.ipynb**. In the code, please just use the data file's name (i.e., data are in the local path) .\n",
    "\n",
    "2). Please submit your data file \"**GreenTote_analysis_YourLastName_FirstName.csv**\"\n",
    "\n",
    "3). Please remember to provide your explanation/interpretation in the Text cells\n",
    "\n",
    "4). Please provide comments in the Code cell to explain what your code does in that cell and run your code before submitting it."
   ]
  },
  {
   "cell_type": "markdown",
   "metadata": {
    "id": "uFqM-fYs6CCx"
   },
   "source": [
    "# **Week 4 Pandas, Numpy, and Sentiment Analysis**\n"
   ]
  },
  {
   "cell_type": "markdown",
   "metadata": {
    "id": "8CQBBoRg6MFU"
   },
   "source": [
    "**Week 4 Preview**"
   ]
  },
  {
   "cell_type": "code",
   "execution_count": 1,
   "metadata": {
    "id": "74LaG3Lg9AM0"
   },
   "outputs": [
    {
     "name": "stdout",
     "output_type": "stream",
     "text": [
      "Salesperson\n",
      "Alice      250\n",
      "Bob        500\n",
      "Charlie    650\n",
      "Name: Sales, dtype: int64\n"
     ]
    }
   ],
   "source": [
    "import pandas as pd\n",
    "\n",
    "data = {\n",
    "    'Salesperson': ['Alice', 'Bob', 'Alice', 'Bob', 'Charlie', 'Charlie'],\n",
    "    'Region': ['North', 'South', 'North', 'North', 'East', 'West'],\n",
    "    'Sales': [100, 200, 150, 300, 250, 400]\n",
    "}\n",
    "\n",
    "df = pd.DataFrame(data)\n",
    "\n",
    "# Group by Salesperson and calculate total sales\n",
    "grouped_df = df.groupby('Salesperson')['Sales'].sum()\n",
    "print(grouped_df)\n"
   ]
  },
  {
   "cell_type": "code",
   "execution_count": 2,
   "metadata": {
    "id": "cuO8a7rEywML"
   },
   "outputs": [
    {
     "name": "stdout",
     "output_type": "stream",
     "text": [
      "Region\n",
      "East     250\n",
      "North    550\n",
      "South    200\n",
      "West     400\n",
      "Name: Sales, dtype: int64\n"
     ]
    }
   ],
   "source": [
    "# Group by Region and calculate total sales, print the result\n",
    "\n",
    "# Your code starts here\n",
    "\n",
    "region_df = df.groupby('Region')['Sales'].sum()\n",
    "\n",
    "# this will get rid of info @ the bottom\n",
    "#   but you also lose the col headers\n",
    "#print(region_df.to_string(header=False))\n",
    "\n",
    "print(region_df)\n",
    "# Your code ends here"
   ]
  },
  {
   "cell_type": "code",
   "execution_count": 3,
   "metadata": {
    "id": "2Ac8Quz294qu"
   },
   "outputs": [
    {
     "name": "stdout",
     "output_type": "stream",
     "text": [
      "Salesperson  Region\n",
      "Alice        North     250\n",
      "Bob          North     300\n",
      "             South     200\n",
      "Charlie      East      250\n",
      "             West      400\n",
      "Name: Sales, dtype: int64\n"
     ]
    }
   ],
   "source": [
    "# Group by Salesperson and Region, then calculate the total sales\n",
    "grouped_df = df.groupby(['Salesperson', 'Region'])['Sales'].sum()\n",
    "print(grouped_df)\n"
   ]
  },
  {
   "cell_type": "code",
   "execution_count": 4,
   "metadata": {
    "id": "ckO8fXpJmzQD"
   },
   "outputs": [
    {
     "name": "stdout",
     "output_type": "stream",
     "text": [
      "Region  Salesperson\n",
      "East    Charlie        250\n",
      "North   Alice          250\n",
      "        Bob            300\n",
      "South   Bob            200\n",
      "West    Charlie        400\n",
      "Name: Sales, dtype: int64\n"
     ]
    }
   ],
   "source": [
    "# Group by Region and Salesperson, then calculate the total sales\n",
    "grouped_df = df.groupby(['Region', 'Salesperson'])['Sales'].sum()\n",
    "print(grouped_df)"
   ]
  },
  {
   "cell_type": "code",
   "execution_count": 5,
   "metadata": {
    "id": "21rORK_WnZnx"
   },
   "outputs": [
    {
     "name": "stdout",
     "output_type": "stream",
     "text": [
      "Salesperson  Region\n",
      "Alice        North     150\n",
      "Bob          North     300\n",
      "             South     200\n",
      "Charlie      East      250\n",
      "             West      400\n",
      "Name: Sales, dtype: int64\n"
     ]
    }
   ],
   "source": [
    "# Group by Salesperson and Region, then calculate the maximum sale of the salesperson for that region\n",
    "\n",
    " # Your code starts here\n",
    "sp_region = df.groupby(['Salesperson', 'Region'])['Sales'].max()\n",
    "print(sp_region)\n",
    " # Your code ends here\n"
   ]
  },
  {
   "cell_type": "code",
   "execution_count": 6,
   "metadata": {
    "id": "H90AkABLJn0H"
   },
   "outputs": [
    {
     "name": "stdout",
     "output_type": "stream",
     "text": [
      "[False False False  True  True]\n"
     ]
    }
   ],
   "source": [
    "import numpy as np\n",
    "\n",
    "# Create an array\n",
    "array = np.array([10, 15, 20, 25, 30])\n",
    "\n",
    "# Create a mask for elements greater than 20\n",
    "mask = array > 20\n",
    "\n",
    "print(mask)\n"
   ]
  },
  {
   "cell_type": "code",
   "execution_count": 7,
   "metadata": {
    "id": "Bp40Pgf6J3_A"
   },
   "outputs": [
    {
     "name": "stdout",
     "output_type": "stream",
     "text": [
      "[25 30]\n"
     ]
    }
   ],
   "source": [
    "# Using the mask to filter the array\n",
    "filtered_array = array[mask]\n",
    "\n",
    "print(filtered_array)\n"
   ]
  },
  {
   "cell_type": "code",
   "execution_count": 8,
   "metadata": {
    "id": "1i8LSRpH7fK7"
   },
   "outputs": [
    {
     "name": "stdout",
     "output_type": "stream",
     "text": [
      "[1 2 3 4 5 6 7 8 9]\n"
     ]
    }
   ],
   "source": [
    "# create an array\n",
    "array = np.arange(1, 10)  # Creates an array [1, 2, ..., 9]\n",
    "print(array)\n",
    "# What does 1 and 10 mean, based on the printed results?\n",
    "# start and stop (less than)"
   ]
  },
  {
   "cell_type": "code",
   "execution_count": 9,
   "metadata": {
    "id": "UD3j9oRfKAr5"
   },
   "outputs": [
    {
     "name": "stdout",
     "output_type": "stream",
     "text": [
      "[[1 2 3]\n",
      " [4 5 6]\n",
      " [7 8 9]]\n"
     ]
    }
   ],
   "source": [
    "# Reshape a 1D array into a 2D array\n",
    "reshaped_array = array.reshape(3, 3)\n",
    "print(reshaped_array)\n",
    "\n"
   ]
  },
  {
   "cell_type": "code",
   "execution_count": 10,
   "metadata": {
    "id": "Hpoz1loqywMP"
   },
   "outputs": [
    {
     "name": "stdout",
     "output_type": "stream",
     "text": [
      "[[ 1  2  3  4  5]\n",
      " [ 6  7  8  9 10]\n",
      " [11 12 13 14 15]]\n"
     ]
    }
   ],
   "source": [
    "# can you reshape the array to 3 X 5?\n",
    "array = np.arange(1, 16)\n",
    "\n",
    "reshaped_array = array.reshape(3, 5)\n",
    "print(reshaped_array)\n",
    "\n"
   ]
  },
  {
   "cell_type": "code",
   "execution_count": 11,
   "metadata": {
    "id": "XOizRHSrywMP"
   },
   "outputs": [
    {
     "name": "stdout",
     "output_type": "stream",
     "text": [
      "[[1]\n",
      " [2]\n",
      " [3]\n",
      " [4]\n",
      " [5]\n",
      " [6]\n",
      " [7]\n",
      " [8]\n",
      " [9]]\n"
     ]
    }
   ],
   "source": [
    "# Can you create an array with 1 column and 9 rows?\n",
    "\n",
    "# Your code starts here\n",
    "array = np.arange(1, 10)\n",
    "reshaped_array = array.reshape(9, 1)\n",
    "\n",
    "print(reshaped_array)\n",
    "# Your code ends here\n"
   ]
  },
  {
   "cell_type": "code",
   "execution_count": 12,
   "metadata": {
    "id": "hjLRxDTuKJn3"
   },
   "outputs": [
    {
     "name": "stdout",
     "output_type": "stream",
     "text": [
      "[ 6 15 24]\n",
      "[12 15 18]\n"
     ]
    }
   ],
   "source": [
    "reshaped_array = array.reshape(3, 3)\n",
    "\n",
    "\n",
    "# Sum across the rows (axis=1)\n",
    "row_sums = reshaped_array.sum(axis=1)\n",
    "print(row_sums)\n",
    "\n",
    "# Sum across the columns (axis=0)\n",
    "column_sums = reshaped_array.sum(axis=0)\n",
    "print(column_sums)\n"
   ]
  },
  {
   "cell_type": "markdown",
   "metadata": {
    "id": "iHpkMQ7HKjbV"
   },
   "source": [
    "# **Text Analysis in Python - Quick Introduction**\n",
    "\n",
    "\n",
    "![image.png](data:image/png;base64,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)\n",
    "\n",
    "Image credit: Tilman Piesk (Wikipedia)\n",
    "\n",
    "\n",
    "# Text -> ... -> Knowledge\n",
    "\n",
    "Step 1: tokenize the text <br><br>\n",
    "\n",
    "Step 2: clean the tokens <br><br>\n",
    "\n",
    "Step 3+: analyze the list of tokens <br><br>\n",
    "\n"
   ]
  },
  {
   "cell_type": "markdown",
   "metadata": {
    "id": "WDZDEPjtnrq9"
   },
   "source": [
    "**Tokenization (AKA word segmentation)**\n",
    "\n",
    "Tokenization is a process to separate the characters into individual words. It may be more difficult/messy than you think :)\n",
    "\n",
    "\n",
    "English: Words are separated by “white space” or by special characters\n",
    "No white space in Japanese\n",
    "\n",
    "In German, complex compound words – “Lebensversicherungsgesellschafts\"\n",
    "\n",
    "\n",
    "<br>\n",
    "\n",
    "**How many tokens in this sentence?**\n",
    "\n",
    "Ain’t isn’t well-known among my co-workers; 2/3rds of middle-aged U.S. citizens don’t use it."
   ]
  },
  {
   "cell_type": "code",
   "execution_count": 13,
   "metadata": {
    "id": "AW8jgud-fykQ"
   },
   "outputs": [
    {
     "name": "stderr",
     "output_type": "stream",
     "text": [
      "[nltk_data] Downloading package punkt_tab to\n",
      "[nltk_data]     /Users/joshuadollison/nltk_data...\n",
      "[nltk_data]   Package punkt_tab is already up-to-date!\n"
     ]
    },
    {
     "name": "stdout",
     "output_type": "stream",
     "text": [
      "['Ain', '’', 't', 'isn', '’', 't', 'well-known', 'among', 'my', 'co-workers', ';', '2/3rds', 'of', 'middle-aged', 'U.S.', 'citizens', 'don', '’', 't', 'use', 'it', '.']\n",
      "____________________________________________\n",
      "\n",
      "['Ain’t', 'isn’t', 'well-known', 'among', 'my', 'co-workers;', '2/3rds', 'of', 'middle-aged', 'U.S.', 'citizens', 'don’t', 'use', 'it.']\n",
      "____________________________________________\n",
      "\n",
      "['Ai', 'n’t', 'is', 'n’t', 'well', '-', 'known', 'among', 'my', 'co', '-', 'workers', ';', '2/3rds', 'of', 'middle', '-', 'aged', 'U.S.', 'citizens', 'do', 'n’t', 'use', 'it', '.']\n"
     ]
    }
   ],
   "source": [
    "import nltk\n",
    "import spacy\n",
    "\n",
    "nltk.download('punkt_tab')\n",
    "\n",
    "example = \"Ain’t isn’t well-known among my co-workers; 2/3rds of middle-aged U.S. citizens don’t use it.\"\n",
    "\n",
    "tokens_nltk = nltk.word_tokenize(example)\n",
    "print(tokens_nltk)\n",
    "print (\"__\"*22+\"\\n\")\n",
    "\n",
    "tokens_example = example.split()\n",
    "print(tokens_example)\n",
    "print (\"__\"*22+\"\\n\")\n",
    "\n",
    "tokens_spacy = spacy.load('en_core_web_sm')\n",
    "tokens_spacy = tokens_spacy(example)\n",
    "print([token.text for token in tokens_spacy])"
   ]
  },
  {
   "cell_type": "code",
   "execution_count": 14,
   "metadata": {
    "editable": true,
    "id": "4zDxHWObywMX",
    "slideshow": {
     "slide_type": ""
    },
    "tags": []
   },
   "outputs": [
    {
     "name": "stdout",
     "output_type": "stream",
     "text": [
      "['My', 'name', 'is', 'Joshua', '.', 'I', 'am', 'participating', 'in', 'the', 'MSAIB', 'program', 'at', 'ASU', '.']\n",
      "____________________________________________\n",
      "\n",
      "['My', 'name', 'is', 'Joshua.', 'I', 'am', 'participating', 'in', 'the', 'MSAIB', 'program', 'at', 'ASU.']\n",
      "____________________________________________\n",
      "\n"
     ]
    },
    {
     "name": "stderr",
     "output_type": "stream",
     "text": [
      "[nltk_data] Downloading package punkt_tab to\n",
      "[nltk_data]     /Users/joshuadollison/nltk_data...\n",
      "[nltk_data]   Package punkt_tab is already up-to-date!\n"
     ]
    },
    {
     "name": "stdout",
     "output_type": "stream",
     "text": [
      "['My', 'name', 'is', 'Joshua', '.', 'I', 'am', 'participating', 'in', 'the', 'MSAIB', 'program', 'at', 'ASU', '.']\n"
     ]
    }
   ],
   "source": [
    "# Please type the code in the above cell here and then choose a different example and run it.\n",
    "\n",
    "# Your code starts here\n",
    "\n",
    "import nltk\n",
    "import spacy\n",
    "\n",
    "nltk.download('punkt_tab')\n",
    "\n",
    "example = \"My name is Joshua. I am participating in the MSAIB program at ASU.\"\n",
    "\n",
    "tokens_nltk = nltk.word_tokenize(example)\n",
    "print(tokens_nltk)\n",
    "print (\"__\"*22+\"\\n\")\n",
    "\n",
    "tokens_example = example.split()\n",
    "print(tokens_example)\n",
    "print (\"__\"*22+\"\\n\")\n",
    "\n",
    "tokens_spacy = spacy.load('en_core_web_sm')\n",
    "tokens_spacy = tokens_spacy(example)\n",
    "print([token.text for token in tokens_spacy])\n",
    "\n",
    "# Your code ends here"
   ]
  },
  {
   "cell_type": "markdown",
   "metadata": {
    "id": "epXZKwFZoksS"
   },
   "source": [
    "\n",
    "**Tokenization: some details**\n",
    "\n",
    "\n",
    "Recognize and deal with punctuation\n",
    "*   Apostrophes  (one word it’s vs. two words  it‘s)\n",
    "*   Hyphenation (snow-laden, twenty-one)\n",
    "*   Periods (keep with abbrev. or separate as sentence markers; Ph.D.)\n",
    "\n",
    "Morphology (is “computing” is the same as “compute”?)\n",
    "\n",
    "Additional issues if OCR’d data or speech transcripts in order to correct transcription errors"
   ]
  },
  {
   "cell_type": "markdown",
   "metadata": {
    "id": "rEVOjy5hhmfl"
   },
   "source": [
    "# **Text Analysis in Python - Sentiment Analysis**"
   ]
  },
  {
   "cell_type": "code",
   "execution_count": 15,
   "metadata": {
    "id": "WemkMylfaI6A",
    "scrolled": true
   },
   "outputs": [
    {
     "name": "stdout",
     "output_type": "stream",
     "text": [
      "Requirement already satisfied: vaderSentiment in /Users/joshuadollison/opt/anaconda3/envs/py312/lib/python3.12/site-packages (3.3.2)\n",
      "Requirement already satisfied: requests in /Users/joshuadollison/opt/anaconda3/envs/py312/lib/python3.12/site-packages (from vaderSentiment) (2.32.3)\n",
      "Requirement already satisfied: charset-normalizer<4,>=2 in /Users/joshuadollison/opt/anaconda3/envs/py312/lib/python3.12/site-packages (from requests->vaderSentiment) (3.3.2)\n",
      "Requirement already satisfied: idna<4,>=2.5 in /Users/joshuadollison/opt/anaconda3/envs/py312/lib/python3.12/site-packages (from requests->vaderSentiment) (3.10)\n",
      "Requirement already satisfied: urllib3<3,>=1.21.1 in /Users/joshuadollison/opt/anaconda3/envs/py312/lib/python3.12/site-packages (from requests->vaderSentiment) (2.5.0)\n",
      "Requirement already satisfied: certifi>=2017.4.17 in /Users/joshuadollison/opt/anaconda3/envs/py312/lib/python3.12/site-packages (from requests->vaderSentiment) (2025.8.3)\n",
      "\n",
      "1st Statement :\n",
      "{'neg': 0.165, 'neu': 0.588, 'pos': 0.247, 'compound': 0.5267}\n",
      "\n",
      "2nd Statement :\n",
      "{'neg': 0.0, 'neu': 1.0, 'pos': 0.0, 'compound': 0.0}\n",
      "\n",
      "3rd Statement :\n",
      "{'neg': 0.459, 'neu': 0.541, 'pos': 0.0, 'compound': -0.5256}\n"
     ]
    }
   ],
   "source": [
    "!pip install vaderSentiment\n",
    "from vaderSentiment.vaderSentiment import SentimentIntensityAnalyzer\n",
    "# Create a SentimentIntensityAnalyzer object.\n",
    "sid_obj = SentimentIntensityAnalyzer()\n",
    "\n",
    "print(\"\\n1st Statement :\")\n",
    "sentence1 = \"Geeks For Geeks is the best portal for the computer science engineering students.\"\n",
    "print(sid_obj.polarity_scores(sentence1))\n",
    "\n",
    "print(\"\\n2nd Statement :\")\n",
    "sentence2 = \"study is going on as usual\"\n",
    "print(sid_obj.polarity_scores(sentence2))\n",
    "\n",
    "print(\"\\n3rd Statement :\")\n",
    "sentence3 = \"I am very sad today.\"\n",
    "print(sid_obj.polarity_scores(sentence3))"
   ]
  },
  {
   "cell_type": "markdown",
   "metadata": {
    "id": "k-kDU0ooNYz2"
   },
   "source": [
    "We decide a sentence's sentiment as positive, negative and neutral based on the compound score.\n",
    "- If the compound score is greater or equal to 0.05, the sentiment of the sentence is considered positive\n",
    "- If the compound score is lower or equal to -0.05, the sentiment of the sentence is considered negative\n",
    "- Else, the sentiment of the sentence is considered neutral\n"
   ]
  },
  {
   "cell_type": "code",
   "execution_count": 16,
   "metadata": {
    "id": "2nchqAgGOGyv"
   },
   "outputs": [
    {
     "name": "stdout",
     "output_type": "stream",
     "text": [
      "Requirement already satisfied: vaderSentiment in /Users/joshuadollison/opt/anaconda3/envs/py312/lib/python3.12/site-packages (3.3.2)\n",
      "Requirement already satisfied: requests in /Users/joshuadollison/opt/anaconda3/envs/py312/lib/python3.12/site-packages (from vaderSentiment) (2.32.3)\n",
      "Requirement already satisfied: charset-normalizer<4,>=2 in /Users/joshuadollison/opt/anaconda3/envs/py312/lib/python3.12/site-packages (from requests->vaderSentiment) (3.3.2)\n",
      "Requirement already satisfied: idna<4,>=2.5 in /Users/joshuadollison/opt/anaconda3/envs/py312/lib/python3.12/site-packages (from requests->vaderSentiment) (3.10)\n",
      "Requirement already satisfied: urllib3<3,>=1.21.1 in /Users/joshuadollison/opt/anaconda3/envs/py312/lib/python3.12/site-packages (from requests->vaderSentiment) (2.5.0)\n",
      "Requirement already satisfied: certifi>=2017.4.17 in /Users/joshuadollison/opt/anaconda3/envs/py312/lib/python3.12/site-packages (from requests->vaderSentiment) (2025.8.3)\n",
      "\n",
      "1st Statement :\n",
      "The sentiment of the sentence \"Geeks For Geeks is the best portal for the computer science engineering students.\" is: positive\n",
      "\n",
      "2nd Statement :\n",
      "The sentiment of the sentence \"study is going on as usual\" is: neutral\n"
     ]
    }
   ],
   "source": [
    "# Create a SentimentIntensityAnalyzer object.\n",
    "!pip install vaderSentiment\n",
    "from vaderSentiment.vaderSentiment import SentimentIntensityAnalyzer\n",
    "sid_obj = SentimentIntensityAnalyzer()\n",
    "\n",
    "print(\"\\n1st Statement :\")\n",
    "sentence1 = \"Geeks For Geeks is the best portal for the computer science engineering students.\"\n",
    "sent_dict = sid_obj.polarity_scores(sentence1)\n",
    "print(\"The sentiment of the sentence \"+\"\\\"\"+sentence1 +\"\\\" is: \", end = '' )\n",
    "\n",
    "# Write your code below to decide if the sentiment of sentence1 is positive, negative and neutral (hint: the control syntax, if else)\n",
    "\n",
    "# Your code starts here\n",
    "def get_sentiment_text(sentence) :\n",
    "    c_score = sid_obj.polarity_scores(sentence)['compound']\n",
    "    sentiment_text = 'unknown'\n",
    "    if c_score >= 0.05:\n",
    "        sentiment_text = 'positive'\n",
    "    elif c_score <= -0.05:\n",
    "        sentiment_text = 'negative'\n",
    "    else:\n",
    "        sentiment_text = 'neutral'\n",
    "\n",
    "    return c_score, sentiment_text\n",
    "\n",
    "c_score, sentiment_text = get_sentiment_text(sentence1)\n",
    "print(sentiment_text)\n",
    "# Your code ends here\n",
    "\n",
    "# Write your code below for the sentence2. Please note that you need to create the variable sentence2 below (sentence1 is created and assigned\n",
    "#the value above)\n",
    "print(\"\\n2nd Statement :\")\n",
    "\n",
    "# Your code starts here\n",
    "print(\"The sentiment of the sentence \"+\"\\\"\"+sentence2 +\"\\\" is: \", end = '' )\n",
    "sentence2 = \"study is going on as usual\"\n",
    "c_score, sentiment_text = get_sentiment_text(sentence2)\n",
    "print(sentiment_text)\n",
    "\n",
    "# Your code ends here\n"
   ]
  },
  {
   "cell_type": "markdown",
   "metadata": {
    "id": "Mr3s7v8OKSS2"
   },
   "source": [
    "# **Mini Business Case Study - Sales Analytics for EcoTrek Solutions**\n",
    "\n",
    "**Case Background**\n",
    "\n",
    "You are a new hire at EcoTrek Solutions, a U.S.-based company that specializes in eco-friendly travel accessories. As a business data analyst, your role involves analyzing sales trends and providing insights to help shape the company's marketing and production strategies.\n",
    "\n",
    "**Pandas, Numpy, and Sentiment Analysis Assignment (Due: TUESDAY, 9/23, 11:59 pm.)**\n",
    "\n",
    "After the three analysis tasks you have conducted for EcoTrek Solutions, the company is convinced that the sales performance of their products is affected by the climate. In the first assignment, the company simply projected sales increase of the new product EcoSmart Backpack by a random choice of percentage increase. With this new insight, the company wants to make a smarter prediction based on last year's sales performance of GreenTote as by design the two products are to cater the same customer group.\n",
    "\n",
    "In the correlation analysis assignment, you were provided the sales data of GreenTote and the temperature for each month of 2024. With this historical data, you will\n",
    "\n",
    "1. write Python code to set the sales target for the EcoSnart Backpack given a forecasted temperature as follows:\n",
    "\n",
    "- If the temperature is above 65°F, set the sales target to be 5% higher than the average sales of months with similar temperatures\n",
    "- If the temperature is between 60°F and 65°F, set the sales target to be equal to the average sales of similar months\n",
    "- If the temperature is below 60°F, set the sales target to be 10% lower than the average sales of similar months\n",
    "\n",
    "The company has also solicited customer's reviews regarding the new product EcoSmark Backpack since introducing it to the market. With $5 incentive for providing a review, the company now has collected 500 reviews.\n",
    "\n",
    "With this review data provided by the company, you are tasked to find out if the customers are happy about the product. You will\n",
    "\n",
    "2. write Python code to label each review as positive, neutral, or negative based on its compound score with SentimentIntensityAnalyzer and add a new column to the data frame calling it \"sentiment\"\n",
    "\n",
    "**Note** this task essentially puts the reviews into one of the three categories: positive, neutral, or negative\n",
    "\n",
    "3.  calculate the average rating of the reviews for each review category (i.e., positive, neutral, and negative)\n",
    "\n",
    "4.  summarize the total number of positive, neutral, and negative reviews\n",
    "\n",
    "5.  write your data frame that has the sentiment column to a csv file called **\"YourLastName_YourFirstName_sentiment.csv\"**\n",
    "\n",
    "Spend a good amount of time reviewing the analysis results from these tasks. How would you interpret these results? What do they tell you? Please\n",
    "\n",
    "6. summarize these results in sentences and provide your interpretation and understanding in a Markdown cell or Text cell called \"Summary\"\n",
    "\n",
    "7. (bonus, 2 points): ChatGPT has assigned the polarity to each review, as shown in the data file. You will compare your analysis results with that and interpret your comparison results.\n",
    "\n",
    "*What to Submit*\n",
    "1. Your Notebook file YourLastName_FirstInitial_4.ipynb. Please just use the data file's name (i.e., data are in the local path) .\n",
    "2. The csv file **\"YourLastName_YourFirstName_sentiment.csv\"**\n",
    "3. Please provide comments in the Code cell to explain what your code does in that cell and run your code before submitting it.\n",
    "\n",
    "Note:\n",
    "Code that cannot run will receive 0\n",
    "\n"
   ]
  }
 ],
 "metadata": {
  "colab": {
   "provenance": []
  },
  "kernelspec": {
   "display_name": "Python [conda env:miniforge3]",
   "language": "python",
   "name": "conda-env-miniforge3-py"
  },
  "language_info": {
   "codemirror_mode": {
    "name": "ipython",
    "version": 3
   },
   "file_extension": ".py",
   "mimetype": "text/x-python",
   "name": "python",
   "nbconvert_exporter": "python",
   "pygments_lexer": "ipython3",
   "version": "3.9.1"
  }
 },
 "nbformat": 4,
 "nbformat_minor": 4
}
