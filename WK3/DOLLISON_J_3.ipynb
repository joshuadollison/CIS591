{
 "cells": [
  {
   "cell_type": "markdown",
   "id": "16aed57e-8e4c-4573-9648-57c86218d41f",
   "metadata": {
    "editable": true,
    "slideshow": {
     "slide_type": ""
    },
    "tags": []
   },
   "source": [
    "# Individual Assignment - Week 3\n",
    "\n",
    "## Pandas,Reading/Writing Data Assignment\n",
    "\n",
    "### Joshua Dollison\n",
    "### CIS591-86718\n",
    "### 9/9/2025"
   ]
  },
  {
   "cell_type": "markdown",
   "id": "7f761d52-f1e4-4331-9f0f-14473b5312cd",
   "metadata": {},
   "source": [
    "### 1 - Read Data\n",
    "\n",
    "Create a data frame to store the data read from the file."
   ]
  },
  {
   "cell_type": "code",
   "execution_count": 1,
   "id": "971d22f2-468f-4a3d-b064-abaa0c2680f6",
   "metadata": {
    "editable": true,
    "slideshow": {
     "slide_type": ""
    },
    "tags": []
   },
   "outputs": [
    {
     "name": "stdout",
     "output_type": "stream",
     "text": [
      "         Date  Daily Units Sold  Daily Temperature (C)\n",
      "15  1/16/2025               330                     24\n",
      "16  1/17/2025               370                     28\n",
      "17  1/18/2025               370                     27\n",
      "18  1/19/2025               320                     24\n",
      "19  1/20/2025               330                     25\n"
     ]
    }
   ],
   "source": [
    "import pandas as pd\n",
    "\n",
    "# Read the data from a csv\n",
    "#   There is some noise in outside columns, so only use the columns that we want\n",
    "df = pd.read_csv('IA_3_Temperature_DailySale.csv', \n",
    "                 usecols=['Date', 'Daily Units Sold', 'Daily Temperature (C)'])\n",
    "\n",
    "# print out the dadta\n",
    "print(df.tail())\n"
   ]
  },
  {
   "cell_type": "markdown",
   "id": "2ffb8390-3b00-4a33-88af-570de2642567",
   "metadata": {},
   "source": [
    "### 2 - Summarize Data\n",
    "\n",
    "Get a summary of each data field (i.e., the count, mean, standard deviation, minimum, maximum, ... etc. )  "
   ]
  },
  {
   "cell_type": "code",
   "execution_count": 2,
   "id": "7ced33de-f308-44e7-bb03-903378716d44",
   "metadata": {},
   "outputs": [
    {
     "name": "stdout",
     "output_type": "stream",
     "text": [
      "       Daily Units Sold  Daily Temperature (C)\n",
      "count         20.000000              20.000000\n",
      "mean         345.500000              26.050000\n",
      "std           34.561159               2.282081\n",
      "min          300.000000              22.000000\n",
      "25%          317.500000              24.750000\n",
      "50%          345.000000              26.000000\n",
      "75%          370.000000              27.250000\n",
      "max          420.000000              30.000000\n"
     ]
    }
   ],
   "source": [
    "# Use the describe method to get some simple stats from loaded data\n",
    "print(df.describe())"
   ]
  },
  {
   "cell_type": "markdown",
   "id": "115a158a-4de1-4e69-b925-6a9bd193f493",
   "metadata": {},
   "source": [
    "### 3 - Examine Correlation Relationship\n",
    "\n",
    "Use the Pearson Correlation function to examine the correlation relationship between daily sold units and daily temperature"
   ]
  },
  {
   "cell_type": "code",
   "execution_count": 3,
   "id": "b4c17d19-8ba1-4c3a-81a9-ab46ffc53336",
   "metadata": {
    "editable": true,
    "slideshow": {
     "slide_type": ""
    },
    "tags": []
   },
   "outputs": [
    {
     "data": {
      "text/html": [
       "<div>\n",
       "<style scoped>\n",
       "    .dataframe tbody tr th:only-of-type {\n",
       "        vertical-align: middle;\n",
       "    }\n",
       "\n",
       "    .dataframe tbody tr th {\n",
       "        vertical-align: top;\n",
       "    }\n",
       "\n",
       "    .dataframe thead th {\n",
       "        text-align: right;\n",
       "    }\n",
       "</style>\n",
       "<table border=\"1\" class=\"dataframe\">\n",
       "  <thead>\n",
       "    <tr style=\"text-align: right;\">\n",
       "      <th></th>\n",
       "      <th>Comparison</th>\n",
       "      <th>Corr. Coeff</th>\n",
       "      <th>P-Value</th>\n",
       "    </tr>\n",
       "  </thead>\n",
       "  <tbody>\n",
       "    <tr>\n",
       "      <th>0</th>\n",
       "      <td>Temperature v Daily Units Sold</td>\n",
       "      <td>0.837139</td>\n",
       "      <td>0.000004</td>\n",
       "    </tr>\n",
       "  </tbody>\n",
       "</table>\n",
       "</div>"
      ],
      "text/plain": [
       "                       Comparison  Corr. Coeff   P-Value\n",
       "0  Temperature v Daily Units Sold     0.837139  0.000004"
      ]
     },
     "execution_count": 3,
     "metadata": {},
     "output_type": "execute_result"
    }
   ],
   "source": [
    "# import the necessary library\n",
    "import scipy.stats\n",
    "\n",
    "# get r and p-value\n",
    "r, p = scipy.stats.pearsonr(df['Daily Temperature (C)'], df['Daily Units Sold'])\n",
    "\n",
    "# because this week is about pandas dataframe, i'm going to\n",
    "#    load my values into a dataframe\n",
    "pearson_df = pd.DataFrame(\n",
    "    {\n",
    "        'Comparison' : ['Temperature v Daily Units Sold'],\n",
    "        'Corr. Coeff': [r],\n",
    "        'P-Value': [p]\n",
    "    }\n",
    ")\n",
    "\n",
    "# and then print that dataframe as a table\n",
    "pearson_df"
   ]
  },
  {
   "cell_type": "markdown",
   "id": "138dfc0b-a50c-42c4-845e-3e49e8a1c92c",
   "metadata": {},
   "source": [
    "### 4 - Sort Data\n",
    "\n",
    "Sort the data frame according to the number of units sold per day"
   ]
  },
  {
   "cell_type": "code",
   "execution_count": 4,
   "id": "607e08ac-ab0f-4b8c-8454-028ba876e3dd",
   "metadata": {
    "editable": true,
    "slideshow": {
     "slide_type": ""
    },
    "tags": []
   },
   "outputs": [],
   "source": [
    "# sort the data by units sold\n",
    "#   store sorted df in new var\n",
    "sorted_data = df.sort_values('Daily Units Sold')"
   ]
  },
  {
   "cell_type": "markdown",
   "id": "7f9e13ca-9618-4261-a38c-ac52ff786977",
   "metadata": {},
   "source": [
    "### 5 - Save Data\n",
    "\n",
    "Write the sorted data frame to a csv file named \"*GreenTote_analysis_YourLastName_FirstName.csv"
   ]
  },
  {
   "cell_type": "code",
   "execution_count": 5,
   "id": "2a890dc9-1fd4-4c86-b0c5-b7b29b3e9345",
   "metadata": {},
   "outputs": [],
   "source": [
    "sorted_data.to_csv('GreenTote_analysis_DOLLISON_JOSHUA.csv', index=False)"
   ]
  },
  {
   "cell_type": "markdown",
   "id": "13d65ecb-36aa-482c-96fa-13b9784a2bfc",
   "metadata": {},
   "source": [
    "#### Extra - I want to visualize the correlation measures"
   ]
  },
  {
   "cell_type": "code",
   "execution_count": 6,
   "id": "ca238dfd-6e5b-46ff-a15a-6903dba5169d",
   "metadata": {},
   "outputs": [
    {
     "data": {
      "image/png": "[encoded data removed]",
      "text/plain": [
       "<Figure size 1200x400 with 1 Axes>"
      ]
     },
     "metadata": {},
     "output_type": "display_data"
    }
   ],
   "source": [
    "# Simple scatterplots to visualize correlations\n",
    "import matplotlib.pyplot as plt\n",
    "\n",
    "# Plot GreenTote vs SolarTrek\n",
    "plt.figure(figsize=(12,4))\n",
    "plt.scatter(df['Daily Temperature (C)'], df['Daily Units Sold'])\n",
    "plt.title(\"Daily Temperature (C) vs Daily Units Sold\")\n",
    "plt.xlabel(\"Daily Temperature (C\")\n",
    "plt.ylabel(\"Daily Units Sold\")\n",
    "plt.show()\n"
   ]
  },
  {
   "cell_type": "markdown",
   "id": "c5af2203-8387-4dec-9071-97bd65c1f736",
   "metadata": {
    "editable": true,
    "slideshow": {
     "slide_type": ""
    },
    "tags": []
   },
   "source": [
    "### 6 - Conclusion\n",
    "\n",
    "### Analysis Interpretation\n",
    "\n",
    "* My returned correlation coefficient meets the definition of \"correlation is very strong\" as given by the Week 1 presentation\n",
    "  * Daily units sold tend to increase with temperature increase\n",
    "  * The use of temperature as an independent var and units sold as a dependent var is a reasonable comparison\n",
    "* The returned p-value is far below the threshold of 0.05, signifying that the relationship is statistically significant and not due to random chance\n",
    "\n",
    "### Recommendation\n",
    "\n",
    "We are provided with two options to choose from, pending the results of our analysis:\n",
    "* Option 1: Develop a marketing campaign that considers weather information to strategize the sales of GreenTote\n",
    "  * We would expect to choose this option if temperature was proven to be correlated with product unit sales\n",
    "* Option 2: Use a random campaign to help increase the sales for the new year\n",
    "  * We would expect to choose this option if temperature was proven to be uncorrelated with product unit sales\n",
    " \n",
    "Given our results, we see that temperature had a strong correlation with unit sales.  This gives us a data-centric justification for choosing option #1.  While correlation does not imply causation, using this correlation to influcence our recommendation seems to have greater merit than just randomly selecting campaign.\n",
    "\n",
    "<div class=\"alert alert-block alert-success\">\n",
    "    Therefore, my <b><u>recommendation</u></b> is <b>Option 1:</b> Develop a marketing campaign that considers weather information to strategize the sales of GreenTote.</div>\n"
   ]
  }
 ],
 "metadata": {
  "kernelspec": {
   "display_name": "Python [conda env:anaconda3-py312]",
   "language": "python",
   "name": "conda-env-anaconda3-py312-py"
  },
  "language_info": {
   "codemirror_mode": {
    "name": "ipython",
    "version": 3
   },
   "file_extension": ".py",
   "mimetype": "text/x-python",
   "name": "python",
   "nbconvert_exporter": "python",
   "pygments_lexer": "ipython3",
   "version": "3.12.8"
  }
 },
 "nbformat": 4,
 "nbformat_minor": 5
}
