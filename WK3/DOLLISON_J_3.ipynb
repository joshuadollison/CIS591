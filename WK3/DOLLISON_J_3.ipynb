{
 "cells": [
  {
   "cell_type": "markdown",
   "id": "16aed57e-8e4c-4573-9648-57c86218d41f",
   "metadata": {
    "editable": true,
    "slideshow": {
     "slide_type": ""
    },
    "tags": []
   },
   "source": [
    "# Individual Assignment - Week 3\n",
    "\n",
    "## Pandas,Reading/Writing Data Assignment\n",
    "\n",
    "### Joshua Dollison\n",
    "### CIS591-86718\n",
    "### 9/9/2025"
   ]
  },
  {
   "cell_type": "code",
   "execution_count": 1,
   "id": "971d22f2-468f-4a3d-b064-abaa0c2680f6",
   "metadata": {
    "editable": true,
    "slideshow": {
     "slide_type": ""
    },
    "tags": []
   },
   "outputs": [
    {
     "name": "stdout",
     "output_type": "stream",
     "text": [
      "         Date  Daily Units Sold  Daily Temperature (C)\n",
      "0    1/1/2025               380                     28\n",
      "1    1/2/2025               420                     30\n",
      "2    1/3/2025               350                     29\n",
      "3    1/4/2025               300                     23\n",
      "4    1/5/2025               340                     27\n",
      "5    1/6/2025               360                     27\n",
      "6    1/7/2025               300                     26\n",
      "7    1/8/2025               310                     25\n",
      "8    1/9/2025               330                     26\n",
      "9   1/10/2025               400                     30\n",
      "10  1/11/2025               380                     27\n",
      "11  1/12/2025               360                     25\n",
      "12  1/13/2025               350                     25\n",
      "13  1/14/2025               310                     23\n",
      "14  1/15/2025               300                     22\n",
      "15  1/16/2025               330                     24\n",
      "16  1/17/2025               370                     28\n",
      "17  1/18/2025               370                     27\n",
      "18  1/19/2025               320                     24\n",
      "19  1/20/2025               330                     25\n"
     ]
    }
   ],
   "source": [
    "import pandas as pd\n",
    "\n",
    "df = pd.read_csv('IA_3_Temperature_DailySale.csv', \n",
    "                 usecols=['Date', 'Daily Units Sold', 'Daily Temperature (C)'])\n",
    "print(df)\n"
   ]
  },
  {
   "cell_type": "code",
   "execution_count": 2,
   "id": "7ced33de-f308-44e7-bb03-903378716d44",
   "metadata": {},
   "outputs": [
    {
     "name": "stdout",
     "output_type": "stream",
     "text": [
      "       Daily Units Sold  Daily Temperature (C)\n",
      "count         20.000000              20.000000\n",
      "mean         345.500000              26.050000\n",
      "std           34.561159               2.282081\n",
      "min          300.000000              22.000000\n",
      "25%          317.500000              24.750000\n",
      "50%          345.000000              26.000000\n",
      "75%          370.000000              27.250000\n",
      "max          420.000000              30.000000\n"
     ]
    }
   ],
   "source": [
    "print(df.describe())"
   ]
  },
  {
   "cell_type": "code",
   "execution_count": 3,
   "id": "b4c17d19-8ba1-4c3a-81a9-ab46ffc53336",
   "metadata": {
    "editable": true,
    "slideshow": {
     "slide_type": ""
    },
    "tags": []
   },
   "outputs": [
    {
     "name": "stdout",
     "output_type": "stream",
     "text": [
      "0.837139188626228 4.171009629486751e-06\n"
     ]
    }
   ],
   "source": [
    "import scipy.stats\n",
    "r, p = scipy.stats.pearsonr(df['Daily Temperature (C)'], df['Daily Units Sold'])\n",
    "print(r, p)"
   ]
  }
 ],
 "metadata": {
  "kernelspec": {
   "display_name": "Python [conda env:miniforge3]",
   "language": "python",
   "name": "conda-env-miniforge3-py"
  },
  "language_info": {
   "codemirror_mode": {
    "name": "ipython",
    "version": 3
   },
   "file_extension": ".py",
   "mimetype": "text/x-python",
   "name": "python",
   "nbconvert_exporter": "python",
   "pygments_lexer": "ipython3",
   "version": "3.9.1"
  }
 },
 "nbformat": 4,
 "nbformat_minor": 5
}
