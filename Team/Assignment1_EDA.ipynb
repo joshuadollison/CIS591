{
 "cells": [
  {
   "cell_type": "code",
   "execution_count": 1,
   "id": "6bcdd837-05f3-403e-a01c-e441fd4d9a33",
   "metadata": {
    "editable": true,
    "slideshow": {
     "slide_type": ""
    },
    "tags": []
   },
   "outputs": [
    {
     "name": "stdout",
     "output_type": "stream",
     "text": [
      "                X          Y  OBJECTID  Incidentid                DateTime  \\\n",
      "0     -111.952210  33.421910         1   2598369.0  2012/01/01 07:25:00+00   \n",
      "1     -111.937690  33.423190         2   2593420.0  2012/01/01 11:45:00+00   \n",
      "2     -111.891960  33.418420         3   2588493.0  2012/01/01 18:07:00+00   \n",
      "3     -111.947910  33.417790         4   2584449.0  2012/01/02 00:03:00+00   \n",
      "4     -111.928470  33.349560         5   2592211.0  2012/01/02 00:12:00+00   \n",
      "...           ...        ...       ...         ...                     ...   \n",
      "51300 -111.939524  33.386046     51301   4155893.0  2024/03/09 07:44:00+00   \n",
      "51301 -111.972540  33.409359     51302   4154752.0  2024/03/11 20:30:00+00   \n",
      "51302 -111.926385  33.435558     51303   4155884.0  2024/03/14 13:15:00+00   \n",
      "51303 -111.926404  33.435576     51304   4155885.0  2024/03/14 13:20:00+00   \n",
      "51304 -111.909869  33.436621     51305   4155890.0  2024/03/15 07:11:00+00   \n",
      "\n",
      "         Year             StreetName CrossStreet  Distance  \\\n",
      "0      2012.0          University Dr    Hardy Dr     0.000   \n",
      "1      2012.0                 7th St  Myrtle Ave   139.920   \n",
      "2      2012.0               Price Rd   Orange St     0.000   \n",
      "3      2012.0                11th St     Judd St   200.112   \n",
      "4      2012.0               Rural Rd   Elliot Rd   135.168   \n",
      "...       ...                    ...         ...       ...   \n",
      "51300  2024.0  US-60 Exit 173 J-Ramp         NaN     0.000   \n",
      "51301  2024.0  I-10 Exit 153 C1-Ramp         NaN     0.000   \n",
      "51302  2024.0   SR-202 Exit 7 T-Ramp         NaN     0.000   \n",
      "51303  2024.0   SR-202 Exit 7 T-Ramp         NaN     0.000   \n",
      "51304  2024.0   SR-202 Exit 8 J-Ramp         NaN     0.000   \n",
      "\n",
      "                           JunctionRelation  ...  Unittype_Two  Age_Drv2  \\\n",
      "0              Intersection Non Interchange  ...        Driver      20.0   \n",
      "1                      Not Junction Related  ...           NaN       NaN   \n",
      "2                  Intersection Interchange  ...        Driver      31.0   \n",
      "3                      Not Junction Related  ...    Driverless       NaN   \n",
      "4      Intersection Related Non Interchange  ...        Driver      20.0   \n",
      "...                                     ...  ...           ...       ...   \n",
      "51300                Entrance Exit Ramp 205  ...           NaN       NaN   \n",
      "51301                  Not Junction Related  ...        Driver      31.0   \n",
      "51302                  Not Junction Related  ...        Driver      22.0   \n",
      "51303                Entrance Exit Ramp 205  ...        Driver      25.0   \n",
      "51304                Entrance Exit Ramp 205  ...           NaN       NaN   \n",
      "\n",
      "      Gender_Drv2 Traveldirection_Two         Unitaction_Two  \\\n",
      "0          Female                East   Going Straight Ahead   \n",
      "1             NaN                 NaN                    NaN   \n",
      "2            Male               South   Going Straight Ahead   \n",
      "3             NaN                East        Properly Parked   \n",
      "4          Female               South   Going Straight Ahead   \n",
      "...           ...                 ...                    ...   \n",
      "51300         NaN                 NaN                    NaN   \n",
      "51301      Female                East      Making Right Turn   \n",
      "51302      Female                East  Stopped In Trafficway   \n",
      "51303      Female                West      Making Right Turn   \n",
      "51304         NaN                 NaN                    NaN   \n",
      "\n",
      "          Violation1_Drv2        AlcoholUse_Drv2           DrugUse_Drv2  \\\n",
      "0      No Improper Action  No Apparent Influence  No Apparent Influence   \n",
      "1                     NaN                    NaN                    NaN   \n",
      "2      No Improper Action  No Apparent Influence  No Apparent Influence   \n",
      "3                     NaN                    NaN                    NaN   \n",
      "4      No Improper Action  No Apparent Influence  No Apparent Influence   \n",
      "...                   ...                    ...                    ...   \n",
      "51300                 NaN                    NaN                    NaN   \n",
      "51301  Unsafe Lane Change  No Apparent Influence  No Apparent Influence   \n",
      "51302  No Improper Action  No Apparent Influence  No Apparent Influence   \n",
      "51303  No Improper Action  No Apparent Influence  No Apparent Influence   \n",
      "51304                 NaN                    NaN                    NaN   \n",
      "\n",
      "        Latitude   Longitude  \n",
      "0      33.421910 -111.952210  \n",
      "1      33.423190 -111.937690  \n",
      "2      33.418420 -111.891960  \n",
      "3      33.417790 -111.947910  \n",
      "4      33.349560 -111.928470  \n",
      "...          ...         ...  \n",
      "51300  33.386046 -111.939524  \n",
      "51301  33.409359 -111.972540  \n",
      "51302  33.435558 -111.926385  \n",
      "51303  33.435576 -111.926404  \n",
      "51304  33.436621 -111.909869  \n",
      "\n",
      "[51305 rows x 35 columns]\n"
     ]
    }
   ],
   "source": [
    "import pandas as pd\n",
    "\n",
    "df = pd.read_csv(\"data.csv\")\n",
    "print(df)"
   ]
  },
  {
   "cell_type": "code",
   "execution_count": 4,
   "id": "7895883b-5dee-441e-8544-a5d4a8950d9f",
   "metadata": {},
   "outputs": [
    {
     "data": {
      "text/plain": [
       "X                      float64\n",
       "Y                      float64\n",
       "OBJECTID                 int64\n",
       "Incidentid             float64\n",
       "DateTime                object\n",
       "Year                   float64\n",
       "StreetName              object\n",
       "CrossStreet             object\n",
       "Distance               float64\n",
       "JunctionRelation        object\n",
       "Totalinjuries          float64\n",
       "Totalfatalities        float64\n",
       "Injuryseverity          object\n",
       "Collisionmanner         object\n",
       "Lightcondition          object\n",
       "Weather                 object\n",
       "SurfaceCondition        object\n",
       "Unittype_One            object\n",
       "Age_Drv1               float64\n",
       "Gender_Drv1             object\n",
       "Traveldirection_One     object\n",
       "Unitaction_One          object\n",
       "Violation1_Drv1         object\n",
       "AlcoholUse_Drv1         object\n",
       "DrugUse_Drv1            object\n",
       "Unittype_Two            object\n",
       "Age_Drv2               float64\n",
       "Gender_Drv2             object\n",
       "Traveldirection_Two     object\n",
       "Unitaction_Two          object\n",
       "Violation1_Drv2         object\n",
       "AlcoholUse_Drv2         object\n",
       "DrugUse_Drv2            object\n",
       "Latitude               float64\n",
       "Longitude              float64\n",
       "dtype: object"
      ]
     },
     "execution_count": 4,
     "metadata": {},
     "output_type": "execute_result"
    }
   ],
   "source": [
    "df.dtypes"
   ]
  }
 ],
 "metadata": {
  "kernelspec": {
   "display_name": "Python [conda env:anaconda3-py312]",
   "language": "python",
   "name": "conda-env-anaconda3-py312-py"
  },
  "language_info": {
   "codemirror_mode": {
    "name": "ipython",
    "version": 3
   },
   "file_extension": ".py",
   "mimetype": "text/x-python",
   "name": "python",
   "nbconvert_exporter": "python",
   "pygments_lexer": "ipython3",
   "version": "3.12.8"
  }
 },
 "nbformat": 4,
 "nbformat_minor": 5
}
