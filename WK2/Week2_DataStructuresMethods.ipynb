{
 "cells": [
  {
   "cell_type": "code",
   "execution_count": 7,
   "id": "8c648743-cae3-46b6-a727-2563c0c0b84d",
   "metadata": {},
   "outputs": [],
   "source": [
    "# enable many obj dumps in a cell w/out print\n",
    "from IPython.core.interactiveshell import InteractiveShell\n",
    "InteractiveShell.ast_node_interactivity = 'all'"
   ]
  },
  {
   "cell_type": "markdown",
   "id": "0032e19d",
   "metadata": {},
   "source": [
    "# All Python Objects have associated attributes and methods\n"
   ]
  },
  {
   "cell_type": "code",
   "execution_count": 8,
   "id": "e497f2c3",
   "metadata": {},
   "outputs": [],
   "source": [
    "my_new_string = \"Education is a progressive discovery of our own ignorance\""
   ]
  },
  {
   "cell_type": "code",
   "execution_count": 9,
   "id": "0adbd293",
   "metadata": {},
   "outputs": [
    {
     "data": {
      "text/plain": [
       "str"
      ]
     },
     "execution_count": 9,
     "metadata": {},
     "output_type": "execute_result"
    }
   ],
   "source": [
    "type(my_new_string)"
   ]
  },
  {
   "cell_type": "code",
   "execution_count": null,
   "id": "f345b4fb",
   "metadata": {},
   "outputs": [],
   "source": [
    "# Now that we've confirmed our object is of type\n",
    "# string, we can remember that Python has stored\n",
    "# attributes and methods associated with this\n",
    "# object type.  You don't need to memorize them.\n",
    "# Just remember to type the object name + '.' and\n",
    "# then push the tab key.  You should now see a \n",
    "# pop up that show the list of available\n",
    "# attributes and methods\n",
    "my_new_string."
   ]
  },
  {
   "cell_type": "markdown",
   "id": "1d77bf86",
   "metadata": {},
   "source": [
    "### Refresher on indexing and slicing sequential objects - this is important given you are about to learn about more Python data structures...some of which are sequential in nature."
   ]
  },
  {
   "cell_type": "code",
   "execution_count": null,
   "id": "5e887f11",
   "metadata": {},
   "outputs": [],
   "source": [
    "# slicing [startIndex:endIndex]\n",
    "# string[0:4]\n",
    "# startIndex is included in what is returned\n",
    "# endIndex is NOT included in what is returned"
   ]
  },
  {
   "cell_type": "markdown",
   "id": "9a93ea72",
   "metadata": {},
   "source": [
    "> Run the following code cells to see what\n",
    "> characters get extracted (sliced) out of \n",
    "> our original string object"
   ]
  },
  {
   "cell_type": "code",
   "execution_count": 10,
   "id": "62d1e63f",
   "metadata": {},
   "outputs": [
    {
     "data": {
      "text/plain": [
       "'Education '"
      ]
     },
     "execution_count": 10,
     "metadata": {},
     "output_type": "execute_result"
    }
   ],
   "source": [
    "my_new_string[0:10]"
   ]
  },
  {
   "cell_type": "code",
   "execution_count": 11,
   "id": "cdb96c1c",
   "metadata": {},
   "outputs": [
    {
     "name": "stdout",
     "output_type": "stream",
     "text": [
      "E\n",
      "Ed\n",
      "Edu\n",
      "Educ\n",
      "Educa\n",
      "Educat\n",
      "Educati\n"
     ]
    }
   ],
   "source": [
    "print(my_new_string[0:1])\n",
    "print(my_new_string[0:2])\n",
    "print(my_new_string[0:3])\n",
    "print(my_new_string[0:4])\n",
    "print(my_new_string[0:5])\n",
    "print(my_new_string[0:6])\n",
    "print(my_new_string[0:7])"
   ]
  },
  {
   "cell_type": "code",
   "execution_count": 12,
   "id": "d884798a",
   "metadata": {},
   "outputs": [
    {
     "name": "stdout",
     "output_type": "stream",
     "text": [
      "     unit_sales    \n",
      "unit_sales\n"
     ]
    }
   ],
   "source": [
    "# Example of a string method\n",
    "new_string = '     unit_sales    '\n",
    "\n",
    "print(new_string)\n",
    "print(new_string.strip())"
   ]
  },
  {
   "cell_type": "markdown",
   "id": "ddb6f6cc",
   "metadata": {},
   "source": [
    "> What does the .strip() method do?<br>\n",
    "> **Other string methods to explore:**<br>\n",
    "> * find()<br>\n",
    "> * startswith()<br>\n",
    "> * join()<br>\n",
    "\n",
    "<br>\n"
   ]
  },
  {
   "cell_type": "code",
   "execution_count": 17,
   "id": "18c59e2f-fd05-477c-9ac9-986627f6a332",
   "metadata": {},
   "outputs": [
    {
     "name": "stdout",
     "output_type": "stream",
     "text": [
      "10\n",
      "True\n",
      "this^is^a^sentence\n"
     ]
    }
   ],
   "source": [
    "print(new_string.find('sales'))\n",
    "print(new_string.strip().startswith('unit'))\n",
    "print(\"^\".join(['this', 'is', 'a', 'sentence']))"
   ]
  },
  {
   "cell_type": "markdown",
   "id": "94fe8b55",
   "metadata": {},
   "source": [
    "# Your first data structure!!!!!\n",
    "# Python Lists!!!"
   ]
  },
  {
   "cell_type": "code",
   "execution_count": 18,
   "id": "28aef6f6",
   "metadata": {},
   "outputs": [],
   "source": [
    "# Let's create some lists\n",
    "people = ['tom', 'harry','jane','liz']\n",
    "pets = ['cat','dog','turtle','pigs']\n",
    "num_of_friends = [20, 85, 32, 5]\n",
    "ages = [48.5, 32.3, 65.8, 19.1]\n",
    "\n",
    "atypical_list = [1, 'cat','34.5',True]"
   ]
  },
  {
   "cell_type": "code",
   "execution_count": 56,
   "id": "8b8889ce",
   "metadata": {},
   "outputs": [
    {
     "data": {
      "text/plain": [
       "list"
      ]
     },
     "execution_count": 56,
     "metadata": {},
     "output_type": "execute_result"
    },
    {
     "data": {
      "text/plain": [
       "list"
      ]
     },
     "execution_count": 56,
     "metadata": {},
     "output_type": "execute_result"
    },
    {
     "data": {
      "text/plain": [
       "bool"
      ]
     },
     "execution_count": 56,
     "metadata": {},
     "output_type": "execute_result"
    }
   ],
   "source": [
    "# Let's confirm that Python recognizes our\n",
    "# objects as lists\n",
    "type(people)\n",
    "type(atypical_list)\n",
    "type(atypical_list[-1])"
   ]
  },
  {
   "cell_type": "code",
   "execution_count": null,
   "id": "068af2c3",
   "metadata": {},
   "outputs": [],
   "source": [
    "# What attributes and methods exist for list\n",
    "# objects.  Check by typing out one of the list\n",
    "# names from above followed by '.' + TAB\n",
    "pets."
   ]
  },
  {
   "cell_type": "code",
   "execution_count": 21,
   "id": "61c404b1",
   "metadata": {},
   "outputs": [
    {
     "name": "stdout",
     "output_type": "stream",
     "text": [
      "people:       ['tom', 'harry', 'jane', 'liz']\n",
      "pets:         ['cat', 'dog', 'turtle', 'pigs']\n"
     ]
    }
   ],
   "source": [
    "#  We can print lists. Woohoo!!!\n",
    "print('people:      ', people)\n",
    "print('pets:        ', pets)"
   ]
  },
  {
   "cell_type": "code",
   "execution_count": 22,
   "id": "2f16d422",
   "metadata": {},
   "outputs": [
    {
     "name": "stdout",
     "output_type": "stream",
     "text": [
      "['tom', 'harry', 'jane', 'liz']\n",
      "['cat', 'dog', 'turtle', 'pigs']\n"
     ]
    },
    {
     "data": {
      "text/plain": [
       "['tom', 'harry', 'jane', 'liz', 'cat', 'dog', 'turtle', 'pigs']"
      ]
     },
     "execution_count": 22,
     "metadata": {},
     "output_type": "execute_result"
    }
   ],
   "source": [
    "# We can combine lists!\n",
    "list_concat = people + pets\n",
    "print(people)\n",
    "print(pets)\n",
    "list_concat"
   ]
  },
  {
   "cell_type": "code",
   "execution_count": 23,
   "id": "f55c8e3e",
   "metadata": {},
   "outputs": [
    {
     "name": "stdout",
     "output_type": "stream",
     "text": [
      "tom\n"
     ]
    }
   ],
   "source": [
    "# Since lists are sequential, we can\n",
    "# using index values to extract elements\n",
    "# from our data structure\n",
    "print(people[0])"
   ]
  },
  {
   "cell_type": "code",
   "execution_count": 24,
   "id": "e3d18d95",
   "metadata": {},
   "outputs": [
    {
     "name": "stdout",
     "output_type": "stream",
     "text": [
      "['tom', 'harry']\n"
     ]
    }
   ],
   "source": [
    "# What if I want more than just one element\n",
    "print(people[0:2])"
   ]
  },
  {
   "cell_type": "markdown",
   "id": "eeaf426b",
   "metadata": {},
   "source": [
    "## Lists are MUTABLE!"
   ]
  },
  {
   "cell_type": "code",
   "execution_count": 25,
   "id": "85f16707",
   "metadata": {},
   "outputs": [
    {
     "name": "stdout",
     "output_type": "stream",
     "text": [
      "['tom', 'harry', 'jane', 'liz']\n",
      "['Geoff', 'harry', 'jane', 'liz']\n"
     ]
    }
   ],
   "source": [
    "print(people)\n",
    "people[0] = 'Geoff'\n",
    "print(people)"
   ]
  },
  {
   "cell_type": "code",
   "execution_count": 26,
   "id": "9ee4d93d",
   "metadata": {},
   "outputs": [
    {
     "data": {
      "text/plain": [
       "['Larry', 'Chad', 'jane', 'liz']"
      ]
     },
     "execution_count": 26,
     "metadata": {},
     "output_type": "execute_result"
    }
   ],
   "source": [
    "# Let's change the first two\n",
    "# names in our people list\n",
    "people[0:2] = ['Larry','Chad']\n",
    "people"
   ]
  },
  {
   "cell_type": "code",
   "execution_count": 27,
   "id": "97c59e75",
   "metadata": {},
   "outputs": [
    {
     "name": "stdout",
     "output_type": "stream",
     "text": [
      "['Larry', 'Chad', 'jane', 'liz', 'Geoff']\n",
      "['Larry', 'Chad', 'jane', 'liz', 'Geoff', 'Steve']\n"
     ]
    }
   ],
   "source": [
    "# We can append new values to our list\n",
    "people.append('Geoff')\n",
    "print(people)\n",
    "\n",
    "# Let's add one more name\n",
    "people.append('Steve')\n",
    "print(people)"
   ]
  },
  {
   "cell_type": "code",
   "execution_count": 28,
   "id": "d3f93d9a",
   "metadata": {},
   "outputs": [
    {
     "data": {
      "text/plain": [
       "['Larry', 'Chad', 'Susie']"
      ]
     },
     "execution_count": 28,
     "metadata": {},
     "output_type": "execute_result"
    }
   ],
   "source": [
    "# We can add elements to a blank list\n",
    "results = []\n",
    "results.append('Larry')\n",
    "results.append('Chad')\n",
    "results.append('Susie')\n",
    "results"
   ]
  },
  {
   "cell_type": "code",
   "execution_count": 31,
   "id": "697958f2",
   "metadata": {},
   "outputs": [
    {
     "data": {
      "text/plain": [
       "[['Larry', 'Chad', 'jane', 'liz', 'Geoff', 'Steve'],\n",
       " ['cat', 'dog', 'turtle', 'pigs']]"
      ]
     },
     "execution_count": 31,
     "metadata": {},
     "output_type": "execute_result"
    }
   ],
   "source": [
    "# We can nest lists\n",
    "# Below we create a list of lists\n",
    "nested_list = [people, pets]\n",
    "nested_list"
   ]
  },
  {
   "cell_type": "markdown",
   "id": "05e2bbb8",
   "metadata": {},
   "source": [
    "Questions to explore:\n",
    "1. what are some interesting list methods?\n",
    "2. In the nested list above - how would I extract the value 'turtle'?"
   ]
  },
  {
   "cell_type": "code",
   "execution_count": 46,
   "id": "e9312148",
   "metadata": {},
   "outputs": [
    {
     "data": {
      "text/plain": [
       "[['cat', 'dog', 'turtle', 'pigs'],\n",
       " ['Larry', 'Chad', 'jane', 'liz', 'Geoff', 'Steve']]"
      ]
     },
     "execution_count": 46,
     "metadata": {},
     "output_type": "execute_result"
    },
    {
     "data": {
      "text/plain": [
       "[['Larry', 'Chad', 'jane', 'liz', 'Geoff', 'Steve'],\n",
       " ['cat', 'dog', 'turtle', 'pigs']]"
      ]
     },
     "execution_count": 46,
     "metadata": {},
     "output_type": "execute_result"
    },
    {
     "data": {
      "text/plain": [
       "[['Larry', 'Chad', 'jane', 'liz', 'Geoff', 'Steve'],\n",
       " ['pigs', 'turtle', 'dog', 'cat']]"
      ]
     },
     "execution_count": 46,
     "metadata": {},
     "output_type": "execute_result"
    },
    {
     "data": {
      "text/plain": [
       "'dog'"
      ]
     },
     "execution_count": 46,
     "metadata": {},
     "output_type": "execute_result"
    },
    {
     "data": {
      "text/plain": [
       "'turtle'"
      ]
     },
     "execution_count": 46,
     "metadata": {},
     "output_type": "execute_result"
    }
   ],
   "source": [
    "#list.mro()\n",
    "\n",
    "nested_list.reverse()\n",
    "nested_list\n",
    "nested_list.reverse()\n",
    "nested_list\n",
    "nested_list[1].reverse()\n",
    "nested_list\n",
    "\n",
    "# What do I get if I use indexing to extract\n",
    "# an element from a nested list?\n",
    "nested_list[1][2]\n",
    "nested_list[1][nested_list[1].index('turtle')]"
   ]
  },
  {
   "cell_type": "markdown",
   "id": "beb16367",
   "metadata": {},
   "source": [
    "# Quick check-in & trajectory\n",
    "\n",
    "1. Have learned some basic Python\n",
    "2. Some basics on how to work with Jupyter Notebooks\n",
    "3. Where we are going?\n",
    "> * Go a bit deeper into working with Notebooks:\n",
    "> * Learn some additional Markdown and some HTML\n",
    "    > * Help you to create more organized and accessible Notebooks"
   ]
  },
  {
   "cell_type": "markdown",
   "id": "376b7049",
   "metadata": {},
   "source": [
    "# My roadmap to Python Superpowers!<a class=\"anchor\" id=table-of_contents></a>\n",
    "\n",
    "I want to learn Python - but I also want to stay organized in my learning process.  Here's an outline for me to keep track of my work.\n",
    "\n",
    "* [1. Fundamental Python Objects](#step1)<br>\n",
    "* [2. Basic operators](#step2)<br>\n",
    "3. Fundamental Data Structures\n",
    "4. Something else\n",
    "5. Something else"
   ]
  },
  {
   "cell_type": "code",
   "execution_count": null,
   "id": "ca02e9a9",
   "metadata": {},
   "outputs": [],
   "source": [
    "# Code"
   ]
  },
  {
   "cell_type": "code",
   "execution_count": null,
   "id": "50b03b76",
   "metadata": {},
   "outputs": [],
   "source": [
    "# Code"
   ]
  },
  {
   "cell_type": "code",
   "execution_count": null,
   "id": "4b53cae4",
   "metadata": {},
   "outputs": [],
   "source": [
    "# Code"
   ]
  },
  {
   "cell_type": "code",
   "execution_count": null,
   "id": "7feb8f98",
   "metadata": {},
   "outputs": [],
   "source": [
    "# Code"
   ]
  },
  {
   "cell_type": "code",
   "execution_count": null,
   "id": "47a0abab",
   "metadata": {},
   "outputs": [],
   "source": [
    "# Code"
   ]
  },
  {
   "cell_type": "code",
   "execution_count": null,
   "id": "25cfd4fe",
   "metadata": {},
   "outputs": [],
   "source": [
    "# Code"
   ]
  },
  {
   "cell_type": "code",
   "execution_count": null,
   "id": "e8ac3b58",
   "metadata": {},
   "outputs": [],
   "source": [
    "# Code"
   ]
  },
  {
   "cell_type": "markdown",
   "id": "327c0437",
   "metadata": {},
   "source": [
    "# Fundamental Python Objects<a class=\"anchor\" id=step1></a>\n",
    "\n",
    "> Maybe there's some additional documentation here\n",
    "\n",
    "[Zoom Up](#table-of_contents)"
   ]
  },
  {
   "cell_type": "code",
   "execution_count": null,
   "id": "1e2a5d69",
   "metadata": {},
   "outputs": [],
   "source": [
    "# Code\n",
    "\n",
    "\n",
    "\n",
    "\n",
    "\n",
    "\n",
    "\n",
    "\n",
    "\n",
    "\n",
    "\n",
    "\n",
    "\n",
    "\n",
    "\n",
    "\n",
    "\n",
    "\n",
    "\n",
    "\n",
    "\n",
    "\n",
    "\n",
    "\n",
    "\n",
    "\n",
    "\n"
   ]
  },
  {
   "cell_type": "markdown",
   "id": "9730e3a4",
   "metadata": {},
   "source": [
    "# Basic Operators<a class=\"anchor\" id=step2></a>\n",
    "\n",
    "\n",
    "\n",
    "[Zoom Up](#table-of_contents)"
   ]
  },
  {
   "cell_type": "markdown",
   "id": "47c56a8b",
   "metadata": {},
   "source": [
    "> If you really want to make your notebooks look nice...check out the html blocks below.  You can just copy and paste these chunks of code and swap out the text that gets displayed."
   ]
  },
  {
   "cell_type": "markdown",
   "id": "5e6d0b79",
   "metadata": {},
   "source": [
    "<div class=\"alert alert-block alert-info\">\n",
    "Here's the thing I control.  I want to say something and for some reason I want it to be in a blue box\n",
    "</div>"
   ]
  },
  {
   "cell_type": "markdown",
   "id": "c809453c",
   "metadata": {},
   "source": [
    "<div class=\"alert alert-block alert-warning\">\n",
    "TEXT THAT I TYPE\n",
    "</div>"
   ]
  },
  {
   "cell_type": "markdown",
   "id": "e358fcd6",
   "metadata": {},
   "source": [
    "<div class=\"alert alert-block alert-success\">\n",
    "MY TEXT - MAYBE FOR GOOD THINGS\n",
    "</div>"
   ]
  },
  {
   "cell_type": "markdown",
   "id": "5f9cafe3",
   "metadata": {},
   "source": [
    "<div class=\"alert alert-block alert-danger\">\n",
    "PERHAPS I USE THIS FOR WARNINGS OR THINGS I ENCOUNTER THAT ARE POTENTIALLY DANGEROUS FOR THE BUSINESS\n",
    "</div>"
   ]
  },
  {
   "cell_type": "markdown",
   "id": "cdd9eb0f-1f75-46ad-8407-55e4038edc0b",
   "metadata": {},
   "source": [
    "**Basic Python Sequential Data Structures (indexable)**\n",
    "\n",
    "\n",
    "*   **Lists**: mutable sequences typically used to store collections of items.\n",
    "*   **Tuples**: are immutable sequences typically used to store collections of data.\n",
    "*   **Sets**: unordered collections with no duplicate elements\n",
    "*   **Dictionaries**: unordered collections of key:value pairs, where the keys are of immutable type, and must be unique within one dictionary. Dictionaries are indexed by keys.\n"
   ]
  },
  {
   "attachments": {},
   "cell_type": "markdown",
   "id": "6bd2cf1d",
   "metadata": {},
   "source": [
    "# Back to Python Data Structures - Tuples\n",
    "\n",
    "> Follow-along and work with ChatGPT to get introduced to this topic and we explore...<br>\n",
    "> 1. how tuples are different from lists<br>\n",
    "> 2. Why I would use a tuple instead of a list\n",
    ">\n",
    "\n",
    "* A tuple is an ordered, immutable collection of elements.\n",
    "* Tuples can hold any data type and are defined using parentheses ().\n",
    "  * You can access items using indexing: my_tuple[1] → \"apple\"\n",
    "  * Tuples can be nested: nested = (1, (2, 3))\n",
    "  * They support iteration, slicing, and other sequence operations.\n",
    "\n",
    "### Tuple vs List in Python\n",
    "\n",
    "| Feature                | Tuple                            | List                             |\n",
    "|------------------------|----------------------------------|----------------------------------|\n",
    "| **Syntax**             | `(1, 2, 3)`                      | `[1, 2, 3]`                      |\n",
    "| **Mutable?**           | ❌ No (immutable)                | ✅ Yes (mutable)                 |\n",
    "| **Use Case**           | Fixed data (e.g., coordinates)   | Dynamic data (e.g., shopping list) |\n",
    "| **Performance**        | Slightly faster                  | Slightly slower                  |\n",
    "| **Methods available**  | Fewer (e.g., `count`, `index`)   | Many (e.g., `append`, `remove`) |\n",
    "| **Hashable?**          | ✅ Yes (if all elements are hashable) | ❌ No                           |"
   ]
  },
  {
   "cell_type": "code",
   "execution_count": 50,
   "id": "e3d45d84-05ec-467c-a075-eb41a7fd9698",
   "metadata": {},
   "outputs": [
    {
     "data": {
      "text/plain": [
       "(1, 'apple', 3.14)"
      ]
     },
     "execution_count": 50,
     "metadata": {},
     "output_type": "execute_result"
    }
   ],
   "source": [
    "my_tuple = (1, \"apple\", 3.14)\n",
    "my_tuple"
   ]
  },
  {
   "cell_type": "markdown",
   "id": "e4b708fe",
   "metadata": {},
   "source": [
    "# Python Data Structures - Sets\n",
    "\n",
    "> Follow-long and work with ChatGPT to get introduced to this data structure.<br>\n",
    "> If ChatGPT provides you with code samples, feel free to copy and paste them below and try them out."
   ]
  },
  {
   "cell_type": "markdown",
   "id": "7347aad8-8147-47de-b7b8-3fe73dad594b",
   "metadata": {},
   "source": [
    "### Python Sets vs Lists\n",
    "\n",
    "**List**: A list is an **ordered collection** of items that can include **duplicates**. It's like a shopping list — the order matters and you can have repeated items.\n",
    "\n",
    "**Set**: A set is an **unordered collection** of **unique** items. It's like a collection of unique playing cards — no duplicates allowed and order doesn’t matter.\n",
    "\n",
    "---\n",
    "\n",
    "| Feature                 | **List**                          | **Set**                            |\n",
    "|-------------------------|-----------------------------------|------------------------------------|\n",
    "| **Definition**          | Ordered collection of items       | Unordered collection of unique items |\n",
    "| **Syntax**              | `[1, 2, 3, 2]`                    | `{1, 2, 3}`                        |\n",
    "| **Allows Duplicates?** | ✅ Yes                            | ❌ No                              |\n",
    "| **Order Matters?**     | ✅ Yes (keeps order)              | ❌ No (order is not guaranteed)    |\n",
    "| **Mutable?**           | ✅ Yes                            | ✅ Yes (elements must be immutable)|\n",
    "| **Use Case**           | Store items in order              | Store unique items                 |\n",
    "| **Common Methods**     | `append()`, `remove()`, `sort()`  | `add()`, `remove()`, `union()`     |\n",
    "\n",
    "##### Simple Examples\n",
    "\n",
    "```python\n",
    "# Sample python code\n",
    "```"
   ]
  },
  {
   "cell_type": "code",
   "execution_count": 58,
   "id": "25f6e6bb-7db9-4ba7-9e89-e78d973df126",
   "metadata": {},
   "outputs": [
    {
     "name": "stdout",
     "output_type": "stream",
     "text": [
      "List: [1, 2, 3, 2]\n",
      "Set: {1, 2, 3}\n"
     ]
    }
   ],
   "source": [
    "# List example\n",
    "my_list = [1, 2, 3, 2]\n",
    "print(\"List:\", my_list)  # Output: [1, 2, 3, 2]\n",
    "\n",
    "# Set example\n",
    "my_set = {1, 2, 3, 2}\n",
    "print(\"Set:\", my_set)    # Output: {1, 2, 3} — duplicate is removed"
   ]
  },
  {
   "cell_type": "code",
   "execution_count": 59,
   "id": "ce1547c1-b9cd-440f-81e0-7faacbb07d39",
   "metadata": {},
   "outputs": [
    {
     "name": "stdout",
     "output_type": "stream",
     "text": [
      "Union: {1, 2, 3, 4, 5, 6}\n",
      "Intersection: {3, 4}\n",
      "Difference (A - B): {1, 2}\n",
      "Symmetric Difference: {1, 2, 5, 6}\n",
      "Is 3 in set_a? True\n",
      "After adding 10 to set_a: {1, 2, 3, 4, 10}\n",
      "After removing 2 from set_a: {1, 3, 4, 10}\n"
     ]
    }
   ],
   "source": [
    "# Sample sets\n",
    "set_a = {1, 2, 3, 4}\n",
    "set_b = {3, 4, 5, 6}\n",
    "\n",
    "# Union: combines all unique elements from both sets\n",
    "print(\"Union:\", set_a.union(set_b))  \n",
    "# Output: {1, 2, 3, 4, 5, 6}\n",
    "\n",
    "# Intersection: elements common to both sets\n",
    "print(\"Intersection:\", set_a.intersection(set_b))  \n",
    "# Output: {3, 4}\n",
    "\n",
    "# Difference: elements in set_a but NOT in set_b\n",
    "print(\"Difference (A - B):\", set_a.difference(set_b))  \n",
    "# Output: {1, 2}\n",
    "\n",
    "# Symmetric Difference: elements in either set, but not both\n",
    "print(\"Symmetric Difference:\", set_a.symmetric_difference(set_b))  \n",
    "# Output: {1, 2, 5, 6}\n",
    "\n",
    "# Membership test (fast in sets!)\n",
    "print(\"Is 3 in set_a?\", 3 in set_a)  \n",
    "# Output: True\n",
    "\n",
    "# Add an element\n",
    "set_a.add(10)\n",
    "print(\"After adding 10 to set_a:\", set_a)\n",
    "\n",
    "# Remove an element\n",
    "set_a.remove(2)  # throws an error if not present\n",
    "print(\"After removing 2 from set_a:\", set_a)"
   ]
  },
  {
   "cell_type": "markdown",
   "id": "4b654ccb",
   "metadata": {},
   "source": [
    "# Python Data Structures - Dictionaries!!!\n",
    "\n",
    "Dictionaries are an unordered set of <key:value> pairs,\n",
    "where the keys are of immutable type, and must be unique within one dictionary.\n",
    "Dictionaries are indexed by keys.\n",
    "{a:1, b:2, c:3}\n"
   ]
  },
  {
   "cell_type": "markdown",
   "id": "a1454d03",
   "metadata": {},
   "source": [
    "1. what they are\n",
    "2. how do we create them (identify them)?\n",
    "3. how do we extract information from them?"
   ]
  },
  {
   "cell_type": "code",
   "execution_count": 65,
   "id": "ace5f59d",
   "metadata": {},
   "outputs": [
    {
     "name": "stdout",
     "output_type": "stream",
     "text": [
      "{'jack': 90, 'jill': 100, 'nat': 90, 'eric': 100, 'aubrey': 90}\n"
     ]
    }
   ],
   "source": [
    "# Our first dictionary\n",
    "grades = {'jack':90,'jill':100,'nat':90,'eric': 100,'aubrey':90}\n",
    "print(grades)"
   ]
  },
  {
   "cell_type": "code",
   "execution_count": 66,
   "id": "bb064399",
   "metadata": {},
   "outputs": [
    {
     "data": {
      "text/plain": [
       "dict"
      ]
     },
     "execution_count": 66,
     "metadata": {},
     "output_type": "execute_result"
    }
   ],
   "source": [
    "type(grades)"
   ]
  },
  {
   "cell_type": "code",
   "execution_count": 67,
   "id": "2aeb08e2",
   "metadata": {},
   "outputs": [
    {
     "name": "stdout",
     "output_type": "stream",
     "text": [
      "John\n",
      "Answer to the Ultimate Question of Life, the Universe, and Everything\n",
      "A tuple key\n",
      "A floating-point key\n"
     ]
    }
   ],
   "source": [
    "# Dictionary with different types of keys\n",
    "my_dict = {\n",
    "    \"name\": \"John\",\n",
    "    42: \"Answer to the Ultimate Question of Life, the Universe, and Everything\",\n",
    "    (1, 2): \"A tuple key\",\n",
    "    3.14: \"A floating-point key\"\n",
    "}\n",
    "\n",
    "# Accessing values using different types of keys\n",
    "print(my_dict[\"name\"])      # Access using a string key\n",
    "print(my_dict[42])          # Access using an integer key\n",
    "print(my_dict[(1, 2)])     # Access using a tuple key\n",
    "print(my_dict[3.14])        # Access using a float key\n"
   ]
  },
  {
   "cell_type": "code",
   "execution_count": 68,
   "id": "b2574517",
   "metadata": {},
   "outputs": [],
   "source": [
    "# Dictionaries can be messy and hard on the eyes\n",
    "# especially when they run off the screen like\n",
    "# the one below\n",
    "grades = {'jack':90,'jill':100,'nat':90,'eric': 100,'aubrey':90, 'rebecca':85, 'larry': 89, 'bob': 100}"
   ]
  },
  {
   "cell_type": "code",
   "execution_count": 69,
   "id": "97493e30",
   "metadata": {},
   "outputs": [],
   "source": [
    "# A better way to create dictionaries is below\n",
    "# Notice how much easier it is to read this code and\n",
    "# to see what is being created\n",
    "grades1 = {'jack':90,\n",
    "          'jill':100,\n",
    "          'nat':90,\n",
    "          'eric': 100,\n",
    "          'aubrey':90, \n",
    "          'rebecca':85, \n",
    "          'larry': 89, \n",
    "          'bob': 100}"
   ]
  },
  {
   "cell_type": "code",
   "execution_count": 70,
   "id": "852cf489",
   "metadata": {},
   "outputs": [],
   "source": [
    "# My preferred way to create dictionaries\n",
    "# because I don't like typing single or double quotes\n",
    "# or curly braces\n",
    "grades2 = dict(jack=90,\n",
    "               jill=100,\n",
    "               nat=90,\n",
    "               eric=100,\n",
    "               aubrey=90,\n",
    "               rebecca=85,\n",
    "               larry=89,\n",
    "               bob=100\n",
    "             )"
   ]
  },
  {
   "cell_type": "code",
   "execution_count": 71,
   "id": "ff6f9b1f",
   "metadata": {},
   "outputs": [
    {
     "name": "stdout",
     "output_type": "stream",
     "text": [
      "{'jack': 90, 'jill': 100, 'nat': 90, 'eric': 100, 'aubrey': 90, 'rebecca': 85, 'larry': 89, 'bob': 100}\n",
      "{'jack': 90, 'jill': 100, 'nat': 90, 'eric': 100, 'aubrey': 90, 'rebecca': 85, 'larry': 89, 'bob': 100}\n",
      "{'jack': 90, 'jill': 100, 'nat': 90, 'eric': 100, 'aubrey': 90, 'rebecca': 85, 'larry': 89, 'bob': 100}\n"
     ]
    }
   ],
   "source": [
    "# print all the dictionaries above to see\n",
    "# that they are, in fact, identical\n",
    "print(grades)\n",
    "print(grades1)\n",
    "print(grades2)"
   ]
  },
  {
   "cell_type": "code",
   "execution_count": 75,
   "id": "5b5818d8",
   "metadata": {},
   "outputs": [
    {
     "name": "stdout",
     "output_type": "stream",
     "text": [
      "{'jack': 90, 'jill': 100, 'joe': 99, 'nat': 95, 'eric': 100, 'aubry': 90}\n"
     ]
    }
   ],
   "source": [
    "# Creative way to create a dictionary\n",
    "# input a list of tuples\n",
    "grades = dict([('jack',90),\n",
    "               ('jill',100),\n",
    "               ('joe',99),\n",
    "               ('nat',95),\n",
    "               ('eric',100),\n",
    "               ('aubry',90)\n",
    "              ]\n",
    "             )\n",
    "print(grades)"
   ]
  },
  {
   "cell_type": "markdown",
   "id": "43f633c0",
   "metadata": {},
   "source": [
    "> NOTE: the key takeaway from the example above is<br>\n",
    "that Python data structures can be combined in creative ways "
   ]
  },
  {
   "cell_type": "markdown",
   "id": "f82ee44e",
   "metadata": {},
   "source": [
    "## How do we retrieve dictionary information?"
   ]
  },
  {
   "cell_type": "code",
   "execution_count": 76,
   "id": "c46ef50f",
   "metadata": {},
   "outputs": [
    {
     "ename": "KeyError",
     "evalue": "0",
     "output_type": "error",
     "traceback": [
      "\u001b[0;31m---------------------------------------------------------------------------\u001b[0m",
      "\u001b[0;31mKeyError\u001b[0m                                  Traceback (most recent call last)",
      "Input \u001b[0;32mIn [76]\u001b[0m, in \u001b[0;36m<cell line: 2>\u001b[0;34m()\u001b[0m\n\u001b[1;32m      1\u001b[0m \u001b[38;5;66;03m# Will this work?\u001b[39;00m\n\u001b[0;32m----> 2\u001b[0m jacks_grade \u001b[38;5;241m=\u001b[39m \u001b[43mgrades\u001b[49m\u001b[43m[\u001b[49m\u001b[38;5;241;43m0\u001b[39;49m\u001b[43m]\u001b[49m\n",
      "\u001b[0;31mKeyError\u001b[0m: 0"
     ]
    }
   ],
   "source": [
    "# Will this work?\n",
    "jacks_grade = grades[0]"
   ]
  },
  {
   "cell_type": "code",
   "execution_count": 80,
   "id": "13117a22",
   "metadata": {},
   "outputs": [
    {
     "data": {
      "text/plain": [
       "90"
      ]
     },
     "execution_count": 80,
     "metadata": {},
     "output_type": "execute_result"
    }
   ],
   "source": [
    "# What about this?\n",
    "jacks_grade = grades['jack']\n",
    "jacks_grade\n"
   ]
  },
  {
   "cell_type": "markdown",
   "id": "b6059528",
   "metadata": {},
   "source": [
    "> Note: dictionaries are indexed by KEYS!!!"
   ]
  },
  {
   "cell_type": "markdown",
   "id": "7de9dab3",
   "metadata": {},
   "source": [
    "## but how am I supposed to remember the key names?"
   ]
  },
  {
   "cell_type": "code",
   "execution_count": 82,
   "id": "3f9282a2",
   "metadata": {},
   "outputs": [
    {
     "data": {
      "text/plain": [
       "['jack', 'jill', 'joe', 'nat', 'eric', 'aubry']"
      ]
     },
     "execution_count": 82,
     "metadata": {},
     "output_type": "execute_result"
    }
   ],
   "source": [
    "# Don't!\n",
    "# Just know how to extract them and, if you want\n",
    "# you can store them in a list\n",
    "my_keys = list(grades.keys())\n",
    "my_keys"
   ]
  },
  {
   "cell_type": "markdown",
   "id": "6eb0bd49-0f03-4fcc-9f75-4d809f745dd1",
   "metadata": {
    "id": "EUg4c1cSp4Sp"
   },
   "source": [
    "***The Benefits of Dictionary: Keys and Values are Matched*** FROM THE WEEKLY PREVIEW"
   ]
  },
  {
   "cell_type": "code",
   "execution_count": 83,
   "id": "c5048822-5e96-4f99-bac9-fdfaebca6bc4",
   "metadata": {
    "id": "O-thyNNwwr-U"
   },
   "outputs": [
    {
     "data": {
      "text/plain": [
       "\"\\nUse a dictionary to restore the revenue of a new business that started in September 2024. Last year's revenues\\nare 2000, 1500, 2600, and 3000 (for Sept., Oct., Nov., and Dec.).\\n\""
      ]
     },
     "execution_count": 83,
     "metadata": {},
     "output_type": "execute_result"
    },
    {
     "name": "stdout",
     "output_type": "stream",
     "text": [
      "The monthly revenues of our new business are:\n",
      "{'Sept. 2024': 2000, 'Oct. 2024': 1500, 'Nov. 2024': 2600, 'Dec. 2024': 3000}\n"
     ]
    }
   ],
   "source": [
    "\"\"\"\n",
    "Use a dictionary to restore the revenue of a new business that started in September 2024. Last year's revenues\n",
    "are 2000, 1500, 2600, and 3000 (for Sept., Oct., Nov., and Dec.).\n",
    "\"\"\"\n",
    "\n",
    "monthly_revenue_dict = { \"Sept. 2024\": 2000, \"Oct. 2024\": 1500, \"Nov. 2024\": 2600, \"Dec. 2024\": 3000}\n",
    "print(\"The monthly revenues of our new business are:\")\n",
    "print(monthly_revenue_dict)\n"
   ]
  },
  {
   "cell_type": "code",
   "execution_count": 84,
   "id": "5c2d39d9-e7a0-434e-9e6b-94126042659b",
   "metadata": {
    "id": "hVuehlo3p4Sp"
   },
   "outputs": [
    {
     "name": "stdout",
     "output_type": "stream",
     "text": [
      "The monthly revenues of our new business are:\n",
      "{'Sept. 2024': 2000, 'Oct. 2024': 1500, 'Nov. 2024': 2600, 'Dec. 2024': 3000, 'Jan. 2025': 4000}\n"
     ]
    }
   ],
   "source": [
    "# Now we want to add January's revenue 4000 to the list\n",
    "monthly_revenue_dict[\"Jan. 2025\"] = 4000\n",
    "print(\"The monthly revenues of our new business are:\")\n",
    "print(monthly_revenue_dict)\n"
   ]
  },
  {
   "cell_type": "code",
   "execution_count": 85,
   "id": "9b6b8bf4-d2ea-464f-aa50-a37f02e94731",
   "metadata": {
    "id": "TNF3-Mbop4Sp"
   },
   "outputs": [
    {
     "data": {
      "text/plain": [
       "\"\\nWe find out that December's revenue should be 3500 instead of 3000, a mistake that shouldn't have happened but it did.\\nWe need to update the list to correct this mistake\\n\""
      ]
     },
     "execution_count": 85,
     "metadata": {},
     "output_type": "execute_result"
    },
    {
     "name": "stdout",
     "output_type": "stream",
     "text": [
      "The monthly revenues of our new business are:\n",
      "{'Sept. 2024': 2000, 'Oct. 2024': 1500, 'Nov. 2024': 2600, 'Dec. 2024': 3500, 'Jan. 2025': 4000}\n"
     ]
    }
   ],
   "source": [
    "\"\"\"\n",
    "We find out that December's revenue should be 3500 instead of 3000, a mistake that shouldn't have happened but it did.\n",
    "We need to update the list to correct this mistake\n",
    "\"\"\"\n",
    "\n",
    "monthly_revenue_dict[\"Dec. 2024\"] = 3500\n",
    "print(\"The monthly revenues of our new business are:\")\n",
    "print(monthly_revenue_dict)"
   ]
  },
  {
   "cell_type": "code",
   "execution_count": 86,
   "id": "f9247d03-b06e-4a47-8cfa-a81cae918690",
   "metadata": {
    "id": "aAFPExhIp4Sp"
   },
   "outputs": [
    {
     "name": "stdout",
     "output_type": "stream",
     "text": [
      "The monthly revenues of our new business are:\n",
      "{'Sept. 2024': 2000, 'Oct. 2024': 1500, 'Nov. 2024': 2600, 'Dec. 2024': 3500, 'Jan. 2025': 'great sale'}\n"
     ]
    }
   ],
   "source": [
    "# we want to make a note that Jan.'s sale was great\n",
    "monthly_revenue_dict[\"Jan. 2025\"] = \"great sale\"\n",
    "print(\"The monthly revenues of our new business are:\")\n",
    "print(monthly_revenue_dict)\n"
   ]
  },
  {
   "cell_type": "code",
   "execution_count": 64,
   "id": "1df13242-03b3-40dd-a1ad-687ecdd8b797",
   "metadata": {
    "id": "hp1sqCNKp4Sp"
   },
   "outputs": [
    {
     "name": "stdout",
     "output_type": "stream",
     "text": [
      "The monthly revenues of our new business are:\n",
      "{'Sept. 2024': 2000, 'Oct. 2024': 1500, 'Nov. 2024': 2600, 'Dec. 2024': 3500, 'Jan. 2025': 'great sale', 'Jan.2025': [4000, 'great sale']}\n"
     ]
    }
   ],
   "source": [
    "# we want to make a note that Jan.'s sale was great\n",
    "monthly_revenue_dict[\"Jan.2025\"] = [4000, \"great sale\"]\n",
    "print(\"The monthly revenues of our new business are:\")\n",
    "print(monthly_revenue_dict)"
   ]
  },
  {
   "cell_type": "markdown",
   "id": "37a46d89",
   "metadata": {},
   "source": [
    "<div class=\"alert alert-block alert-warning\">\n",
    "Attention!: If you ever want to pause and check what objects have been created and are stored in RAM associated with your active Jupyter Notebook, type \"%whos\" in a code cell and then run the cell\n",
    "</div>"
   ]
  },
  {
   "cell_type": "code",
   "execution_count": 87,
   "id": "135a8d29",
   "metadata": {},
   "outputs": [
    {
     "name": "stdout",
     "output_type": "stream",
     "text": [
      "Variable               Type             Data/Info\n",
      "-------------------------------------------------\n",
      "InteractiveShell       MetaHasTraits    <class 'IPython.core.inte<...>eshell.InteractiveShell'>\n",
      "NamespaceMagics        MetaHasTraits    <class 'IPython.core.magi<...>mespace.NamespaceMagics'>\n",
      "a                      str              hello\n",
      "ages                   list             n=4\n",
      "atypical_list          list             n=4\n",
      "collections            module           <module 'collections' fro<...>collections/__init__.py'>\n",
      "dataframe_columns      function         <function dataframe_columns at 0x11d5e43a0>\n",
      "dataframe_hash         function         <function dataframe_hash at 0x11d706a60>\n",
      "dtypes_str             function         <function dtypes_str at 0x11d5e4d30>\n",
      "get_dataframes         function         <function get_dataframes at 0x11d721ee0>\n",
      "get_ipython            function         <function get_ipython at 0x10600c5e0>\n",
      "getpass                module           <module 'getpass' from '/<...>ib/python3.9/getpass.py'>\n",
      "grades                 dict             n=6\n",
      "grades1                dict             n=8\n",
      "grades2                dict             n=8\n",
      "hashlib                module           <module 'hashlib' from '/<...>ib/python3.9/hashlib.py'>\n",
      "import_pandas_safely   function         <function import_pandas_safely at 0x11d60f0d0>\n",
      "is_data_frame          function         <function is_data_frame at 0x11d706310>\n",
      "islice                 type             <class 'itertools.islice'>\n",
      "jacks_grade            int              90\n",
      "json                   module           <module 'json' from '/Use<...>hon3.9/json/__init__.py'>\n",
      "list_concat            list             n=8\n",
      "monthly_revenue_dict   dict             n=5\n",
      "my_dict                dict             n=4\n",
      "my_keys                list             n=6\n",
      "my_list                list             n=4\n",
      "my_new_string          str              Education is a progressiv<...>very of our own ignorance\n",
      "my_set                 set              {1, 2, 3}\n",
      "my_tuple               tuple            n=3\n",
      "nested_list            list             n=2\n",
      "new_string             str                   unit_sales    \n",
      "num_of_friends         list             n=4\n",
      "people                 list             n=6\n",
      "pets                   list             n=4\n",
      "results                list             n=3\n",
      "set_a                  set              {1, 3, 4, 10}\n",
      "set_b                  set              {3, 4, 5, 6}\n",
      "sys                    module           <module 'sys' (built-in)>\n"
     ]
    }
   ],
   "source": [
    "%whos"
   ]
  },
  {
   "cell_type": "markdown",
   "id": "cb163502",
   "metadata": {},
   "source": [
    "## We've learned about quite a few Python data structures...let's summarize what we've learned...\n",
    "\n",
    "**Strings:**\n",
    "- Ordered sequence of characters.\n",
    "- Immutable: Once created, individual characters cannot be changed.\n",
    "- Enclosed in single (' ') or double (\" \") quotes.\n",
    "- Common string methods: `.upper()`, `.lower()`, `.capitalize()`, `.replace()`, etc.\n",
    "\n",
    "**Lists:**\n",
    "- Ordered collection of items (elements).\n",
    "- Mutable: Elements can be added, removed, or modified.\n",
    "- Enclosed in square brackets `[ ]`.\n",
    "- Accessed by index (0-based) or slices.\n",
    "- Common list methods: `.append()`, `.remove()`, `.pop()`, `.extend()`, etc.\n",
    "\n",
    "**Dictionaries:**\n",
    "- Unordered collection of key-value pairs.\n",
    "- Mutable: Values can be added, removed, or modified based on their keys.\n",
    "- Enclosed in curly braces `{ }`.\n",
    "- Accessed by keys, not by index.\n",
    "- Common dictionary methods: `.get()`, `.keys()`, `.values()`, `.items()`, etc.\n",
    "\n",
    "**Sets:**\n",
    "- Unordered collection of unique elements.\n",
    "- Mutable: Elements can be added or removed.\n",
    "- Enclosed in curly braces `{ }`.\n",
    "- Common set methods: `.add()`, `.remove()`, `.discard()`, `.union()`, `.intersection()`, etc.\n",
    "\n",
    "**Tuples:**\n",
    "- Ordered collection of elements, similar to lists.\n",
    "- Immutable: Once created, elements cannot be changed.\n",
    "- Enclosed in parentheses `( )`.\n",
    "- Accessed by index.\n",
    "- Commonly used for grouping related values together.\n"
   ]
  },
  {
   "cell_type": "markdown",
   "id": "df456f0b",
   "metadata": {},
   "source": [
    "# Another Summary Before a Refresher on Indexing\n",
    "\n",
    "# Python Data Structures\n",
    "\n",
    "There are 4 basic sequence types.  Sequences are indexed by number (what do I mean by indexed?)\n",
    "* **Strings:** are immutable sequences of Unicode code points.\n",
    "* **Lists:** are mutable sequences typically used to store collections of homogenous items.\n",
    "* **Tuples:** are immutable sequences typically used to store collections of heterogeneous data.\n",
    "* **Ranges:** are immutable sequences of numbers typically used to loop through for loops.\n",
    "<br>\n",
    "<br>\n",
    "\n",
    "**Sets** are unordered collections with no duplicate elements.  Sets cannot be indexed.\n",
    "\n",
    "**Dictionaries** are unordered collections of <key:value> pairs, where the keys are of immutable type, and must be unique within one dictionary.  Dictionaries are indexed by keys."
   ]
  },
  {
   "cell_type": "markdown",
   "id": "4b5a0226",
   "metadata": {},
   "source": [
    "### What do we mean by \"index\"?\n",
    "**Note:** The attached image below will not render for you since it is stored on MY local machine\n",
    "<br>\n",
    "<br>\n",
    "<br>\n",
    "\n",
    "![Screen%20Shot%202023-08-17%20at%205.10.09%20PM.png](attachment:Screen%20Shot%202023-08-17%20at%205.10.09%20PM.png)"
   ]
  },
  {
   "cell_type": "code",
   "execution_count": 88,
   "id": "04729efd",
   "metadata": {},
   "outputs": [
    {
     "name": "stdout",
     "output_type": "stream",
     "text": [
      "Python\n",
      "P\n",
      "y\n",
      "t\n",
      "h\n",
      "o\n",
      "n\n"
     ]
    }
   ],
   "source": [
    "# Extracting elements of a sequential object using indexing\n",
    "x = \"Python\"\n",
    "print(x)\n",
    "print(x[0])\n",
    "print(x[1])\n",
    "print(x[2])\n",
    "print(x[3])\n",
    "print(x[4])\n",
    "print(x[5])"
   ]
  },
  {
   "cell_type": "markdown",
   "id": "f529064f",
   "metadata": {},
   "source": [
    "## Slicing: What are we talking about?\n",
    "\n",
    "* Slicing uses index values to extract subsets of information from data structures that are indexed\n",
    "* This is super important when performing data analytics:\n",
    "> - Use this to extract elements of model output\n",
    "> - Use this to investigate or extract sections of your data for deeper analysis or aggregation"
   ]
  },
  {
   "cell_type": "code",
   "execution_count": 89,
   "id": "980e0df3",
   "metadata": {},
   "outputs": [
    {
     "name": "stdout",
     "output_type": "stream",
     "text": [
      "Pytho\n",
      "Python\n",
      "Python\n",
      "ytho\n",
      "tho\n",
      "Python\n"
     ]
    }
   ],
   "source": [
    "# A string is a sequential object\n",
    "# This means we can extract single or\n",
    "# multiple elements/characters from it\n",
    "# using index numbers and slicing\n",
    "\n",
    "# String slicing:\n",
    "# [startindex:endindex] \n",
    "# start is included\n",
    "# end is NOT included\n",
    "\n",
    "word = 'Python'\n",
    "\n",
    "print(word[0:5])\n",
    "print(word[0:6])\n",
    "print(word[0:10])\n",
    "print(word[1:5])\n",
    "print(word[2:5])\n",
    "print(word[-6:6])"
   ]
  },
  {
   "cell_type": "code",
   "execution_count": 90,
   "id": "fa4d7d29",
   "metadata": {},
   "outputs": [
    {
     "name": "stdout",
     "output_type": "stream",
     "text": [
      "[5, 'a', 'b', 'c']\n"
     ]
    }
   ],
   "source": [
    "# Lists are sequential objects as well\n",
    "# We can slice them up too!!\n",
    "a_list = [1,2,3,4,5,'a','b','c']\n",
    "print(a_list[4:8])"
   ]
  },
  {
   "cell_type": "code",
   "execution_count": 91,
   "id": "63c037f7",
   "metadata": {},
   "outputs": [],
   "source": [
    "# What if we have a complext list.\n",
    "# For instance, the nested list below\n",
    "# How do extract elements from the inner lists?\n",
    "my_list = [12, 13.2, ['a','b','t',['neo','cypher','morpheus']],'string']"
   ]
  },
  {
   "cell_type": "code",
   "execution_count": 92,
   "id": "693150a2",
   "metadata": {},
   "outputs": [
    {
     "data": {
      "text/plain": [
       "'morpheus'"
      ]
     },
     "execution_count": 92,
     "metadata": {},
     "output_type": "execute_result"
    }
   ],
   "source": [
    "# Suppose I want to grabe the element 'morpheus'\n",
    "my_list[2][3][2]"
   ]
  },
  {
   "cell_type": "code",
   "execution_count": 93,
   "id": "3848cca5",
   "metadata": {},
   "outputs": [],
   "source": [
    "# How do we slice dictionaries?  They are indexed by keys\n",
    "a_dictionary = dict(ctype = ['bars','lines','scatter'],\n",
    "                    height = 200,\n",
    "                    width = 400,\n",
    "                    marks = dict(color=['red','blue','gray'],\n",
    "                                 size = [8, 10, 12, 14],\n",
    "                                 line = True\n",
    "                                )\n",
    "                   )"
   ]
  },
  {
   "cell_type": "code",
   "execution_count": 94,
   "id": "84e3cfb3",
   "metadata": {},
   "outputs": [
    {
     "name": "stdout",
     "output_type": "stream",
     "text": [
      "[8, 10]\n",
      "8\n"
     ]
    }
   ],
   "source": [
    "# Suppose I want to grab the some of the size\n",
    "# values associated with marks...here's how\n",
    "smallest_marks = a_dictionary['marks']['size'][0:2]\n",
    "print(smallest_marks)\n",
    "print(smallest_marks[0])"
   ]
  },
  {
   "cell_type": "markdown",
   "id": "f4c050f8",
   "metadata": {},
   "source": [
    "# Operator Precedence\n",
    "\n",
    " Here is a general overview of some of the major operator groups and their precedence (from highest to lowest):\n",
    "\n",
    "1. **Parentheses:** `()`\n",
    "2. **Exponentiation:** `**`\n",
    "3. **Positive/Negative Signs:** `+x`, `-x`\n",
    "4. **Multiplication, Division, Floor Division, Modulo:** `*`, `/`, `//`, `%`\n",
    "5. **Addition and Subtraction:** `+`, `-`\n",
    "6. **Bitwise Shifts:** `<<`, `>>`\n",
    "7. **Bitwise AND, OR, XOR:** `&`, `|`, `^`\n",
    "8. **Comparison Operators:** `<`, `<=`, `>`, `>=`, `==`, `!=`\n",
    "9. **Membership Operators:** `in`, `not in`\n",
    "10. **Identity Operators:** `is`, `is not`\n",
    "11. **Logical NOT:** `not`\n",
    "12. **Logical AND:** `and`\n",
    "13. **Logical OR:** `or`\n",
    "\n",
    "\n",
    "# Use parentheses to disambiguate!!!!"
   ]
  }
 ],
 "metadata": {
  "kernelspec": {
   "display_name": "Python [conda env:miniforge3]",
   "language": "python",
   "name": "conda-env-miniforge3-py"
  },
  "language_info": {
   "codemirror_mode": {
    "name": "ipython",
    "version": 3
   },
   "file_extension": ".py",
   "mimetype": "text/x-python",
   "name": "python",
   "nbconvert_exporter": "python",
   "pygments_lexer": "ipython3",
   "version": "3.9.1"
  }
 },
 "nbformat": 4,
 "nbformat_minor": 5
}
