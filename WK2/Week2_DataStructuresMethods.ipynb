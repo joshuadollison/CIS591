{
 "cells": [
  {
   "cell_type": "markdown",
   "id": "0032e19d",
   "metadata": {},
   "source": [
    "# All Python Objects have associated attributes and methods\n"
   ]
  },
  {
   "cell_type": "code",
   "execution_count": null,
   "id": "e497f2c3",
   "metadata": {},
   "outputs": [],
   "source": [
    "my_new_string = \"Education is a progressive discovery of our own ignorance\""
   ]
  },
  {
   "cell_type": "code",
   "execution_count": null,
   "id": "0adbd293",
   "metadata": {},
   "outputs": [],
   "source": [
    "type(my_new_string)"
   ]
  },
  {
   "cell_type": "code",
   "execution_count": null,
   "id": "f345b4fb",
   "metadata": {},
   "outputs": [],
   "source": [
    "# Now that we've confirmed our object is of type\n",
    "# string, we can remember that Python has stored\n",
    "# attributes and methods associated with this\n",
    "# object type.  You don't need to memorize them.\n",
    "# Just remember to type the object name + '.' and\n",
    "# then push the tab key.  You should now see a \n",
    "# pop up that show the list of available\n",
    "# attributes and methods\n",
    "my_new_string."
   ]
  },
  {
   "cell_type": "markdown",
   "id": "1d77bf86",
   "metadata": {},
   "source": [
    "### Refresher on indexing and slicing sequential objects - this is important given you are about to learn about more Python data structures...some of which are sequential in nature."
   ]
  },
  {
   "cell_type": "code",
   "execution_count": null,
   "id": "5e887f11",
   "metadata": {},
   "outputs": [],
   "source": [
    "# slicing [startIndex:endIndex]\n",
    "# string[0:4]\n",
    "# startIndex is included in what is returned\n",
    "# endIndex is NOT included in what is returned"
   ]
  },
  {
   "cell_type": "markdown",
   "id": "9a93ea72",
   "metadata": {},
   "source": [
    "> Run the following code cells to see what\n",
    "> characters get extracted (sliced) out of \n",
    "> our original string object"
   ]
  },
  {
   "cell_type": "code",
   "execution_count": null,
   "id": "62d1e63f",
   "metadata": {},
   "outputs": [],
   "source": [
    "my_new_string[0:10]"
   ]
  },
  {
   "cell_type": "code",
   "execution_count": null,
   "id": "cdb96c1c",
   "metadata": {},
   "outputs": [],
   "source": [
    "print(my_new_string[0:1])\n",
    "print(my_new_string[0:2])\n",
    "print(my_new_string[0:3])\n",
    "print(my_new_string[0:4])\n",
    "print(my_new_string[0:5])\n",
    "print(my_new_string[0:6])\n",
    "print(my_new_string[0:7])"
   ]
  },
  {
   "cell_type": "code",
   "execution_count": null,
   "id": "d884798a",
   "metadata": {},
   "outputs": [],
   "source": [
    "# Example of a string method\n",
    "new_string = '     unit_sales    '\n",
    "\n",
    "print(new_string)\n",
    "print(new_string.strip())"
   ]
  },
  {
   "cell_type": "markdown",
   "id": "ddb6f6cc",
   "metadata": {},
   "source": [
    "> What does the .strip() method do?<br>\n",
    "> **Other string methods to explore:**<br>\n",
    "> * find()<br>\n",
    "> * startswith()<br>\n",
    "> * join()<br>\n",
    "\n",
    "<br>\n"
   ]
  },
  {
   "cell_type": "markdown",
   "id": "94fe8b55",
   "metadata": {},
   "source": [
    "# Your first data structure!!!!!\n",
    "# Python Lists!!!"
   ]
  },
  {
   "cell_type": "code",
   "execution_count": null,
   "id": "28aef6f6",
   "metadata": {},
   "outputs": [],
   "source": [
    "# Let's create some lists\n",
    "people = ['tom', 'harry','jane','liz']\n",
    "pets = ['cat','dog','turtle','pigs']\n",
    "num_of_friends = [20, 85, 32, 5]\n",
    "ages = [48.5, 32.3, 65.8, 19.1]\n",
    "\n",
    "atypical_list = [1, 'cat','34.5',True]"
   ]
  },
  {
   "cell_type": "code",
   "execution_count": null,
   "id": "8b8889ce",
   "metadata": {},
   "outputs": [],
   "source": [
    "# Let's confirm that Python recognizes our\n",
    "# objects as lists\n",
    "type(people)"
   ]
  },
  {
   "cell_type": "code",
   "execution_count": null,
   "id": "068af2c3",
   "metadata": {},
   "outputs": [],
   "source": [
    "# What attributes and methods exist for list\n",
    "# objects.  Check by typing out one of the list\n",
    "# names from above followed by '.' + TAB\n",
    "pets."
   ]
  },
  {
   "cell_type": "code",
   "execution_count": null,
   "id": "61c404b1",
   "metadata": {},
   "outputs": [],
   "source": [
    "#  We can print lists. Woohoo!!!\n",
    "print('people:      ', people)\n",
    "print('pets:        ', pets)"
   ]
  },
  {
   "cell_type": "code",
   "execution_count": null,
   "id": "2f16d422",
   "metadata": {},
   "outputs": [],
   "source": [
    "# We can combine lists!\n",
    "list_concat = people + pets\n",
    "print(people)\n",
    "print(pets)\n",
    "list_concat"
   ]
  },
  {
   "cell_type": "code",
   "execution_count": null,
   "id": "f55c8e3e",
   "metadata": {},
   "outputs": [],
   "source": [
    "# Since lists are sequential, we can\n",
    "# using index values to extract elements\n",
    "# from our data structure\n",
    "print(people[0])"
   ]
  },
  {
   "cell_type": "code",
   "execution_count": null,
   "id": "e3d18d95",
   "metadata": {},
   "outputs": [],
   "source": [
    "# What if I want more than just one element\n",
    "print(people[0:2])"
   ]
  },
  {
   "cell_type": "markdown",
   "id": "eeaf426b",
   "metadata": {},
   "source": [
    "## Lists are MUTABLE!"
   ]
  },
  {
   "cell_type": "code",
   "execution_count": null,
   "id": "85f16707",
   "metadata": {},
   "outputs": [],
   "source": [
    "print(people)\n",
    "people[0] = 'Geoff'\n",
    "print(people)"
   ]
  },
  {
   "cell_type": "code",
   "execution_count": null,
   "id": "9ee4d93d",
   "metadata": {},
   "outputs": [],
   "source": [
    "# Let's change the first two\n",
    "# names in our people list\n",
    "people[0:2] = ['Larry','Chad']\n",
    "people"
   ]
  },
  {
   "cell_type": "code",
   "execution_count": null,
   "id": "97c59e75",
   "metadata": {},
   "outputs": [],
   "source": [
    "# We can append new values to our list\n",
    "people.append('Geoff')\n",
    "print(people)\n",
    "\n",
    "# Let's add one more name\n",
    "people.append('Steve')\n",
    "print(people)"
   ]
  },
  {
   "cell_type": "code",
   "execution_count": null,
   "id": "d3f93d9a",
   "metadata": {},
   "outputs": [],
   "source": [
    "# We can add elements to a blank list\n",
    "results = []\n",
    "results.append('Larry')\n",
    "results.append('Chad')\n",
    "results.append('Susie')\n",
    "results"
   ]
  },
  {
   "cell_type": "code",
   "execution_count": null,
   "id": "697958f2",
   "metadata": {},
   "outputs": [],
   "source": [
    "# We can nest lists\n",
    "# Below we create a list of lists\n",
    "nested_list = [people, pets]\n",
    "nested_list"
   ]
  },
  {
   "cell_type": "markdown",
   "id": "05e2bbb8",
   "metadata": {},
   "source": [
    "Questions to explore:\n",
    "1. what are some interesting list methods?\n",
    "2. In the nested list above - how would I extract the value 'turtle'?"
   ]
  },
  {
   "cell_type": "code",
   "execution_count": null,
   "id": "e9312148",
   "metadata": {},
   "outputs": [],
   "source": [
    "# What do I get if I use indexing to extract\n",
    "# an element from a nested list?\n",
    "nested_list[1]"
   ]
  },
  {
   "cell_type": "markdown",
   "id": "beb16367",
   "metadata": {},
   "source": [
    "# Quick check-in & trajectory\n",
    "\n",
    "1. Have learned some basic Python\n",
    "2. Some basics on how to work with Jupyter Notebooks\n",
    "3. Where we are going?\n",
    "> * Go a bit deeper into working with Notebooks:\n",
    "> * Learn some additional Markdown and some HTML\n",
    "    > * Help you to create more organized and accessible Notebooks"
   ]
  },
  {
   "cell_type": "markdown",
   "id": "376b7049",
   "metadata": {},
   "source": [
    "# My roadmap to Python Superpowers!<a class=\"anchor\" id=table-of_contents></a>\n",
    "\n",
    "I want to learn Python - but I also want to stay organized in my learning process.  Here's an outline for me to keep track of my work.\n",
    "\n",
    "* [1. Fundamental Python Objects](#step1)<br>\n",
    "* [2. Basic operators](#step2)<br>\n",
    "3. Fundamental Data Structures\n",
    "4. Something else\n",
    "5. Something else"
   ]
  },
  {
   "cell_type": "code",
   "execution_count": null,
   "id": "ca02e9a9",
   "metadata": {},
   "outputs": [],
   "source": [
    "# Code"
   ]
  },
  {
   "cell_type": "code",
   "execution_count": null,
   "id": "50b03b76",
   "metadata": {},
   "outputs": [],
   "source": [
    "# Code"
   ]
  },
  {
   "cell_type": "code",
   "execution_count": null,
   "id": "4b53cae4",
   "metadata": {},
   "outputs": [],
   "source": [
    "# Code"
   ]
  },
  {
   "cell_type": "code",
   "execution_count": null,
   "id": "7feb8f98",
   "metadata": {},
   "outputs": [],
   "source": [
    "# Code"
   ]
  },
  {
   "cell_type": "code",
   "execution_count": null,
   "id": "47a0abab",
   "metadata": {},
   "outputs": [],
   "source": [
    "# Code"
   ]
  },
  {
   "cell_type": "code",
   "execution_count": null,
   "id": "25cfd4fe",
   "metadata": {},
   "outputs": [],
   "source": [
    "# Code"
   ]
  },
  {
   "cell_type": "code",
   "execution_count": null,
   "id": "e8ac3b58",
   "metadata": {},
   "outputs": [],
   "source": [
    "# Code"
   ]
  },
  {
   "cell_type": "markdown",
   "id": "327c0437",
   "metadata": {},
   "source": [
    "# Fundamental Python Objects<a class=\"anchor\" id=step1></a>\n",
    "\n",
    "> Maybe there's some additional documentation here\n",
    "\n",
    "[Zoom Up](#table-of_contents)"
   ]
  },
  {
   "cell_type": "code",
   "execution_count": null,
   "id": "1e2a5d69",
   "metadata": {},
   "outputs": [],
   "source": [
    "# Code\n",
    "\n",
    "\n",
    "\n",
    "\n",
    "\n",
    "\n",
    "\n",
    "\n",
    "\n",
    "\n",
    "\n",
    "\n",
    "\n",
    "\n",
    "\n",
    "\n",
    "\n",
    "\n",
    "\n",
    "\n",
    "\n",
    "\n",
    "\n",
    "\n",
    "\n",
    "\n",
    "\n"
   ]
  },
  {
   "cell_type": "markdown",
   "id": "9730e3a4",
   "metadata": {},
   "source": [
    "# Basic Operators<a class=\"anchor\" id=step2></a>\n",
    "\n",
    "\n",
    "\n",
    "[Zoom Up](#table-of_contents)"
   ]
  },
  {
   "cell_type": "markdown",
   "id": "47c56a8b",
   "metadata": {},
   "source": [
    "> If you really want to make your notebooks look nice...check out the html blocks below.  You can just copy and paste these chunks of code and swap out the text that gets displayed."
   ]
  },
  {
   "cell_type": "markdown",
   "id": "5e6d0b79",
   "metadata": {},
   "source": [
    "<div class=\"alert alert-block alert-info\">\n",
    "Here's the thing I control.  I want to say something and for some reason I want it to be in a blue box\n",
    "</div>"
   ]
  },
  {
   "cell_type": "markdown",
   "id": "c809453c",
   "metadata": {},
   "source": [
    "<div class=\"alert alert-block alert-warning\">\n",
    "TEXT THAT I TYPE\n",
    "</div>"
   ]
  },
  {
   "cell_type": "markdown",
   "id": "e358fcd6",
   "metadata": {},
   "source": [
    "<div class=\"alert alert-block alert-success\">\n",
    "MY TEXT - MAYBE FOR GOOD THINGS\n",
    "</div>"
   ]
  },
  {
   "cell_type": "markdown",
   "id": "5f9cafe3",
   "metadata": {},
   "source": [
    "<div class=\"alert alert-block alert-danger\">\n",
    "PERHAPS I USE THIS FOR WARNINGS OR THINGS I ENCOUNTER THAT ARE POTENTIALLY DANGEROUS FOR THE BUSINESS\n",
    "</div>"
   ]
  },
  {
   "cell_type": "markdown",
   "id": "6bd2cf1d",
   "metadata": {},
   "source": [
    "# Back to Python Data Structures - Tuples\n",
    "\n",
    "> Follow-along and work with ChatGPT to get introduced to this topic and we explore...<br>\n",
    "> 1. how tuples are different from lists<br>\n",
    "> 2. Why I would use a tuple instead of a list"
   ]
  },
  {
   "cell_type": "markdown",
   "id": "e4b708fe",
   "metadata": {},
   "source": [
    "# Python Data Structures - Sets\n",
    "\n",
    "> Follow-long and work with ChatGPT to get introduced to this data structure.<br>\n",
    "> If ChatGPT provides you with code samples, feel free to copy and paste them below and try them out."
   ]
  },
  {
   "cell_type": "markdown",
   "id": "4b654ccb",
   "metadata": {},
   "source": [
    "# Python Data Structures - Dictionaries!!!\n",
    "\n",
    "Dictionaries are an unordered set of <key:value> pairs,\n",
    "where the keys are of immutable type, and must be unique within one dictionary.\n",
    "Dictionaries are indexed by keys.\n",
    "{a:1, b:2, c:3}\n"
   ]
  },
  {
   "cell_type": "markdown",
   "id": "a1454d03",
   "metadata": {},
   "source": [
    "1. what they are\n",
    "2. how do we create them (identify them)?\n",
    "3. how do we extract information from them?"
   ]
  },
  {
   "cell_type": "code",
   "execution_count": null,
   "id": "ace5f59d",
   "metadata": {},
   "outputs": [],
   "source": [
    "# Our first dictionary\n",
    "grades = {'jack':90,'jill':100,'nat':90,'eric': 100,'aubrey':90}\n",
    "print(grades)"
   ]
  },
  {
   "cell_type": "code",
   "execution_count": null,
   "id": "bb064399",
   "metadata": {},
   "outputs": [],
   "source": [
    "type(grades)"
   ]
  },
  {
   "cell_type": "code",
   "execution_count": null,
   "id": "2aeb08e2",
   "metadata": {},
   "outputs": [],
   "source": [
    "# Dictionary with different types of keys\n",
    "my_dict = {\n",
    "    \"name\": \"John\",\n",
    "    42: \"Answer to the Ultimate Question of Life, the Universe, and Everything\",\n",
    "    (1, 2): \"A tuple key\",\n",
    "    3.14: \"A floating-point key\"\n",
    "}\n",
    "\n",
    "# Accessing values using different types of keys\n",
    "print(my_dict[\"name\"])      # Access using a string key\n",
    "print(my_dict[42])          # Access using an integer key\n",
    "print(my_dict[(1, 2)])     # Access using a tuple key\n",
    "print(my_dict[3.14])        # Access using a float key\n"
   ]
  },
  {
   "cell_type": "code",
   "execution_count": null,
   "id": "b2574517",
   "metadata": {},
   "outputs": [],
   "source": [
    "# Dictionaries can be messy and hard on the eyes\n",
    "# especially when they run off the screen like\n",
    "# the one below\n",
    "grades = {'jack':90,'jill':100,'nat':90,'eric': 100,'aubrey':90, 'rebecca':85, 'larry': 89, 'bob': 100}"
   ]
  },
  {
   "cell_type": "code",
   "execution_count": null,
   "id": "97493e30",
   "metadata": {},
   "outputs": [],
   "source": [
    "# A better way to create dictionaries is below\n",
    "# Notice how much easier it is to read this code and\n",
    "# to see what is being created\n",
    "grades1 = {'jack':90,\n",
    "          'jill':100,\n",
    "          'nat':90,\n",
    "          'eric': 100,\n",
    "          'aubrey':90, \n",
    "          'rebecca':85, \n",
    "          'larry': 89, \n",
    "          'bob': 100}"
   ]
  },
  {
   "cell_type": "code",
   "execution_count": null,
   "id": "852cf489",
   "metadata": {},
   "outputs": [],
   "source": [
    "# My preferred way to create dictionaries\n",
    "# because I don't like typing single or double quotes\n",
    "# or curly braces\n",
    "grades2 = dict(jack=90,\n",
    "               jill=100,\n",
    "               nat=90,\n",
    "               eric=100,\n",
    "               aubrey=90,\n",
    "               rebecca=85,\n",
    "               larry=89,\n",
    "               bob=100\n",
    "             )"
   ]
  },
  {
   "cell_type": "code",
   "execution_count": null,
   "id": "ff6f9b1f",
   "metadata": {},
   "outputs": [],
   "source": [
    "# print all the dictionaries above to see\n",
    "# that they are, in fact, identical\n",
    "print(grades)\n",
    "print(grades1)\n",
    "print(grades2)"
   ]
  },
  {
   "cell_type": "code",
   "execution_count": null,
   "id": "5b5818d8",
   "metadata": {},
   "outputs": [],
   "source": [
    "# Creative way to create a dictionary\n",
    "# input a list of tuples\n",
    "grades = dict([('jack',90),\n",
    "               ('jill',100),\n",
    "               ('joe',99),\n",
    "               ('nat',95),\n",
    "               ('eric',100),\n",
    "               ('aubry',90)\n",
    "              ]\n",
    "             )\n",
    "print(grades)"
   ]
  },
  {
   "cell_type": "markdown",
   "id": "43f633c0",
   "metadata": {},
   "source": [
    "> NOTE: the key takeaway from the example above is<br>\n",
    "that Python data structures can be combined in creative ways "
   ]
  },
  {
   "cell_type": "markdown",
   "id": "f82ee44e",
   "metadata": {},
   "source": [
    "## How do we retrieve dictionary information?"
   ]
  },
  {
   "cell_type": "code",
   "execution_count": null,
   "id": "c46ef50f",
   "metadata": {},
   "outputs": [],
   "source": [
    "# Will this work?\n",
    "jacks_grade = grades[0]"
   ]
  },
  {
   "cell_type": "code",
   "execution_count": null,
   "id": "13117a22",
   "metadata": {},
   "outputs": [],
   "source": [
    "# What about this?\n",
    "jacks_grade = grades['jack']"
   ]
  },
  {
   "cell_type": "markdown",
   "id": "b6059528",
   "metadata": {},
   "source": [
    "> Note: dictionaries are indexed by KEYS!!!"
   ]
  },
  {
   "cell_type": "markdown",
   "id": "7de9dab3",
   "metadata": {},
   "source": [
    "## but how am I supposed to remember the key names?"
   ]
  },
  {
   "cell_type": "code",
   "execution_count": null,
   "id": "3f9282a2",
   "metadata": {},
   "outputs": [],
   "source": [
    "# Don't!\n",
    "# Just know how to extract them and, if you want\n",
    "# you can store them in a list\n",
    "my_keys = list(grades.keys())"
   ]
  },
  {
   "cell_type": "markdown",
   "id": "37a46d89",
   "metadata": {},
   "source": [
    "<div class=\"alert alert-block alert-warning\">\n",
    "Attention!: If you ever want to pause and check what objects have been created and are stored in RAM associated with your active Jupyter Notebook, type \"%whos\" in a code cell and then run the cell\n",
    "</div>"
   ]
  },
  {
   "cell_type": "code",
   "execution_count": null,
   "id": "135a8d29",
   "metadata": {},
   "outputs": [],
   "source": [
    "%whos"
   ]
  },
  {
   "cell_type": "markdown",
   "id": "cb163502",
   "metadata": {},
   "source": [
    "## We've learned about quite a few Python data structures...let's summarize what we've learned...\n",
    "\n",
    "**Strings:**\n",
    "- Ordered sequence of characters.\n",
    "- Immutable: Once created, individual characters cannot be changed.\n",
    "- Enclosed in single (' ') or double (\" \") quotes.\n",
    "- Common string methods: `.upper()`, `.lower()`, `.capitalize()`, `.replace()`, etc.\n",
    "\n",
    "**Lists:**\n",
    "- Ordered collection of items (elements).\n",
    "- Mutable: Elements can be added, removed, or modified.\n",
    "- Enclosed in square brackets `[ ]`.\n",
    "- Accessed by index (0-based) or slices.\n",
    "- Common list methods: `.append()`, `.remove()`, `.pop()`, `.extend()`, etc.\n",
    "\n",
    "**Dictionaries:**\n",
    "- Unordered collection of key-value pairs.\n",
    "- Mutable: Values can be added, removed, or modified based on their keys.\n",
    "- Enclosed in curly braces `{ }`.\n",
    "- Accessed by keys, not by index.\n",
    "- Common dictionary methods: `.get()`, `.keys()`, `.values()`, `.items()`, etc.\n",
    "\n",
    "**Sets:**\n",
    "- Unordered collection of unique elements.\n",
    "- Mutable: Elements can be added or removed.\n",
    "- Enclosed in curly braces `{ }`.\n",
    "- Common set methods: `.add()`, `.remove()`, `.discard()`, `.union()`, `.intersection()`, etc.\n",
    "\n",
    "**Tuples:**\n",
    "- Ordered collection of elements, similar to lists.\n",
    "- Immutable: Once created, elements cannot be changed.\n",
    "- Enclosed in parentheses `( )`.\n",
    "- Accessed by index.\n",
    "- Commonly used for grouping related values together.\n"
   ]
  },
  {
   "cell_type": "markdown",
   "id": "df456f0b",
   "metadata": {},
   "source": [
    "# Another Summary Before a Refresher on Indexing\n",
    "\n",
    "# Python Data Structures\n",
    "\n",
    "There are 4 basic sequence types.  Sequences are indexed by number (what do I mean by indexed?)\n",
    "* **Strings:** are immutable sequences of Unicode code points.\n",
    "* **Lists:** are mutable sequences typically used to store collections of homogenous items.\n",
    "* **Tuples:** are immutable sequences typically used to store collections of heterogeneous data.\n",
    "* **Ranges:** are immutable sequences of numbers typically used to loop through for loops.\n",
    "<br>\n",
    "<br>\n",
    "\n",
    "**Sets** are unordered collections with no duplicate elements.  Sets cannot be indexed.\n",
    "\n",
    "**Dictionaries** are unordered collections of <key:value> pairs, where the keys are of immutable type, and must be unique within one dictionary.  Dictionaries are indexed by keys."
   ]
  },
  {
   "cell_type": "markdown",
   "id": "4b5a0226",
   "metadata": {},
   "source": [
    "### What do we mean by \"index\"?\n",
    "**Note:** The attached image below will not render for you since it is stored on MY local machine\n",
    "<br>\n",
    "<br>\n",
    "<br>\n",
    "\n",
    "![Screen%20Shot%202023-08-17%20at%205.10.09%20PM.png](attachment:Screen%20Shot%202023-08-17%20at%205.10.09%20PM.png)"
   ]
  },
  {
   "cell_type": "code",
   "execution_count": null,
   "id": "04729efd",
   "metadata": {},
   "outputs": [],
   "source": [
    "# Extracting elements of a sequential object using indexing\n",
    "x = \"Python\"\n",
    "print(x)\n",
    "print(x[0])\n",
    "print(x[1])\n",
    "print(x[2])\n",
    "print(x[3])\n",
    "print(x[4])\n",
    "print(x[5])"
   ]
  },
  {
   "cell_type": "markdown",
   "id": "f529064f",
   "metadata": {},
   "source": [
    "## Slicing: What are we talking about?\n",
    "\n",
    "* Slicing uses index values to extract subsets of information from data structures that are indexed\n",
    "* This is super important when performing data analytics:\n",
    "> - Use this to extract elements of model output\n",
    "> - Use this to investigate or extract sections of your data for deeper analysis or aggregation"
   ]
  },
  {
   "cell_type": "code",
   "execution_count": null,
   "id": "980e0df3",
   "metadata": {},
   "outputs": [],
   "source": [
    "# A string is a sequential object\n",
    "# This means we can extract single or\n",
    "# multiple elements/characters from it\n",
    "# using index numbers and slicing\n",
    "\n",
    "# String slicing:\n",
    "# [startindex:endindex] \n",
    "# start is included\n",
    "# end is NOT included\n",
    "\n",
    "word = 'Python'\n",
    "\n",
    "print(word[0:5])\n",
    "print(word[0:6])\n",
    "print(word[0:10])\n",
    "print(word[1:5])\n",
    "print(word[2:5])\n",
    "print(word[-6:6])"
   ]
  },
  {
   "cell_type": "code",
   "execution_count": null,
   "id": "fa4d7d29",
   "metadata": {},
   "outputs": [],
   "source": [
    "# Lists are sequential objects as well\n",
    "# We can slice them up too!!\n",
    "a_list = [1,2,3,4,5,'a','b','c']\n",
    "print(a_list[4:8])"
   ]
  },
  {
   "cell_type": "code",
   "execution_count": null,
   "id": "63c037f7",
   "metadata": {},
   "outputs": [],
   "source": [
    "# What if we have a complext list.\n",
    "# For instance, the nested list below\n",
    "# How do extract elements from the inner lists?\n",
    "my_list = [12, 13.2, ['a','b','t',['neo','cypher','morpheus']],'string']"
   ]
  },
  {
   "cell_type": "code",
   "execution_count": null,
   "id": "693150a2",
   "metadata": {},
   "outputs": [],
   "source": [
    "# Suppose I want to grabe the element 'morpheus'\n",
    "my_list[2][3][2]"
   ]
  },
  {
   "cell_type": "code",
   "execution_count": null,
   "id": "3848cca5",
   "metadata": {},
   "outputs": [],
   "source": [
    "# How do we slice dictionaries?  They are indexed by keys\n",
    "a_dictionary = dict(ctype = ['bars','lines','scatter'],\n",
    "                    height = 200,\n",
    "                    width = 400,\n",
    "                    marks = dict(color=['red','blue','gray'],\n",
    "                                 size = [8, 10, 12, 14],\n",
    "                                 line = True\n",
    "                                )\n",
    "                   )"
   ]
  },
  {
   "cell_type": "code",
   "execution_count": null,
   "id": "84e3cfb3",
   "metadata": {},
   "outputs": [],
   "source": [
    "# Suppose I want to grab the some of the size\n",
    "# values associated with marks...here's how\n",
    "smallest_marks = a_dictionary['marks']['size'][0:2]\n",
    "print(smallest_marks)\n",
    "print(smallest_marks[0])"
   ]
  },
  {
   "cell_type": "markdown",
   "id": "f4c050f8",
   "metadata": {},
   "source": [
    "# Operator Precedence\n",
    "\n",
    " Here is a general overview of some of the major operator groups and their precedence (from highest to lowest):\n",
    "\n",
    "1. **Parentheses:** `()`\n",
    "2. **Exponentiation:** `**`\n",
    "3. **Positive/Negative Signs:** `+x`, `-x`\n",
    "4. **Multiplication, Division, Floor Division, Modulo:** `*`, `/`, `//`, `%`\n",
    "5. **Addition and Subtraction:** `+`, `-`\n",
    "6. **Bitwise Shifts:** `<<`, `>>`\n",
    "7. **Bitwise AND, OR, XOR:** `&`, `|`, `^`\n",
    "8. **Comparison Operators:** `<`, `<=`, `>`, `>=`, `==`, `!=`\n",
    "9. **Membership Operators:** `in`, `not in`\n",
    "10. **Identity Operators:** `is`, `is not`\n",
    "11. **Logical NOT:** `not`\n",
    "12. **Logical AND:** `and`\n",
    "13. **Logical OR:** `or`\n",
    "\n",
    "\n",
    "# Use parentheses to disambiguate!!!!"
   ]
  },
  {
   "cell_type": "code",
   "execution_count": null,
   "id": "7a6ac041",
   "metadata": {},
   "outputs": [],
   "source": []
  }
 ],
 "metadata": {
  "kernelspec": {
   "display_name": "Python [conda env:miniforge3]",
   "language": "python",
   "name": "conda-env-miniforge3-py"
  },
  "language_info": {
   "codemirror_mode": {
    "name": "ipython",
    "version": 3
   },
   "file_extension": ".py",
   "mimetype": "text/x-python",
   "name": "python",
   "nbconvert_exporter": "python",
   "pygments_lexer": "ipython3",
   "version": "3.9.1"
  }
 },
 "nbformat": 4,
 "nbformat_minor": 5
}
