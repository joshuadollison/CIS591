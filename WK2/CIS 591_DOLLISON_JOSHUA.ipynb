{
 "cells": [
  {
   "cell_type": "markdown",
   "metadata": {
    "editable": true,
    "id": "jZTeGdTx0XKE",
    "slideshow": {
     "slide_type": ""
    },
    "tags": []
   },
   "source": [
    "# **Mini Business Case Study - Sales Analytics for EcoTrek Solutions**\n",
    "\n",
    "**Case Background**\n",
    "\n",
    "You are a new hire at EcoTrek Solutions, a U.S.-based company that specializes in eco-friendly travel accessories. As a business data analyst, your role involves analyzing sales trends and providing insights to help shape the company's marketing and production strategies.\n",
    "\n",
    "**Correlation Analysis Assignment (Due: TUESDAY, 9/2, 11:59 pm.)**\n",
    "\n",
    "After your first successful report, EcoTrek Solutions asks you to analyze last year's sales of its two other products: GreenTote and SolarTrek Water Bottle.  The company suspects there might be underlying factors influencing sales, but they are unsure what these might be. The company hopes to come up with some strategy to help with the sales of the products for the new year.  \n",
    "\n",
    "Your task is to investigate the data to uncover any interesting correlations or trends. To assist in your analysis, the company provides the following monthly data from January to December 2024:\n",
    "\n",
    "|Month\t|Temperature (°F)\t|GreenTote\t|SolarTrek Water Bottle\n",
    "|---|---|---|---|\n",
    "|January\t|40|\t87,500\t|80,900\n",
    "|February |\t45|\t100,625\t|85,200\n",
    "|March\t|55|\t115,725|\t92,500\n",
    "|April\t|65\t|132,075\t|100,980\n",
    "|May\t|75|\t148,875|\t110,500\n",
    "|June\t|85|\t164,500 |\t118,300\n",
    "|July |\t90\t|172,725\t|124,800\n",
    "|August\t|88|\t185,800|\t130,500\n",
    "|September|86|180,900| 128, 800\n",
    "|October| 80|170,000|120, 000\n",
    "|November|70|165,000| 114, 000\n",
    "|December|60|160,000|110, 000\n",
    "\n",
    "**Tasks for you:**\n",
    "\n",
    "Write Python code to accomplish the following:\n",
    "1. Dictionary creation: Create three dictionaries, Temperature, GreenTote, and SolarTrek Water Bottle, with the month (e.g., 'January') as the key and the respective values as the data (temperature or sales revenue).\n",
    "\n",
    "2. Using the created dictionaries, print the month has the highest sales and one that has the lowest sales for the two products; and print the month with the highest and lowest temperatures.\n",
    "\n",
    "3. Calculate Pearson correlation coefficent: use scipy.stats.pearsonr(array A, array B) function to calculate the Pearson coorelation coefficient between:\n",
    "- GreenTote sales and SolarTrek Water Bottle sales.\n",
    "- Temperature and GreenTote sales.\n",
    "- Temperature and SolarTrek Water Bottle sales.\n",
    "\n",
    "4. Based on the result, you will choose one of the following three options to make your recommendation to the company:\n",
    "\n",
    "- Option 1: Develop a joint marketing campaign for the two products.\n",
    "- Option 2: Develop separate marketing campaigns for each product.\n",
    "- Option 3: Explore external factors (e.g., weather, customer preferences) for future analysis.\n",
    "\n",
    "**What to Submit**\n",
    "1. Your Jupyter Notebook file named **YourLastName_FirstInitial_2.ipynb**.\n",
    "2. Please provide comments in the Code cell to explain what your code does in that cell and run your code before submitting it.\n",
    "\n",
    "Note:\n",
    "Code that cannot run will receive 0"
   ]
  },
  {
   "cell_type": "markdown",
   "metadata": {
    "id": "emCluQDk29se"
   },
   "source": [
    "# **Week 3 Pandas**\n"
   ]
  },
  {
   "cell_type": "markdown",
   "metadata": {
    "id": "j5NoqDyrytU4"
   },
   "source": [
    "\n",
    "**Week 3 Preview**\n"
   ]
  },
  {
   "cell_type": "code",
   "execution_count": 1,
   "metadata": {
    "colab": {
     "base_uri": "https://localhost:8080/"
    },
    "editable": true,
    "executionInfo": {
     "elapsed": 3048,
     "status": "ok",
     "timestamp": 1738012384527,
     "user": {
      "displayName": "Lu Xiao",
      "userId": "06387672696712898678"
     },
     "user_tz": 420
    },
    "id": "2TY2mEp5w5xt",
    "outputId": "cd4717b3-9e69-4e0c-f8ec-607e1628d3a5",
    "slideshow": {
     "slide_type": ""
    },
    "tags": []
   },
   "outputs": [
    {
     "name": "stdout",
     "output_type": "stream",
     "text": [
      "      Name  Age         City\n",
      "0    Alice   25     New York\n",
      "1      Bob   30  Los Angeles\n",
      "2  Charlie   35      Chicago\n"
     ]
    }
   ],
   "source": [
    "# obtain pandas package by import\n",
    "\n",
    "import pandas as pd\n",
    "\n",
    "data = {\n",
    "    'Name': ['Alice', 'Bob', 'Charlie'],\n",
    "    'Age': [25, 30, 35],\n",
    "    'City': ['New York', 'Los Angeles', 'Chicago']\n",
    "}\n",
    "\n",
    "df = pd.DataFrame(data)\n",
    "print(df)\n"
   ]
  },
  {
   "cell_type": "code",
   "execution_count": 2,
   "metadata": {
    "colab": {
     "base_uri": "https://localhost:8080/"
    },
    "editable": true,
    "executionInfo": {
     "elapsed": 126,
     "status": "ok",
     "timestamp": 1738012497117,
     "user": {
      "displayName": "Lu Xiao",
      "userId": "06387672696712898678"
     },
     "user_tz": 420
    },
    "id": "2lrZFyDTzRAj",
    "outputId": "1f514d66-76b0-4917-c17f-7e0a5dfa0008",
    "slideshow": {
     "slide_type": ""
    },
    "tags": []
   },
   "outputs": [
    {
     "name": "stdout",
     "output_type": "stream",
     "text": [
      "      Name  Age         City\n",
      "1      Bob   30  Los Angeles\n",
      "2  Charlie   35      Chicago\n"
     ]
    }
   ],
   "source": [
    "# create another data frame that is a subset of df: it keeps data that has age over 28\n",
    "filtered_df = df[df['Age'] > 28]\n",
    "print(filtered_df)\n"
   ]
  },
  {
   "cell_type": "code",
   "execution_count": 3,
   "metadata": {
    "id": "fHwnwQMfwfo0"
   },
   "outputs": [
    {
     "name": "stdout",
     "output_type": "stream",
     "text": [
      "    Name  Age         City\n",
      "0  Alice   25     New York\n",
      "1    Bob   30  Los Angeles\n"
     ]
    }
   ],
   "source": [
    "# create another data frame that is a subset of df: it keeps data that is not in Chicago\n",
    "\n",
    "# Your code starts here\n",
    "\n",
    "df_not_chi = filtered_df = df[df['City'] != 'Chicago']\n",
    "print(df_not_chi)\n",
    "\n",
    "# Your code ends here"
   ]
  },
  {
   "cell_type": "code",
   "execution_count": 4,
   "metadata": {
    "colab": {
     "base_uri": "https://localhost:8080/"
    },
    "executionInfo": {
     "elapsed": 156,
     "status": "ok",
     "timestamp": 1738012831611,
     "user": {
      "displayName": "Lu Xiao",
      "userId": "06387672696712898678"
     },
     "user_tz": 420
    },
    "id": "SiFwKwasWguJ",
    "outputId": "5daf0f5c-04a4-409b-ce13-b3bad8036fb5"
   },
   "outputs": [
    {
     "name": "stdout",
     "output_type": "stream",
     "text": [
      "      Name  Age         City\n",
      "0    Alice   30     New York\n",
      "1      Bob   28  Los Angeles\n",
      "2  Charlie   32      Chicago\n"
     ]
    }
   ],
   "source": [
    "df['Age'] = [30, 28, 32]\n",
    "print (df)"
   ]
  },
  {
   "cell_type": "code",
   "execution_count": 5,
   "metadata": {
    "id": "HEw_Xekrwfo1",
    "outputId": "c49a0793-7e5c-4067-d579-32e6a9868cff"
   },
   "outputs": [
    {
     "name": "stdout",
     "output_type": "stream",
     "text": [
      "    Name  Age         City\n",
      "0  Alice   66     New York\n",
      "1    Bob   44  Los Angeles\n"
     ]
    }
   ],
   "source": [
    "# Change the ages of two people in the subset dataframe filtered_df to [66, 44] and print it\n",
    "\n",
    "# Your code starts here\n",
    "\n",
    "# This produces a warning because of how we init filtered_df\n",
    "# The professor said that the warning is fine here (today).\n",
    "#filtered_df['Age'] = [66, 44]\n",
    "\n",
    "# This is the preferred way (doesn't produce warning)\n",
    "# The professor said that implementing this way is allowable.\n",
    "filtered_df.loc[0, 'Age'] = 66\n",
    "filtered_df.loc[1, 'Age'] = 44\n",
    "\n",
    "print(filtered_df)\n",
    "\n",
    "# Your code ends here\n",
    "\n",
    "\n",
    "\n"
   ]
  },
  {
   "cell_type": "code",
   "execution_count": 6,
   "metadata": {
    "colab": {
     "base_uri": "https://localhost:8080/"
    },
    "executionInfo": {
     "elapsed": 190,
     "status": "ok",
     "timestamp": 1726077371055,
     "user": {
      "displayName": "Lu Xiao",
      "userId": "06387672696712898678"
     },
     "user_tz": 420
    },
    "id": "esIrsEmlzbf5",
    "outputId": "18b5ab13-52ce-426b-81d9-37b27fd90672"
   },
   "outputs": [
    {
     "name": "stdout",
     "output_type": "stream",
     "text": [
      "        Age\n",
      "count   3.0\n",
      "mean   30.0\n",
      "std     2.0\n",
      "min    28.0\n",
      "25%    29.0\n",
      "50%    30.0\n",
      "75%    31.0\n",
      "max    32.0\n"
     ]
    }
   ],
   "source": [
    "#obtain summary of df\n",
    "summary = df.describe()\n",
    "print(summary)\n"
   ]
  },
  {
   "cell_type": "code",
   "execution_count": 7,
   "metadata": {
    "id": "dUXN5eMEwfo3",
    "outputId": "05ab0df5-ea61-4694-926a-1fa1674b574c"
   },
   "outputs": [
    {
     "name": "stdout",
     "output_type": "stream",
     "text": [
      "             Age\n",
      "count   2.000000\n",
      "mean   55.000000\n",
      "std    15.556349\n",
      "min    44.000000\n",
      "25%    49.500000\n",
      "50%    55.000000\n",
      "75%    60.500000\n",
      "max    66.000000\n"
     ]
    }
   ],
   "source": [
    "#obtain summary of filtered_df and print it\n",
    "\n",
    "# Your code starts here\n",
    "filtered_summary = filtered_df.describe()\n",
    "print(filtered_summary)\n",
    "\n",
    "# Your code ends here\n"
   ]
  },
  {
   "cell_type": "code",
   "execution_count": 8,
   "metadata": {
    "colab": {
     "base_uri": "https://localhost:8080/"
    },
    "editable": true,
    "executionInfo": {
     "elapsed": 164,
     "status": "ok",
     "timestamp": 1738013586169,
     "user": {
      "displayName": "Lu Xiao",
      "userId": "06387672696712898678"
     },
     "user_tz": 420
    },
    "id": "TZnJvW1sy5_U",
    "outputId": "5ca5d3e8-446f-4986-d722-256203529e20",
    "slideshow": {
     "slide_type": ""
    },
    "tags": []
   },
   "outputs": [
    {
     "name": "stdout",
     "output_type": "stream",
     "text": [
      "    Description: this dataset shows number of WaterCure units sold per day and the corresponding daily temperature from January 2024 to August 2024  \\\n",
      "0                                                  NaN                                                                                                \n",
      "1                                                 Date                                                                                                \n",
      "2                                             1/1/2024                                                                                                \n",
      "3                                             1/2/2024                                                                                                \n",
      "4                                             1/3/2024                                                                                                \n",
      "..                                                 ...                                                                                                \n",
      "241                                          8/27/2024                                                                                                \n",
      "242                                          8/28/2024                                                                                                \n",
      "243                                          8/29/2024                                                                                                \n",
      "244                                          8/30/2024                                                                                                \n",
      "245                                          8/31/2024                                                                                                \n",
      "\n",
      "           Unnamed: 1        Unnamed: 2             Unnamed: 3  \n",
      "0                 NaN               NaN                    NaN  \n",
      "1    Daily Units Sold  Daily Unit Price  Daily Temperature (C)  \n",
      "2                  91                24                     25  \n",
      "3                  90                24                     24  \n",
      "4                  70                24                     19  \n",
      "..                ...               ...                    ...  \n",
      "241                29              22.2                     16  \n",
      "242                59              22.2                     21  \n",
      "243                33              22.2                     17  \n",
      "244                33              22.2                     17  \n",
      "245                37              22.2                     18  \n",
      "\n",
      "[246 rows x 4 columns]\n"
     ]
    }
   ],
   "source": [
    "#read data from csv file into a data frame\n",
    "df = pd.read_csv('daily_sales.csv')\n",
    "print(df)\n"
   ]
  },
  {
   "cell_type": "code",
   "execution_count": 9,
   "metadata": {
    "colab": {
     "base_uri": "https://localhost:8080/"
    },
    "executionInfo": {
     "elapsed": 154,
     "status": "ok",
     "timestamp": 1738013792537,
     "user": {
      "displayName": "Lu Xiao",
      "userId": "06387672696712898678"
     },
     "user_tz": 420
    },
    "id": "bRK0MRoKXJzx",
    "outputId": "0df23be7-7a40-4868-c0f1-ded3b468a323"
   },
   "outputs": [
    {
     "name": "stdout",
     "output_type": "stream",
     "text": [
      "          Date  Daily Units Sold  Daily Unit Price  Daily Temperature (C)\n",
      "0     1/1/2024                91              24.0                     25\n",
      "1     1/2/2024                90              24.0                     24\n",
      "2     1/3/2024                70              24.0                     19\n",
      "3     1/4/2024                89              24.0                     23\n",
      "4     1/5/2024               100              24.0                     36\n",
      "..         ...               ...               ...                    ...\n",
      "239  8/27/2024                29              22.2                     16\n",
      "240  8/28/2024                59              22.2                     21\n",
      "241  8/29/2024                33              22.2                     17\n",
      "242  8/30/2024                33              22.2                     17\n",
      "243  8/31/2024                37              22.2                     18\n",
      "\n",
      "[244 rows x 4 columns]\n"
     ]
    }
   ],
   "source": [
    "#read data from csv file into a data frame AND skip the heading\n",
    "df = pd.read_csv('daily_sales.csv', skiprows = 2)\n",
    "print(df)"
   ]
  },
  {
   "cell_type": "code",
   "execution_count": 10,
   "metadata": {
    "id": "9Vyz535iz0TZ"
   },
   "outputs": [],
   "source": [
    "#write data frame to a csv file\n",
    "df.to_csv('output.csv', index=False)\n"
   ]
  },
  {
   "cell_type": "markdown",
   "metadata": {
    "id": "Yom3oZkweFhd"
   },
   "source": [
    "# **Mini Business Case Study - Sales Analytics for EcoTrek Solutions**\n",
    "\n",
    "**Case Background**\n",
    "\n",
    "You are a new hire at EcoTrek Solutions, a U.S.-based company that specializes in eco-friendly travel accessories. As a business data analyst, your role involves analyzing sales trends and providing insights to help shape the company's marketing and production strategies.\n",
    "\n",
    "**Pandas, Reading/Writing Data Assignment (Due: TUESDAY, 9/9, 11:59 pm.)**\n",
    "\n"
   ]
  },
  {
   "cell_type": "markdown",
   "metadata": {
    "editable": true,
    "id": "OJjmBVpwik_a",
    "slideshow": {
     "slide_type": ""
    },
    "tags": []
   },
   "source": [
    "You, the business data analyst, wonder if such correlation has more to do with the climate than the products themselves.\n",
    "\n",
    "You collected temperature data for the last 20 days as well as the daily sales of GreenTote With this data, you will perform the following tasks:\n",
    "\n",
    "1. create a data frame to store the data read from the file.\n",
    "2. get a summary of each data field (i.e., the count, mean, standard deviation, minimum, maximum, ... etc. ) and interpret the summary in the Markdown or Text Cell (e.g., what does maximum mean for the daily temperature field?)\n",
    "\n",
    "3. use the Pearson Correlation function to examine the correlation relationship between daily sold units and daily temperaturll\n",
    "\n",
    "4. sort the data frame according to the number of units sold per day\n",
    "\n",
    "5. write the sorted data frame to a csv file named \"**GreenTote_analysis_YourLastName_FirstName.csv*\n",
    "\n",
    "6. based on your analysis, choose one of the following options to recommend to your company: (in the text cell)\n",
    "- Option 1: Develop a marketing campaign that considers weather information to strategize the sales of GreenTote\n",
    "- Option 2: Use a random campaign to help increase the sales for the new year*\"\n",
    "\n",
    "**​What to Submit:​**\n",
    "\n",
    "You can choose to submit a Jupyter Notebook file.\n",
    "\n",
    "1). Please name your file **YourLastName_FirstInitial_3.ipynb**. In the code, please just use the data file's name (i.e., data are in the local path) .\n",
    "\n",
    "2). Please submit your data file \"**GreenTote_analysis_YourLastName_FirstName.csv**\"\n",
    "\n",
    "3). Please remember to provide your explanation/interpretation in the Text cells\n",
    "\n",
    "4). Please provide comments in the Code cell to explain what your code does in that cell and run your code before submitting it."
   ]
  }
 ],
 "metadata": {
  "colab": {
   "provenance": [
    {
     "file_id": "1D08d20W0y3qMoWzTChQl5LjoGZr_xKvU",
     "timestamp": 1754762471422
    },
    {
     "file_id": "1vDsKQgSyC3XhrSRy-N8K2P9tEQ7MwcVc",
     "timestamp": 1724477299953
    }
   ]
  },
  "kernelspec": {
   "display_name": "Python [conda env:anaconda3-py312]",
   "language": "python",
   "name": "conda-env-anaconda3-py312-py"
  },
  "language_info": {
   "codemirror_mode": {
    "name": "ipython",
    "version": 3
   },
   "file_extension": ".py",
   "mimetype": "text/x-python",
   "name": "python",
   "nbconvert_exporter": "python",
   "pygments_lexer": "ipython3",
   "version": "3.12.8"
  }
 },
 "nbformat": 4,
 "nbformat_minor": 4
}
