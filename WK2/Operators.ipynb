{
 "cells": [
  {
   "cell_type": "markdown",
   "id": "700caf8a",
   "metadata": {},
   "source": [
    "# Operator Precedence\n",
    "\n",
    " Here is a general overview of some of the major operator groups and their precedence (from highest to lowest):\n",
    "\n",
    "1. **Parentheses:** `()`\n",
    "2. **Exponentiation:** `**`\n",
    "3. **Positive/Negative Signs:** `+x`, `-x`\n",
    "4. **Multiplication, Division, Floor Division, Modulo:** `*`, `/`, `//`, `%`\n",
    "5. **Addition and Subtraction:** `+`, `-`\n",
    "6. **Bitwise Shifts:** `<<`, `>>`\n",
    "7. **Bitwise AND, OR, XOR:** `&`, `|`, `^`\n",
    "8. **Comparison Operators:** `<`, `<=`, `>`, `>=`, `==`, `!=`\n",
    "9. **Membership Operators:** `in`, `not in`\n",
    "10. **Identity Operators:** `is`, `is not`\n",
    "11. **Logical NOT:** `not`\n",
    "12. **Logical AND:** `and`\n",
    "13. **Logical OR:** `or`\n",
    "\n",
    "\n",
    "# Use parentheses to disambiguate!!!!"
   ]
  },
  {
   "cell_type": "code",
   "execution_count": null,
   "id": "ec6628c4",
   "metadata": {},
   "outputs": [],
   "source": []
  },
  {
   "cell_type": "markdown",
   "id": "9ccca91c",
   "metadata": {},
   "source": [
    "Here's a list of operator precedence in Python, from highest to lowest:\n",
    "\n",
    "1. Parentheses: `()`\n",
    "2. Exponentiation: `**`\n",
    "3. Multiplication, Division, Floor Division, Modulus: `*`, `/`, `//`, `%`\n",
    "4. Addition and Subtraction: `+`, `-`\n",
    "5. Bitwise Shifts: `<<`, `>>`\n",
    "6. Bitwise AND, OR, XOR: `&`, `|`, `^`\n",
    "7. Comparison Operators: `<`, `>`, `<=`, `>=`, `==`, `!=`\n",
    "8. Membership Operators: `in`, `not in`\n",
    "9. Identity Operators: `is`, `is not`\n",
    "10. Logical NOT: `not`\n",
    "11. Logical AND: `and`\n",
    "12. Logical OR: `or`\n"
   ]
  },
  {
   "cell_type": "code",
   "execution_count": 1,
   "id": "0e112b8f",
   "metadata": {},
   "outputs": [],
   "source": [
    "a_list = [1,4,400,4,2,6,10,8]"
   ]
  },
  {
   "cell_type": "code",
   "execution_count": 2,
   "id": "b01f0834",
   "metadata": {},
   "outputs": [
    {
     "data": {
      "text/plain": [
       "1"
      ]
     },
     "execution_count": 2,
     "metadata": {},
     "output_type": "execute_result"
    }
   ],
   "source": [
    "7%2"
   ]
  },
  {
   "cell_type": "code",
   "execution_count": 3,
   "id": "d1411ddf",
   "metadata": {},
   "outputs": [
    {
     "data": {
      "text/plain": [
       "11"
      ]
     },
     "execution_count": 3,
     "metadata": {},
     "output_type": "execute_result"
    }
   ],
   "source": [
    "2*3+5"
   ]
  },
  {
   "cell_type": "code",
   "execution_count": 4,
   "id": "c7c9ff0a",
   "metadata": {},
   "outputs": [
    {
     "data": {
      "text/plain": [
       "11"
      ]
     },
     "execution_count": 4,
     "metadata": {},
     "output_type": "execute_result"
    }
   ],
   "source": [
    "2*3+5"
   ]
  },
  {
   "cell_type": "code",
   "execution_count": 5,
   "id": "1ffdb668",
   "metadata": {},
   "outputs": [
    {
     "data": {
      "text/plain": [
       "11"
      ]
     },
     "execution_count": 5,
     "metadata": {},
     "output_type": "execute_result"
    }
   ],
   "source": [
    "(2*3)+5"
   ]
  },
  {
   "cell_type": "code",
   "execution_count": 6,
   "id": "0594c4d5",
   "metadata": {},
   "outputs": [
    {
     "data": {
      "text/plain": [
       "16"
      ]
     },
     "execution_count": 6,
     "metadata": {},
     "output_type": "execute_result"
    }
   ],
   "source": [
    "2*(3+5)"
   ]
  },
  {
   "cell_type": "code",
   "execution_count": 7,
   "id": "6f312465",
   "metadata": {},
   "outputs": [
    {
     "data": {
      "text/plain": [
       "162"
      ]
     },
     "execution_count": 7,
     "metadata": {},
     "output_type": "execute_result"
    }
   ],
   "source": [
    "2*3**4"
   ]
  },
  {
   "cell_type": "code",
   "execution_count": 8,
   "id": "01c8942b",
   "metadata": {},
   "outputs": [
    {
     "data": {
      "text/plain": [
       "1296"
      ]
     },
     "execution_count": 8,
     "metadata": {},
     "output_type": "execute_result"
    }
   ],
   "source": [
    "(2*3)**4"
   ]
  },
  {
   "cell_type": "code",
   "execution_count": 9,
   "id": "2c5426f4",
   "metadata": {},
   "outputs": [
    {
     "data": {
      "text/plain": [
       "162"
      ]
     },
     "execution_count": 9,
     "metadata": {},
     "output_type": "execute_result"
    }
   ],
   "source": [
    "2*(3**4)"
   ]
  },
  {
   "cell_type": "code",
   "execution_count": 10,
   "id": "15e5fdc1",
   "metadata": {},
   "outputs": [
    {
     "data": {
      "text/plain": [
       "-9"
      ]
     },
     "execution_count": 10,
     "metadata": {},
     "output_type": "execute_result"
    }
   ],
   "source": [
    "-3**2"
   ]
  },
  {
   "cell_type": "code",
   "execution_count": 11,
   "id": "9656d36c",
   "metadata": {},
   "outputs": [
    {
     "data": {
      "text/plain": [
       "9"
      ]
     },
     "execution_count": 11,
     "metadata": {},
     "output_type": "execute_result"
    }
   ],
   "source": [
    "(-3)**2"
   ]
  },
  {
   "cell_type": "code",
   "execution_count": 12,
   "id": "716cf376",
   "metadata": {},
   "outputs": [
    {
     "data": {
      "text/plain": [
       "12"
      ]
     },
     "execution_count": 12,
     "metadata": {},
     "output_type": "execute_result"
    }
   ],
   "source": [
    "# Shifting operators:\n",
    "100 >> 3"
   ]
  },
  {
   "cell_type": "code",
   "execution_count": 13,
   "id": "fd4deeeb",
   "metadata": {},
   "outputs": [
    {
     "data": {
      "text/plain": [
       "12"
      ]
     },
     "execution_count": 13,
     "metadata": {},
     "output_type": "execute_result"
    }
   ],
   "source": [
    "100 // (2**3)"
   ]
  },
  {
   "cell_type": "markdown",
   "id": "8b70077d",
   "metadata": {},
   "source": [
    "## Comparison Operators"
   ]
  },
  {
   "cell_type": "code",
   "execution_count": 14,
   "id": "3f9d8155",
   "metadata": {},
   "outputs": [],
   "source": [
    "var = 12"
   ]
  },
  {
   "cell_type": "code",
   "execution_count": 15,
   "id": "3ac20300",
   "metadata": {},
   "outputs": [
    {
     "name": "stdout",
     "output_type": "stream",
     "text": [
      "Is 5 > 2? True\n"
     ]
    }
   ],
   "source": [
    "5 > 2\n",
    "# Is 5 greater than 2?\n",
    "\n",
    "5 < 2\n",
    "# Is 5 less than 2?\n",
    "\n",
    "5 == 3\n",
    "# Is the thing on the left the same as the thing on the right?\n",
    "\n",
    "5 <= 4\n",
    "\n",
    "2 in (1, 2, 3)\n",
    "\n",
    "5 not in (1, 2, 3)\n",
    "\n",
    "\n",
    "print(\"Is 5 > 2?\", 5 > 2)"
   ]
  },
  {
   "cell_type": "markdown",
   "id": "011c63cf",
   "metadata": {},
   "source": [
    "## Boolean Operators"
   ]
  },
  {
   "cell_type": "code",
   "execution_count": 16,
   "id": "b79998e9",
   "metadata": {},
   "outputs": [
    {
     "data": {
      "text/plain": [
       "True"
      ]
     },
     "execution_count": 16,
     "metadata": {},
     "output_type": "execute_result"
    }
   ],
   "source": [
    "5 > 2"
   ]
  },
  {
   "cell_type": "code",
   "execution_count": 17,
   "id": "7bcf5ae9",
   "metadata": {},
   "outputs": [
    {
     "data": {
      "text/plain": [
       "True"
      ]
     },
     "execution_count": 17,
     "metadata": {},
     "output_type": "execute_result"
    }
   ],
   "source": [
    "(2 == 2) and (2 < 5) and (5 > 1)"
   ]
  },
  {
   "cell_type": "code",
   "execution_count": 18,
   "id": "109dc4b5",
   "metadata": {},
   "outputs": [
    {
     "data": {
      "text/plain": [
       "False"
      ]
     },
     "execution_count": 18,
     "metadata": {},
     "output_type": "execute_result"
    }
   ],
   "source": [
    "(5 > 2) and (5 == 2)"
   ]
  },
  {
   "cell_type": "code",
   "execution_count": 19,
   "id": "bf16018d",
   "metadata": {},
   "outputs": [
    {
     "data": {
      "text/plain": [
       "True"
      ]
     },
     "execution_count": 19,
     "metadata": {},
     "output_type": "execute_result"
    }
   ],
   "source": [
    "(5 > 2) and (5 == 5)"
   ]
  },
  {
   "cell_type": "code",
   "execution_count": 20,
   "id": "7eb7b65c",
   "metadata": {},
   "outputs": [
    {
     "data": {
      "text/plain": [
       "True"
      ]
     },
     "execution_count": 20,
     "metadata": {},
     "output_type": "execute_result"
    }
   ],
   "source": [
    "(5 > 2) or (5 == 2)"
   ]
  },
  {
   "cell_type": "code",
   "execution_count": 21,
   "id": "cd0088dc",
   "metadata": {},
   "outputs": [
    {
     "data": {
      "text/plain": [
       "True"
      ]
     },
     "execution_count": 21,
     "metadata": {},
     "output_type": "execute_result"
    }
   ],
   "source": [
    "not (5 == 2)"
   ]
  },
  {
   "cell_type": "code",
   "execution_count": 22,
   "id": "5a308575",
   "metadata": {},
   "outputs": [
    {
     "data": {
      "text/plain": [
       "False"
      ]
     },
     "execution_count": 22,
     "metadata": {},
     "output_type": "execute_result"
    }
   ],
   "source": [
    "not (5 == 5)"
   ]
  },
  {
   "cell_type": "markdown",
   "id": "6840e60a",
   "metadata": {},
   "source": [
    "# More math operations using \"math\" module"
   ]
  },
  {
   "cell_type": "code",
   "execution_count": 23,
   "id": "e881cc69",
   "metadata": {},
   "outputs": [],
   "source": [
    "import math"
   ]
  },
  {
   "cell_type": "code",
   "execution_count": null,
   "id": "8318fa18",
   "metadata": {},
   "outputs": [],
   "source": []
  },
  {
   "cell_type": "code",
   "execution_count": 24,
   "id": "736741b5",
   "metadata": {},
   "outputs": [
    {
     "name": "stdout",
     "output_type": "stream",
     "text": [
      "2.063406859832768\n",
      "2.063\n"
     ]
    },
    {
     "data": {
      "text/plain": [
       "9"
      ]
     },
     "execution_count": 24,
     "metadata": {},
     "output_type": "execute_result"
    }
   ],
   "source": [
    "var1 = 20.88881\n",
    "var2 = 10.1234567\n",
    "\n",
    "print(var1/var2)\n",
    "print(round(var1/var2,3))\n",
    "\n",
    "\n",
    "var3 = -9\n",
    "abs(var3)"
   ]
  },
  {
   "cell_type": "code",
   "execution_count": 25,
   "id": "d78c31e0",
   "metadata": {},
   "outputs": [
    {
     "ename": "TypeError",
     "evalue": "round() missing required argument 'number' (pos 1)",
     "output_type": "error",
     "traceback": [
      "\u001b[0;31m---------------------------------------------------------------------------\u001b[0m",
      "\u001b[0;31mTypeError\u001b[0m                                 Traceback (most recent call last)",
      "Input \u001b[0;32mIn [25]\u001b[0m, in \u001b[0;36m<cell line: 1>\u001b[0;34m()\u001b[0m\n\u001b[0;32m----> 1\u001b[0m \u001b[38;5;28;43mround\u001b[39;49m\u001b[43m(\u001b[49m\u001b[43m)\u001b[49m\n",
      "\u001b[0;31mTypeError\u001b[0m: round() missing required argument 'number' (pos 1)"
     ]
    }
   ],
   "source": [
    "round()"
   ]
  }
 ],
 "metadata": {
  "kernelspec": {
   "display_name": "Python [conda env:miniforge3]",
   "language": "python",
   "name": "conda-env-miniforge3-py"
  },
  "language_info": {
   "codemirror_mode": {
    "name": "ipython",
    "version": 3
   },
   "file_extension": ".py",
   "mimetype": "text/x-python",
   "name": "python",
   "nbconvert_exporter": "python",
   "pygments_lexer": "ipython3",
   "version": "3.9.1"
  }
 },
 "nbformat": 4,
 "nbformat_minor": 5
}
