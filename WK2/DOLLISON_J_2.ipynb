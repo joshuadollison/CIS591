{
 "cells": [
  {
   "cell_type": "code",
   "execution_count": 33,
   "id": "92f53212-ee77-43d5-bf10-0162e6f0fcc4",
   "metadata": {},
   "outputs": [],
   "source": [
    "# enable many obj dumps in a cell w/out print\n",
    "from IPython.core.interactiveshell import InteractiveShell\n",
    "InteractiveShell.ast_node_interactivity = 'all'"
   ]
  },
  {
   "cell_type": "code",
   "execution_count": 35,
   "id": "90cdd2c3-cd23-4f9e-bd00-58479591c737",
   "metadata": {},
   "outputs": [
    {
     "data": {
      "text/plain": [
       "PearsonRResult(statistic=np.float64(0.9880734176209012), pvalue=np.float64(1.8628514007033096e-09))"
      ]
     },
     "execution_count": 35,
     "metadata": {},
     "output_type": "execute_result"
    },
    {
     "data": {
      "text/plain": [
       "PearsonRResult(statistic=np.float64(0.9249120857886272), pvalue=np.float64(1.6556171942382135e-05))"
      ]
     },
     "execution_count": 35,
     "metadata": {},
     "output_type": "execute_result"
    },
    {
     "data": {
      "text/plain": [
       "PearsonRResult(statistic=np.float64(0.9610765652591183), pvalue=np.float64(6.590554270244513e-07))"
      ]
     },
     "execution_count": 35,
     "metadata": {},
     "output_type": "execute_result"
    },
    {
     "name": "stdout",
     "output_type": "stream",
     "text": [
      "--------------------------------------------------\n",
      "Max GreenTote\n",
      "--------------------------------------------------\n",
      "The month with the highest sales is August.\n",
      "  The value was 185,800.\n",
      "\n",
      "--------------------------------------------------\n",
      "Min GreenTote\n",
      "--------------------------------------------------\n",
      "The month with the lowest sales is January.\n",
      "  The value was 87,500.\n",
      "\n",
      "--------------------------------------------------\n",
      "Max SolarTrek Water Bottle\n",
      "--------------------------------------------------\n",
      "The month with the highest sales is August.\n",
      "  The value was 130,500.\n",
      "\n",
      "--------------------------------------------------\n",
      "Min SolarTrek Water Bottle\n",
      "--------------------------------------------------\n",
      "The month with the lowest sales is January.\n",
      "  The value was 80,900.\n",
      "\n",
      "--------------------------------------------------\n",
      "Max Temperature\n",
      "--------------------------------------------------\n",
      "The month with the highest temperature is July.\n",
      "  The value was 90.\n",
      "\n",
      "--------------------------------------------------\n",
      "Min Temperature\n",
      "--------------------------------------------------\n",
      "The month with the lowest temperature is January.\n",
      "  The value was 40.\n",
      "\n"
     ]
    },
    {
     "data": {
      "text/plain": [
       "PearsonRResult(statistic=np.float64(0.9880734176209012), pvalue=np.float64(1.8628514007033096e-09))"
      ]
     },
     "execution_count": 35,
     "metadata": {},
     "output_type": "execute_result"
    },
    {
     "data": {
      "text/plain": [
       "PearsonRResult(statistic=np.float64(0.9249120857886272), pvalue=np.float64(1.6556171942382135e-05))"
      ]
     },
     "execution_count": 35,
     "metadata": {},
     "output_type": "execute_result"
    },
    {
     "data": {
      "text/plain": [
       "PearsonRResult(statistic=np.float64(0.9610765652591183), pvalue=np.float64(6.590554270244513e-07))"
      ]
     },
     "execution_count": 35,
     "metadata": {},
     "output_type": "execute_result"
    }
   ],
   "source": [
    "import calendar\n",
    "import scipy.stats\n",
    "\n",
    "def print_max(product, data, label=None) :\n",
    "    \n",
    "    max_month = max(data, key=data.get)\n",
    "    \n",
    "    print(\"-\"*50)\n",
    "    print(f\"Max {product}\")\n",
    "    print(\"-\"*50)\n",
    "    \n",
    "    print(f\"The month with the highest {'value' if label == None else label} is {max_month}.\")\n",
    "    print(f\"  The value was {data[max_month]:,}.\\n\")\n",
    "\n",
    "def print_min(product, data, label=None) :\n",
    "\n",
    "    min_month = min(data, key=data.get)\n",
    "    \n",
    "    print(\"-\"*50)\n",
    "    print(f\"Min {product}\")\n",
    "    print(\"-\"*50)\n",
    "    \n",
    "    print(f\"The month with the lowest {'value' if label == None else label} is {min_month}.\")\n",
    "    print(f\"  The value was {data[min_month]:,}.\\n\")\n",
    "\n",
    "\n",
    "# List all months\n",
    "months = []\n",
    "for month_num in range(1, 13):\n",
    "    months.append(calendar.month_name[month_num])\n",
    "\n",
    "# Temperatures (°F)\n",
    "temperature = [40, 45, 55, 65, 75, 85, 90, 88, 86, 80, 70, 60]\n",
    "\n",
    "# GreenTote sales\n",
    "green_tote = [\n",
    "    87500, 100625, 115725, 132075, 148875, 164500,\n",
    "    172725, 185800, 180900, 170000, 165000, 160000\n",
    "]\n",
    "\n",
    "# SolarTrek Water Bottle sales\n",
    "solar_trek_water_bottle = [\n",
    "    80900, 85200, 92500, 100980, 110500, 118300,\n",
    "    124800, 130500, 128800, 120000, 114000, 110000\n",
    "]\n",
    "\n",
    "\n",
    "scipy.stats.pearsonr(green_tote, solar_trek_water_bottle)\n",
    "scipy.stats.pearsonr(temperature, green_tote)\n",
    "scipy.stats.pearsonr(temperature, solar_trek_water_bottle)\n",
    "\n",
    "temperature = dict(zip(months, temperature))\n",
    "green_tote = dict(zip(months, green_tote))\n",
    "solar_trek_water_bottle = dict(zip(months, solar_trek_water_bottle))\n",
    "\n",
    "#print(temperature)\n",
    "#print(green_tote)\n",
    "#print(solar_trek_water_bottle)\n",
    "\n",
    "print_max(\"GreenTote\", green_tote, \"sales\")\n",
    "print_min(\"GreenTote\", green_tote, \"sales\")\n",
    "\n",
    "print_max(\"SolarTrek Water Bottle\", solar_trek_water_bottle, \"sales\")\n",
    "print_min(\"SolarTrek Water Bottle\", solar_trek_water_bottle, \"sales\")\n",
    "\n",
    "print_max(\"Temperature\", temperature, \"temperature\")\n",
    "print_min(\"Temperature\", temperature, \"temperature\")\n",
    "\n",
    "scipy.stats.pearsonr(list(green_tote.values()), list(solar_trek_water_bottle.values()))\n",
    "scipy.stats.pearsonr(list(temperature.values()), list(green_tote.values()))\n",
    "scipy.stats.pearsonr(list(temperature.values()), list(solar_trek_water_bottle.values()))\n"
   ]
  },
  {
   "cell_type": "markdown",
   "id": "dba122eb-04c5-4735-b1b7-5cd9813f62cf",
   "metadata": {},
   "source": [
    "### 📊 Correlation Analysis & Recommendation\n",
    "\n",
    "#### 1. GreenTote vs SolarTrek\n",
    "- **Correlation coefficient (r)**: 0.988  \n",
    "- **p-value**: 1.86e-09 ✅ **Statistically significant**\n",
    "\n",
    "➡️ **Interpretation**: There is an **extremely strong positive linear correlation** between GreenTote and SolarTrek sales. The p-value is far below 0.05, meaning this relationship is **not due to random chance**.\n",
    "\n",
    "#### 2. Temperature vs GreenTote\n",
    "- **Correlation coefficient (r)**: 0.925  \n",
    "- **p-value**: 1.66e-05 ✅ **Statistically significant**\n",
    "\n",
    "➡️ **Interpretation**: GreenTote sales are also **strongly positively correlated with temperature**. Warmer months tend to see higher GreenTote sales, and the low p-value confirms the result is statistically significant.\n",
    "\n",
    "#### 3. Temperature vs SolarTrek\n",
    "- **Correlation coefficient (r)**: 0.961  \n",
    "- **p-value**: 6.59e-07 ✅ **Statistically significant**\n",
    "\n",
    "➡️ **Interpretation**: SolarTrek sales are **very strongly correlated with temperature** as well, possibly even more than GreenTote. The low p-value confirms this is **highly statistically reliable**.\n",
    "\n",
    "---\n",
    "\n",
    "### ✅ Final Recommendation\n",
    "\n",
    "**📌 Option 1: Develop a joint marketing campaign for the two products.**\n",
    "\n",
    "> **Justification**:\n",
    "> - The sales of **GreenTote and SolarTrek are tightly linked** (r = 0.988), meaning customers who buy one are very likely to buy the other.\n",
    "> - **Both products are influenced by temperature** (r = 0.925 and 0.961), suggesting a **seasonal marketing approach** would be effective.\n",
    "> - All correlations have **very low p-values (< 0.0001)**, confirming the results are **statistically significant** and not due to random fluctuations.\n",
    "\n",
    "---\n",
    "\n",
    "### 🧠 Consider for Future Analysis\n",
    "\n",
    "Although Option 1 is the clear choice based on data, keep Option 3 in mind for the future:\n",
    "- Investigate whether **external factors** like **demographics**, **location**, or **promotions** might explain additional variance.\n",
    "- Collect and test **causal variables**, not just correlated ones."
   ]
  }
 ],
 "metadata": {
  "kernelspec": {
   "display_name": "Python [conda env:miniforge3-py312]",
   "language": "python",
   "name": "conda-env-miniforge3-py312-py"
  },
  "language_info": {
   "codemirror_mode": {
    "name": "ipython",
    "version": 3
   },
   "file_extension": ".py",
   "mimetype": "text/x-python",
   "name": "python",
   "nbconvert_exporter": "python",
   "pygments_lexer": "ipython3",
   "version": "3.12.8"
  }
 },
 "nbformat": 4,
 "nbformat_minor": 5
}
