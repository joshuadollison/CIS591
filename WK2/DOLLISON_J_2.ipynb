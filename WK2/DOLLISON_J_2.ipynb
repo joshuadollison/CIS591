{
 "cells": [
  {
   "cell_type": "code",
   "execution_count": 1,
   "id": "92f53212-ee77-43d5-bf10-0162e6f0fcc4",
   "metadata": {},
   "outputs": [],
   "source": [
    "# enable many obj dumps in a cell w/out print\n",
    "from IPython.core.interactiveshell import InteractiveShell\n",
    "InteractiveShell.ast_node_interactivity = 'all'"
   ]
  },
  {
   "cell_type": "markdown",
   "id": "40e97390-3e49-4f90-91d5-75c5bfb9ad80",
   "metadata": {},
   "source": [
    "# Individual Assignment - Week 2\n",
    "\n",
    "## Correlation Analysis Assignment\n",
    "\n",
    "### Joshua Dollison\n",
    "### CIS591-86718\n",
    "### 9/3/2025"
   ]
  },
  {
   "cell_type": "markdown",
   "id": "fb958116-5347-435e-8271-bad8efad2394",
   "metadata": {},
   "source": [
    "### General/Core functionality\n",
    "\n",
    "In this code cell, I perform basic prepratory tasks\n",
    "\n",
    "* Import libraries that I'll use later\n",
    "* Define a custom function\n",
    "* Init data from use-case description"
   ]
  },
  {
   "cell_type": "code",
   "execution_count": 2,
   "id": "90cdd2c3-cd23-4f9e-bd00-58479591c737",
   "metadata": {},
   "outputs": [],
   "source": [
    "# import libraries\n",
    "import calendar\n",
    "import scipy.stats\n",
    "\n",
    "# create a reusable function to find our min/max data per dataset\n",
    "def get_min_max(data) :\n",
    "\n",
    "    # find the key (month) of the max value in the dict\n",
    "    # use the key to get the value\n",
    "    max_month = max(data, key=data.get)\n",
    "    max_value = data[max_month]\n",
    "\n",
    "    # find the key (month) of the min value in the dict\n",
    "    # use the key to get the value\n",
    "    min_month = min(data, key=data.get)\n",
    "    min_value = data[min_month]\n",
    "\n",
    "    # return these values as a tuple\n",
    "    return max_month, max_value, min_month, min_value\n",
    "    \n",
    "## I found it easier/more readable to first load the data into lists\n",
    "##  - Then use the zip trick from the class video to build out our dictionaries\n",
    "\n",
    "# Load month names from calendar - shows for\n",
    "months = []\n",
    "for month_num in range(1, 13):\n",
    "    months.append(calendar.month_name[month_num])\n",
    "\n",
    "# Temperatures (°F)\n",
    "temperature = [40, 45, 55, 65, 75, 85, 90, 88, 86, 80, 70, 60]\n",
    "\n",
    "# GreenTote sales\n",
    "green_tote = [\n",
    "    87500, 100625, 115725, 132075, 148875, 164500,\n",
    "    172725, 185800, 180900, 170000, 165000, 160000\n",
    "]\n",
    "\n",
    "# SolarTrek Water Bottle sales\n",
    "solar_trek_water_bottle = [\n",
    "    80900, 85200, 92500, 100980, 110500, 118300,\n",
    "    124800, 130500, 128800, 120000, 114000, 110000\n",
    "]"
   ]
  },
  {
   "cell_type": "markdown",
   "id": "697603d0-b92f-4474-aae0-f4d67bb3cdf4",
   "metadata": {},
   "source": [
    "### General Statistical Analysis\n",
    "\n",
    "In this code cell, I perform the bulk of the given analysis tasks\n",
    "\n",
    "* Load the provided data into dictionaries\n",
    "* Print min/max unit sales and month data for the products\n",
    "* Print min/max temperature and month data"
   ]
  },
  {
   "cell_type": "code",
   "execution_count": 3,
   "id": "18eb834d-9a28-471e-91e0-273784f6b78e",
   "metadata": {},
   "outputs": [
    {
     "name": "stdout",
     "output_type": "stream",
     "text": [
      "Product                   |     Max Unit Sales |     Min Unit Sales\n",
      "-------------------------------------------------------------------\n",
      "GreenTote                 | August :   185,800 | January :   87,500\n",
      "SolarTrek Water Bottle    | August :   130,500 | January :   80,900\n",
      "-------------------------------------------------------------------\n",
      "                          |    Max Temperature |    Min Temperature\n",
      "-------------------------------------------------------------------\n",
      "Temperature               | July :          90 | January :       40\n",
      "-------------------------------------------------------------------\n"
     ]
    }
   ],
   "source": [
    "# build out dicts\n",
    "temperature = dict(zip(months, temperature))\n",
    "green_tote = dict(zip(months, green_tote))\n",
    "solar_trek_water_bottle = dict(zip(months, solar_trek_water_bottle))\n",
    "\n",
    "#print(temperature)\n",
    "#print(green_tote)\n",
    "#print(solar_trek_water_bottle)\n",
    "\n",
    "# column widths for formatting\n",
    "COL1_W = 25\n",
    "COL2_W = 18\n",
    "COL3_W = 18\n",
    "ROW_W = 67\n",
    "\n",
    "# print out a header\n",
    "print(\n",
    "    f\"{'Product':<{COL1_W}} | \"\n",
    "    f\"{'Max Unit Sales':>{COL2_W}} | \"\n",
    "    f\"{'Min Unit Sales':>{COL3_W}}\"\n",
    ")\n",
    "\n",
    "# print our product data\n",
    "print(\"-\"*ROW_W)\n",
    "max_month, max_value, min_month, min_value = get_min_max(green_tote)\n",
    "print(\n",
    "    f\"{'GreenTote':<{COL1_W}} | \"\n",
    "    f\"{max_month} : {max_value:>{COL2_W - len(max_month) - 3},} | \"\n",
    "    f\"{min_month} : {min_value:>{COL3_W - len(min_month) - 3},}\"\n",
    ")\n",
    "\n",
    "max_month, max_value, min_month, min_value = get_min_max(solar_trek_water_bottle)\n",
    "print(\n",
    "    f\"{'SolarTrek Water Bottle':<{COL1_W}} | \"\n",
    "    f\"{max_month} : {max_value:>{COL2_W - len(max_month) - 3},} | \"\n",
    "    f\"{min_month} : {min_value:>{COL3_W - len(min_month) - 3},}\"\n",
    ")\n",
    "print(\"-\"*ROW_W)\n",
    "\n",
    "# Print a fresh header for temp\n",
    "print(\n",
    "    f\"{'':<{COL1_W}} | \"\n",
    "    f\"{'Max Temperature':>{COL2_W}} | \"\n",
    "    f\"{'Min Temperature':>{COL3_W}}\"\n",
    ")\n",
    "print(\"-\"*ROW_W)\n",
    "\n",
    "# print min/max temps\n",
    "max_month, max_value, min_month, min_value = get_min_max(temperature)\n",
    "print(\n",
    "    f\"{'Temperature':<{COL1_W}} | \"\n",
    "    f\"{max_month} : {max_value:>{COL2_W - len(max_month) - 3},} | \"\n",
    "    f\"{min_month} : {min_value:>{COL3_W - len(min_month) - 3},}\"\n",
    ")\n",
    "print(\"-\"*ROW_W)"
   ]
  },
  {
   "cell_type": "markdown",
   "id": "f75de195-7a2c-4746-9159-409eb7299e95",
   "metadata": {},
   "source": [
    "### General Correlation Analysis\n",
    "\n",
    "In this code cell, I perform the prescribed correlation analysis tasks\n",
    "\n",
    "* For each given analysis pair\n",
    "  * Calc r and p using the pearsonr method of the scipy.stats library\n",
    "  * Display the results in a well-formatted way"
   ]
  },
  {
   "cell_type": "code",
   "execution_count": 4,
   "id": "979ef8d4-9edc-4169-ba4a-3cee5593384a",
   "metadata": {},
   "outputs": [
    {
     "name": "stdout",
     "output_type": "stream",
     "text": [
      "Comparison                |       Corr. Coeff. |            P-Value\n",
      "-------------------------------------------------------------------\n",
      "GreenTote v SolarTrek     |              0.988 |       0.0000000019\n",
      "Temperature v GreenTote   |              0.925 |       0.0000165562\n",
      "Temperature v SolarTrek   |              0.961 |       0.0000006591\n"
     ]
    }
   ],
   "source": [
    "# print out a header\n",
    "print(\n",
    "    f\"{'Comparison':<{COL1_W}} | \"\n",
    "    f\"{'Corr. Coeff.':>{COL2_W}} | \"\n",
    "    f\"{'P-Value':>{COL3_W}}\"\n",
    ")\n",
    "print(\"-\"*ROW_W)\n",
    "\n",
    "# calc/display coeff and p-value for greentote v solartrek\n",
    "r, p = scipy.stats.pearsonr(list(green_tote.values()), list(solar_trek_water_bottle.values()))\n",
    "print(\n",
    "    f\"{'GreenTote v SolarTrek':<{COL1_W}} | \"\n",
    "    f\"{r:>{COL2_W}.3f} | \"\n",
    "    f\"{p:>{COL3_W}.10f}\"\n",
    ")\n",
    "\n",
    "# calc/display coeff and p-value for temp v greentote\n",
    "r, p = scipy.stats.pearsonr(list(temperature.values()), list(green_tote.values()))\n",
    "print(\n",
    "    f\"{'Temperature v GreenTote':<{COL1_W}} | \"\n",
    "    f\"{r:>{COL2_W}.3f} | \"\n",
    "    f\"{p:>{COL3_W}.10f}\"\n",
    ")\n",
    "\n",
    "# calc/display coeff and p-value for temp v solartrek\n",
    "r, p = scipy.stats.pearsonr(list(temperature.values()), list(solar_trek_water_bottle.values()))\n",
    "print(\n",
    "    f\"{'Temperature v SolarTrek':<{COL1_W}} | \"\n",
    "    f\"{r:>{COL2_W}.3f} | \"\n",
    "    f\"{p:>{COL3_W}.10f}\"\n",
    ")\n"
   ]
  },
  {
   "cell_type": "markdown",
   "id": "f535d341-5d14-4212-bfe0-abec6f5d7223",
   "metadata": {},
   "source": [
    "### Analysis Interpretation\n",
    "\n",
    "* All returned correlation coefficients meet the definition of \"correlation is very strong\" as given by the Week 1 presentation\n",
    "  * Customers who buy the GreenTote product tend to buy the SolarTrek product\n",
    "  * Customer purchases of both products tend to increase with the temperature\n",
    "* All returned p-values are far below the threshold of 0.05, signifying that the relationships are statistically significant and not due to random chance\n",
    "\n",
    "### Recommendation\n",
    "\n",
    "We are provided with three options to choose from, pending the results of our analysis:\n",
    "* Option 1: Develop a joint marketing campaign for the two products.\n",
    "  * We would expect to choose this option if GreenTote v SolarTrek were proven to be correlated\n",
    "* Option 2: Develop separate marketing campaigns for each product.\n",
    "  * We would expect to choose this option if GreenTote v SolarTrek were proven to be uncorrelated\n",
    "* Option 3: Explore external factors (e.g., weather, customer preferences) for future analysis.\n",
    "  * We would expect to choose this option if temperature was proven to be correlated with product unit sales\n",
    " \n",
    "Given our results we see that we can immediately rule out Option 2, as our products had a strong correlation.\n",
    "\n",
    "This leaves Options #1 and #3.  Our data would support either option.  However, given that we can only choose one, the correlation between products is greater than the correlation between temperature and any product (or even their average - r = 0.943).\n",
    "\n",
    "Therefore, my recommendation is <b>Option 1:</b> Develop a joint marketing campaign for the two products.\n"
   ]
  }
 ],
 "metadata": {
  "kernelspec": {
   "display_name": "Python [conda env:miniforge3-py312]",
   "language": "python",
   "name": "conda-env-miniforge3-py312-py"
  },
  "language_info": {
   "codemirror_mode": {
    "name": "ipython",
    "version": 3
   },
   "file_extension": ".py",
   "mimetype": "text/x-python",
   "name": "python",
   "nbconvert_exporter": "python",
   "pygments_lexer": "ipython3",
   "version": "3.12.8"
  }
 },
 "nbformat": 4,
 "nbformat_minor": 5
}
