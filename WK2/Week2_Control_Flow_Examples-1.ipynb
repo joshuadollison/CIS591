{
 "cells": [
  {
   "cell_type": "markdown",
   "id": "30bfbede",
   "metadata": {},
   "source": [
    "# For Loops"
   ]
  },
  {
   "cell_type": "code",
   "execution_count": null,
   "id": "05def841",
   "metadata": {},
   "outputs": [],
   "source": [
    "# an object\n",
    "grades = [90,85,88,92,99,79,86,82,94]\n",
    "\n",
    "for grade in grades:\n",
    "    print(\"Your grade is: \",grade)"
   ]
  },
  {
   "cell_type": "markdown",
   "id": "5e8db7ea",
   "metadata": {},
   "source": [
    "> Questions:\n",
    "> 1. is there anything special about \"grade\" in the code above? <br>\n",
    "> 2. how does Python know there are elements inside grades that can be iterated over? "
   ]
  },
  {
   "cell_type": "code",
   "execution_count": null,
   "id": "ccd39aa6",
   "metadata": {},
   "outputs": [],
   "source": [
    "grades = '80'\n",
    "for grade in grades:\n",
    "    print(grade)"
   ]
  },
  {
   "cell_type": "markdown",
   "id": "8d8eb786",
   "metadata": {},
   "source": [
    "### Will the following code work?"
   ]
  },
  {
   "cell_type": "code",
   "execution_count": null,
   "id": "8e422cfa",
   "metadata": {},
   "outputs": [],
   "source": [
    "# an object\n",
    "grades = [90,85,88,92,99,79,86,82,94]\n",
    "\n",
    "for grade in grades:\n",
    "print(\"Your grade is: \",grade)"
   ]
  },
  {
   "cell_type": "code",
   "execution_count": 25,
   "id": "1e8bd95d",
   "metadata": {},
   "outputs": [
    {
     "name": "stdout",
     "output_type": "stream",
     "text": [
      "Your new grade is:  90.0\n",
      "Your new grade is:  86.0\n",
      "Your new grade is:  88.0\n",
      "Your new grade is:  93.0\n",
      "Your new grade is:  100.0\n",
      "Your new grade is:  80.0\n",
      "Your new grade is:  86.0\n",
      "Your new grade is:  83.0\n",
      "Your new grade is:  94.0\n"
     ]
    }
   ],
   "source": [
    "# an object\n",
    "grades = [90.2,85.8,88.2,92.7,99.7,79.8,86.2,82.6,94.3]\n",
    "\n",
    "for grade in grades:\n",
    "    # two actions for each grade\n",
    "    #new_grade = int(grade + 0.99999999)\n",
    "    new_grade = round(grade,0) # round to nearest integer\n",
    "    print(\"Your new grade is: \",new_grade)"
   ]
  },
  {
   "cell_type": "code",
   "execution_count": 26,
   "id": "d1f86e88",
   "metadata": {},
   "outputs": [
    {
     "name": "stdout",
     "output_type": "stream",
     "text": [
      "Your average grade is:  89\n",
      "Your average grade is:  92\n",
      "Your average grade is:  81\n",
      "Your average grade is:  88\n"
     ]
    }
   ],
   "source": [
    "grades = [[85,88,94],[90,88,97],[78,77,89],[82,89,93]]\n",
    "\n",
    "for grades in grades:\n",
    "    average = sum(grades)/len(grades)\n",
    "    #average = int(average + 0.999999)\n",
    "    average = int(round(average,0)) # round to nearest int\n",
    "    print(\"Your average grade is: \", average)"
   ]
  },
  {
   "cell_type": "code",
   "execution_count": 27,
   "id": "9e432e3e",
   "metadata": {},
   "outputs": [
    {
     "data": {
      "text/plain": [
       "{'April': 89, 'Jules': 92, 'Ben': 81, 'Steve': 88}"
      ]
     },
     "execution_count": 27,
     "metadata": {},
     "output_type": "execute_result"
    }
   ],
   "source": [
    "students = ['April','Jules','Ben','Steve']\n",
    "grades = [[85,88,94],[90,88,97],[78,77,89],[82,89,93]]\n",
    "\n",
    "results = {}\n",
    "\n",
    "for s,g in zip(students,grades):\n",
    "    average = sum(g)/len(g)\n",
    "    #average = int(average + 0.999999)\n",
    "    average = int(round(average,0)) # round to nearest int\n",
    "    results[s] = average\n",
    "results"
   ]
  },
  {
   "cell_type": "markdown",
   "id": "e3f5534d",
   "metadata": {},
   "source": [
    "### Questions for you to explore:\n",
    "1. How do I iterate over a dictionary?\n",
    "2. What are some other 'iterable' objects in Python?"
   ]
  },
  {
   "cell_type": "code",
   "execution_count": 13,
   "id": "de23001f",
   "metadata": {},
   "outputs": [
    {
     "name": "stdout",
     "output_type": "stream",
     "text": [
      "﻿Apples: 5.00\n",
      "Oranges: 3.00\n",
      "Bananas: 4.80\n",
      "Total Cost: 12.80\n"
     ]
    }
   ],
   "source": [
    "# Open the file\n",
    "with open('items.txt', 'r') as file:\n",
    "    total_cost = 0\n",
    "\n",
    "    # Iterate over each line in the file\n",
    "    for line in file:\n",
    "        # Split the line into parts: name, quantity, and price\n",
    "        parts = line.strip().split(',')\n",
    "        name = parts[0]\n",
    "        quantity = int(parts[1])\n",
    "        price = float(parts[2])\n",
    "\n",
    "        # Calculate the cost for this item\n",
    "        cost = quantity * price\n",
    "\n",
    "        # Add the cost to the total\n",
    "        total_cost += cost\n",
    "\n",
    "        # Print the cost for this item\n",
    "        print(f\"{name}: {cost:.2f}\")\n",
    "\n",
    "    # Print the total cost\n",
    "    print(f\"Total Cost: {total_cost:.2f}\")\n"
   ]
  },
  {
   "cell_type": "markdown",
   "id": "309f1257",
   "metadata": {},
   "source": [
    "## More For Loops for you to test out"
   ]
  },
  {
   "cell_type": "code",
   "execution_count": null,
   "id": "5c53651c",
   "metadata": {},
   "outputs": [],
   "source": [
    "grades = dict(jack = 90,\n",
    "              jill = 100,\n",
    "              joseph = 99,\n",
    "              natasha = 95,\n",
    "              eric = 100,\n",
    "              audrey = 90\n",
    "             )\n",
    "for k, v in grades.items():\n",
    "    print (k,v)"
   ]
  },
  {
   "cell_type": "code",
   "execution_count": null,
   "id": "2bf95860",
   "metadata": {},
   "outputs": [],
   "source": [
    "for x in sorted(grades.keys()):\n",
    "    print(x)"
   ]
  },
  {
   "cell_type": "code",
   "execution_count": null,
   "id": "dd56f8b6",
   "metadata": {},
   "outputs": [],
   "source": [
    "points = [90, 100, 99, 95, 100, 90]\n",
    "for i, v in enumerate(points):\n",
    "    print(i, v)"
   ]
  },
  {
   "cell_type": "code",
   "execution_count": null,
   "id": "c08c3f07",
   "metadata": {},
   "outputs": [],
   "source": [
    "# Using a for loop to print numbers from 1 to 5\n",
    "for i in range(1, 6):\n",
    "    print(i)\n",
    "    \n",
    "print(\"Yay!  We're done!\")"
   ]
  },
  {
   "cell_type": "code",
   "execution_count": null,
   "id": "30f00dbb",
   "metadata": {},
   "outputs": [],
   "source": [
    "# Using a for loop to calculate the sum of numbers from 1 to 10\n",
    "sum_result = 0\n",
    "another_result = 0\n",
    "results = []\n",
    "for i in range(1, 5):\n",
    "    sum_result += i\n",
    "    results.append(sum_result)\n",
    "\n",
    "print(\"Sum:\", sum_result)\n",
    "print(results)"
   ]
  },
  {
   "cell_type": "code",
   "execution_count": null,
   "id": "07651929",
   "metadata": {},
   "outputs": [],
   "source": [
    "# Using nested loops to create a multiplication table\n",
    "for i in range(1, 6):\n",
    "    for j in range(1, 6):\n",
    "        print(i, \"*\", j, \"=\", i * j)"
   ]
  },
  {
   "cell_type": "markdown",
   "id": "844c9ebd",
   "metadata": {},
   "source": [
    "# While Loops"
   ]
  },
  {
   "cell_type": "code",
   "execution_count": 3,
   "id": "3ac78ddd",
   "metadata": {},
   "outputs": [
    {
     "data": {
      "text/plain": [
       "False"
      ]
     },
     "execution_count": 3,
     "metadata": {},
     "output_type": "execute_result"
    }
   ],
   "source": [
    "while some_condition_is true:\n",
    "    # do whatever\n",
    "    # run whatever\n",
    "    # code is inside the loop"
   ]
  },
  {
   "cell_type": "code",
   "execution_count": 6,
   "id": "e745ca0f",
   "metadata": {},
   "outputs": [
    {
     "name": "stdout",
     "output_type": "stream",
     "text": [
      "2\n",
      "4\n",
      "6\n",
      "8\n",
      "10\n"
     ]
    }
   ],
   "source": [
    "# Using a while loop to print even numbers up to 10\n",
    "num = 2\n",
    "while num <=10:\n",
    "    print(num)\n",
    "    num += 2"
   ]
  },
  {
   "cell_type": "code",
   "execution_count": null,
   "id": "9bced724",
   "metadata": {},
   "outputs": [],
   "source": []
  },
  {
   "cell_type": "code",
   "execution_count": null,
   "id": "ebb7581d",
   "metadata": {},
   "outputs": [],
   "source": []
  },
  {
   "cell_type": "code",
   "execution_count": null,
   "id": "0a87ec19",
   "metadata": {},
   "outputs": [],
   "source": []
  },
  {
   "cell_type": "code",
   "execution_count": null,
   "id": "85a79e5a",
   "metadata": {},
   "outputs": [],
   "source": []
  },
  {
   "cell_type": "code",
   "execution_count": null,
   "id": "d08299bb",
   "metadata": {},
   "outputs": [],
   "source": []
  },
  {
   "cell_type": "code",
   "execution_count": null,
   "id": "13b698fd",
   "metadata": {},
   "outputs": [],
   "source": [
    "threshold = 50\n",
    "inventory = 60  # Starting inventory level\n",
    "\n",
    "while inventory > threshold:\n",
    "    inventory -= 1  # Decrease inventory level by 1\n",
    "    print(f\"Current inventory level: {inventory}\")\n",
    "\n",
    "print(\"Inventory for Product A is below threshold!\")\n",
    "\n",
    "# How would we change this code for use in a real-world\n",
    "# situation?"
   ]
  },
  {
   "cell_type": "code",
   "execution_count": null,
   "id": "b1c4fd80",
   "metadata": {},
   "outputs": [],
   "source": [
    "target_price = 100.00\n",
    "stock_prices = [110.00, 108.50, 102.00, 101.40, 100.50, 99.80]  # Predefined stock prices\n",
    "current_index = 0  # Start from the first price\n",
    "\n",
    "while stock_prices[current_index] > target_price:\n",
    "    print(f\"Current stock price: {stock_prices[current_index]:.2f}\")\n",
    "    current_index += 1  # Move to the next price\n",
    "\n",
    "print(\"Target price reached. Executing buy order.\")\n"
   ]
  },
  {
   "cell_type": "markdown",
   "id": "042b14fa",
   "metadata": {},
   "source": [
    "# \"If\" Conditions\n",
    "\n",
    "**if**: need at least one of these<br>\n",
    "**elif**: 0 or many<br>\n",
    "**else**: 0 or 1<br>"
   ]
  },
  {
   "cell_type": "markdown",
   "id": "ae752d3a",
   "metadata": {},
   "source": [
    "### Generic Summary"
   ]
  },
  {
   "cell_type": "code",
   "execution_count": null,
   "id": "fb5f4350",
   "metadata": {},
   "outputs": [],
   "source": [
    "# Code\n",
    "# Code\n",
    "# Code\n",
    "# Code\n",
    "\n",
    "if some_condition_is_true:\n",
    "    # Then run this code block\n",
    "    # code\n",
    "    # code\n",
    "    # code\n",
    "    # code\n",
    "\n",
    "# Code\n",
    "# Code\n",
    "# Code\n",
    "# Code\n",
    "# Code\n",
    "\n"
   ]
  },
  {
   "cell_type": "code",
   "execution_count": 36,
   "id": "4e3c2217",
   "metadata": {},
   "outputs": [
    {
     "name": "stdout",
     "output_type": "stream",
     "text": [
      "The number is negative\n"
     ]
    }
   ],
   "source": [
    "# Basic\n",
    "number = -1\n",
    "if number > 0:\n",
    "    print(\"The number is positive.\")\n",
    "else:\n",
    "    print(\"The number is negative\")"
   ]
  },
  {
   "cell_type": "code",
   "execution_count": null,
   "id": "3ebc99d5",
   "metadata": {},
   "outputs": [],
   "source": [
    "# Code 1\n",
    "if some_condition_is_true:\n",
    "    # Then run this code block\n",
    "else:\n",
    "    # Run this code block\n",
    "    \n",
    "# Code 2\n",
    "if some_condition_is_true:\n",
    "    # Then run this code block\n",
    "    \n",
    "# This code is outside our if\n",
    "# statement so it will absolutely get run\n",
    "# unless the if statement produces an error\n",
    "# and stops the overall program from running"
   ]
  },
  {
   "cell_type": "code",
   "execution_count": null,
   "id": "8e4a8cc5",
   "metadata": {},
   "outputs": [],
   "source": []
  },
  {
   "cell_type": "code",
   "execution_count": null,
   "id": "a000831e",
   "metadata": {},
   "outputs": [],
   "source": [
    "# Else\n",
    "username = \"user123\"\n",
    "password = \"pass123\"\n",
    "\n",
    "if username == \"user123\" and password == \"pass123\":\n",
    "    print(\"Login successful.\")\n",
    "else:\n",
    "    print(\"Invalid credentials.\")"
   ]
  },
  {
   "cell_type": "code",
   "execution_count": null,
   "id": "22f01ddf",
   "metadata": {},
   "outputs": [],
   "source": [
    "# Using elif\n",
    "number = 0\n",
    "if number > 0:\n",
    "    print(\"The number is positive.\")\n",
    "elif number < 0:\n",
    "    print(\"The number is negative.\")\n",
    "else:\n",
    "    print(\"The number is zero.\")"
   ]
  },
  {
   "cell_type": "code",
   "execution_count": null,
   "id": "092cad78",
   "metadata": {},
   "outputs": [],
   "source": [
    "# The else clause\n",
    "number = 4\n",
    "if number % 2 == 0:\n",
    "    print(\"The number is even.\")\n",
    "else:\n",
    "    print(\"The number is odd.\")"
   ]
  },
  {
   "cell_type": "code",
   "execution_count": null,
   "id": "44ec2b00",
   "metadata": {},
   "outputs": [],
   "source": [
    "# Nested if statements\n",
    "number = 20\n",
    "if number > 0:\n",
    "    if number % 5 == 0:\n",
    "        print(\"The number is positive and divisible by 5.\")\n"
   ]
  },
  {
   "cell_type": "code",
   "execution_count": null,
   "id": "f9056997",
   "metadata": {},
   "outputs": [],
   "source": [
    "# Boolean logic\n",
    "number = 8\n",
    "if number > 0 and number % 2 == 0:\n",
    "    print(\"The number is positive and even.\")\n"
   ]
  },
  {
   "cell_type": "code",
   "execution_count": 31,
   "id": "2cae134c",
   "metadata": {},
   "outputs": [
    {
     "name": "stdout",
     "output_type": "stream",
     "text": [
      "positive & divisible by 5\n",
      "positive & divisible by 5\n"
     ]
    }
   ],
   "source": [
    "number = 20\n",
    "if number > 0:\n",
    "    if number % 5 == 0:\n",
    "        print(\"positive & divisible by 5\")\n",
    "        \n",
    "if number > 0 and number % 5 == 0:\n",
    "    print(\"positive & divisible by 5\")"
   ]
  },
  {
   "cell_type": "markdown",
   "id": "7e208480",
   "metadata": {},
   "source": [
    "### Customer Discount Example"
   ]
  },
  {
   "cell_type": "code",
   "execution_count": null,
   "id": "ca59351e",
   "metadata": {},
   "outputs": [],
   "source": [
    "purchase_amount = 150\n",
    "\n",
    "if purchase_amount >= 200:\n",
    "    discount = 0.20  # 20% discount\n",
    "elif purchase_amount >= 100:\n",
    "    discount = 0.10  # 10% discount\n",
    "else:\n",
    "    discount = 0  # No discount\n",
    "\n",
    "final_amount = purchase_amount * (1 - discount)\n",
    "print(f\"Final amount after discount: ${final_amount}\")"
   ]
  },
  {
   "cell_type": "markdown",
   "id": "da87458d",
   "metadata": {},
   "source": [
    "### Loan Approval System"
   ]
  },
  {
   "cell_type": "code",
   "execution_count": null,
   "id": "44181a51",
   "metadata": {},
   "outputs": [],
   "source": [
    "credit_score = 720\n",
    "\n",
    "if credit_score >= 750:\n",
    "    print(\"Loan Approved: Very Favorable Terms\")\n",
    "elif credit_score >= 650:\n",
    "    print(\"Loan Approved: Favorable Terms\")\n",
    "else:\n",
    "    print(\"Loan Denied\")"
   ]
  },
  {
   "cell_type": "markdown",
   "id": "69d3d1ec",
   "metadata": {},
   "source": [
    "### Stock Market Trading"
   ]
  },
  {
   "cell_type": "code",
   "execution_count": null,
   "id": "8c10eaee",
   "metadata": {},
   "outputs": [],
   "source": [
    "stock_price = 95\n",
    "moving_average = 100\n",
    "\n",
    "if stock_price > moving_average:\n",
    "    print(\"Buy Stock\")\n",
    "else:\n",
    "    print(\"Sell Stock or Hold\")\n"
   ]
  },
  {
   "cell_type": "markdown",
   "id": "ac1ea894",
   "metadata": {},
   "source": [
    "### Employee Bonus Calculations"
   ]
  },
  {
   "cell_type": "code",
   "execution_count": null,
   "id": "ada4f7c1",
   "metadata": {},
   "outputs": [],
   "source": [
    "performance_rating = 4.5\n",
    "\n",
    "if performance_rating >= 4.5:\n",
    "    bonus_percentage = 0.20\n",
    "elif performance_rating >= 3.5:\n",
    "    bonus_percentage = 0.10\n",
    "else:\n",
    "    bonus_percentage = 0.05\n",
    "\n",
    "salary = 50000\n",
    "bonus = salary * bonus_percentage\n",
    "print(f\"Bonus amount: ${bonus}\")"
   ]
  },
  {
   "cell_type": "markdown",
   "id": "ab500e6d",
   "metadata": {},
   "source": [
    "# Combining Loops and If Conditions\n",
    "\n",
    ">**Scenario:**\n",
    "Suppose we have a business with multiple stores, each selling different categories of products. We want to calculate the total sales for each category across all stores.\n",
    "\n",
    ">**Data Structure:**\n",
    "We have a list of stores.\n",
    "Each store has a dictionary of product categories and their respective sales.\n",
    "\n",
    ">**Objective:**\n",
    "Calculate the total sales for each category across all stores."
   ]
  },
  {
   "cell_type": "code",
   "execution_count": 54,
   "id": "d3d71e6f",
   "metadata": {},
   "outputs": [
    {
     "data": {
      "text/plain": [
       "list"
      ]
     },
     "execution_count": 54,
     "metadata": {},
     "output_type": "execute_result"
    }
   ],
   "source": []
  },
  {
   "cell_type": "code",
   "execution_count": 58,
   "id": "f3cecc4a",
   "metadata": {},
   "outputs": [
    {
     "data": {
      "text/plain": [
       "{'electronics': 1200}"
      ]
     },
     "execution_count": 58,
     "metadata": {},
     "output_type": "execute_result"
    }
   ],
   "source": [
    "#total_sales = {}\n",
    "#'electronics' in total_sales\n",
    "total_sales[\"electronics\"] = 1200\n",
    "total_sales"
   ]
  },
  {
   "cell_type": "code",
   "execution_count": 60,
   "id": "e75b897d",
   "metadata": {},
   "outputs": [
    {
     "name": "stdout",
     "output_type": "stream",
     "text": [
      "Outer loop iteration:  1\n",
      "Inner loop iteration:  1\n",
      "Category:  electronics\n",
      "Sales:  1200\n",
      "Inner loop iteration:  2\n",
      "Category:  clothing\n",
      "Sales:  500\n",
      "Inner loop iteration:  3\n",
      "Category:  groceries\n",
      "Sales:  800\n",
      "Outer loop iteration:  2\n",
      "Inner loop iteration:  1\n",
      "Category:  electronics\n",
      "Sales:  1500\n",
      "Inner loop iteration:  2\n",
      "Category:  clothing\n",
      "Sales:  700\n",
      "Inner loop iteration:  3\n",
      "Category:  groceries\n",
      "Sales:  1200\n",
      "Outer loop iteration:  3\n",
      "Inner loop iteration:  1\n",
      "Category:  electronics\n",
      "Sales:  1000\n",
      "Inner loop iteration:  2\n",
      "Category:  clothing\n",
      "Sales:  600\n",
      "Inner loop iteration:  3\n",
      "Category:  groceries\n",
      "Sales:  900\n",
      "Total sales for electronics: $3700\n",
      "Total sales for clothing: $1800\n",
      "Total sales for groceries: $2900\n"
     ]
    }
   ],
   "source": [
    "# List of stores with sales data for each category\n",
    "stores = [\n",
    "    {\"electronics\": 1200, \"clothing\": 500, \"groceries\": 800},\n",
    "    {\"electronics\": 1500, \"clothing\": 700, \"groceries\": 1200},\n",
    "    {\"electronics\": 1000, \"clothing\": 600, \"groceries\": 900}\n",
    "]\n",
    "\n",
    "# Dictionary to keep track of total sales per category\n",
    "total_sales = {}\n",
    "\n",
    "# Nested for loop to iterate through each store and each category\n",
    "counter_out = 1\n",
    "for store in stores:\n",
    "    print(\"Outer loop iteration: \", counter_out)\n",
    "    counter_in = 1\n",
    "    for category, sales in store.items():\n",
    "        print(\"Inner loop iteration: \", counter_in)\n",
    "        print(\"Category: \",category)\n",
    "        print(\"Sales: \", sales)\n",
    "        if category in total_sales:\n",
    "            total_sales[category] += sales\n",
    "        else:\n",
    "            total_sales[category] = sales\n",
    "        counter_in += 1\n",
    "    counter_out += 1\n",
    "\n",
    "# Print the total sales for each category\n",
    "for category, sales in total_sales.items():\n",
    "    print(f\"Total sales for {category}: ${sales}\")\n"
   ]
  }
 ],
 "metadata": {
  "kernelspec": {
   "display_name": "Python [conda env:miniforge3]",
   "language": "python",
   "name": "conda-env-miniforge3-py"
  },
  "language_info": {
   "codemirror_mode": {
    "name": "ipython",
    "version": 3
   },
   "file_extension": ".py",
   "mimetype": "text/x-python",
   "name": "python",
   "nbconvert_exporter": "python",
   "pygments_lexer": "ipython3",
   "version": "3.9.1"
  }
 },
 "nbformat": 4,
 "nbformat_minor": 5
}
