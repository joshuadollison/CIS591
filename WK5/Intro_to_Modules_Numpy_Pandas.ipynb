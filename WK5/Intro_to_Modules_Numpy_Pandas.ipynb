{
 "cells": [
  {
   "cell_type": "markdown",
   "id": "83629201",
   "metadata": {},
   "source": [
    "# Outline<a class=\"anchor\" id=outline></a>\n",
    "\n",
    "[1.Working With Modules](#motivation)<br>\n",
    "[2.Numpy](#numpy)<br>\n",
    "[3.Intro to Pandas](#pandas)"
   ]
  },
  {
   "cell_type": "markdown",
   "id": "6ae9ce00",
   "metadata": {},
   "source": [
    "# What are Modules? <a class=\"anchor\" id=motivation></a>\n",
    "(\"modules\",\"packages\",\"libraries\")\n",
    "\n",
    "<img src=https://theyoungteam.com/wp-content/uploads/2023/12/Blog-Post-Image-14.png>\n",
    "\n",
    "[Good Resource List of Modules](https://ioflood.com/blog/python-libraries/)\n",
    "\n",
    "## How do I know what modules I currently have?\n",
    "\n",
    ">[Anaconda Modules List](https://docs.anaconda.com/free/anaconda/reference/packages/pkg-docs/)\n",
    "\n",
    "[Go Up](#outline)"
   ]
  },
  {
   "cell_type": "code",
   "execution_count": null,
   "id": "395ba898",
   "metadata": {},
   "outputs": [],
   "source": []
  },
  {
   "cell_type": "code",
   "execution_count": null,
   "id": "d136248a",
   "metadata": {},
   "outputs": [],
   "source": []
  },
  {
   "cell_type": "code",
   "execution_count": null,
   "id": "c53f9a78",
   "metadata": {},
   "outputs": [],
   "source": []
  },
  {
   "cell_type": "code",
   "execution_count": null,
   "id": "6b176839",
   "metadata": {},
   "outputs": [],
   "source": []
  },
  {
   "cell_type": "code",
   "execution_count": null,
   "id": "2936866e",
   "metadata": {},
   "outputs": [],
   "source": []
  },
  {
   "cell_type": "code",
   "execution_count": null,
   "id": "8caf8e5d",
   "metadata": {},
   "outputs": [],
   "source": []
  },
  {
   "cell_type": "markdown",
   "id": "a5733539",
   "metadata": {},
   "source": [
    "### How do I access modules I've already installed?"
   ]
  },
  {
   "cell_type": "code",
   "execution_count": 32,
   "id": "9a8b78ff",
   "metadata": {},
   "outputs": [],
   "source": [
    "import numpy as np\n",
    "import pandas as pd\n",
    "import plotly as plt\n",
    "import math\n",
    "import time"
   ]
  },
  {
   "cell_type": "code",
   "execution_count": null,
   "id": "aba56e40",
   "metadata": {},
   "outputs": [],
   "source": [
    "np."
   ]
  },
  {
   "cell_type": "code",
   "execution_count": null,
   "id": "68460058",
   "metadata": {},
   "outputs": [],
   "source": []
  },
  {
   "cell_type": "code",
   "execution_count": null,
   "id": "f3f23601",
   "metadata": {},
   "outputs": [],
   "source": []
  },
  {
   "cell_type": "code",
   "execution_count": null,
   "id": "81ccdaa2",
   "metadata": {},
   "outputs": [],
   "source": []
  },
  {
   "cell_type": "code",
   "execution_count": null,
   "id": "f514bb2d",
   "metadata": {},
   "outputs": [],
   "source": [
    "numpy."
   ]
  },
  {
   "cell_type": "markdown",
   "id": "649aaf81",
   "metadata": {},
   "source": [
    "### How do I access functionality from this package?"
   ]
  },
  {
   "cell_type": "code",
   "execution_count": 29,
   "id": "0e70107f",
   "metadata": {},
   "outputs": [],
   "source": [
    "array_example = np.array([1,2,3])"
   ]
  },
  {
   "cell_type": "code",
   "execution_count": 30,
   "id": "601dd771",
   "metadata": {},
   "outputs": [
    {
     "data": {
      "text/plain": [
       "numpy.ndarray"
      ]
     },
     "execution_count": 30,
     "metadata": {},
     "output_type": "execute_result"
    }
   ],
   "source": [
    "type(array_example)"
   ]
  },
  {
   "cell_type": "code",
   "execution_count": 31,
   "id": "9dcd63e4",
   "metadata": {},
   "outputs": [
    {
     "data": {
      "text/plain": [
       "array([1, 2, 3])"
      ]
     },
     "execution_count": 31,
     "metadata": {},
     "output_type": "execute_result"
    }
   ],
   "source": [
    "array_example"
   ]
  },
  {
   "cell_type": "code",
   "execution_count": null,
   "id": "818076d3",
   "metadata": {},
   "outputs": [],
   "source": []
  },
  {
   "cell_type": "code",
   "execution_count": null,
   "id": "cf9640b9",
   "metadata": {},
   "outputs": [],
   "source": []
  },
  {
   "cell_type": "code",
   "execution_count": null,
   "id": "a1383b5e",
   "metadata": {},
   "outputs": [],
   "source": []
  },
  {
   "cell_type": "markdown",
   "id": "4b13cc1c",
   "metadata": {},
   "source": [
    "### Importing Specific Functionality"
   ]
  },
  {
   "cell_type": "code",
   "execution_count": 33,
   "id": "c1b63452",
   "metadata": {},
   "outputs": [],
   "source": [
    "from numpy import array as np_array"
   ]
  },
  {
   "cell_type": "code",
   "execution_count": 34,
   "id": "a5016fb1",
   "metadata": {},
   "outputs": [],
   "source": [
    "x = np.array([3,4,5])"
   ]
  },
  {
   "cell_type": "code",
   "execution_count": 35,
   "id": "6cccf13f",
   "metadata": {},
   "outputs": [
    {
     "data": {
      "text/plain": [
       "array([3, 4, 5])"
      ]
     },
     "execution_count": 35,
     "metadata": {},
     "output_type": "execute_result"
    }
   ],
   "source": [
    "x"
   ]
  },
  {
   "cell_type": "code",
   "execution_count": null,
   "id": "3de48c37",
   "metadata": {},
   "outputs": [],
   "source": []
  },
  {
   "cell_type": "code",
   "execution_count": null,
   "id": "35cb96cc",
   "metadata": {},
   "outputs": [],
   "source": []
  },
  {
   "cell_type": "code",
   "execution_count": null,
   "id": "b8de8091",
   "metadata": {},
   "outputs": [],
   "source": []
  },
  {
   "cell_type": "code",
   "execution_count": null,
   "id": "2b74c24b",
   "metadata": {},
   "outputs": [],
   "source": []
  },
  {
   "cell_type": "code",
   "execution_count": null,
   "id": "8f5ab5ab",
   "metadata": {},
   "outputs": [],
   "source": []
  },
  {
   "cell_type": "markdown",
   "id": "da1d173e",
   "metadata": {},
   "source": [
    "### What if I need to install a new Python package?\n",
    "\n",
    "# PIP"
   ]
  },
  {
   "cell_type": "code",
   "execution_count": 36,
   "id": "5f5c8792",
   "metadata": {},
   "outputs": [
    {
     "name": "stdout",
     "output_type": "stream",
     "text": [
      "Requirement already satisfied: pip in /Users/feedertree/anaconda3/lib/python3.11/site-packages (23.2.1)\n",
      "Note: you may need to restart the kernel to use updated packages.\n"
     ]
    }
   ],
   "source": [
    "pip install pip"
   ]
  },
  {
   "cell_type": "code",
   "execution_count": null,
   "id": "550d6cf8",
   "metadata": {},
   "outputs": [],
   "source": []
  },
  {
   "cell_type": "code",
   "execution_count": null,
   "id": "498f5d81",
   "metadata": {},
   "outputs": [],
   "source": []
  },
  {
   "cell_type": "code",
   "execution_count": null,
   "id": "d80add38",
   "metadata": {},
   "outputs": [],
   "source": []
  },
  {
   "cell_type": "code",
   "execution_count": null,
   "id": "d49a4006",
   "metadata": {},
   "outputs": [],
   "source": []
  },
  {
   "cell_type": "code",
   "execution_count": null,
   "id": "c065be7d",
   "metadata": {},
   "outputs": [],
   "source": []
  },
  {
   "cell_type": "code",
   "execution_count": null,
   "id": "76f272cd",
   "metadata": {},
   "outputs": [],
   "source": []
  },
  {
   "cell_type": "code",
   "execution_count": null,
   "id": "8cfce935",
   "metadata": {},
   "outputs": [],
   "source": [
    "!pip install [package name]\n",
    "#pip install requests"
   ]
  },
  {
   "cell_type": "code",
   "execution_count": null,
   "id": "fb6af761",
   "metadata": {},
   "outputs": [],
   "source": [
    "pip install --upgrade requests"
   ]
  },
  {
   "cell_type": "code",
   "execution_count": null,
   "id": "c8f52847",
   "metadata": {},
   "outputs": [],
   "source": [
    "pip install -r requirements.txt"
   ]
  },
  {
   "cell_type": "code",
   "execution_count": null,
   "id": "682b6aa1",
   "metadata": {},
   "outputs": [],
   "source": [
    "pip list"
   ]
  },
  {
   "cell_type": "code",
   "execution_count": null,
   "id": "bce40900",
   "metadata": {},
   "outputs": [],
   "source": [
    "pip uninstall [package name]"
   ]
  },
  {
   "cell_type": "code",
   "execution_count": 9,
   "id": "d6ff09fc",
   "metadata": {
    "scrolled": true
   },
   "outputs": [
    {
     "name": "stdout",
     "output_type": "stream",
     "text": [
      "Package                       Version   Latest       Type\r\n",
      "----------------------------- --------- ------------ -----\r\n",
      "aiobotocore                   2.4.2     2.9.0        wheel\r\n",
      "aiofiles                      22.1.0    23.2.1       wheel\r\n",
      "aiohttp                       3.8.3     3.9.1        wheel\r\n",
      "aioitertools                  0.7.1     0.11.0       wheel\r\n",
      "aiosignal                     1.2.0     1.3.1        wheel\r\n",
      "aiosqlite                     0.18.0    0.19.0       wheel\r\n",
      "alabaster                     0.7.12    0.7.16       wheel\r\n",
      "altair                        5.0.1     5.2.0        wheel\r\n",
      "ansi2html                     1.8.0     1.9.1        wheel\r\n",
      "anyio                         3.5.0     4.2.0        wheel\r\n",
      "appnope                       0.1.2     0.1.3        wheel\r\n",
      "appscript                     1.1.2     1.2.4        wheel\r\n",
      "argon2-cffi                   21.3.0    23.1.0       wheel\r\n",
      "arrow                         1.2.3     1.3.0        wheel\r\n",
      "astroid                       2.14.2    3.0.2        wheel\r\n",
      "astropy                       5.1       6.0.0        wheel\r\n",
      "asttokens                     2.0.5     2.4.1        wheel\r\n",
      "async-timeout                 4.0.2     4.0.3        wheel\r\n",
      "atomicwrites                  1.4.0     1.4.1        sdist\r\n",
      "attrs                         22.1.0    23.2.0       wheel\r\n",
      "Automat                       20.2.0    22.10.0      wheel\r\n",
      "autopep8                      1.6.0     2.0.4        wheel\r\n",
      "Babel                         2.11.0    2.14.0       wheel\r\n",
      "backports.functools-lru-cache 1.6.4     2.0.0        wheel\r\n",
      "bcrypt                        3.2.0     4.1.2        wheel\r\n",
      "black                         0.0       23.12.1      wheel\r\n",
      "bleach                        4.1.0     6.1.0        wheel\r\n",
      "blinker                       1.6.2     1.7.0        wheel\r\n",
      "bokeh                         3.2.1     3.3.3        wheel\r\n",
      "boltons                       23.0.0    23.1.1       wheel\r\n",
      "boto3                         1.24.28   1.34.15      wheel\r\n",
      "botocore                      1.27.59   1.34.15      wheel\r\n",
      "Bottleneck                    1.3.5     1.3.7        wheel\r\n",
      "cachetools                    5.3.1     5.3.2        wheel\r\n",
      "certifi                       2023.7.22 2023.11.17   wheel\r\n",
      "cffi                          1.15.1    1.16.0       wheel\r\n",
      "chardet                       4.0.0     5.2.0        wheel\r\n",
      "charset-normalizer            2.0.4     3.3.2        wheel\r\n",
      "click                         8.0.4     8.1.7        wheel\r\n",
      "cloudpickle                   2.2.1     3.0.0        wheel\r\n",
      "comm                          0.1.2     0.2.1        wheel\r\n",
      "conda-pack                    0.6.0     0.7.1        wheel\r\n",
      "constantly                    15.1.0    23.10.4      wheel\r\n",
      "contourpy                     1.0.5     1.2.0        wheel\r\n",
      "cookiecutter                  1.7.3     2.5.0        wheel\r\n",
      "cryptography                  41.0.2    41.0.7       wheel\r\n",
      "cssselect                     1.1.0     1.2.0        wheel\r\n",
      "cycler                        0.11.0    0.12.1       wheel\r\n",
      "cytoolz                       0.12.0    0.12.2       wheel\r\n",
      "dash                          2.13.0    2.14.2       wheel\r\n",
      "dask                          2023.6.0  2023.12.1    wheel\r\n",
      "datashader                    0.15.1    0.16.0       wheel\r\n",
      "debugpy                       1.6.7     1.8.0        wheel\r\n",
      "diff-match-patch              20200713  20230430     wheel\r\n",
      "dill                          0.3.6     0.3.7        wheel\r\n",
      "distributed                   2023.6.0  2023.12.1    wheel\r\n",
      "docstring-to-markdown         0.11      0.13         wheel\r\n",
      "docutils                      0.18.1    0.20.1       wheel\r\n",
      "executing                     0.8.3     2.0.1        wheel\r\n",
      "fastjsonschema                2.16.2    2.19.1       wheel\r\n",
      "filelock                      3.9.0     3.13.1       wheel\r\n",
      "flake8                        6.0.0     7.0.0        wheel\r\n",
      "Flask                         2.2.2     3.0.0        wheel\r\n",
      "fonttools                     4.25.0    4.47.0       wheel\r\n",
      "frozenlist                    1.3.3     1.4.1        wheel\r\n",
      "fsspec                        2023.3.0  2023.12.2    wheel\r\n",
      "gensim                        4.3.0     4.3.2        wheel\r\n",
      "gitdb                         4.0.10    4.0.11       wheel\r\n",
      "GitPython                     3.1.32    3.1.40       wheel\r\n",
      "gmpy2                         2.1.2     2.1.5        wheel\r\n",
      "greenlet                      2.0.1     3.0.3        sdist\r\n",
      "h5py                          3.7.0     3.10.0       wheel\r\n",
      "holoviews                     1.17.0    1.18.1       wheel\r\n",
      "hvplot                        0.8.4     0.9.1        wheel\r\n",
      "idna                          3.4       3.6          wheel\r\n",
      "imagecodecs                   2021.8.26 2024.1.1     wheel\r\n",
      "imageio                       2.31.1    2.33.1       wheel\r\n",
      "imbalanced-learn              0.10.1    0.11.0       wheel\r\n",
      "importlib-metadata            6.0.0     7.0.1        wheel\r\n",
      "incremental                   21.3.0    22.10.0      wheel\r\n",
      "iniconfig                     1.1.1     2.0.0        wheel\r\n",
      "intake                        0.6.8     0.7.0        wheel\r\n",
      "ipykernel                     6.19.2    6.28.0       wheel\r\n",
      "ipython                       8.12.0    8.20.0       wheel\r\n",
      "ipywidgets                    8.0.4     8.1.1        wheel\r\n",
      "isort                         5.9.3     5.13.2       wheel\r\n",
      "itemadapter                   0.3.0     0.8.0        wheel\r\n",
      "itemloaders                   1.0.4     1.1.0        wheel\r\n",
      "itsdangerous                  2.0.1     2.1.2        wheel\r\n",
      "jaraco.classes                3.2.1     3.3.0        wheel\r\n",
      "jedi                          0.18.1    0.19.1       wheel\r\n",
      "jellyfish                     0.9.0     1.0.3        wheel\r\n",
      "jmespath                      0.10.0    1.0.1        wheel\r\n",
      "joblib                        1.2.0     1.3.2        wheel\r\n",
      "json5                         0.9.6     0.9.14       wheel\r\n",
      "jsonpatch                     1.32      1.33         wheel\r\n",
      "jsonpointer                   2.1       2.4          wheel\r\n",
      "jsonschema                    4.17.3    4.20.0       wheel\r\n",
      "jupyter_client                7.4.9     8.6.0        wheel\r\n",
      "jupyter_core                  5.3.0     5.7.1        wheel\r\n",
      "jupyter-events                0.6.3     0.9.0        wheel\r\n",
      "jupyter-server                1.23.4    2.12.3       wheel\r\n",
      "jupyter_server_fileid         0.9.0     0.9.1        wheel\r\n",
      "jupyter-ydoc                  0.2.4     2.0.1        wheel\r\n",
      "jupyterlab                    3.6.3     4.0.10       wheel\r\n",
      "jupyterlab-pygments           0.1.2     0.3.0        wheel\r\n",
      "jupyterlab_server             2.22.0    2.25.2       wheel\r\n",
      "jupyterlab-widgets            3.0.5     3.0.9        wheel\r\n",
      "keyring                       23.13.1   24.3.0       wheel\r\n",
      "kiwisolver                    1.4.4     1.4.5        wheel\r\n",
      "lazy_loader                   0.2       0.3          wheel\r\n",
      "lazy-object-proxy             1.6.0     1.10.0       wheel\r\n",
      "libarchive-c                  2.9       5.0          wheel\r\n",
      "linkify-it-py                 2.0.0     2.0.2        wheel\r\n",
      "llvmlite                      0.40.0    0.41.1       wheel\r\n",
      "lxml                          4.9.2     5.1.0        wheel\r\n",
      "lz4                           4.3.2     4.3.3        wheel\r\n",
      "Markdown                      3.4.1     3.5.1        wheel\r\n",
      "markdown-it-py                2.2.0     3.0.0        wheel\r\n",
      "MarkupSafe                    2.1.1     2.1.3        wheel\r\n",
      "matplotlib                    3.7.1     3.8.2        wheel\r\n",
      "mdit-py-plugins               0.3.0     0.4.0        wheel\r\n",
      "mdurl                         0.1.0     0.1.2        wheel\r\n",
      "mistune                       0.8.4     3.0.2        wheel\r\n",
      "more-itertools                8.12.0    10.2.0       wheel\r\n",
      "msgpack                       1.0.3     1.0.7        wheel\r\n",
      "multidict                     6.0.2     6.0.4        wheel\r\n",
      "multipledispatch              0.6.0     1.0.0        wheel\r\n",
      "mypy-extensions               0.4.3     1.0.0        wheel\r\n",
      "nbclassic                     0.5.5     1.0.0        wheel\r\n",
      "nbclient                      0.5.13    0.9.0        wheel\r\n",
      "nbconvert                     6.5.4     7.14.0       wheel\r\n",
      "nbformat                      5.7.0     5.9.2        wheel\r\n",
      "nest-asyncio                  1.5.6     1.5.8        wheel\r\n",
      "networkx                      3.1       3.2.1        wheel\r\n",
      "notebook                      6.5.4     7.0.6        wheel\r\n",
      "notebook_shim                 0.2.2     0.2.3        wheel\r\n",
      "numba                         0.57.0    0.58.1       wheel\r\n",
      "numexpr                       2.8.4     2.8.8        wheel\r\n",
      "numpy                         1.24.3    1.26.3       wheel\r\n",
      "numpydoc                      1.5.0     1.6.0        wheel\r\n",
      "openai                        0.27.8    1.7.0        wheel\r\n",
      "openpyxl                      3.0.10    3.1.2        wheel\r\n",
      "packaging                     23.0      23.2         wheel\r\n",
      "pandas                        1.5.3     2.1.4        wheel\r\n",
      "panel                         1.2.1     1.3.6        wheel\r\n",
      "param                         1.13.0    2.0.1        wheel\r\n",
      "parsel                        1.6.0     1.8.1        wheel\r\n",
      "partd                         1.2.0     1.4.1        wheel\r\n",
      "pathspec                      0.10.3    0.12.1       wheel\r\n",
      "patsy                         0.5.3     0.5.6        wheel\r\n",
      "pexpect                       4.8.0     4.9.0        wheel\r\n",
      "Pillow                        9.4.0     10.2.0       wheel\r\n",
      "pip                           23.2.1    23.3.2       wheel\r\n",
      "platformdirs                  2.5.2     4.1.0        wheel\r\n",
      "plotly                        5.9.0     5.18.0       wheel\r\n",
      "pluggy                        1.0.0     1.3.0        wheel\r\n",
      "pooch                         1.4.0     1.8.0        wheel\r\n",
      "prometheus-client             0.14.1    0.19.0       wheel\r\n",
      "prompt-toolkit                3.0.36    3.0.43       wheel\r\n",
      "Protego                       0.1.16    0.3.0        wheel\r\n",
      "protobuf                      4.24.0    4.25.1       wheel\r\n",
      "psutil                        5.9.0     5.9.7        wheel\r\n",
      "py-cpuinfo                    8.0.0     9.0.0        wheel\r\n",
      "pyarrow                       11.0.0    14.0.2       wheel\r\n",
      "pyasn1                        0.4.8     0.5.1        wheel\r\n",
      "pyasn1-modules                0.2.8     0.3.0        wheel\r\n",
      "pycodestyle                   2.10.0    2.11.1       wheel\r\n",
      "pycosat                       0.6.4     0.6.6        sdist\r\n",
      "PyDispatcher                  2.0.5     2.0.7        wheel\r\n",
      "pyerfa                        2.0.0     2.0.1.1      wheel\r\n",
      "pyflakes                      3.0.1     3.2.0        wheel\r\n",
      "Pygments                      2.15.1    2.17.2       wheel\r\n",
      "PyJWT                         2.4.0     2.8.0        wheel\r\n",
      "pylint                        2.16.2    3.0.3        wheel\r\n",
      "pylint-venv                   2.3.0     3.0.3        wheel\r\n",
      "pyobjc-core                   9.0       10.1         wheel\r\n",
      "pyobjc-framework-Cocoa        9.0       10.1         wheel\r\n",
      "pyobjc-framework-CoreServices 9.0       10.1         wheel\r\n",
      "pyobjc-framework-FSEvents     9.0       10.1         wheel\r\n",
      "pyodbc                        4.0.34    5.0.1        wheel\r\n",
      "pyOpenSSL                     23.2.0    23.3.0       wheel\r\n",
      "pyparsing                     3.0.9     3.1.1        wheel\r\n",
      "PyQt5-sip                     12.11.0   12.13.0      wheel\r\n",
      "pyrsistent                    0.18.0    0.20.0       wheel\r\n",
      "pytest                        7.4.0     7.4.4        wheel\r\n",
      "python-docx                   0.8.11    1.1.0        wheel\r\n",
      "python-lsp-black              1.2.1     2.0.0        wheel\r\n",
      "python-lsp-jsonrpc            1.0.0     1.1.2        wheel\r\n",
      "python-lsp-server             1.7.2     1.9.0        wheel\r\n",
      "python-slugify                5.0.2     8.0.1        wheel\r\n",
      "pytoolconfig                  1.2.5     1.2.6        wheel\r\n",
      "pytz                          2022.7    2023.3.post1 wheel\r\n",
      "pyviz-comms                   2.3.0     3.0.0        wheel\r\n",
      "PyWavelets                    1.4.1     1.5.0        wheel\r\n",
      "PyYAML                        6.0       6.0.1        wheel\r\n",
      "pyzmq                         23.2.0    25.1.2       wheel\r\n",
      "QDarkStyle                    3.0.2     3.2.3        wheel\r\n",
      "QtAwesome                     1.2.2     1.3.0        wheel\r\n",
      "qtconsole                     5.4.2     5.5.1        wheel\r\n",
      "QtPy                          2.2.0     2.4.1        wheel\r\n",
      "queuelib                      1.5.0     1.6.2        wheel\r\n",
      "regex                         2022.7.9  2023.12.25   wheel\r\n",
      "rich                          13.5.2    13.7.0       wheel\r\n",
      "rope                          1.7.0     1.11.0       wheel\r\n",
      "Rtree                         1.0.1     1.1.0        wheel\r\n",
      "ruamel.yaml                   0.17.21   0.18.5       wheel\r\n",
      "s3fs                          2023.3.0  2023.12.2    wheel\r\n",
      "s3transfer                    0.6.0     0.10.0       wheel\r\n",
      "sacremoses                    0.0.43    0.1.1        wheel\r\n",
      "scikit-image                  0.20.0    0.22.0       wheel\r\n",
      "scikit-learn                  1.3.0     1.3.2        wheel\r\n",
      "scipy                         1.10.1    1.11.4       wheel\r\n",
      "Scrapy                        2.8.0     2.11.0       wheel\r\n",
      "seaborn                       0.12.2    0.13.1       wheel\r\n",
      "Send2Trash                    1.8.0     1.8.2        wheel\r\n",
      "service-identity              18.1.0    23.1.0       wheel\r\n",
      "setuptools                    68.0.0    69.0.3       wheel\r\n",
      "sip                           6.6.2     6.8.1        wheel\r\n",
      "smart-open                    5.2.1     6.4.0        wheel\r\n",
      "smmap                         5.0.0     5.0.1        wheel\r\n",
      "sniffio                       1.2.0     1.3.0        wheel\r\n",
      "soupsieve                     2.4       2.5          wheel\r\n",
      "Sphinx                        5.0.2     7.2.6        wheel\r\n",
      "sphinxcontrib-applehelp       1.0.2     1.0.7        wheel\r\n",
      "sphinxcontrib-devhelp         1.0.2     1.0.5        wheel\r\n",
      "sphinxcontrib-htmlhelp        2.0.0     2.0.4        wheel\r\n",
      "sphinxcontrib-qthelp          1.0.3     1.0.6        wheel\r\n",
      "sphinxcontrib-serializinghtml 1.1.5     1.1.9        wheel\r\n",
      "spyder                        5.4.3     5.5.0        wheel\r\n",
      "spyder-kernels                2.4.3     2.5.0        wheel\r\n",
      "SQLAlchemy                    1.4.39    2.0.25       wheel\r\n",
      "stack-data                    0.2.0     0.6.3        wheel\r\n",
      "statsmodels                   0.14.0    0.14.1       wheel\r\n",
      "streamlit                     1.25.0    1.29.0       wheel\r\n",
      "sympy                         1.11.1    1.12         wheel\r\n",
      "tables                        3.8.0     3.9.2        wheel\r\n",
      "tabulate                      0.8.10    0.9.0        wheel\r\n",
      "TBB                           0.2       2021.10.0    wheel\r\n",
      "tblib                         1.7.0     3.0.0        wheel\r\n",
      "tenacity                      8.2.2     8.2.3        wheel\r\n",
      "terminado                     0.17.1    0.18.0       wheel\r\n",
      "textdistance                  4.2.1     4.6.1        wheel\r\n",
      "threadpoolctl                 2.2.0     3.2.0        wheel\r\n",
      "tifffile                      2021.7.2  2023.12.9    wheel\r\n",
      "tiktoken                      0.4.0     0.5.2        wheel\r\n",
      "tldextract                    3.2.0     5.1.1        wheel\r\n",
      "tomlkit                       0.11.1    0.12.3       wheel\r\n",
      "tornado                       6.3.2     6.4          wheel\r\n",
      "tqdm                          4.65.0    4.66.1       wheel\r\n",
      "traitlets                     5.7.1     5.14.1       wheel\r\n",
      "transformers                  2.1.1     4.36.2       wheel\r\n",
      "Twisted                       22.10.0   23.10.0      wheel\r\n",
      "typing_extensions             4.7.1     4.9.0        wheel\r\n",
      "tzdata                        2023.3    2023.4       wheel\r\n",
      "tzlocal                       4.3.1     5.2          wheel\r\n",
      "uc-micro-py                   1.0.1     1.0.2        wheel\r\n",
      "ujson                         5.4.0     5.9.0        wheel\r\n",
      "Unidecode                     1.2.0     1.3.7        wheel\r\n",
      "urllib3                       1.26.16   2.1.0        wheel\r\n",
      "validators                    0.20.0    0.22.0       wheel\r\n",
      "w3lib                         1.21.0    2.1.2        wheel\r\n",
      "watchdog                      2.1.6     3.0.0        wheel\r\n",
      "wcwidth                       0.2.5     0.2.13       wheel\r\n",
      "websocket-client              0.58.0    1.7.0        wheel\r\n",
      "Werkzeug                      2.2.3     3.0.1        wheel\r\n",
      "whatthepatch                  1.0.2     1.0.5        wheel\r\n",
      "wheel                         0.38.4    0.42.0       wheel\r\n",
      "widgetsnbextension            4.0.5     4.0.9        wheel\r\n",
      "wrapt                         1.14.1    1.16.0       wheel\r\n",
      "wurlitzer                     3.0.2     3.0.3        wheel\r\n",
      "xarray                        2023.6.0  2023.12.0    wheel\r\n",
      "xlwings                       0.29.1    0.30.13      wheel\r\n",
      "xyzservices                   2022.9.0  2023.10.1    wheel\r\n",
      "y-py                          0.5.9     0.6.2        wheel\r\n",
      "yapf                          0.31.0    0.40.2       wheel\r\n",
      "yarl                          1.8.1     1.9.4        wheel\r\n",
      "ypy-websocket                 0.8.2     0.12.4       wheel\r\n",
      "zict                          2.2.0     3.0.0        wheel\r\n",
      "zipp                          3.11.0    3.17.0       wheel\r\n",
      "zope.interface                5.4.0     6.1          wheel\r\n",
      "zstandard                     0.19.0    0.22.0       wheel\r\n"
     ]
    },
    {
     "name": "stdout",
     "output_type": "stream",
     "text": [
      "Note: you may need to restart the kernel to use updated packages.\n"
     ]
    }
   ],
   "source": [
    "pip list --outdated"
   ]
  },
  {
   "cell_type": "markdown",
   "id": "b9b70115",
   "metadata": {},
   "source": [
    "[Go Up](#outline)"
   ]
  },
  {
   "cell_type": "markdown",
   "id": "72bafee8",
   "metadata": {},
   "source": [
    "# Numpy<a class=\"anchor\" id=numpy></a>\n",
    "\n",
    "Why do I need to know this?\n",
    "\n",
    ">1. **Performance:** Numpy objects are more memory-efficient and provide better performance for numerical computation.  NumPy objects are implemented in the the coding language C and used \"fixed-type\", reducing memory requirements and making computation fast\n",
    "\n",
    ">2. **Pandas Foundation:** Pandas was built on top of NumPy\n",
    "\n",
    ">3. **Statistical Capabilities:** \n",
    "\n",
    ">4. **Matrix Operations**"
   ]
  },
  {
   "cell_type": "code",
   "execution_count": 63,
   "id": "c7f74e98",
   "metadata": {},
   "outputs": [],
   "source": [
    "# Simulated dataset\n",
    "data = [32.5, 29.8, 30.5, 230, 31.2, \n",
    "        33.8, 30.7, 35.6, 30.1, 200.0, 31.0]\n",
    "\n",
    "# Calculate mean and standard deviation without numpy\n",
    "mean_value = sum(data) / len(data)\n",
    "\n",
    "# sum of squared diffs\n",
    "squared_diff_sum = 0\n",
    "for value in data:\n",
    "    squared_diff_sum += (value - mean_value)**2\n",
    "std_dev = (squared_diff_sum / len(data))**0.5\n"
   ]
  },
  {
   "cell_type": "code",
   "execution_count": null,
   "id": "a52bbf86",
   "metadata": {},
   "outputs": [],
   "source": [
    "# Note: the for loop above can be replace by the following\n",
    "squared_diff_sum = sum((value - mean_value)**2 for value in data)\n",
    "\n",
    "# this embeds the loop functionality \"in line\"\n",
    "# in Python this is called a 'generator expression'\n",
    "# it does the same thing as the regular loop\n",
    "# but is more memory efficient"
   ]
  },
  {
   "cell_type": "markdown",
   "id": "c91fe5de",
   "metadata": {},
   "source": [
    "### How does Numpy make this easier?"
   ]
  },
  {
   "cell_type": "code",
   "execution_count": null,
   "id": "5807894e",
   "metadata": {},
   "outputs": [],
   "source": [
    "import numpy as np\n",
    "\n",
    "# Simulated dataset\n",
    "data = [32.5, 29.8, 30.5, 230, 31.2, 33.8, \n",
    "        30.7, 35.6, 30.1, 200.0, 31.0]\n",
    "\n",
    "mean = np.mean(data) # doing this for fun\n",
    "std = np.std(data) # more fun\n",
    "\n",
    "\n"
   ]
  },
  {
   "cell_type": "code",
   "execution_count": 67,
   "id": "7480f3db",
   "metadata": {},
   "outputs": [
    {
     "name": "stdout",
     "output_type": "stream",
     "text": [
      "Outliers: [230, 200.0]\n"
     ]
    }
   ],
   "source": [
    "import numpy as np\n",
    "\n",
    "# Simulated dataset\n",
    "data = [32.5, 29.8, 30.5, 230, 31.2, 33.8, 30.7, 35.6, 30.1, 200.0, 31.0]\n",
    "\n",
    "mean_val = np.mean(data)\n",
    "stdev = np.std(data)\n",
    "\n",
    "# Define outlier threshold\n",
    "outlier_threshold = 1.5 * stdev\n",
    "\n",
    "# Identify and flag outliers\n",
    "outliers = []\n",
    "\n",
    "for val in data:\n",
    "    if abs(val - mean_val) > outlier_threshold:\n",
    "        outliers.append(val)\n",
    "\n",
    "print(\"Outliers:\", outliers)\n"
   ]
  },
  {
   "cell_type": "markdown",
   "id": "e2d1a653",
   "metadata": {},
   "source": [
    "### Performance?"
   ]
  },
  {
   "cell_type": "code",
   "execution_count": 75,
   "id": "1e664831",
   "metadata": {},
   "outputs": [],
   "source": [
    "num_list = [250,300,400,250]\n",
    "\n",
    "# num_list = [250,300,400,350,100,200,250,300,85,12,18,36,4312,\n",
    "#             200,120,12,34,876,890,101234,83,10,12.3,24.8,\n",
    "#             35.1,89.123,39.444,2011563,83,248.35,12897,42,\n",
    "#             360,400,12,2.4,36,41,15,85430\n",
    "#            ]"
   ]
  },
  {
   "cell_type": "code",
   "execution_count": 76,
   "id": "43898843",
   "metadata": {},
   "outputs": [
    {
     "name": "stdout",
     "output_type": "stream",
     "text": [
      "Annual Sales: 1200 thousand dollars\n"
     ]
    }
   ],
   "source": [
    "# Numpy Arrays\n",
    "# Quarterly sales data (in thousands)\n",
    "sales_data = np.array(num_list)\n",
    "annual_sales = sales_data.sum()\n",
    "print(\"Annual Sales:\", annual_sales, \"thousand dollars\")"
   ]
  },
  {
   "cell_type": "code",
   "execution_count": 73,
   "id": "a349f074",
   "metadata": {},
   "outputs": [
    {
     "name": "stdout",
     "output_type": "stream",
     "text": [
      "1.6533333333333333\n"
     ]
    }
   ],
   "source": [
    "import time\n",
    "\n",
    "start_time = time.time()\n",
    "sum(num_list)\n",
    "end_time = time.time()\n",
    "run_time1 = end_time - start_time\n",
    "\n",
    "start_time = time.time()\n",
    "sales_data.sum()\n",
    "end_time = time.time()\n",
    "run_time2 = end_time - start_time\n",
    "\n",
    "time_diff = (run_time2/run_time1)\n",
    "print(time_diff)"
   ]
  },
  {
   "cell_type": "markdown",
   "id": "94e93d42",
   "metadata": {},
   "source": [
    ">**Aside:** double click on the markdown cell below so you can see how the well formatted table was created.  A good short-cut for creating such tables is to ask ChatGPT to create the markdown for you...then you simply copy and paste!"
   ]
  },
  {
   "cell_type": "markdown",
   "id": "53ec601a",
   "metadata": {},
   "source": [
    "| Data Size | Time for Python List (seconds) | Time for NumPy Array (seconds) |\n",
    "|-----------|--------------------------------|--------------------------------|\n",
    "| 10        | 1.67e-06                       | 0.000136                       |\n",
    "| 100       | 1.43e-06                       | 1.91e-05                       |\n",
    "| 1,000     | 6.44e-06                       | 2.62e-05                       |\n",
    "| 10,000    | 7.51e-05                       | 5.13e-05                       |\n",
    "| 100,000   | 0.000824                       | 0.000180                       |\n",
    "| 1,000,000 | 0.00768                        | 0.00172                        |\n"
   ]
  },
  {
   "cell_type": "markdown",
   "id": "f0a1baa4",
   "metadata": {},
   "source": [
    "## Broadcasting"
   ]
  },
  {
   "cell_type": "code",
   "execution_count": 77,
   "id": "f8430872",
   "metadata": {},
   "outputs": [
    {
     "data": {
      "text/plain": [
       "array([250, 300, 400, 250])"
      ]
     },
     "execution_count": 77,
     "metadata": {},
     "output_type": "execute_result"
    }
   ],
   "source": [
    "sales_data"
   ]
  },
  {
   "cell_type": "code",
   "execution_count": 78,
   "id": "0892627a",
   "metadata": {},
   "outputs": [
    {
     "name": "stdout",
     "output_type": "stream",
     "text": [
      "New Annual Sales: 1320.0 thousand dollars\n"
     ]
    }
   ],
   "source": [
    "growth_rate = 1.10\n",
    "updated_sales = sales_data * growth_rate\n",
    "new_annual_sales = updated_sales.sum()\n",
    "print(\"New Annual Sales:\", new_annual_sales, \"thousand dollars\")"
   ]
  },
  {
   "cell_type": "markdown",
   "id": "19c5c57e",
   "metadata": {},
   "source": [
    "## Indexing & Slicing"
   ]
  },
  {
   "cell_type": "code",
   "execution_count": 79,
   "id": "bc6cab00",
   "metadata": {},
   "outputs": [
    {
     "data": {
      "text/plain": [
       "array([250, 300, 400, 250])"
      ]
     },
     "execution_count": 79,
     "metadata": {},
     "output_type": "execute_result"
    }
   ],
   "source": [
    "sales_data"
   ]
  },
  {
   "cell_type": "code",
   "execution_count": 84,
   "id": "3715e18f",
   "metadata": {},
   "outputs": [
    {
     "data": {
      "text/plain": [
       "550"
      ]
     },
     "execution_count": 84,
     "metadata": {},
     "output_type": "execute_result"
    }
   ],
   "source": [
    "sales_data[:2].sum()"
   ]
  },
  {
   "cell_type": "code",
   "execution_count": 85,
   "id": "347a498c",
   "metadata": {},
   "outputs": [
    {
     "name": "stdout",
     "output_type": "stream",
     "text": [
      "H1 Sales vs H2 Sales: 550 vs 650 thousand dollars\n"
     ]
    }
   ],
   "source": [
    "H1_sales = sales_data[:2].sum()\n",
    "H2_sales = sales_data[2:].sum()\n",
    "print(\"H1 Sales vs H2 Sales:\", H1_sales, \"vs\", H2_sales, \"thousand dollars\")"
   ]
  },
  {
   "cell_type": "markdown",
   "id": "fbe578d7",
   "metadata": {},
   "source": [
    "## Statistical Methods"
   ]
  },
  {
   "cell_type": "code",
   "execution_count": 86,
   "id": "f100f547",
   "metadata": {},
   "outputs": [
    {
     "name": "stdout",
     "output_type": "stream",
     "text": [
      "Average Monthly Sales: 87.91666666666667\n",
      "Median Monthly Sales: 88.0\n",
      "Sales Variability (Std Dev): 3.751851394830143\n"
     ]
    }
   ],
   "source": [
    "monthly_sales = np.array([80, 90, 85, 88, 92, 85, 87, 90, 95, 85, 88, 90])\n",
    "print(\"Average Monthly Sales:\", monthly_sales.mean())\n",
    "print(\"Median Monthly Sales:\", np.median(monthly_sales))\n",
    "print(\"Sales Variability (Std Dev):\", monthly_sales.std())\n",
    "\n",
    "# Question: why does the syntax look diff for mean vs median?\n",
    "# why np.median(array) vs array.mean()"
   ]
  },
  {
   "cell_type": "markdown",
   "id": "629e611d",
   "metadata": {},
   "source": [
    "## Boolean Indexing and Masking\n",
    ">**Concept**: How to use boolean conditions to filter arrays.<br>\n",
    "**Example**: Identify months with sales exceeding a certain threshold.<br>\n",
    "**Business Application**: Find high-performing months."
   ]
  },
  {
   "cell_type": "code",
   "execution_count": 87,
   "id": "51d1f8bf",
   "metadata": {},
   "outputs": [
    {
     "data": {
      "text/plain": [
       "array([80, 90, 85, 88, 92, 85, 87, 90, 95, 85, 88, 90])"
      ]
     },
     "execution_count": 87,
     "metadata": {},
     "output_type": "execute_result"
    }
   ],
   "source": [
    "monthly_sales"
   ]
  },
  {
   "cell_type": "code",
   "execution_count": 89,
   "id": "5609543e",
   "metadata": {},
   "outputs": [
    {
     "data": {
      "text/plain": [
       "array([False, False, False, False,  True, False, False, False,  True,\n",
       "       False, False, False])"
      ]
     },
     "execution_count": 89,
     "metadata": {},
     "output_type": "execute_result"
    }
   ],
   "source": [
    "monthly_sales > high_sales_threshold"
   ]
  },
  {
   "cell_type": "code",
   "execution_count": 91,
   "id": "2fbf15d8",
   "metadata": {},
   "outputs": [],
   "source": [
    "filter_condition = (monthly_sales > high_sales_threshold)"
   ]
  },
  {
   "cell_type": "code",
   "execution_count": 92,
   "id": "84fd6b4f",
   "metadata": {},
   "outputs": [
    {
     "data": {
      "text/plain": [
       "array([92, 95])"
      ]
     },
     "execution_count": 92,
     "metadata": {},
     "output_type": "execute_result"
    }
   ],
   "source": [
    "monthly_sales[filter_condition]"
   ]
  },
  {
   "cell_type": "code",
   "execution_count": 88,
   "id": "fd451d3c",
   "metadata": {},
   "outputs": [
    {
     "name": "stdout",
     "output_type": "stream",
     "text": [
      "Months with High Sales: [92 95]\n"
     ]
    }
   ],
   "source": [
    "high_sales_threshold = 90\n",
    "high_sales_months = monthly_sales[monthly_sales > high_sales_threshold]\n",
    "print(\"Months with High Sales:\", high_sales_months)"
   ]
  },
  {
   "cell_type": "markdown",
   "id": "a3bebe68",
   "metadata": {},
   "source": [
    "## Multi-Dimensional Arrays\n",
    ">**Concept**: Introduce multi-dimensional arrays and operations on them.<br>\n",
    "**Example**: Represent and manipulate data in a matrix format, such as sales data across multiple regions.<br>\n",
    "**Business Application**: Calculate regional sales totals."
   ]
  },
  {
   "cell_type": "code",
   "execution_count": 93,
   "id": "c8b2b3aa",
   "metadata": {},
   "outputs": [
    {
     "data": {
      "text/plain": [
       "(3, 4)"
      ]
     },
     "execution_count": 93,
     "metadata": {},
     "output_type": "execute_result"
    }
   ],
   "source": [
    "regional_sales.shape"
   ]
  },
  {
   "cell_type": "code",
   "execution_count": 94,
   "id": "fadc9d48",
   "metadata": {},
   "outputs": [
    {
     "name": "stdout",
     "output_type": "stream",
     "text": [
      "Total Sales by Region: [1300 1100 1500] thousand dollars\n"
     ]
    }
   ],
   "source": [
    "# Sales data: rows represent regions, columns represent quarters\n",
    "regional_sales = np.array([[250, 300, 400, 350],\n",
    "                           [200, 250, 350, 300],\n",
    "                           [300, 350, 450, 400]\n",
    "                          ]\n",
    "                         )\n",
    "total_regional_sales = regional_sales.sum(axis=1)\n",
    "print(\"Total Sales by Region:\",\n",
    "      total_regional_sales,\n",
    "      \"thousand dollars\")\n",
    "\n",
    "# Question: what does \"axis = 1\" do?\n"
   ]
  },
  {
   "cell_type": "markdown",
   "id": "861c46bf",
   "metadata": {},
   "source": [
    "# Pandas!!!!!<a class=\"anchor\" id=pandas></a>\n",
    "\n",
    "A Python module worth knowing REALLY well\n",
    "> There are two major data structures in Pandas\n",
    "> 1. Pandas Series\n",
    "> 2. Pandas dataframe\n",
    "\n",
    "[Go Up!](#outline)"
   ]
  },
  {
   "cell_type": "code",
   "execution_count": 6,
   "id": "667c3cb0",
   "metadata": {},
   "outputs": [],
   "source": [
    "import pandas as pd"
   ]
  },
  {
   "cell_type": "code",
   "execution_count": 7,
   "id": "5cad5a6e",
   "metadata": {},
   "outputs": [
    {
     "name": "stdout",
     "output_type": "stream",
     "text": [
      "Intro_to_Modules_Numpy_Pandas.ipynb  data.csv\r\n"
     ]
    }
   ],
   "source": [
    "ls"
   ]
  },
  {
   "cell_type": "code",
   "execution_count": 8,
   "id": "934d03e9",
   "metadata": {},
   "outputs": [],
   "source": [
    "my_first_df = pd.read_csv('data.csv')"
   ]
  },
  {
   "cell_type": "code",
   "execution_count": 13,
   "id": "025c284c",
   "metadata": {},
   "outputs": [
    {
     "data": {
      "text/html": [
       "<div>\n",
       "<style scoped>\n",
       "    .dataframe tbody tr th:only-of-type {\n",
       "        vertical-align: middle;\n",
       "    }\n",
       "\n",
       "    .dataframe tbody tr th {\n",
       "        vertical-align: top;\n",
       "    }\n",
       "\n",
       "    .dataframe thead th {\n",
       "        text-align: right;\n",
       "    }\n",
       "</style>\n",
       "<table border=\"1\" class=\"dataframe\">\n",
       "  <thead>\n",
       "    <tr style=\"text-align: right;\">\n",
       "      <th></th>\n",
       "      <th>Make</th>\n",
       "      <th>Model</th>\n",
       "      <th>Year</th>\n",
       "      <th>engine_fuel_type</th>\n",
       "      <th>horse_power</th>\n",
       "      <th>cylinders</th>\n",
       "      <th>transmission_type</th>\n",
       "      <th>drive_train</th>\n",
       "      <th>num_of_doors</th>\n",
       "      <th>market_category</th>\n",
       "      <th>vehicle_size</th>\n",
       "      <th>vehicle_style</th>\n",
       "      <th>highway_mpg</th>\n",
       "      <th>city_mpg</th>\n",
       "      <th>popularity_index</th>\n",
       "      <th>MSRP</th>\n",
       "    </tr>\n",
       "  </thead>\n",
       "  <tbody>\n",
       "    <tr>\n",
       "      <th>11894</th>\n",
       "      <td>BMW</td>\n",
       "      <td>Z4</td>\n",
       "      <td>2014</td>\n",
       "      <td>premium unleaded (required)</td>\n",
       "      <td>240.0</td>\n",
       "      <td>4.0</td>\n",
       "      <td>MANUAL</td>\n",
       "      <td>rear wheel drive</td>\n",
       "      <td>2.0</td>\n",
       "      <td>Luxury,Performance</td>\n",
       "      <td>Compact</td>\n",
       "      <td>Convertible</td>\n",
       "      <td>34</td>\n",
       "      <td>22</td>\n",
       "      <td>3916</td>\n",
       "      <td>48950</td>\n",
       "    </tr>\n",
       "    <tr>\n",
       "      <th>11895</th>\n",
       "      <td>BMW</td>\n",
       "      <td>Z4</td>\n",
       "      <td>2014</td>\n",
       "      <td>premium unleaded (required)</td>\n",
       "      <td>300.0</td>\n",
       "      <td>6.0</td>\n",
       "      <td>MANUAL</td>\n",
       "      <td>rear wheel drive</td>\n",
       "      <td>2.0</td>\n",
       "      <td>Luxury,High-Performance</td>\n",
       "      <td>Compact</td>\n",
       "      <td>Convertible</td>\n",
       "      <td>26</td>\n",
       "      <td>19</td>\n",
       "      <td>3916</td>\n",
       "      <td>56950</td>\n",
       "    </tr>\n",
       "    <tr>\n",
       "      <th>11896</th>\n",
       "      <td>BMW</td>\n",
       "      <td>Z4</td>\n",
       "      <td>2014</td>\n",
       "      <td>premium unleaded (required)</td>\n",
       "      <td>335.0</td>\n",
       "      <td>6.0</td>\n",
       "      <td>AUTOMATED_MANUAL</td>\n",
       "      <td>rear wheel drive</td>\n",
       "      <td>2.0</td>\n",
       "      <td>Luxury,High-Performance</td>\n",
       "      <td>Compact</td>\n",
       "      <td>Convertible</td>\n",
       "      <td>24</td>\n",
       "      <td>17</td>\n",
       "      <td>3916</td>\n",
       "      <td>65800</td>\n",
       "    </tr>\n",
       "    <tr>\n",
       "      <th>11897</th>\n",
       "      <td>BMW</td>\n",
       "      <td>Z4</td>\n",
       "      <td>2015</td>\n",
       "      <td>premium unleaded (required)</td>\n",
       "      <td>240.0</td>\n",
       "      <td>4.0</td>\n",
       "      <td>MANUAL</td>\n",
       "      <td>rear wheel drive</td>\n",
       "      <td>2.0</td>\n",
       "      <td>Luxury,Performance</td>\n",
       "      <td>Compact</td>\n",
       "      <td>Convertible</td>\n",
       "      <td>34</td>\n",
       "      <td>22</td>\n",
       "      <td>3916</td>\n",
       "      <td>48950</td>\n",
       "    </tr>\n",
       "    <tr>\n",
       "      <th>11898</th>\n",
       "      <td>BMW</td>\n",
       "      <td>Z4</td>\n",
       "      <td>2015</td>\n",
       "      <td>premium unleaded (required)</td>\n",
       "      <td>300.0</td>\n",
       "      <td>6.0</td>\n",
       "      <td>AUTOMATED_MANUAL</td>\n",
       "      <td>rear wheel drive</td>\n",
       "      <td>2.0</td>\n",
       "      <td>Luxury,High-Performance</td>\n",
       "      <td>Compact</td>\n",
       "      <td>Convertible</td>\n",
       "      <td>24</td>\n",
       "      <td>17</td>\n",
       "      <td>3916</td>\n",
       "      <td>56950</td>\n",
       "    </tr>\n",
       "    <tr>\n",
       "      <th>11899</th>\n",
       "      <td>BMW</td>\n",
       "      <td>Z4</td>\n",
       "      <td>2015</td>\n",
       "      <td>premium unleaded (required)</td>\n",
       "      <td>335.0</td>\n",
       "      <td>6.0</td>\n",
       "      <td>AUTOMATED_MANUAL</td>\n",
       "      <td>rear wheel drive</td>\n",
       "      <td>2.0</td>\n",
       "      <td>Luxury,High-Performance</td>\n",
       "      <td>Compact</td>\n",
       "      <td>Convertible</td>\n",
       "      <td>24</td>\n",
       "      <td>17</td>\n",
       "      <td>3916</td>\n",
       "      <td>65800</td>\n",
       "    </tr>\n",
       "    <tr>\n",
       "      <th>11900</th>\n",
       "      <td>BMW</td>\n",
       "      <td>Z4</td>\n",
       "      <td>2016</td>\n",
       "      <td>premium unleaded (required)</td>\n",
       "      <td>300.0</td>\n",
       "      <td>6.0</td>\n",
       "      <td>AUTOMATED_MANUAL</td>\n",
       "      <td>rear wheel drive</td>\n",
       "      <td>2.0</td>\n",
       "      <td>Luxury,High-Performance</td>\n",
       "      <td>Compact</td>\n",
       "      <td>Convertible</td>\n",
       "      <td>24</td>\n",
       "      <td>17</td>\n",
       "      <td>3916</td>\n",
       "      <td>57500</td>\n",
       "    </tr>\n",
       "    <tr>\n",
       "      <th>11901</th>\n",
       "      <td>BMW</td>\n",
       "      <td>Z4</td>\n",
       "      <td>2016</td>\n",
       "      <td>premium unleaded (required)</td>\n",
       "      <td>240.0</td>\n",
       "      <td>4.0</td>\n",
       "      <td>MANUAL</td>\n",
       "      <td>rear wheel drive</td>\n",
       "      <td>2.0</td>\n",
       "      <td>Luxury,Performance</td>\n",
       "      <td>Compact</td>\n",
       "      <td>Convertible</td>\n",
       "      <td>34</td>\n",
       "      <td>22</td>\n",
       "      <td>3916</td>\n",
       "      <td>49700</td>\n",
       "    </tr>\n",
       "    <tr>\n",
       "      <th>11902</th>\n",
       "      <td>BMW</td>\n",
       "      <td>Z4</td>\n",
       "      <td>2016</td>\n",
       "      <td>premium unleaded (required)</td>\n",
       "      <td>335.0</td>\n",
       "      <td>6.0</td>\n",
       "      <td>AUTOMATED_MANUAL</td>\n",
       "      <td>rear wheel drive</td>\n",
       "      <td>2.0</td>\n",
       "      <td>Luxury,High-Performance</td>\n",
       "      <td>Compact</td>\n",
       "      <td>Convertible</td>\n",
       "      <td>24</td>\n",
       "      <td>17</td>\n",
       "      <td>3916</td>\n",
       "      <td>66350</td>\n",
       "    </tr>\n",
       "    <tr>\n",
       "      <th>11903</th>\n",
       "      <td>BMW</td>\n",
       "      <td>Z8</td>\n",
       "      <td>2001</td>\n",
       "      <td>premium unleaded (required)</td>\n",
       "      <td>394.0</td>\n",
       "      <td>8.0</td>\n",
       "      <td>MANUAL</td>\n",
       "      <td>rear wheel drive</td>\n",
       "      <td>2.0</td>\n",
       "      <td>Exotic,Luxury,High-Performance</td>\n",
       "      <td>Compact</td>\n",
       "      <td>Convertible</td>\n",
       "      <td>19</td>\n",
       "      <td>12</td>\n",
       "      <td>3916</td>\n",
       "      <td>128000</td>\n",
       "    </tr>\n",
       "    <tr>\n",
       "      <th>11904</th>\n",
       "      <td>BMW</td>\n",
       "      <td>Z8</td>\n",
       "      <td>2002</td>\n",
       "      <td>premium unleaded (required)</td>\n",
       "      <td>394.0</td>\n",
       "      <td>8.0</td>\n",
       "      <td>MANUAL</td>\n",
       "      <td>rear wheel drive</td>\n",
       "      <td>2.0</td>\n",
       "      <td>Exotic,Luxury,High-Performance</td>\n",
       "      <td>Compact</td>\n",
       "      <td>Convertible</td>\n",
       "      <td>19</td>\n",
       "      <td>12</td>\n",
       "      <td>3916</td>\n",
       "      <td>130000</td>\n",
       "    </tr>\n",
       "    <tr>\n",
       "      <th>11905</th>\n",
       "      <td>BMW</td>\n",
       "      <td>Z8</td>\n",
       "      <td>2003</td>\n",
       "      <td>premium unleaded (required)</td>\n",
       "      <td>394.0</td>\n",
       "      <td>8.0</td>\n",
       "      <td>MANUAL</td>\n",
       "      <td>rear wheel drive</td>\n",
       "      <td>2.0</td>\n",
       "      <td>Exotic,Luxury,High-Performance</td>\n",
       "      <td>Compact</td>\n",
       "      <td>Convertible</td>\n",
       "      <td>19</td>\n",
       "      <td>12</td>\n",
       "      <td>3916</td>\n",
       "      <td>131500</td>\n",
       "    </tr>\n",
       "    <tr>\n",
       "      <th>11906</th>\n",
       "      <td>Acura</td>\n",
       "      <td>ZDX</td>\n",
       "      <td>2011</td>\n",
       "      <td>premium unleaded (required)</td>\n",
       "      <td>300.0</td>\n",
       "      <td>6.0</td>\n",
       "      <td>AUTOMATIC</td>\n",
       "      <td>all wheel drive</td>\n",
       "      <td>4.0</td>\n",
       "      <td>Crossover,Hatchback,Luxury</td>\n",
       "      <td>Midsize</td>\n",
       "      <td>4dr Hatchback</td>\n",
       "      <td>23</td>\n",
       "      <td>16</td>\n",
       "      <td>204</td>\n",
       "      <td>46020</td>\n",
       "    </tr>\n",
       "    <tr>\n",
       "      <th>11907</th>\n",
       "      <td>Acura</td>\n",
       "      <td>ZDX</td>\n",
       "      <td>2011</td>\n",
       "      <td>premium unleaded (required)</td>\n",
       "      <td>300.0</td>\n",
       "      <td>6.0</td>\n",
       "      <td>AUTOMATIC</td>\n",
       "      <td>all wheel drive</td>\n",
       "      <td>4.0</td>\n",
       "      <td>Crossover,Hatchback,Luxury</td>\n",
       "      <td>Midsize</td>\n",
       "      <td>4dr Hatchback</td>\n",
       "      <td>23</td>\n",
       "      <td>16</td>\n",
       "      <td>204</td>\n",
       "      <td>56570</td>\n",
       "    </tr>\n",
       "    <tr>\n",
       "      <th>11908</th>\n",
       "      <td>Acura</td>\n",
       "      <td>ZDX</td>\n",
       "      <td>2011</td>\n",
       "      <td>premium unleaded (required)</td>\n",
       "      <td>300.0</td>\n",
       "      <td>6.0</td>\n",
       "      <td>AUTOMATIC</td>\n",
       "      <td>all wheel drive</td>\n",
       "      <td>4.0</td>\n",
       "      <td>Crossover,Hatchback,Luxury</td>\n",
       "      <td>Midsize</td>\n",
       "      <td>4dr Hatchback</td>\n",
       "      <td>23</td>\n",
       "      <td>16</td>\n",
       "      <td>204</td>\n",
       "      <td>50520</td>\n",
       "    </tr>\n",
       "    <tr>\n",
       "      <th>11909</th>\n",
       "      <td>Acura</td>\n",
       "      <td>ZDX</td>\n",
       "      <td>2012</td>\n",
       "      <td>premium unleaded (required)</td>\n",
       "      <td>300.0</td>\n",
       "      <td>6.0</td>\n",
       "      <td>AUTOMATIC</td>\n",
       "      <td>all wheel drive</td>\n",
       "      <td>4.0</td>\n",
       "      <td>Crossover,Hatchback,Luxury</td>\n",
       "      <td>Midsize</td>\n",
       "      <td>4dr Hatchback</td>\n",
       "      <td>23</td>\n",
       "      <td>16</td>\n",
       "      <td>204</td>\n",
       "      <td>46120</td>\n",
       "    </tr>\n",
       "    <tr>\n",
       "      <th>11910</th>\n",
       "      <td>Acura</td>\n",
       "      <td>ZDX</td>\n",
       "      <td>2012</td>\n",
       "      <td>premium unleaded (required)</td>\n",
       "      <td>300.0</td>\n",
       "      <td>6.0</td>\n",
       "      <td>AUTOMATIC</td>\n",
       "      <td>all wheel drive</td>\n",
       "      <td>4.0</td>\n",
       "      <td>Crossover,Hatchback,Luxury</td>\n",
       "      <td>Midsize</td>\n",
       "      <td>4dr Hatchback</td>\n",
       "      <td>23</td>\n",
       "      <td>16</td>\n",
       "      <td>204</td>\n",
       "      <td>56670</td>\n",
       "    </tr>\n",
       "    <tr>\n",
       "      <th>11911</th>\n",
       "      <td>Acura</td>\n",
       "      <td>ZDX</td>\n",
       "      <td>2012</td>\n",
       "      <td>premium unleaded (required)</td>\n",
       "      <td>300.0</td>\n",
       "      <td>6.0</td>\n",
       "      <td>AUTOMATIC</td>\n",
       "      <td>all wheel drive</td>\n",
       "      <td>4.0</td>\n",
       "      <td>Crossover,Hatchback,Luxury</td>\n",
       "      <td>Midsize</td>\n",
       "      <td>4dr Hatchback</td>\n",
       "      <td>23</td>\n",
       "      <td>16</td>\n",
       "      <td>204</td>\n",
       "      <td>50620</td>\n",
       "    </tr>\n",
       "    <tr>\n",
       "      <th>11912</th>\n",
       "      <td>Acura</td>\n",
       "      <td>ZDX</td>\n",
       "      <td>2013</td>\n",
       "      <td>premium unleaded (recommended)</td>\n",
       "      <td>300.0</td>\n",
       "      <td>6.0</td>\n",
       "      <td>AUTOMATIC</td>\n",
       "      <td>all wheel drive</td>\n",
       "      <td>4.0</td>\n",
       "      <td>Crossover,Hatchback,Luxury</td>\n",
       "      <td>Midsize</td>\n",
       "      <td>4dr Hatchback</td>\n",
       "      <td>23</td>\n",
       "      <td>16</td>\n",
       "      <td>204</td>\n",
       "      <td>50920</td>\n",
       "    </tr>\n",
       "    <tr>\n",
       "      <th>11913</th>\n",
       "      <td>Lincoln</td>\n",
       "      <td>Zephyr</td>\n",
       "      <td>2006</td>\n",
       "      <td>regular unleaded</td>\n",
       "      <td>221.0</td>\n",
       "      <td>6.0</td>\n",
       "      <td>AUTOMATIC</td>\n",
       "      <td>front wheel drive</td>\n",
       "      <td>4.0</td>\n",
       "      <td>Luxury</td>\n",
       "      <td>Midsize</td>\n",
       "      <td>Sedan</td>\n",
       "      <td>26</td>\n",
       "      <td>17</td>\n",
       "      <td>61</td>\n",
       "      <td>28995</td>\n",
       "    </tr>\n",
       "  </tbody>\n",
       "</table>\n",
       "</div>"
      ],
      "text/plain": [
       "          Make   Model  Year                engine_fuel_type  horse_power  \\\n",
       "11894      BMW      Z4  2014     premium unleaded (required)        240.0   \n",
       "11895      BMW      Z4  2014     premium unleaded (required)        300.0   \n",
       "11896      BMW      Z4  2014     premium unleaded (required)        335.0   \n",
       "11897      BMW      Z4  2015     premium unleaded (required)        240.0   \n",
       "11898      BMW      Z4  2015     premium unleaded (required)        300.0   \n",
       "11899      BMW      Z4  2015     premium unleaded (required)        335.0   \n",
       "11900      BMW      Z4  2016     premium unleaded (required)        300.0   \n",
       "11901      BMW      Z4  2016     premium unleaded (required)        240.0   \n",
       "11902      BMW      Z4  2016     premium unleaded (required)        335.0   \n",
       "11903      BMW      Z8  2001     premium unleaded (required)        394.0   \n",
       "11904      BMW      Z8  2002     premium unleaded (required)        394.0   \n",
       "11905      BMW      Z8  2003     premium unleaded (required)        394.0   \n",
       "11906    Acura     ZDX  2011     premium unleaded (required)        300.0   \n",
       "11907    Acura     ZDX  2011     premium unleaded (required)        300.0   \n",
       "11908    Acura     ZDX  2011     premium unleaded (required)        300.0   \n",
       "11909    Acura     ZDX  2012     premium unleaded (required)        300.0   \n",
       "11910    Acura     ZDX  2012     premium unleaded (required)        300.0   \n",
       "11911    Acura     ZDX  2012     premium unleaded (required)        300.0   \n",
       "11912    Acura     ZDX  2013  premium unleaded (recommended)        300.0   \n",
       "11913  Lincoln  Zephyr  2006                regular unleaded        221.0   \n",
       "\n",
       "       cylinders transmission_type        drive_train  num_of_doors  \\\n",
       "11894        4.0            MANUAL   rear wheel drive           2.0   \n",
       "11895        6.0            MANUAL   rear wheel drive           2.0   \n",
       "11896        6.0  AUTOMATED_MANUAL   rear wheel drive           2.0   \n",
       "11897        4.0            MANUAL   rear wheel drive           2.0   \n",
       "11898        6.0  AUTOMATED_MANUAL   rear wheel drive           2.0   \n",
       "11899        6.0  AUTOMATED_MANUAL   rear wheel drive           2.0   \n",
       "11900        6.0  AUTOMATED_MANUAL   rear wheel drive           2.0   \n",
       "11901        4.0            MANUAL   rear wheel drive           2.0   \n",
       "11902        6.0  AUTOMATED_MANUAL   rear wheel drive           2.0   \n",
       "11903        8.0            MANUAL   rear wheel drive           2.0   \n",
       "11904        8.0            MANUAL   rear wheel drive           2.0   \n",
       "11905        8.0            MANUAL   rear wheel drive           2.0   \n",
       "11906        6.0         AUTOMATIC    all wheel drive           4.0   \n",
       "11907        6.0         AUTOMATIC    all wheel drive           4.0   \n",
       "11908        6.0         AUTOMATIC    all wheel drive           4.0   \n",
       "11909        6.0         AUTOMATIC    all wheel drive           4.0   \n",
       "11910        6.0         AUTOMATIC    all wheel drive           4.0   \n",
       "11911        6.0         AUTOMATIC    all wheel drive           4.0   \n",
       "11912        6.0         AUTOMATIC    all wheel drive           4.0   \n",
       "11913        6.0         AUTOMATIC  front wheel drive           4.0   \n",
       "\n",
       "                      market_category vehicle_size  vehicle_style  \\\n",
       "11894              Luxury,Performance      Compact    Convertible   \n",
       "11895         Luxury,High-Performance      Compact    Convertible   \n",
       "11896         Luxury,High-Performance      Compact    Convertible   \n",
       "11897              Luxury,Performance      Compact    Convertible   \n",
       "11898         Luxury,High-Performance      Compact    Convertible   \n",
       "11899         Luxury,High-Performance      Compact    Convertible   \n",
       "11900         Luxury,High-Performance      Compact    Convertible   \n",
       "11901              Luxury,Performance      Compact    Convertible   \n",
       "11902         Luxury,High-Performance      Compact    Convertible   \n",
       "11903  Exotic,Luxury,High-Performance      Compact    Convertible   \n",
       "11904  Exotic,Luxury,High-Performance      Compact    Convertible   \n",
       "11905  Exotic,Luxury,High-Performance      Compact    Convertible   \n",
       "11906      Crossover,Hatchback,Luxury      Midsize  4dr Hatchback   \n",
       "11907      Crossover,Hatchback,Luxury      Midsize  4dr Hatchback   \n",
       "11908      Crossover,Hatchback,Luxury      Midsize  4dr Hatchback   \n",
       "11909      Crossover,Hatchback,Luxury      Midsize  4dr Hatchback   \n",
       "11910      Crossover,Hatchback,Luxury      Midsize  4dr Hatchback   \n",
       "11911      Crossover,Hatchback,Luxury      Midsize  4dr Hatchback   \n",
       "11912      Crossover,Hatchback,Luxury      Midsize  4dr Hatchback   \n",
       "11913                          Luxury      Midsize          Sedan   \n",
       "\n",
       "       highway_mpg  city_mpg  popularity_index    MSRP  \n",
       "11894           34        22              3916   48950  \n",
       "11895           26        19              3916   56950  \n",
       "11896           24        17              3916   65800  \n",
       "11897           34        22              3916   48950  \n",
       "11898           24        17              3916   56950  \n",
       "11899           24        17              3916   65800  \n",
       "11900           24        17              3916   57500  \n",
       "11901           34        22              3916   49700  \n",
       "11902           24        17              3916   66350  \n",
       "11903           19        12              3916  128000  \n",
       "11904           19        12              3916  130000  \n",
       "11905           19        12              3916  131500  \n",
       "11906           23        16               204   46020  \n",
       "11907           23        16               204   56570  \n",
       "11908           23        16               204   50520  \n",
       "11909           23        16               204   46120  \n",
       "11910           23        16               204   56670  \n",
       "11911           23        16               204   50620  \n",
       "11912           23        16               204   50920  \n",
       "11913           26        17                61   28995  "
      ]
     },
     "execution_count": 13,
     "metadata": {},
     "output_type": "execute_result"
    }
   ],
   "source": [
    "my_first_df.tail(20)"
   ]
  },
  {
   "cell_type": "code",
   "execution_count": null,
   "id": "944e8c06",
   "metadata": {},
   "outputs": [],
   "source": []
  },
  {
   "cell_type": "code",
   "execution_count": null,
   "id": "81f6af25",
   "metadata": {},
   "outputs": [],
   "source": []
  },
  {
   "cell_type": "code",
   "execution_count": null,
   "id": "f63cf20f",
   "metadata": {},
   "outputs": [],
   "source": []
  },
  {
   "cell_type": "code",
   "execution_count": null,
   "id": "900569db",
   "metadata": {},
   "outputs": [],
   "source": []
  },
  {
   "cell_type": "code",
   "execution_count": null,
   "id": "f7e283cf",
   "metadata": {},
   "outputs": [],
   "source": []
  },
  {
   "cell_type": "code",
   "execution_count": null,
   "id": "1efffdf9",
   "metadata": {},
   "outputs": [],
   "source": []
  }
 ],
 "metadata": {
  "kernelspec": {
   "display_name": "Python [conda env:miniforge3]",
   "language": "python",
   "name": "conda-env-miniforge3-py"
  },
  "language_info": {
   "codemirror_mode": {
    "name": "ipython",
    "version": 3
   },
   "file_extension": ".py",
   "mimetype": "text/x-python",
   "name": "python",
   "nbconvert_exporter": "python",
   "pygments_lexer": "ipython3",
   "version": "3.9.1"
  }
 },
 "nbformat": 4,
 "nbformat_minor": 5
}
