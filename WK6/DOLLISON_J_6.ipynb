{
 "cells": [
  {
   "cell_type": "markdown",
   "id": "b4fa532e-ae84-460d-bd79-1e4130d553c1",
   "metadata": {},
   "source": [
    "# Individual Assignment - Week 6\n",
    "\n",
    "## Individual Assignment - Web Presentation\n",
    "\n",
    "### Joshua Dollison\n",
    "### CIS591-86718\n",
    "### 10/07/2025"
   ]
  },
  {
   "cell_type": "markdown",
   "id": "9cd1c8c1-ccb0-438e-9266-93c78cf7647b",
   "metadata": {},
   "source": [
    "## Intro\n",
    "\n",
    "I am using the streamlit libraries to publish the visualizations that were created in the week 5 individual assignment.\n",
    "\n",
    "I have kept the structure of the Jupyter notebook submitted last week.  Each cell, however, instead of outputting to the notebook output, uses the writefile magic cell keyword with the append flag.  Thus, each cell successively builds out the entire file that gets run at the end of the notebook.\n",
    "\n",
    "It's probably a weird choice to build this from a Jupyter notebook, but I believe that this allows me to best organize the components that go into creating this file in a more manageable way within the notebook."
   ]
  },
  {
   "cell_type": "markdown",
   "id": "3493ecb8-1463-4b15-96f9-6ce070fe7e96",
   "metadata": {},
   "source": [
    "### Prep our web output\n",
    "\n",
    "- Install the libs if necessary\n",
    "- Init our file\n"
   ]
  },
  {
   "cell_type": "code",
   "execution_count": 1,
   "id": "c3bc2758-a8ba-4ab5-966f-1517750c690e",
   "metadata": {},
   "outputs": [
    {
     "name": "stdout",
     "output_type": "stream",
     "text": [
      "Requirement already satisfied: streamlit in /Users/joshuadollison/opt/anaconda3/envs/py312/lib/python3.12/site-packages (1.50.0)\n",
      "Requirement already satisfied: altair!=5.4.0,!=5.4.1,<6,>=4.0 in /Users/joshuadollison/opt/anaconda3/envs/py312/lib/python3.12/site-packages (from streamlit) (5.5.0)\n",
      "Requirement already satisfied: blinker<2,>=1.5.0 in /Users/joshuadollison/opt/anaconda3/envs/py312/lib/python3.12/site-packages (from streamlit) (1.9.0)\n",
      "Requirement already satisfied: cachetools<7,>=4.0 in /Users/joshuadollison/opt/anaconda3/envs/py312/lib/python3.12/site-packages (from streamlit) (6.2.0)\n",
      "Requirement already satisfied: click<9,>=7.0 in /Users/joshuadollison/opt/anaconda3/envs/py312/lib/python3.12/site-packages (from streamlit) (8.2.1)\n",
      "Requirement already satisfied: numpy<3,>=1.23 in /Users/joshuadollison/opt/anaconda3/envs/py312/lib/python3.12/site-packages (from streamlit) (2.2.1)\n",
      "Requirement already satisfied: packaging<26,>=20 in /Users/joshuadollison/opt/anaconda3/envs/py312/lib/python3.12/site-packages (from streamlit) (24.2)\n",
      "Requirement already satisfied: pandas<3,>=1.4.0 in /Users/joshuadollison/opt/anaconda3/envs/py312/lib/python3.12/site-packages (from streamlit) (2.2.3)\n",
      "Requirement already satisfied: pillow<12,>=7.1.0 in /Users/joshuadollison/opt/anaconda3/envs/py312/lib/python3.12/site-packages (from streamlit) (11.0.0)\n",
      "Requirement already satisfied: protobuf<7,>=3.20 in /Users/joshuadollison/opt/anaconda3/envs/py312/lib/python3.12/site-packages (from streamlit) (6.32.1)\n",
      "Requirement already satisfied: pyarrow>=7.0 in /Users/joshuadollison/opt/anaconda3/envs/py312/lib/python3.12/site-packages (from streamlit) (21.0.0)\n",
      "Requirement already satisfied: requests<3,>=2.27 in /Users/joshuadollison/opt/anaconda3/envs/py312/lib/python3.12/site-packages (from streamlit) (2.32.3)\n",
      "Requirement already satisfied: tenacity<10,>=8.1.0 in /Users/joshuadollison/opt/anaconda3/envs/py312/lib/python3.12/site-packages (from streamlit) (9.1.2)\n",
      "Requirement already satisfied: toml<2,>=0.10.1 in /Users/joshuadollison/opt/anaconda3/envs/py312/lib/python3.12/site-packages (from streamlit) (0.10.2)\n",
      "Requirement already satisfied: typing-extensions<5,>=4.4.0 in /Users/joshuadollison/opt/anaconda3/envs/py312/lib/python3.12/site-packages (from streamlit) (4.12.2)\n",
      "Requirement already satisfied: gitpython!=3.1.19,<4,>=3.0.7 in /Users/joshuadollison/opt/anaconda3/envs/py312/lib/python3.12/site-packages (from streamlit) (3.1.45)\n",
      "Requirement already satisfied: pydeck<1,>=0.8.0b4 in /Users/joshuadollison/opt/anaconda3/envs/py312/lib/python3.12/site-packages (from streamlit) (0.9.1)\n",
      "Requirement already satisfied: tornado!=6.5.0,<7,>=6.0.3 in /Users/joshuadollison/opt/anaconda3/envs/py312/lib/python3.12/site-packages (from streamlit) (6.4.2)\n",
      "Requirement already satisfied: jinja2 in /Users/joshuadollison/opt/anaconda3/envs/py312/lib/python3.12/site-packages (from altair!=5.4.0,!=5.4.1,<6,>=4.0->streamlit) (3.1.5)\n",
      "Requirement already satisfied: jsonschema>=3.0 in /Users/joshuadollison/opt/anaconda3/envs/py312/lib/python3.12/site-packages (from altair!=5.4.0,!=5.4.1,<6,>=4.0->streamlit) (4.25.0)\n",
      "Requirement already satisfied: narwhals>=1.14.2 in /Users/joshuadollison/opt/anaconda3/envs/py312/lib/python3.12/site-packages (from altair!=5.4.0,!=5.4.1,<6,>=4.0->streamlit) (1.31.0)\n",
      "Requirement already satisfied: gitdb<5,>=4.0.1 in /Users/joshuadollison/opt/anaconda3/envs/py312/lib/python3.12/site-packages (from gitpython!=3.1.19,<4,>=3.0.7->streamlit) (4.0.12)\n",
      "Requirement already satisfied: python-dateutil>=2.8.2 in /Users/joshuadollison/opt/anaconda3/envs/py312/lib/python3.12/site-packages (from pandas<3,>=1.4.0->streamlit) (2.9.0.post0)\n",
      "Requirement already satisfied: pytz>=2020.1 in /Users/joshuadollison/opt/anaconda3/envs/py312/lib/python3.12/site-packages (from pandas<3,>=1.4.0->streamlit) (2024.2)\n",
      "Requirement already satisfied: tzdata>=2022.7 in /Users/joshuadollison/opt/anaconda3/envs/py312/lib/python3.12/site-packages (from pandas<3,>=1.4.0->streamlit) (2024.2)\n",
      "Requirement already satisfied: charset-normalizer<4,>=2 in /Users/joshuadollison/opt/anaconda3/envs/py312/lib/python3.12/site-packages (from requests<3,>=2.27->streamlit) (3.3.2)\n",
      "Requirement already satisfied: idna<4,>=2.5 in /Users/joshuadollison/opt/anaconda3/envs/py312/lib/python3.12/site-packages (from requests<3,>=2.27->streamlit) (3.10)\n",
      "Requirement already satisfied: urllib3<3,>=1.21.1 in /Users/joshuadollison/opt/anaconda3/envs/py312/lib/python3.12/site-packages (from requests<3,>=2.27->streamlit) (2.5.0)\n",
      "Requirement already satisfied: certifi>=2017.4.17 in /Users/joshuadollison/opt/anaconda3/envs/py312/lib/python3.12/site-packages (from requests<3,>=2.27->streamlit) (2025.8.3)\n",
      "Requirement already satisfied: smmap<6,>=3.0.1 in /Users/joshuadollison/opt/anaconda3/envs/py312/lib/python3.12/site-packages (from gitdb<5,>=4.0.1->gitpython!=3.1.19,<4,>=3.0.7->streamlit) (5.0.2)\n",
      "Requirement already satisfied: MarkupSafe>=2.0 in /Users/joshuadollison/opt/anaconda3/envs/py312/lib/python3.12/site-packages (from jinja2->altair!=5.4.0,!=5.4.1,<6,>=4.0->streamlit) (3.0.2)\n",
      "Requirement already satisfied: attrs>=22.2.0 in /Users/joshuadollison/opt/anaconda3/envs/py312/lib/python3.12/site-packages (from jsonschema>=3.0->altair!=5.4.0,!=5.4.1,<6,>=4.0->streamlit) (24.3.0)\n",
      "Requirement already satisfied: jsonschema-specifications>=2023.03.6 in /Users/joshuadollison/opt/anaconda3/envs/py312/lib/python3.12/site-packages (from jsonschema>=3.0->altair!=5.4.0,!=5.4.1,<6,>=4.0->streamlit) (2023.7.1)\n",
      "Requirement already satisfied: referencing>=0.28.4 in /Users/joshuadollison/opt/anaconda3/envs/py312/lib/python3.12/site-packages (from jsonschema>=3.0->altair!=5.4.0,!=5.4.1,<6,>=4.0->streamlit) (0.30.2)\n",
      "Requirement already satisfied: rpds-py>=0.7.1 in /Users/joshuadollison/opt/anaconda3/envs/py312/lib/python3.12/site-packages (from jsonschema>=3.0->altair!=5.4.0,!=5.4.1,<6,>=4.0->streamlit) (0.22.3)\n",
      "Requirement already satisfied: six>=1.5 in /Users/joshuadollison/opt/anaconda3/envs/py312/lib/python3.12/site-packages (from python-dateutil>=2.8.2->pandas<3,>=1.4.0->streamlit) (1.17.0)\n",
      "Requirement already satisfied: wordcloud in /Users/joshuadollison/opt/anaconda3/envs/py312/lib/python3.12/site-packages (1.9.4)\n",
      "Requirement already satisfied: matplotlib in /Users/joshuadollison/opt/anaconda3/envs/py312/lib/python3.12/site-packages (3.10.0)\n",
      "Requirement already satisfied: numpy>=1.6.1 in /Users/joshuadollison/opt/anaconda3/envs/py312/lib/python3.12/site-packages (from wordcloud) (2.2.1)\n",
      "Requirement already satisfied: pillow in /Users/joshuadollison/opt/anaconda3/envs/py312/lib/python3.12/site-packages (from wordcloud) (11.0.0)\n",
      "Requirement already satisfied: contourpy>=1.0.1 in /Users/joshuadollison/opt/anaconda3/envs/py312/lib/python3.12/site-packages (from matplotlib) (1.3.1)\n",
      "Requirement already satisfied: cycler>=0.10 in /Users/joshuadollison/opt/anaconda3/envs/py312/lib/python3.12/site-packages (from matplotlib) (0.12.1)\n",
      "Requirement already satisfied: fonttools>=4.22.0 in /Users/joshuadollison/opt/anaconda3/envs/py312/lib/python3.12/site-packages (from matplotlib) (4.55.3)\n",
      "Requirement already satisfied: kiwisolver>=1.3.1 in /Users/joshuadollison/opt/anaconda3/envs/py312/lib/python3.12/site-packages (from matplotlib) (1.4.7)\n",
      "Requirement already satisfied: packaging>=20.0 in /Users/joshuadollison/opt/anaconda3/envs/py312/lib/python3.12/site-packages (from matplotlib) (24.2)\n",
      "Requirement already satisfied: pyparsing>=2.3.1 in /Users/joshuadollison/opt/anaconda3/envs/py312/lib/python3.12/site-packages (from matplotlib) (3.2.0)\n",
      "Requirement already satisfied: python-dateutil>=2.7 in /Users/joshuadollison/opt/anaconda3/envs/py312/lib/python3.12/site-packages (from matplotlib) (2.9.0.post0)\n",
      "Requirement already satisfied: six>=1.5 in /Users/joshuadollison/opt/anaconda3/envs/py312/lib/python3.12/site-packages (from python-dateutil>=2.7->matplotlib) (1.17.0)\n",
      "Requirement already satisfied: plotly in /Users/joshuadollison/opt/anaconda3/envs/py312/lib/python3.12/site-packages (6.3.0)\n",
      "Requirement already satisfied: narwhals>=1.15.1 in /Users/joshuadollison/opt/anaconda3/envs/py312/lib/python3.12/site-packages (from plotly) (1.31.0)\n",
      "Requirement already satisfied: packaging in /Users/joshuadollison/opt/anaconda3/envs/py312/lib/python3.12/site-packages (from plotly) (24.2)\n"
     ]
    }
   ],
   "source": [
    "!pip install streamlit\n",
    "!pip install wordcloud matplotlib\n",
    "!pip install plotly"
   ]
  },
  {
   "cell_type": "code",
   "execution_count": 2,
   "id": "5c69cb83-f66f-4949-8ebf-001980a83919",
   "metadata": {},
   "outputs": [
    {
     "name": "stdout",
     "output_type": "stream",
     "text": [
      "Writing DOLLISON_J_6.py\n"
     ]
    }
   ],
   "source": [
    "%%writefile DOLLISON_J_6.py\n",
    "\n",
    "import calendar\n",
    "import streamlit as st\n",
    "import pandas as pd\n",
    "import plotly.graph_objects as go\n",
    "import numpy as np\n",
    "from scipy.stats import pearsonr\n",
    "import pandas as pd\n",
    "\n",
    "# Title and description\n",
    "st.title(\"CIS 591: Individual Assignment - Web presentation\")\n",
    "st.header(\"Mini Business Case Study - Sales Analytics for EcoTrek Solutions.\")\n",
    "st.write(\"I am a new hire at EcoTrek Solutions, a U.S.-based company that specializes in eco-friendly travel accessories. \\\n",
    "As a business data analyst, my role involves analyzing sales trends and providing insights to help shape the company's \\\n",
    "marketing and production strategies.\")\n",
    "st.write(\"Satisfied with the analysis results, the manager asks me to put the visualizations on the web.\")\n",
    "st.write(\"Find my work below...\")"
   ]
  },
  {
   "cell_type": "markdown",
   "id": "e0fa37b4-ca1a-455f-98b1-13d8b42bd517",
   "metadata": {},
   "source": [
    "### 1. GreenTote Unit Sales v Temperature\n",
    "\n",
    "The correlation between the sales performance of GreenTote and the temperature, using the data provided in the second assignment"
   ]
  },
  {
   "cell_type": "markdown",
   "id": "c3dee5b5-9b1c-40f9-ae70-9e8c76454d19",
   "metadata": {},
   "source": [
    "#### Load the data from week 2"
   ]
  },
  {
   "cell_type": "code",
   "execution_count": 3,
   "id": "d3c2c093-bb09-4170-a9b8-33347ebba337",
   "metadata": {},
   "outputs": [
    {
     "name": "stdout",
     "output_type": "stream",
     "text": [
      "Appending to DOLLISON_J_6.py\n"
     ]
    }
   ],
   "source": [
    "%%writefile -a DOLLISON_J_6.py\n",
    "\n",
    "# Load month names from calendar - shows for\n",
    "months = []\n",
    "for month_num in range(1, 13):\n",
    "    months.append(calendar.month_name[month_num])\n",
    "\n",
    "# Temperatures (°F)\n",
    "temperature = [40, 45, 55, 65, 75, 85, 90, 88, 86, 80, 70, 60]\n",
    "\n",
    "# GreenTote sales\n",
    "green_tote = [\n",
    "    87500, 100625, 115725, 132075, 148875, 164500,\n",
    "    172725, 185800, 180900, 170000, 165000, 160000\n",
    "]\n",
    "\n",
    "# Create DataFrame \n",
    "df = pd.DataFrame({\n",
    "    'month': months,\n",
    "    'temp': temperature,\n",
    "    'sales': green_tote\n",
    "})\n",
    "\n",
    "#display(df)"
   ]
  },
  {
   "cell_type": "markdown",
   "id": "8e44e962-ed41-4338-84d1-d794105a483b",
   "metadata": {},
   "source": [
    "#### Build our bar chart (FORKS UP!)"
   ]
  },
  {
   "cell_type": "code",
   "execution_count": 4,
   "id": "697649ad-9a02-467a-9724-034577889a6d",
   "metadata": {},
   "outputs": [
    {
     "name": "stdout",
     "output_type": "stream",
     "text": [
      "Appending to DOLLISON_J_6.py\n"
     ]
    }
   ],
   "source": [
    "%%writefile -a DOLLISON_J_6.py\n",
    "\n",
    "# Write our subheader for this section\n",
    "st.subheader(\"GreenTote Unit Sales vs Temperature:\")\n",
    "\n",
    "# Fit the regression line\n",
    "slope, intercept = np.polyfit(df['temp'], df['sales'], 1)\n",
    "x_line = np.linspace(df['temp'].min(), df['temp'].max(), 100)\n",
    "y_line = slope * x_line + intercept\n",
    "\n",
    "# Compute Pearson correlation\n",
    "r_value, p_value = pearsonr(df['temp'], df['sales'])\n",
    "\n",
    "# Plot a scatter plot in ASU blackout colors!\n",
    "fig = go.Figure()\n",
    "\n",
    "# Scatter plot points\n",
    "fig.add_trace(go.Scatter(\n",
    "    x=df['temp'],\n",
    "    y=df['sales'],\n",
    "    mode='markers+text',\n",
    "    text=df['month'],\n",
    "    textposition='top center',\n",
    "    name='Monthly Data',\n",
    "    marker=dict(\n",
    "        size=10,\n",
    "        color='#8C1D40',  # ASU Maroon\n",
    "        line=dict(width=2, color='#FFC627')  # ASU Gold border\n",
    "    )\n",
    "))\n",
    "\n",
    "# Add the calculated regression trend line\n",
    "fig.add_trace(go.Scatter(\n",
    "    x=x_line,\n",
    "    y=y_line,\n",
    "    mode='lines',\n",
    "    name='Trendline (Linear Regression)',\n",
    "    line=dict(color='#FFC627', width=3, dash='dash')  # ASU Gold, dashed\n",
    "))\n",
    "\n",
    "# show pearson results\n",
    "fig.add_annotation(\n",
    "    xref='paper', yref='paper',\n",
    "    x=0.01, y=0.95,\n",
    "    text=f\"Pearson r = {r_value:.3f}, p = {p_value:.6f}\",\n",
    "    showarrow=False,\n",
    "    font=dict(size=14, color='#FFC627'),\n",
    "    bgcolor=\"#8C1D40\",\n",
    "    bordercolor=\"#FFC627\",\n",
    "    borderwidth=1,\n",
    "    borderpad=4\n",
    ")\n",
    "\n",
    "# add details and render\n",
    "fig.update_layout(\n",
    "    title='Green Tote Sales vs Temperature (with Trendline & Pearson Correlation)',\n",
    "    xaxis_title='Temperature (°F)',\n",
    "    yaxis_title='Green Tote Sales',\n",
    "    height=600,\n",
    "    paper_bgcolor='#191919',\n",
    "    plot_bgcolor='#2E2E2E',\n",
    "    font=dict(family='Arial', size=14, color='#FFC627'),\n",
    "    title_font=dict(size=22, color='#8C1D40'),\n",
    "    xaxis=dict(\n",
    "        color='#FFC627',\n",
    "        gridcolor='#444',\n",
    "        zerolinecolor='#8C1D40',\n",
    "    ),\n",
    "    yaxis=dict(\n",
    "        color='#FFC627',\n",
    "        gridcolor='#444',\n",
    "        zerolinecolor='#8C1D40',\n",
    "    ),\n",
    "    hovermode='closest'\n",
    ")\n",
    "\n",
    "#fig.show()\n",
    "st.plotly_chart(fig)"
   ]
  },
  {
   "cell_type": "markdown",
   "id": "8f6eb7ea-f021-423f-bf20-da96d35dc20b",
   "metadata": {},
   "source": [
    "### 2. Sentiment - Categorical Comparison\n",
    "\n",
    "The number of customer reviews and the percentages in each of the three categories: positive, neutral, and negative"
   ]
  },
  {
   "cell_type": "markdown",
   "id": "5f3ad1d4-491f-4c1a-bc18-9cf05e2a8f4d",
   "metadata": {},
   "source": [
    "#### Load our data from last week (this will file will be uploaded with this notebook)"
   ]
  },
  {
   "cell_type": "code",
   "execution_count": 5,
   "id": "5a8f48a3-bd21-43f5-bf43-8203c284fc13",
   "metadata": {},
   "outputs": [
    {
     "name": "stdout",
     "output_type": "stream",
     "text": [
      "Appending to DOLLISON_J_6.py\n"
     ]
    }
   ],
   "source": [
    "%%writefile -a DOLLISON_J_6.py\n",
    "df = pd.read_csv('DOLLISON_JOSHUA_sentiment.csv')\n",
    "#df"
   ]
  },
  {
   "cell_type": "markdown",
   "id": "0d2ea1a7-73d3-4d8d-88d3-d70c00f36037",
   "metadata": {},
   "source": [
    "#### Render our visualizations.\n",
    "\n",
    "I felt like a bar chart best represented the counts.  The instructions specifically said \"number of\", so I included the total reviews in the title of the bar subplot.\n",
    "\n",
    "I felt like a pie chart best represented the percentage views."
   ]
  },
  {
   "cell_type": "code",
   "execution_count": 6,
   "id": "545d072f-b612-414d-bb53-7185da6dff5f",
   "metadata": {},
   "outputs": [
    {
     "name": "stdout",
     "output_type": "stream",
     "text": [
      "Appending to DOLLISON_J_6.py\n"
     ]
    }
   ],
   "source": [
    "%%writefile -a DOLLISON_J_6.py\n",
    "\n",
    "# Write our subheader for this section\n",
    "st.subheader(\"Categorical Comparison:\")\n",
    "\n",
    "sentiment_counts = df['sentiment'].value_counts().reindex(['positive', 'neutral', 'negative'], fill_value=0)\n",
    "#display(sentiment_counts)\n",
    "\n",
    "# Let's show the counts as bars\n",
    "#   Since there are only 3 categories, we'll provide some custom indicator colors\n",
    "bar = go.Bar(\n",
    "    x=sentiment_counts.index,\n",
    "    y=sentiment_counts.values,\n",
    "    marker_color=['green', 'gray', 'red'],\n",
    "    text=sentiment_counts.values,\n",
    "    name=\"Counts\"\n",
    ")\n",
    "\n",
    "# We'll show the percentages as a pie chart\n",
    "pie = go.Pie(\n",
    "    labels=sentiment_counts.index,\n",
    "    values=sentiment_counts.values,\n",
    "    marker=dict(colors=['green', 'gray', 'red']),\n",
    "    textinfo='percent+label',\n",
    "    hole=0.4,  # donut style\n",
    "    name=\"Percents\"\n",
    ")\n",
    "\n",
    "# Combine into subplots\n",
    "from plotly.subplots import make_subplots\n",
    "\n",
    "fig = make_subplots(rows=1, cols=2, specs=[[{'type':'xy'}, {'type':'domain'}]],\n",
    "                    subplot_titles=(f'Sentiment Counts - {len(df)} Total Reviews', 'Sentiment Percentages')) # i include a total count here\n",
    "\n",
    "fig.add_trace(bar, row=1, col=1)\n",
    "fig.add_trace(pie, row=1, col=2)\n",
    "\n",
    "fig.update_layout(\n",
    "    title_text='Customer Sentiment - Categorical Comparison',\n",
    "    plot_bgcolor='white',\n",
    "    paper_bgcolor='white',\n",
    "    showlegend=False\n",
    ")\n",
    "\n",
    "#fig.show()\n",
    "st.plotly_chart(fig)"
   ]
  },
  {
   "cell_type": "markdown",
   "id": "bfbd9f62-e203-4a52-87d1-955f296b6de8",
   "metadata": {},
   "source": [
    "### 3. Sentiment - Review Deep Dive\n",
    "\n",
    "Three word clouds of customers' reviews from three categories: positive, neutral, and negative"
   ]
  },
  {
   "cell_type": "code",
   "execution_count": 7,
   "id": "5e7240eb-eccd-41d4-9365-726873391937",
   "metadata": {},
   "outputs": [
    {
     "name": "stdout",
     "output_type": "stream",
     "text": [
      "Appending to DOLLISON_J_6.py\n"
     ]
    }
   ],
   "source": [
    "%%writefile -a DOLLISON_J_6.py\n",
    "\n",
    "from wordcloud import WordCloud\n",
    "import matplotlib.pyplot as plt\n",
    "from matplotlib.colors import LinearSegmentedColormap\n",
    "\n",
    "# Write our subheader for this section\n",
    "st.subheader(\"Sentiment - Review Deep Dive:\")\n",
    "\n",
    "# i created a custom function that i can call multiple times\n",
    "def generateWordCloud(df, sentiment) :\n",
    "\n",
    "    # pull the right text for the sentiment - concatenate the entire category into one big text string\n",
    "    text = df[df['sentiment'] == sentiment]['review'].str.cat(sep=' ')\n",
    "    \n",
    "    # asu colors\n",
    "    asu_cmap = LinearSegmentedColormap.from_list(\"asu_colors\", ['#8C1D40', '#FFC627'])\n",
    "    \n",
    "    # Generate the Word Cloud\n",
    "    wordcloud = WordCloud(width=1200, height=1200, background_color='white',\n",
    "                         colormap=asu_cmap, contour_color='#8C1D40',\n",
    "                            contour_width=2).generate(text)\n",
    "\n",
    "\n",
    "    # Visualize the Word Cloud using Matplotlib\n",
    "    fig, ax = plt.subplots(figsize=(10, 10))\n",
    "    ax.imshow(wordcloud, interpolation='bilinear')\n",
    "    ax.axis('off')\n",
    "    ax.set_title(\n",
    "        f'Customer Reviews - {str.upper(sentiment)}',\n",
    "        fontsize=20, fontweight='bold', loc='left'\n",
    "    )\n",
    "\n",
    "    st.pyplot(fig)\n",
    "\n",
    "# loop through each unique sentiment in the df\n",
    "for sentiment in df['sentiment'].unique() :\n",
    "    generateWordCloud(df, sentiment)\n"
   ]
  },
  {
   "cell_type": "markdown",
   "id": "eadb8c73-93d1-4062-bca2-e764aaf160be",
   "metadata": {},
   "source": [
    "### LAUNCH THE SITE!!!"
   ]
  },
  {
   "cell_type": "code",
   "execution_count": 8,
   "id": "439d6684-0b7f-475e-9fbd-7c71759d9534",
   "metadata": {},
   "outputs": [
    {
     "name": "stdout",
     "output_type": "stream",
     "text": [
      "\u001b[0m\n",
      "\u001b[34m\u001b[1m  You can now view your Streamlit app in your browser.\u001b[0m\n",
      "\u001b[0m\n",
      "\u001b[34m  Local URL: \u001b[0m\u001b[1mhttp://localhost:8509\u001b[0m\n",
      "\u001b[34m  Network URL: \u001b[0m\u001b[1mhttp://192.168.10.56:8509\u001b[0m\n",
      "\u001b[0m\n",
      "\u001b[34m\u001b[1m  For better performance, install the Watchdog module:\u001b[0m\n",
      "\n",
      "  $ xcode-select --install\n",
      "  $ pip install watchdog\n",
      "            \u001b[0m\n",
      "^C\n",
      "\u001b[34m  Stopping...\u001b[0m\n"
     ]
    }
   ],
   "source": [
    "!streamlit run DOLLISON_J_6.py"
   ]
  }
 ],
 "metadata": {
  "kernelspec": {
   "display_name": "Python [conda env:anaconda3-py312]",
   "language": "python",
   "name": "conda-env-anaconda3-py312-py"
  },
  "language_info": {
   "codemirror_mode": {
    "name": "ipython",
    "version": 3
   },
   "file_extension": ".py",
   "mimetype": "text/x-python",
   "name": "python",
   "nbconvert_exporter": "python",
   "pygments_lexer": "ipython3",
   "version": "3.12.8"
  }
 },
 "nbformat": 4,
 "nbformat_minor": 5
}
