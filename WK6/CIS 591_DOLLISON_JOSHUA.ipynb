{
 "cells": [
  {
   "cell_type": "code",
   "execution_count": 1,
   "id": "d5f06bf0-4ffd-4330-bad9-2f1c4a223ba1",
   "metadata": {},
   "outputs": [
    {
     "name": "stdout",
     "output_type": "stream",
     "text": [
      "Requirement already satisfied: streamlit in /Users/joshuadollison/opt/anaconda3/envs/py312/lib/python3.12/site-packages (1.50.0)\n",
      "Requirement already satisfied: altair!=5.4.0,!=5.4.1,<6,>=4.0 in /Users/joshuadollison/opt/anaconda3/envs/py312/lib/python3.12/site-packages (from streamlit) (5.5.0)\n",
      "Requirement already satisfied: blinker<2,>=1.5.0 in /Users/joshuadollison/opt/anaconda3/envs/py312/lib/python3.12/site-packages (from streamlit) (1.9.0)\n",
      "Requirement already satisfied: cachetools<7,>=4.0 in /Users/joshuadollison/opt/anaconda3/envs/py312/lib/python3.12/site-packages (from streamlit) (6.2.0)\n",
      "Requirement already satisfied: click<9,>=7.0 in /Users/joshuadollison/opt/anaconda3/envs/py312/lib/python3.12/site-packages (from streamlit) (8.2.1)\n",
      "Requirement already satisfied: numpy<3,>=1.23 in /Users/joshuadollison/opt/anaconda3/envs/py312/lib/python3.12/site-packages (from streamlit) (2.2.1)\n",
      "Requirement already satisfied: packaging<26,>=20 in /Users/joshuadollison/opt/anaconda3/envs/py312/lib/python3.12/site-packages (from streamlit) (24.2)\n",
      "Requirement already satisfied: pandas<3,>=1.4.0 in /Users/joshuadollison/opt/anaconda3/envs/py312/lib/python3.12/site-packages (from streamlit) (2.2.3)\n",
      "Requirement already satisfied: pillow<12,>=7.1.0 in /Users/joshuadollison/opt/anaconda3/envs/py312/lib/python3.12/site-packages (from streamlit) (11.0.0)\n",
      "Requirement already satisfied: protobuf<7,>=3.20 in /Users/joshuadollison/opt/anaconda3/envs/py312/lib/python3.12/site-packages (from streamlit) (6.32.1)\n",
      "Requirement already satisfied: pyarrow>=7.0 in /Users/joshuadollison/opt/anaconda3/envs/py312/lib/python3.12/site-packages (from streamlit) (21.0.0)\n",
      "Requirement already satisfied: requests<3,>=2.27 in /Users/joshuadollison/opt/anaconda3/envs/py312/lib/python3.12/site-packages (from streamlit) (2.32.3)\n",
      "Requirement already satisfied: tenacity<10,>=8.1.0 in /Users/joshuadollison/opt/anaconda3/envs/py312/lib/python3.12/site-packages (from streamlit) (9.1.2)\n",
      "Requirement already satisfied: toml<2,>=0.10.1 in /Users/joshuadollison/opt/anaconda3/envs/py312/lib/python3.12/site-packages (from streamlit) (0.10.2)\n",
      "Requirement already satisfied: typing-extensions<5,>=4.4.0 in /Users/joshuadollison/opt/anaconda3/envs/py312/lib/python3.12/site-packages (from streamlit) (4.12.2)\n",
      "Requirement already satisfied: gitpython!=3.1.19,<4,>=3.0.7 in /Users/joshuadollison/opt/anaconda3/envs/py312/lib/python3.12/site-packages (from streamlit) (3.1.45)\n",
      "Requirement already satisfied: pydeck<1,>=0.8.0b4 in /Users/joshuadollison/opt/anaconda3/envs/py312/lib/python3.12/site-packages (from streamlit) (0.9.1)\n",
      "Requirement already satisfied: tornado!=6.5.0,<7,>=6.0.3 in /Users/joshuadollison/opt/anaconda3/envs/py312/lib/python3.12/site-packages (from streamlit) (6.4.2)\n",
      "Requirement already satisfied: jinja2 in /Users/joshuadollison/opt/anaconda3/envs/py312/lib/python3.12/site-packages (from altair!=5.4.0,!=5.4.1,<6,>=4.0->streamlit) (3.1.5)\n",
      "Requirement already satisfied: jsonschema>=3.0 in /Users/joshuadollison/opt/anaconda3/envs/py312/lib/python3.12/site-packages (from altair!=5.4.0,!=5.4.1,<6,>=4.0->streamlit) (4.25.0)\n",
      "Requirement already satisfied: narwhals>=1.14.2 in /Users/joshuadollison/opt/anaconda3/envs/py312/lib/python3.12/site-packages (from altair!=5.4.0,!=5.4.1,<6,>=4.0->streamlit) (1.31.0)\n",
      "Requirement already satisfied: gitdb<5,>=4.0.1 in /Users/joshuadollison/opt/anaconda3/envs/py312/lib/python3.12/site-packages (from gitpython!=3.1.19,<4,>=3.0.7->streamlit) (4.0.12)\n",
      "Requirement already satisfied: python-dateutil>=2.8.2 in /Users/joshuadollison/opt/anaconda3/envs/py312/lib/python3.12/site-packages (from pandas<3,>=1.4.0->streamlit) (2.9.0.post0)\n",
      "Requirement already satisfied: pytz>=2020.1 in /Users/joshuadollison/opt/anaconda3/envs/py312/lib/python3.12/site-packages (from pandas<3,>=1.4.0->streamlit) (2024.2)\n",
      "Requirement already satisfied: tzdata>=2022.7 in /Users/joshuadollison/opt/anaconda3/envs/py312/lib/python3.12/site-packages (from pandas<3,>=1.4.0->streamlit) (2024.2)\n",
      "Requirement already satisfied: charset-normalizer<4,>=2 in /Users/joshuadollison/opt/anaconda3/envs/py312/lib/python3.12/site-packages (from requests<3,>=2.27->streamlit) (3.3.2)\n",
      "Requirement already satisfied: idna<4,>=2.5 in /Users/joshuadollison/opt/anaconda3/envs/py312/lib/python3.12/site-packages (from requests<3,>=2.27->streamlit) (3.10)\n",
      "Requirement already satisfied: urllib3<3,>=1.21.1 in /Users/joshuadollison/opt/anaconda3/envs/py312/lib/python3.12/site-packages (from requests<3,>=2.27->streamlit) (2.5.0)\n",
      "Requirement already satisfied: certifi>=2017.4.17 in /Users/joshuadollison/opt/anaconda3/envs/py312/lib/python3.12/site-packages (from requests<3,>=2.27->streamlit) (2025.8.3)\n",
      "Requirement already satisfied: smmap<6,>=3.0.1 in /Users/joshuadollison/opt/anaconda3/envs/py312/lib/python3.12/site-packages (from gitdb<5,>=4.0.1->gitpython!=3.1.19,<4,>=3.0.7->streamlit) (5.0.2)\n",
      "Requirement already satisfied: MarkupSafe>=2.0 in /Users/joshuadollison/opt/anaconda3/envs/py312/lib/python3.12/site-packages (from jinja2->altair!=5.4.0,!=5.4.1,<6,>=4.0->streamlit) (3.0.2)\n",
      "Requirement already satisfied: attrs>=22.2.0 in /Users/joshuadollison/opt/anaconda3/envs/py312/lib/python3.12/site-packages (from jsonschema>=3.0->altair!=5.4.0,!=5.4.1,<6,>=4.0->streamlit) (24.3.0)\n",
      "Requirement already satisfied: jsonschema-specifications>=2023.03.6 in /Users/joshuadollison/opt/anaconda3/envs/py312/lib/python3.12/site-packages (from jsonschema>=3.0->altair!=5.4.0,!=5.4.1,<6,>=4.0->streamlit) (2023.7.1)\n",
      "Requirement already satisfied: referencing>=0.28.4 in /Users/joshuadollison/opt/anaconda3/envs/py312/lib/python3.12/site-packages (from jsonschema>=3.0->altair!=5.4.0,!=5.4.1,<6,>=4.0->streamlit) (0.30.2)\n",
      "Requirement already satisfied: rpds-py>=0.7.1 in /Users/joshuadollison/opt/anaconda3/envs/py312/lib/python3.12/site-packages (from jsonschema>=3.0->altair!=5.4.0,!=5.4.1,<6,>=4.0->streamlit) (0.22.3)\n",
      "Requirement already satisfied: six>=1.5 in /Users/joshuadollison/opt/anaconda3/envs/py312/lib/python3.12/site-packages (from python-dateutil>=2.8.2->pandas<3,>=1.4.0->streamlit) (1.17.0)\n"
     ]
    }
   ],
   "source": [
    "!pip install streamlit"
   ]
  },
  {
   "cell_type": "code",
   "execution_count": 2,
   "id": "b679fb41-5462-4f84-90e8-c3a8df6dbe96",
   "metadata": {},
   "outputs": [
    {
     "name": "stdout",
     "output_type": "stream",
     "text": [
      "Overwriting app.py\n"
     ]
    }
   ],
   "source": [
    "%%writefile app.py\n",
    "import streamlit as st\n",
    "import pandas as pd\n",
    "import plotly.graph_objects as go\n",
    "\n",
    "# Title and description\n",
    "st.title(\"CIS 591 Assignment 5\")\n",
    "st.write(\"This web page is for the last assignment.\")\n",
    "\n",
    "# Example visualization: Sample Data provided in the code\n",
    "st.write(\"Visualization Example 1:\")\n",
    "\n",
    "# Sample Data\n",
    "x = [1, 2, 3, 4, 5]\n",
    "y = [10, 15, 13, 17, 22]\n",
    "\n",
    "# Create the Line Chart\n",
    "fig = go.Figure(data=go.Scatter(x=x, y=y, mode='lines+markers', name='Line'))\n",
    "\n",
    "# Customize the layout\n",
    "fig.update_layout(title='Example',\n",
    "                  xaxis_title='X Axis',\n",
    "                  yaxis_title='Y Axis')\n",
    "\n",
    "st.plotly_chart(fig)\n",
    "\n",
    "# Example visualization: Load data from the file\n",
    "\n",
    "# Load dataset directly\n",
    "data_file = \"Assignment 2_PastYearSales.csv\"  # Specify the path to your data file\n",
    "data = pd.read_csv(data_file, encoding='latin-1')\n",
    "print(data.head())\n",
    "\n",
    "dmonth = data['Month']\n",
    "dsales = data['Sales (# of units)']\n",
    "\n",
    "# Display the dataset\n",
    "st.write(\"Dataset Preview:\")\n",
    "st.dataframe(data.head())\n",
    "\n",
    "st.write(\"Monthly Sales in the Past Year:\")\n",
    "# Create the Line Chart\n",
    "fig = go.Figure(data=go.Scatter(x= dmonth, y= dsales, mode='lines+markers', name='Line'))\n",
    "# Customize the layout\n",
    "fig.update_layout(title='Simple Line Chart',\n",
    "                  xaxis_title='Month',\n",
    "                  yaxis_title='Number of units sold')\n",
    "\n",
    "st.plotly_chart(fig)\n"
   ]
  },
  {
   "cell_type": "code",
   "execution_count": 3,
   "id": "cd5ab8d9-a86a-4715-a4f4-7c9dbcb73172",
   "metadata": {},
   "outputs": [
    {
     "name": "stdout",
     "output_type": "stream",
     "text": [
      "\u001b[0m\n",
      "\u001b[34m\u001b[1m  You can now view your Streamlit app in your browser.\u001b[0m\n",
      "\u001b[0m\n",
      "\u001b[34m  Local URL: \u001b[0m\u001b[1mhttp://localhost:8502\u001b[0m\n",
      "\u001b[34m  Network URL: \u001b[0m\u001b[1mhttp://10.159.160.120:8502\u001b[0m\n",
      "\u001b[0m\n",
      "\u001b[34m\u001b[1m  For better performance, install the Watchdog module:\u001b[0m\n",
      "\n",
      "  $ xcode-select --install\n",
      "  $ pip install watchdog\n",
      "            \u001b[0m\n",
      "   Month  Avg. Temp. (øC)  Sales (# of units)\n",
      "0      1             26.6                 700\n",
      "1      2             26.1                 690\n",
      "2      3             23.9                 640\n",
      "3      4             21.0                 550\n",
      "4      5             17.8                 470\n",
      "^C\n",
      "\u001b[34m  Stopping...\u001b[0m\n"
     ]
    }
   ],
   "source": [
    "!streamlit run app.py"
   ]
  },
  {
   "cell_type": "code",
   "execution_count": 6,
   "id": "24c61244-fde8-470b-9109-ffe29bc5ccb4",
   "metadata": {},
   "outputs": [
    {
     "name": "stdout",
     "output_type": "stream",
     "text": [
      "Overwriting app.py\n"
     ]
    }
   ],
   "source": [
    "%%writefile app.py\n",
    "\n",
    "# Your Code Starts Here\n",
    "\n",
    "# make modifications to the code above to show a web page with the title \"CIS 591 Web App Assignment\"\n",
    "import streamlit as st\n",
    "import pandas as pd\n",
    "import plotly.graph_objects as go\n",
    "\n",
    "# Title and description\n",
    "st.title(\"CIS 591 Web App Assignment 5\")\n",
    "st.write(\"This web page is for the last assignment.\")\n",
    "\n",
    "# Example visualization: Sample Data provided in the code\n",
    "st.write(\"Visualization Example 1:\")\n",
    "\n",
    "# Sample Data\n",
    "x = [1, 2, 3, 4, 5]\n",
    "y = [10, 15, 13, 17, 22]\n",
    "\n",
    "# Create the Line Chart\n",
    "fig = go.Figure(data=go.Scatter(x=x, y=y, mode='lines+markers', name='Line'))\n",
    "\n",
    "# Customize the layout\n",
    "fig.update_layout(title='Example',\n",
    "                  xaxis_title='X Axis',\n",
    "                  yaxis_title='Y Axis')\n",
    "\n",
    "st.plotly_chart(fig)\n",
    "\n",
    "# Example visualization: Load data from the file\n",
    "\n",
    "# Load dataset directly\n",
    "data_file = \"Assignment 2_PastYearSales.csv\"  # Specify the path to your data file\n",
    "data = pd.read_csv(data_file, encoding='latin-1')\n",
    "print(data.head())\n",
    "\n",
    "dmonth = data['Month']\n",
    "dsales = data['Sales (# of units)']\n",
    "\n",
    "# Display the dataset\n",
    "st.write(\"Dataset Preview:\")\n",
    "st.dataframe(data.head())\n",
    "\n",
    "st.write(\"Monthly Sales in the Past Year:\")\n",
    "# Create the Line Chart\n",
    "fig = go.Figure(data=go.Scatter(x= dmonth, y= dsales, mode='lines+markers', name='Line'))\n",
    "# Customize the layout\n",
    "fig.update_layout(title='Simple Line Chart',\n",
    "                  xaxis_title='Month',\n",
    "                  yaxis_title='Number of units sold')\n",
    "\n",
    "st.plotly_chart(fig)\n",
    "\n",
    "\n",
    "# make modifications to the code above to show a pie chart\n",
    "# Create the Pie Chart\n",
    "# Create the Pie Chart\n",
    "fig = go.Figure(data=[\n",
    "    go.Pie(\n",
    "        labels=dmonth, \n",
    "        values=dsales,\n",
    "        textinfo='percent+label',\n",
    "        hole=0.4,  # donut style\n",
    "        name=\"Pie\"\n",
    ")])\n",
    "\n",
    "# Customize the layout\n",
    "fig.update_layout(title='Simple Pie Chart')\n",
    "\n",
    "st.plotly_chart(fig)\n",
    "\n",
    "# Your Code Ends Here"
   ]
  },
  {
   "cell_type": "code",
   "execution_count": 7,
   "id": "a57d6fa3-df55-4700-8228-34b797c7f6d7",
   "metadata": {},
   "outputs": [
    {
     "name": "stdout",
     "output_type": "stream",
     "text": [
      "\u001b[0m\n",
      "\u001b[34m\u001b[1m  You can now view your Streamlit app in your browser.\u001b[0m\n",
      "\u001b[0m\n",
      "\u001b[34m  Local URL: \u001b[0m\u001b[1mhttp://localhost:8504\u001b[0m\n",
      "\u001b[34m  Network URL: \u001b[0m\u001b[1mhttp://10.159.160.120:8504\u001b[0m\n",
      "\u001b[0m\n",
      "\u001b[34m\u001b[1m  For better performance, install the Watchdog module:\u001b[0m\n",
      "\n",
      "  $ xcode-select --install\n",
      "  $ pip install watchdog\n",
      "            \u001b[0m\n",
      "   Month  Avg. Temp. (øC)  Sales (# of units)\n",
      "0      1             26.6                 700\n",
      "1      2             26.1                 690\n",
      "2      3             23.9                 640\n",
      "3      4             21.0                 550\n",
      "4      5             17.8                 470\n",
      "^C\n",
      "\u001b[34m  Stopping...\u001b[0m\n"
     ]
    }
   ],
   "source": [
    "!streamlit run app.py"
   ]
  }
 ],
 "metadata": {
  "kernelspec": {
   "display_name": "Python [conda env:anaconda3-py312]",
   "language": "python",
   "name": "conda-env-anaconda3-py312-py"
  },
  "language_info": {
   "codemirror_mode": {
    "name": "ipython",
    "version": 3
   },
   "file_extension": ".py",
   "mimetype": "text/x-python",
   "name": "python",
   "nbconvert_exporter": "python",
   "pygments_lexer": "ipython3",
   "version": "3.12.8"
  }
 },
 "nbformat": 4,
 "nbformat_minor": 5
}
