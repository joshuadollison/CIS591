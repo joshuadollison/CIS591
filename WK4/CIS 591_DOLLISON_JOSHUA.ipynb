{
 "cells": [
  {
   "cell_type": "markdown",
   "metadata": {
    "id": "Mr3s7v8OKSS2"
   },
   "source": [
    "# **Mini Business Case Study - Sales Analytics for EcoTrek Solutions**\n",
    "\n",
    "**Case Background**\n",
    "\n",
    "You are a new hire at EcoTrek Solutions, a U.S.-based company that specializes in eco-friendly travel accessories. As a business data analyst, your role involves analyzing sales trends and providing insights to help shape the company's marketing and production strategies.\n",
    "\n",
    "**Pandas, Numpy, and Sentiment Analysis Assignment (Due: TUESDAY, 9/23, 11:59 pm.)**\n",
    "\n",
    "After the three analysis tasks you have conducted for EcoTrek Solutions, the company is convinced that the sales performance of their products is affected by the climate. In the first assignment, the company simply projected sales increase of the new product EcoSmart Backpack by a random choice of percentage increase. With this new insight, the company wants to make a smarter prediction based on last year's sales performance of GreenTote as by design the two products are to cater the same customer group.\n",
    "\n",
    "In the correlation analysis assignment, you were provided the sales data of GreenTote and the temperature for each month of 2024. With this historical data, you will\n",
    "\n",
    "1. write Python code to set the sales target for the EcoSnart Backpack given a forecasted temperature as follows:\n",
    "\n",
    "- If the temperature is above 65°F, set the sales target to be 5% higher than the average sales of months with similar temperatures\n",
    "- If the temperature is between 60°F and 65°F, set the sales target to be equal to the average sales of similar months\n",
    "- If the temperature is below 60°F, set the sales target to be 10% lower than the average sales of similar months\n",
    "\n",
    "The company has also solicited customer's reviews regarding the new product EcoSmark Backpack since introducing it to the market. With $5 incentive for providing a review, the company now has collected 500 reviews.\n",
    "\n",
    "With this review data provided by the company, you are tasked to find out if the customers are happy about the product. You will\n",
    "\n",
    "2. write Python code to label each review as positive, neutral, or negative based on its compound score with SentimentIntensityAnalyzer and add a new column to the data frame calling it \"sentiment\"\n",
    "\n",
    "**Note** this task essentially puts the reviews into one of the three categories: positive, neutral, or negative\n",
    "\n",
    "3.  calculate the average rating of the reviews for each review category (i.e., positive, neutral, and negative)\n",
    "\n",
    "4.  summarize the total number of positive, neutral, and negative reviews\n",
    "\n",
    "5.  write your data frame that has the sentiment column to a csv file called **\"YourLastName_YourFirstName_sentiment.csv\"**\n",
    "\n",
    "Spend a good amount of time reviewing the analysis results from these tasks. How would you interpret these results? What do they tell you? Please\n",
    "\n",
    "6. summarize these results in sentences and provide your interpretation and understanding in a Markdown cell or Text cell called \"Summary\"\n",
    "\n",
    "7. (bonus, 2 points): ChatGPT has assigned the polarity to each review, as shown in the data file. You will compare your analysis results with that and interpret your comparison results.\n",
    "\n",
    "*What to Submit*\n",
    "1. Your Notebook file YourLastName_FirstInitial_4.ipynb. Please just use the data file's name (i.e., data are in the local path) .\n",
    "2. The csv file **\"YourLastName_YourFirstName_sentiment.csv\"**\n",
    "3. Please provide comments in the Code cell to explain what your code does in that cell and run your code before submitting it.\n",
    "\n",
    "Note:\n",
    "Code that cannot run will receive 0\n",
    "\n"
   ]
  },
  {
   "cell_type": "markdown",
   "metadata": {
    "id": "WYxj3IEVw8G0"
   },
   "source": [
    "# **Week 5 Custom Functions and Classes**\n",
    "\n",
    "[12 Python Built-In Functions for Data Science and Analytics](https://deepnote.com/app/code-along-tutorials/12-Python-Built-In-Functions-for-Data-Science-and-Analytics-a7acf06e-aaaf-4ff7-a6d7-09c970cb8267)\n",
    "\n"
   ]
  },
  {
   "cell_type": "code",
   "execution_count": 1,
   "metadata": {
    "id": "AqgKbuBfSzRO"
   },
   "outputs": [
    {
     "name": "stdout",
     "output_type": "stream",
     "text": [
      "Hello, Alice!\n",
      "Hello, Bob!\n"
     ]
    },
    {
     "data": {
      "text/plain": [
       "NoneType"
      ]
     },
     "execution_count": 1,
     "metadata": {},
     "output_type": "execute_result"
    }
   ],
   "source": [
    "def greet_user(name):\n",
    "    print(f\"Hello, {name}!\")\n",
    "\n",
    "# Example call\n",
    "greet_user(\"Alice\")\n",
    "\n",
    "result = greet_user(\"Bob\")\n",
    "\n",
    "type(result)\n"
   ]
  },
  {
   "cell_type": "code",
   "execution_count": 2,
   "metadata": {
    "id": "P4MqENHDIs-F"
   },
   "outputs": [
    {
     "name": "stdout",
     "output_type": "stream",
     "text": [
      "Good morning Joshua!\n"
     ]
    }
   ],
   "source": [
    "# write the function morning_greet that takes a user's name as the input and says \"Good morning\" to the user\n",
    "# gives an example with your first name as the input\n",
    "\n",
    "# Your Code Starts Here\n",
    "def morning_greet(name) :\n",
    "    print(f\"Good morning {name}!\")\n",
    "\n",
    "morning_greet(\"Joshua\")\n",
    "# Your Code Ends Here"
   ]
  },
  {
   "cell_type": "code",
   "execution_count": 3,
   "metadata": {
    "id": "kb1QcwkoJNu6"
   },
   "outputs": [
    {
     "name": "stdout",
     "output_type": "stream",
     "text": [
      "50\n",
      "21\n"
     ]
    },
    {
     "data": {
      "text/plain": [
       "int"
      ]
     },
     "execution_count": 3,
     "metadata": {},
     "output_type": "execute_result"
    }
   ],
   "source": [
    "# What does the following code do?\n",
    "\n",
    "def calculate_area(length, width):\n",
    "    return length * width\n",
    "\n",
    "# Example call\n",
    "print(calculate_area(5, 10))  # Output: 50\n",
    "\n",
    "result = calculate_area(3, 7)\n",
    "print(result)\n",
    "type(result)"
   ]
  },
  {
   "cell_type": "code",
   "execution_count": 4,
   "metadata": {
    "id": "G9R-NNt9JWMW"
   },
   "outputs": [
    {
     "name": "stdout",
     "output_type": "stream",
     "text": [
      "1 is even?:  False\n",
      "2 is even?:  True\n"
     ]
    }
   ],
   "source": [
    "# Write a function is_even that takes a number as the input and returns true if the number\n",
    "# is even number and false if it is an odd number (hint: in the first week's exercises we learned how to check such)\n",
    "\n",
    "# Your Code Starts Here\n",
    "def is_even(number) :\n",
    "    return ((number % 2) == 0)\n",
    "\n",
    "print(\"1 is even?: \", is_even(1));\n",
    "print(\"2 is even?: \", is_even(2));\n",
    "# Your Code Ends Here"
   ]
  },
  {
   "cell_type": "code",
   "execution_count": 5,
   "metadata": {
    "id": "WWwUkOgfIssX"
   },
   "outputs": [
    {
     "name": "stdout",
     "output_type": "stream",
     "text": [
      "5\n"
     ]
    }
   ],
   "source": [
    "# What does this function do?\n",
    "\n",
    "def count_vowels(string):\n",
    "    vowels = \"aeiouAEIOU\"\n",
    "    return sum(1 for char in string if char in vowels)\n",
    "\n",
    "# Example call\n",
    "print(count_vowels(\"beautiful\"))  # Output: 2\n"
   ]
  },
  {
   "cell_type": "code",
   "execution_count": 6,
   "metadata": {
    "id": "mz3hfCCAKDVF"
   },
   "outputs": [
    {
     "name": "stdout",
     "output_type": "stream",
     "text": [
      "6\n",
      "6\n"
     ]
    }
   ],
   "source": [
    "\"\"\"write a function that takes a list of numbers as the input and returns the sum of the numbers\"\"\"\n",
    "\n",
    "# Your Code Starts Here\n",
    "# long form version of function\n",
    "def sum_numbers_long(numbers) :\n",
    "    num_sum = 0\n",
    "    for number in numbers :\n",
    "        num_sum += number\n",
    "\n",
    "    return num_sum\n",
    "\n",
    "# using template from above for more concise impl\n",
    "def sum_numbers_concise(numbers):\n",
    "    return sum(num for num in numbers)\n",
    "\n",
    "\n",
    "nums = [1,2,3]\n",
    "\n",
    "# Example calls\n",
    "print(sum_numbers_long(nums))\n",
    "print(sum_numbers_concise(nums))\n",
    "# Your Code Ends Here"
   ]
  },
  {
   "cell_type": "code",
   "execution_count": 7,
   "metadata": {
    "id": "Je6uZ1B0LMnu"
   },
   "outputs": [
    {
     "name": "stdout",
     "output_type": "stream",
     "text": [
      "9\n"
     ]
    }
   ],
   "source": [
    "# What does this function do?\n",
    "\n",
    "def find_max(numbers):\n",
    "    max_num = numbers[0]\n",
    "    for num in numbers:\n",
    "        if num > max_num:\n",
    "            max_num = num\n",
    "    return max_num\n",
    "\n",
    "# Example call\n",
    "print(find_max([1, 5, 3, 9, 2]))  # Output: 9"
   ]
  },
  {
   "cell_type": "code",
   "execution_count": 10,
   "metadata": {
    "id": "96BsoCYVLQBj"
   },
   "outputs": [
    {
     "name": "stdout",
     "output_type": "stream",
     "text": [
      "-5\n",
      "-5\n"
     ]
    }
   ],
   "source": [
    "\"\"\" Write your function find_min that takes a list of numbers as\n",
    "the input, and returns the minimum number in the list\"\"\"\n",
    "\n",
    "# Your Code Starts Here\n",
    "# long form version of function\n",
    "def find_min_long(numbers) :\n",
    "    min_num = numbers[0]\n",
    "    for num in numbers:\n",
    "        if num < min_num:\n",
    "            min_num = num\n",
    "\n",
    "    return min_num\n",
    "\n",
    "# using template from above for more concise impl\n",
    "def find_min_concise(numbers):\n",
    "    return min(num for num in numbers)\n",
    "\n",
    "# Example calls\n",
    "nums = [1,5,3,9,2,0,-5]\n",
    "print(find_min_long(nums))\n",
    "print(find_min_concise(nums))\n",
    "\n",
    "# Your Code Ends Here\n"
   ]
  }
 ],
 "metadata": {
  "colab": {
   "provenance": []
  },
  "kernelspec": {
   "display_name": "Python [conda env:.conda]",
   "language": "python",
   "name": "conda-env-.conda-py"
  },
  "language_info": {
   "codemirror_mode": {
    "name": "ipython",
    "version": 3
   },
   "file_extension": ".py",
   "mimetype": "text/x-python",
   "name": "python",
   "nbconvert_exporter": "python",
   "pygments_lexer": "ipython3",
   "version": "3.12.8"
  }
 },
 "nbformat": 4,
 "nbformat_minor": 4
}
