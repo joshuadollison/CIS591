{
 "cells": [
  {
   "cell_type": "markdown",
   "id": "0d35c6a4-d6d2-4b6e-93e8-9c3a53ffa4cd",
   "metadata": {
    "editable": true,
    "slideshow": {
     "slide_type": ""
    },
    "tags": []
   },
   "source": [
    "## Naming Variables\n",
    "\n",
    "[PEP-8 Style Guide](https://peps.python.org/pep-0008/)"
   ]
  },
  {
   "cell_type": "code",
   "execution_count": 3,
   "id": "c3886f3c-78f9-4343-b2fa-f3688bafe833",
   "metadata": {},
   "outputs": [],
   "source": [
    "# Investigate Python coding protocols\n",
    "# PEP-8\n",
    "\n",
    "# Camel Case Example\n",
    "PerCapitaGDP = 40\n",
    "\n",
    "# Snake Case Example\n",
    "per_capita_income = 40\n",
    "\n",
    "# Combined\n",
    "Per_Capita_Income = 40"
   ]
  },
  {
   "cell_type": "markdown",
   "id": "3c16cd86-13ca-41ab-b960-c49890f687c8",
   "metadata": {
    "editable": true,
    "slideshow": {
     "slide_type": ""
    },
    "tags": []
   },
   "source": [
    "### Naming Convention Rules\n",
    "\n",
    "1. No spaces allowed\n",
    "2. No special characters\n",
    "3. Cannot begin with numbers\n",
    "4. Case sensitive\n",
    "5. Avoid reserved keywords\n",
    "\n",
    "### What To Do\n",
    "\n",
    "1. Use descriptive names, but avoid really long names"
   ]
  },
  {
   "cell_type": "code",
   "execution_count": 4,
   "id": "4e8045e7-498a-40a1-9214-2acdd80839dc",
   "metadata": {},
   "outputs": [
    {
     "ename": "SyntaxError",
     "evalue": "invalid syntax (3435894409.py, line 1)",
     "output_type": "error",
     "traceback": [
      "  \u001b[36mCell\u001b[39m\u001b[36m \u001b[39m\u001b[32mIn[4]\u001b[39m\u001b[32m, line 1\u001b[39m\n\u001b[31m    \u001b[39m\u001b[31mdef = 12.8\u001b[39m\n        ^\n\u001b[31mSyntaxError\u001b[39m\u001b[31m:\u001b[39m invalid syntax\n"
     ]
    }
   ],
   "source": [
    "def = 12.8"
   ]
  }
 ],
 "metadata": {
  "kernelspec": {
   "display_name": "Python [conda env:.conda]",
   "language": "python",
   "name": "conda-env-.conda-py"
  },
  "language_info": {
   "codemirror_mode": {
    "name": "ipython",
    "version": 3
   },
   "file_extension": ".py",
   "mimetype": "text/x-python",
   "name": "python",
   "nbconvert_exporter": "python",
   "pygments_lexer": "ipython3",
   "version": "3.12.8"
  }
 },
 "nbformat": 4,
 "nbformat_minor": 5
}
