{
 "cells": [
  {
   "cell_type": "markdown",
   "id": "e7d7b3d4-8e69-4b4f-89b8-7b282dbc167a",
   "metadata": {},
   "source": [
    "# SOME PRETTY STUFF\n",
    "<div class=\"alert alert-block alert-info\">\n",
    "    TEXT IN BLUE BOX\n",
    "    <h1>inner header</h1>\n",
    "</div>\n",
    "\n",
    "<div class=\"alert alert-block alert-warning\">\n",
    "    TEXT IN YELLOW BOX\n",
    "</div>\n",
    "\n",
    "<div class=\"alert alert-block alert-success\">\n",
    "    TEXT IN GREEN BOX\n",
    "</div>\n",
    "\n",
    "<div class=\"alert alert-block alert-danger\">\n",
    "    TEXT IN RED BOX\n",
    "</div>"
   ]
  },
  {
   "cell_type": "markdown",
   "id": "cbd404a4-af95-4ace-871b-f52af9ed0bd5",
   "metadata": {},
   "source": [
    "<a class=\"anchor\" id=top></a>\n",
    "# My roadmap to Python Superpowers!\n",
    "\n",
    "I want to learn Python - but I also want to stay organized in my learning process.  Here's an outline for me to keep track of my work.\n",
    "\n",
    "* [1. Fundamental Python Objects](#step1)<br>\n",
    "* [2. Basic Operators](#step2)<br>\n",
    "* [3. Fundamental Data Structures](#step3)<be>\n",
    "\n",
    "\n",
    "<div class=\"alert alert-block alert-danger\">\n",
    "    Linking doesn't work\n",
    "</div>"
   ]
  },
  {
   "cell_type": "code",
   "execution_count": null,
   "id": "2f5e739b-92bc-48c3-9e2a-b6414194f736",
   "metadata": {},
   "outputs": [],
   "source": []
  },
  {
   "cell_type": "code",
   "execution_count": null,
   "id": "479e3b7c-deb7-4702-b94b-da7cb7979745",
   "metadata": {},
   "outputs": [],
   "source": []
  },
  {
   "cell_type": "markdown",
   "id": "3f9c9629-9f15-4301-af33-e7568d0e36a8",
   "metadata": {},
   "source": [
    "# Fundamental Python Objects<a class=\"anchor\" id=step1/>\n",
    "\n",
    "> content\n",
    ">\n",
    "\n",
    "[Zoom Up](#table-of-contents)"
   ]
  },
  {
   "cell_type": "code",
   "execution_count": null,
   "id": "594f5712-0997-43a5-9f16-fc8910ff7f55",
   "metadata": {},
   "outputs": [],
   "source": []
  },
  {
   "cell_type": "code",
   "execution_count": null,
   "id": "92b7c9b7-7ffe-4c33-8693-e09617aa97e0",
   "metadata": {},
   "outputs": [],
   "source": []
  },
  {
   "cell_type": "markdown",
   "id": "50fe19ee-f26f-4e26-a80d-850f8940e069",
   "metadata": {},
   "source": [
    "# Basic Operators<a class=\"anchor\" id=step2/>\n",
    "\n",
    "> content\n",
    ">\n",
    "\n",
    "[Zoom Up](#table-of-contents)"
   ]
  },
  {
   "cell_type": "code",
   "execution_count": null,
   "id": "8289cfee-ce25-4bc9-a82a-721ed1ee4a06",
   "metadata": {},
   "outputs": [],
   "source": []
  },
  {
   "cell_type": "code",
   "execution_count": null,
   "id": "027aa759-18ef-4614-a179-196f2b30d4df",
   "metadata": {},
   "outputs": [],
   "source": []
  },
  {
   "cell_type": "markdown",
   "id": "81fa8b74-8ab5-4542-b9fb-37563a042913",
   "metadata": {},
   "source": [
    "# Fundamental Data Structures<a id=step3></a>\n",
    "\n",
    "> content\n",
    ">\n",
    "\n",
    "<a href=\"#top\">back up</a>"
   ]
  },
  {
   "cell_type": "code",
   "execution_count": null,
   "id": "7f8fd2de-2c3b-4a27-86a8-feb23f8d2931",
   "metadata": {},
   "outputs": [],
   "source": []
  },
  {
   "cell_type": "code",
   "execution_count": null,
   "id": "c017dc16-5de6-43ca-a0d4-ea252212df54",
   "metadata": {},
   "outputs": [],
   "source": []
  }
 ],
 "metadata": {
  "kernelspec": {
   "display_name": "Python [conda env:.conda]",
   "language": "python",
   "name": "conda-env-.conda-py"
  },
  "language_info": {
   "codemirror_mode": {
    "name": "ipython",
    "version": 3
   },
   "file_extension": ".py",
   "mimetype": "text/x-python",
   "name": "python",
   "nbconvert_exporter": "python",
   "pygments_lexer": "ipython3",
   "version": "3.12.8"
  }
 },
 "nbformat": 4,
 "nbformat_minor": 5
}
