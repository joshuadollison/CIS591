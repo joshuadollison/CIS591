{
 "cells": [
  {
   "cell_type": "markdown",
   "id": "e7d7b3d4-8e69-4b4f-89b8-7b282dbc167a",
   "metadata": {},
   "source": [
    "# SOME PRETTY STUFF\n",
    "<div class=\"alert alert-block alert-info\">\n",
    "    TEXT IN BLUE BOX\n",
    "    <h1>inner header</h1>\n",
    "</div>\n",
    "\n",
    "<div class=\"alert alert-block alert-warning\">\n",
    "    TEXT IN YELLOW BOX\n",
    "</div>\n",
    "\n",
    "<div class=\"alert alert-block alert-success\">\n",
    "    TEXT IN GREEN BOX\n",
    "</div>\n",
    "\n",
    "<div class=\"alert alert-block alert-danger\">\n",
    "    TEXT IN RED BOX\n",
    "</div>"
   ]
  }
 ],
 "metadata": {
  "kernelspec": {
   "display_name": "Python [conda env:.conda]",
   "language": "python",
   "name": "conda-env-.conda-py"
  },
  "language_info": {
   "codemirror_mode": {
    "name": "ipython",
    "version": 3
   },
   "file_extension": ".py",
   "mimetype": "text/x-python",
   "name": "python",
   "nbconvert_exporter": "python",
   "pygments_lexer": "ipython3",
   "version": "3.12.8"
  }
 },
 "nbformat": 4,
 "nbformat_minor": 5
}
