{
 "cells": [
  {
   "cell_type": "markdown",
   "id": "519e97db",
   "metadata": {},
   "source": [
    "\n",
    "# Integers in Python — Common Use Cases (with Examples)\n",
    "\n",
    "This notebook expands on a quick-reference table of common integer use cases and gives runnable examples for each scenario.\n",
    "\n",
    "> Tip: Run cells top-to-bottom. Feel free to edit and experiment!\n"
   ]
  },
  {
   "cell_type": "markdown",
   "id": "bbe04e2d",
   "metadata": {},
   "source": [
    "\n",
    "## Table of Contents\n",
    "1. [Counting & Looping](#1-counting--looping)\n",
    "2. [Arithmetic Operations](#2-arithmetic-operations)\n",
    "3. [Boolean / Conditional Checks](#3-boolean--conditional-checks)\n",
    "4. [Indexing & Slicing](#4-indexing--slicing)\n",
    "5. [Random Number Generation](#5-random-number-generation)\n",
    "6. [Mathematical Functions](#6-mathematical-functions)\n",
    "7. [Data Conversion](#7-data-conversion)\n",
    "8. [Bitwise Operations](#8-bitwise-operations)\n",
    "9. [Enumerations & IDs](#9-enumerations--ids)\n",
    "10. [Measuring & Counting Data](#10-measuring--counting-data)\n",
    "11. [Bonus: Performance & Big Integers](#11-bonus-performance--big-integers)\n"
   ]
  },
  {
   "cell_type": "markdown",
   "id": "7ba1be80",
   "metadata": {},
   "source": [
    "\n",
    "## 1. Counting & Looping\n",
    "Integers are commonly used for counting iterations, indexing, and progress.\n"
   ]
  },
  {
   "cell_type": "code",
   "execution_count": null,
   "id": "87bb196d",
   "metadata": {},
   "outputs": [],
   "source": [
    "# for-loop counting 0..4\n",
    "for i in range(5):\n",
    "    print(i)"
   ]
  },
  {
   "cell_type": "code",
   "execution_count": null,
   "id": "92201360",
   "metadata": {},
   "outputs": [],
   "source": [
    "# while-loop with integer counter\n",
    "count = 0\n",
    "while count < 3:\n",
    "    print(\"count =\", count)\n",
    "    count += 1"
   ]
  },
  {
   "cell_type": "markdown",
   "id": "281f4df5",
   "metadata": {},
   "source": [
    "\n",
    "## 2. Arithmetic Operations\n",
    "Basic arithmetic uses integers heavily.\n"
   ]
  },
  {
   "cell_type": "code",
   "execution_count": null,
   "id": "9c0c1841",
   "metadata": {},
   "outputs": [],
   "source": [
    "x, y = 10, 3\n",
    "print(\"x + y =\", x + y)\n",
    "print(\"x - y =\", x - y)\n",
    "print(\"x * y =\", x * y)\n",
    "print(\"x // y =\", x // y, \"(floor division)\")\n",
    "print(\"x % y =\", x % y, \"(remainder)\")\n",
    "print(\"x ** y =\", x ** y, \"(power)\")"
   ]
  },
  {
   "cell_type": "markdown",
   "id": "50a2d25b",
   "metadata": {},
   "source": [
    "\n",
    "## 3. Boolean / Conditional Checks\n",
    "Use integer comparisons to branch logic or filter data.\n"
   ]
  },
  {
   "cell_type": "code",
   "execution_count": null,
   "id": "835a0bbb",
   "metadata": {},
   "outputs": [],
   "source": [
    "x = 7\n",
    "if x > 5:\n",
    "    print(\"x is greater than 5\")\n",
    "else:\n",
    "    print(\"x is not greater than 5\")"
   ]
  },
  {
   "cell_type": "code",
   "execution_count": null,
   "id": "6a139819",
   "metadata": {},
   "outputs": [],
   "source": [
    "# Check parity (even/odd) with modulus\n",
    "n = 42\n",
    "print(\"even\" if n % 2 == 0 else \"odd\")"
   ]
  },
  {
   "cell_type": "markdown",
   "id": "9dbf0bad",
   "metadata": {},
   "source": [
    "\n",
    "## 4. Indexing & Slicing\n",
    "Use integer indices to access positions in sequences (lists, tuples, strings).\n"
   ]
  },
  {
   "cell_type": "code",
   "execution_count": null,
   "id": "d70ef5b3",
   "metadata": {},
   "outputs": [],
   "source": [
    "nums = [10, 20, 30, 40, 50]\n",
    "print(\"Element at index 2:\", nums[2])\n",
    "print(\"Slice first three:\", nums[:3])"
   ]
  },
  {
   "cell_type": "code",
   "execution_count": null,
   "id": "84dfe049",
   "metadata": {},
   "outputs": [],
   "source": [
    "text = \"Python\"\n",
    "print(\"Last character:\", text[-1])\n",
    "print(\"Every other character:\", text[::2])"
   ]
  },
  {
   "cell_type": "markdown",
   "id": "4eec373d",
   "metadata": {},
   "source": [
    "\n",
    "## 5. Random Number Generation\n",
    "Integers are often produced by RNGs, e.g., for dice, IDs, or sampling.\n"
   ]
  },
  {
   "cell_type": "code",
   "execution_count": null,
   "id": "7e4880e6",
   "metadata": {},
   "outputs": [],
   "source": [
    "import random\n",
    "# Simulate 10 dice rolls (1..6)\n",
    "rolls = [random.randint(1, 6) for _ in range(10)]\n",
    "rolls"
   ]
  },
  {
   "cell_type": "code",
   "execution_count": null,
   "id": "44c92164",
   "metadata": {},
   "outputs": [],
   "source": [
    "# Reproducibility with a seed\n",
    "random.seed(123)\n",
    "[random.randint(1000, 9999) for _ in range(5)]  # sample \"IDs\" "
   ]
  },
  {
   "cell_type": "markdown",
   "id": "683a78fa",
   "metadata": {},
   "source": [
    "\n",
    "## 6. Mathematical Functions\n",
    "Standard library functions (e.g., factorial, gcd) work with integers.\n"
   ]
  },
  {
   "cell_type": "code",
   "execution_count": null,
   "id": "366274c9",
   "metadata": {},
   "outputs": [],
   "source": [
    "import math\n",
    "print(\"5! =\", math.factorial(5))\n",
    "print(\"gcd(12, 18) =\", math.gcd(12, 18))"
   ]
  },
  {
   "cell_type": "code",
   "execution_count": null,
   "id": "c5512732",
   "metadata": {},
   "outputs": [],
   "source": [
    "# integer powers and roots\n",
    "n = 64\n",
    "print(\"n**3 =\", n**3)\n",
    "print(\"integer square root of 64 =\", int(n**0.5))"
   ]
  },
  {
   "cell_type": "markdown",
   "id": "4040b8ed",
   "metadata": {},
   "source": [
    "\n",
    "## 7. Data Conversion\n",
    "Convert strings and floats to integers (truncates toward zero).\n"
   ]
  },
  {
   "cell_type": "code",
   "execution_count": null,
   "id": "52be0296",
   "metadata": {},
   "outputs": [],
   "source": [
    "age_str = \"25\"\n",
    "age = int(age_str)\n",
    "age, type(age)"
   ]
  },
  {
   "cell_type": "code",
   "execution_count": null,
   "id": "c6797041",
   "metadata": {},
   "outputs": [],
   "source": [
    "int(3.9), int(-3.9)  # truncates toward zero"
   ]
  },
  {
   "cell_type": "markdown",
   "id": "05ec2b35",
   "metadata": {},
   "source": [
    "\n",
    "## 8. Bitwise Operations\n",
    "Operate on the binary representation of integers.\n"
   ]
  },
  {
   "cell_type": "code",
   "execution_count": null,
   "id": "1a8f4982",
   "metadata": {},
   "outputs": [],
   "source": [
    "a, b = 6, 3  # 6=0b110, 3=0b011\n",
    "print(\"a & b =\", a & b)     # AND\n",
    "print(\"a | b =\", a | b)     # OR\n",
    "print(\"a ^ b =\", a ^ b)     # XOR\n",
    "print(\"a << 1 =\", a << 1)   # shift left\n",
    "print(\"a >> 1 =\", a >> 1)   # shift right"
   ]
  },
  {
   "cell_type": "code",
   "execution_count": null,
   "id": "0acf0273",
   "metadata": {},
   "outputs": [],
   "source": [
    "# helpful formatting for bits\n",
    "x = 29\n",
    "print(\"x in binary:\", bin(x))\n",
    "print(\"clear lowest set bit:\", x & (x - 1))"
   ]
  },
  {
   "cell_type": "markdown",
   "id": "f6a517fb",
   "metadata": {},
   "source": [
    "\n",
    "## 9. Enumerations & IDs\n",
    "Use integers as simple statuses, IDs, or iterate with indexes safely.\n"
   ]
  },
  {
   "cell_type": "code",
   "execution_count": null,
   "id": "948d021e",
   "metadata": {},
   "outputs": [],
   "source": [
    "status = {0: \"Inactive\", 1: \"Active\", 2: \"Suspended\"}\n",
    "status[1]"
   ]
  },
  {
   "cell_type": "code",
   "execution_count": null,
   "id": "fc5ffd9f",
   "metadata": {},
   "outputs": [],
   "source": [
    "items = [\"alpha\", \"beta\", \"gamma\"]\n",
    "for idx, name in enumerate(items, start=1):\n",
    "    print(f\"{idx}: {name}\")"
   ]
  },
  {
   "cell_type": "markdown",
   "id": "b2d0111a",
   "metadata": {},
   "source": [
    "\n",
    "## 10. Measuring & Counting Data\n",
    "Integers represent sizes and counts of collections.\n"
   ]
  },
  {
   "cell_type": "code",
   "execution_count": null,
   "id": "ac1b753b",
   "metadata": {},
   "outputs": [],
   "source": [
    "nums = [1, 2, 2, 3, 4, 4, 4]\n",
    "print(\"len(nums) =\", len(nums))\n",
    "print(\"count of 4 =\", nums.count(4))"
   ]
  },
  {
   "cell_type": "code",
   "execution_count": null,
   "id": "7c78d02b",
   "metadata": {},
   "outputs": [],
   "source": [
    "# frequency counting with a dict or Counter\n",
    "from collections import Counter\n",
    "Counter(nums)"
   ]
  },
  {
   "cell_type": "markdown",
   "id": "116f92a0",
   "metadata": {},
   "source": [
    "\n",
    "## 11. Bonus: Performance & Big Integers\n",
    "Python's `int` has arbitrary precision (no fixed max). You can work with very large integers—only memory/time limit you.\n",
    "\n",
    "Below: timing a simple integer loop and showing a very large factorial.\n"
   ]
  },
  {
   "cell_type": "code",
   "execution_count": null,
   "id": "b7718c09",
   "metadata": {},
   "outputs": [],
   "source": [
    "# quick-and-dirty timing with time\n",
    "import time\n",
    "start = time.perf_counter()\n",
    "s = 0\n",
    "for i in range(1_000_00):  # 100k additions\n",
    "    s += i\n",
    "elapsed = time.perf_counter() - start\n",
    "s, f\"{elapsed:.4f}s\" "
   ]
  },
  {
   "cell_type": "code",
   "execution_count": null,
   "id": "8af156a3",
   "metadata": {},
   "outputs": [],
   "source": [
    "# big integer example\n",
    "import math\n",
    "big = math.factorial(200)  # 200! has hundreds of digits\n",
    "len(str(big)), str(big)[:60] + \"...\" "
   ]
  }
 ],
 "metadata": {
  "kernelspec": {
   "display_name": "Python [conda env:.conda]",
   "language": "python",
   "name": "conda-env-.conda-py"
  },
  "language_info": {
   "codemirror_mode": {
    "name": "ipython",
    "version": 3
   },
   "file_extension": ".py",
   "mimetype": "text/x-python",
   "name": "python",
   "nbconvert_exporter": "python",
   "pygments_lexer": "ipython3",
   "version": "3.12.8"
  }
 },
 "nbformat": 4,
 "nbformat_minor": 5
}
