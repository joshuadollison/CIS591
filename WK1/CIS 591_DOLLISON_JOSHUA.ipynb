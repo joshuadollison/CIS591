{
 "cells": [
  {
   "cell_type": "markdown",
   "metadata": {
    "id": "y5pDfcOdYwwg"
   },
   "source": [
    "# **Week 1 - Review**\n",
    "Python Programming Basics: Variables, Naming Conventions, Math Operations"
   ]
  },
  {
   "cell_type": "code",
   "execution_count": 1,
   "metadata": {
    "colab": {
     "base_uri": "https://localhost:8080/"
    },
    "editable": true,
    "id": "HoJHlUZvIqeN",
    "outputId": "4cd11f69-c84b-4894-b7b3-d0a3e1646439",
    "slideshow": {
     "slide_type": ""
    },
    "tags": []
   },
   "outputs": [
    {
     "name": "stdout",
     "output_type": "stream",
     "text": [
      "-----------\n",
      "Euros = 231\n",
      "Exchange Rate =  1.17\n",
      "Amount = $ 270.27\n",
      "Amount (in dollar) = $ 270\n"
     ]
    }
   ],
   "source": [
    "# -*- coding: utf-8 -*-\n",
    "\"\"\"\n",
    "Acknowledgement: Hina Arora\n",
    "\n",
    "1. Declare a variable for the currency in Euros\n",
    "2. Convert the amount to Dollars and assign to another variable, rounded\n",
    "to two decimal places\n",
    "3. Print the euro amount and the dollar amount in a user-friendly format\n",
    "\"\"\"\n",
    "\n",
    "\n",
    "import math\n",
    "print (\"-\"*11)\n",
    "euros = 231\n",
    "xchng = 1.17\n",
    "dollars = round(euros*xchng, 2)\n",
    "dollars_int = math.floor(dollars)\n",
    "print (\"Euros =\", euros)\n",
    "print (\"Exchange Rate = \", xchng)\n",
    "print (\"Amount = $\",dollars)\n",
    "print (\"Amount (in dollar) = $\", dollars_int)\n",
    "#print (\"-\"*11)"
   ]
  },
  {
   "cell_type": "code",
   "execution_count": 2,
   "metadata": {
    "editable": true,
    "id": "4uXRVOkiKVEX",
    "slideshow": {
     "slide_type": ""
    },
    "tags": []
   },
   "outputs": [
    {
     "name": "stdout",
     "output_type": "stream",
     "text": [
      "-------------------------\n",
      "Billed Amount:\t$ 874.06\n",
      "Tip Percentage:\t11.00%\n",
      "Total Due:\t$ 970.21\n",
      "-------------------------\n"
     ]
    }
   ],
   "source": [
    "\"\"\"\n",
    "1. Declare a variable for billed amount, and assign an arbitrary value to it.\n",
    "2. Declare a second variable for tip percentage, and assign an arbitrary value\n",
    "to it.\n",
    "3. Declare a third variable for total due, derived from the first two variables.\n",
    "4. Print the billed amount, the tip percentage, and the total due in a user-\n",
    "friendly format\n",
    "\n",
    "\"\"\"\n",
    "import math\n",
    "import random\n",
    "\n",
    "MIN_BILL = 0.99\n",
    "MAX_BILL = 1000.00\n",
    "MIN_TIP = 0.01\n",
    "MAX_TIP = 0.25\n",
    "\n",
    "# Your Code Starts Here\n",
    "# billed amount is some random amount between $.99 and $1k\n",
    "billed_amt = round(random.uniform(MIN_BILL, MAX_BILL), 2)\n",
    "\n",
    "# tip perc is randomized between MIN_BILL and MAX_BILL consts\n",
    "tip_perc = round(random.uniform(MIN_TIP, MAX_TIP), 4)\n",
    "\n",
    "total_due = billed_amt + (billed_amt * tip_perc)\n",
    "\n",
    "print(\"-\"*25)\n",
    "print(f\"\"\"Billed Amount:\\t$ {billed_amt:.2f}\n",
    "Tip Percentage:\\t{tip_perc:.2%}\n",
    "Total Due:\\t$ {total_due:.2f}\"\"\")\n",
    "print(\"-\"*25)\n",
    "\n",
    "# Your Code Ends Here\n"
   ]
  },
  {
   "cell_type": "code",
   "execution_count": 3,
   "metadata": {
    "colab": {
     "base_uri": "https://localhost:8080/"
    },
    "id": "bLAjlCzHKv_J",
    "outputId": "e574b087-4048-4fd8-d4cd-c156cc418420"
   },
   "outputs": [
    {
     "name": "stdout",
     "output_type": "stream",
     "text": [
      "Radius = 10\n",
      "Circumference =  62.83\n"
     ]
    }
   ],
   "source": [
    "\"\"\"\n",
    "1. Declare a variable for the radius of a circle and assign an arbitrary\n",
    "value to it\n",
    "2. Calculate the circumference of the circle ( r) and assign to another\n",
    "variable\n",
    "3. Print the radius and circumference in a user-friendly format\n",
    "\n",
    "\"\"\"\n",
    "radius = 10\n",
    "circum = round(2*math.pi*radius, 2)\n",
    "print (\"Radius =\", radius)\n",
    "print (\"Circumference = \", circum)\n",
    "\n",
    "#print (\"-\"*11)\n"
   ]
  },
  {
   "cell_type": "code",
   "execution_count": 4,
   "metadata": {
    "colab": {
     "base_uri": "https://localhost:8080/"
    },
    "id": "OXqy5x4ER40p",
    "outputId": "106cd180-6853-4273-e4dd-3c9d56917871"
   },
   "outputs": [
    {
     "name": "stdout",
     "output_type": "stream",
     "text": [
      "314.1592653589793\n"
     ]
    }
   ],
   "source": [
    "\n",
    "\"\"\"\n",
    "4. Calculate the area of the circle ( r2) and assign to another variable\n",
    "5. Print the radius, circumference and area in a user-friendly format\n",
    "\"\"\"\n",
    "# Your Code Starts Here\n",
    "radius=10\n",
    "area=(math.pi*radius**2)\n",
    "print(area)\n",
    "\n",
    "# Your Code Ends Here"
   ]
  },
  {
   "cell_type": "code",
   "execution_count": 5,
   "metadata": {
    "colab": {
     "base_uri": "https://localhost:8080/"
    },
    "id": "d0nlf1hQLgtM",
    "outputId": "0f00ed13-3a10-4096-b443-1e13dca94032"
   },
   "outputs": [
    {
     "name": "stdout",
     "output_type": "stream",
     "text": [
      "Number = 23\n",
      "Number%2 = 1\n",
      "Is number Even? False\n"
     ]
    }
   ],
   "source": [
    "\"\"\"\n",
    "1. Declare a variable and assign it an arbitrary integer value\n",
    "2. Test whether the variable is even or odd and assign the result to\n",
    "another variable\n",
    "3. Print the variable, and whether it is even or odd in a user-friendly\n",
    "format\n",
    "\"\"\"\n",
    "number = 23\n",
    "remainder = number%2\n",
    "isEven = remainder==0\n",
    "print (\"Number =\", number)\n",
    "print (\"Number%2 =\", remainder)\n",
    "print (\"Is number Even?\", isEven)\n",
    "#print (\"-\"*11)"
   ]
  },
  {
   "cell_type": "code",
   "execution_count": 6,
   "metadata": {
    "id": "R6jiaJh3SgND"
   },
   "outputs": [
    {
     "name": "stdout",
     "output_type": "stream",
     "text": [
      "552 is divisible by 3\n"
     ]
    }
   ],
   "source": [
    "\"\"\"\n",
    "1. Declare a variable and assign it an arbitrary integer value\n",
    "2. Test whether the variable can be divided by 3 and assign the result to\n",
    "another variable\n",
    "3. Print the variable, and whether it is dividable by 3 in a user-friendly\n",
    "format\n",
    "\"\"\"\n",
    "# Your Code Starts Here\n",
    "import random\n",
    "\n",
    "# random divisor between 1 and 10\n",
    "#DIVISOR = random.randint(1, 10)\n",
    "DIVISOR = 3 # forced by req\n",
    "\n",
    "# random # between 0 and 999\n",
    "number = random.randint(0, 999)\n",
    "\n",
    "# determine mod\n",
    "remainder = number % DIVISOR\n",
    "divBy = (remainder == 0)\n",
    "\n",
    "# print message\n",
    "print(f\"{number} {\"is\" if divBy else \"is not\"} divisible by {DIVISOR}\")\n",
    "\n",
    "\n",
    "# Your Code Ends Here"
   ]
  },
  {
   "cell_type": "code",
   "execution_count": 7,
   "metadata": {
    "colab": {
     "base_uri": "https://localhost:8080/"
    },
    "id": "RsTKwOqFLxH_",
    "outputId": "4c8db352-e224-4b72-bdd1-1d4f57430aaf"
   },
   "outputs": [
    {
     "name": "stdout",
     "output_type": "stream",
     "text": [
      "Dollar Amount = 259\n",
      "Number of 20s =  12\n",
      "Number of 10s =  1\n",
      "Number of 5s =  1\n",
      "Number of 1s =  4\n",
      "-----------\n"
     ]
    }
   ],
   "source": [
    "\"\"\"\n",
    "1. Declare a variable and assign it a dollar value of 259\n",
    "2. Print the minimum number of 20, 10, 5 and 1 dollar bills will need to\n",
    "make up the dollar amount\n",
    "\"\"\"\n",
    "dollars = 259\n",
    "dolarsLeftToBreak = dollars\n",
    "num20s = math.floor(dolarsLeftToBreak/20)\n",
    "dolarsLeftToBreak = dolarsLeftToBreak%20\n",
    "num10s = math.floor(dolarsLeftToBreak/10)\n",
    "dolarsLeftToBreak = dolarsLeftToBreak%10\n",
    "num5s = math.floor(dolarsLeftToBreak/5)\n",
    "dolarsLeftToBreak = dolarsLeftToBreak%5\n",
    "num1s = math.floor(dolarsLeftToBreak/1)\n",
    "print (\"Dollar Amount =\", dollars)\n",
    "print (\"Number of 20s = \", num20s)\n",
    "print (\"Number of 10s = \", num10s)\n",
    "print (\"Number of 5s = \", num5s)\n",
    "print (\"Number of 1s = \", num1s)\n",
    "print (\"-\"*11)\n"
   ]
  },
  {
   "cell_type": "markdown",
   "metadata": {
    "id": "297d83f8"
   },
   "source": [
    "Printing"
   ]
  },
  {
   "cell_type": "code",
   "execution_count": 8,
   "metadata": {
    "colab": {
     "base_uri": "https://localhost:8080/",
     "height": 106
    },
    "id": "a5e26d38",
    "outputId": "50bd51ab-7144-4b07-eec6-bb51e9535a11"
   },
   "outputs": [
    {
     "name": "stdout",
     "output_type": "stream",
     "text": [
      "I'm excited to learn Python\n"
     ]
    }
   ],
   "source": [
    "# Run this code cell - you will get an error - please fix the error to make it work\n",
    "#print('I'm excited to learn Python')\n",
    "\n",
    "#Your code starts here\n",
    "print(\"I'm excited to learn Python\")\n",
    "\n",
    "#Your code ends here\n"
   ]
  },
  {
   "cell_type": "code",
   "execution_count": 9,
   "metadata": {
    "colab": {
     "base_uri": "https://localhost:8080/"
    },
    "id": "7dae1585",
    "outputId": "eba93ae3-e459-423a-d8ea-78777aaef0e5"
   },
   "outputs": [
    {
     "name": "stdout",
     "output_type": "stream",
     "text": [
      "\"I'm excited to learn Python\"\n"
     ]
    }
   ],
   "source": [
    "# What the code should be if I want to print \"I'm excited to learn Python\" including the double quotes?\n",
    "\n",
    "# Your code starts here\n",
    "print(\"\\\"I'm excited to learn Python\\\"\")\n",
    "# Your code ends here\n"
   ]
  },
  {
   "cell_type": "markdown",
   "metadata": {
    "id": "X58AG7pRc5at"
   },
   "source": [
    "# **Mini Business Case Study - Sales Analytics for EcoTrek Solutions**"
   ]
  },
  {
   "cell_type": "markdown",
   "metadata": {
    "id": "hb2zdESqPizZ"
   },
   "source": [
    "**Case Background**\n",
    "\n",
    "You are a new hire at EcoTrek Solutions, a U.S.-based company that specializes in eco-friendly travel accessories. As a business data analyst, your role involves analyzing sales trends and providing insights to help shape the company's marketing and production strategies.\n",
    "\n",
    "\n",
    "**Simple Analysis and Report Assignment (Due: TONIGHT, 11:59 pm.)**\n",
    "\n",
    "On your first day, the manager informs you that in August 2025, the company introduced a new product: the \"EcoSmart Backpack,\" which combines recycled materials with solar-powered phone charging.\n",
    "\n",
    "So far, 2,500 units of the backpack have been sold at an introductory price of $35 per unit. Your manager has asked you to generate a quarter revenue projection based on the following assumptions:\n",
    "\n",
    "- Sales in September are projected to increase by 15% over August.\n",
    "- Sales in October are projected to increase by 20% over September.\n",
    "- You will generate a quarterly sales projection report that includes the following:\n",
    "\n",
    "1. Total Revenue for the quarter.\n",
    "2. Monthly Sales Revenue Breakdown for August, September, and October.\n",
    "\n",
    "*What to Do*\n",
    "- Pseudocode Development\n",
    "Write pseudocode to outline the steps needed to solve the problem. Please write it in the Text/Markdown cell of the Notebook file.\n",
    "\n",
    "- Python Code Implementation\n",
    "Based on your pseudocode, write Python code to accomplish the following: 1) use appropriate naming conventions for variables and constants; 2). print the sales report using the print method.\n",
    "\n",
    "*What to Submit*\n",
    "1. Your Jupyter Notebook file YourLastName_FirstInitial_1.ipynb.\n",
    "2. Please provide the pseudocode in the Text cell, as well as any explanation\n",
    "3. Please provide comments in your code in the Code cell to explain what the code does and run your code before submitting it.\n",
    "\n",
    "Note:\n",
    "Code that cannot run will receive 0\n",
    "\n"
   ]
  },
  {
   "cell_type": "markdown",
   "metadata": {
    "id": "Jm6isYR52paV"
   },
   "source": []
  },
  {
   "cell_type": "markdown",
   "metadata": {
    "id": "41MoQbIKtpUf"
   },
   "source": [
    "# Week 2 Preview\n",
    "\n",
    "**Basic Python Sequential Data Structures (indexable)**\n",
    "\n",
    "\n",
    "*   **Lists**: mutable sequences typically used to store collections of items.\n",
    "*   **Tuples**: are immutable sequences typically used to store collections of data.\n",
    "*   **Sets**: unordered collections with no duplicate elements\n",
    "*   **Dictionaries**: unordered collections of key:value pairs, where the keys are of immutable type, and must be unique within one dictionary. Dictionaries are indexed by keys.\n",
    "\n"
   ]
  },
  {
   "cell_type": "markdown",
   "metadata": {
    "id": "kpcB2C0Hp4Sn"
   },
   "source": [
    "**Some examples with List structure**"
   ]
  },
  {
   "cell_type": "code",
   "execution_count": 10,
   "metadata": {
    "id": "izZLpz6Np4Sn"
   },
   "outputs": [
    {
     "name": "stdout",
     "output_type": "stream",
     "text": [
      "Last year's monthly revenues are:\n",
      "2000\n",
      "1500\n",
      "2600\n",
      "3000\n"
     ]
    }
   ],
   "source": [
    "\"\"\"\n",
    "Use a list to restore the revenue of a new business that started in September 2024. Last year's revenues\n",
    "are 2000, 1500, 2600, and 3000 (for Sept., Oct., Nov., and Dec.).\n",
    "\"\"\"\n",
    "\n",
    "monthly_revenue = [2000, 1500, 2600, 3000]\n",
    "print (\"Last year's monthly revenues are:\")\n",
    "print (monthly_revenue[0])\n",
    "print (monthly_revenue[1])\n",
    "print (monthly_revenue[2])\n",
    "print (monthly_revenue[3])"
   ]
  },
  {
   "cell_type": "code",
   "execution_count": 11,
   "metadata": {
    "id": "8lfSgnRjp4Sn"
   },
   "outputs": [
    {
     "data": {
      "text/plain": [
       "'\\nPlease modify the print codes above so that we also print the corresponding months (i.e., September,\\nOctober, November, and December\\n'"
      ]
     },
     "execution_count": 11,
     "metadata": {},
     "output_type": "execute_result"
    }
   ],
   "source": [
    "\"\"\"\n",
    "Please modify the print codes above so that we also print the corresponding months (i.e., September,\n",
    "October, November, and December\n",
    "\"\"\"\n",
    "# Your Code Starts Here\n",
    "\n",
    "# Your Code Ends Here"
   ]
  },
  {
   "cell_type": "code",
   "execution_count": 12,
   "metadata": {
    "id": "u6OBik0sp4So"
   },
   "outputs": [
    {
     "name": "stdout",
     "output_type": "stream",
     "text": [
      "January's revenue is:\n"
     ]
    }
   ],
   "source": [
    "# Now we want to add January's revenue 4000 to the list\n",
    "\n",
    "monthly_revenue.append(4000)\n",
    "\n",
    "# Please write the print code to print January's revenue from monthly_revenue list\n",
    "print(\"January's revenue is:\")\n",
    "\n",
    "# Your Code Starts Here\n",
    "\n",
    "# Your Code Ends Here\n"
   ]
  },
  {
   "cell_type": "code",
   "execution_count": 13,
   "metadata": {
    "id": "FrrORqHIp4So"
   },
   "outputs": [
    {
     "name": "stdout",
     "output_type": "stream",
     "text": [
      "[2000, 1500, 2600, 3000, 4000, 'great sale']\n"
     ]
    }
   ],
   "source": [
    "# We want to make a note that January's sale was great\n",
    "monthly_revenue.append(\"great sale\")\n",
    "print(monthly_revenue)"
   ]
  },
  {
   "cell_type": "code",
   "execution_count": 14,
   "metadata": {
    "id": "u6-wZ8ewp4So"
   },
   "outputs": [
    {
     "name": "stdout",
     "output_type": "stream",
     "text": [
      "[2000, 1500, 2600, 3500, 4000, 'great sale']\n"
     ]
    }
   ],
   "source": [
    "\"\"\"\n",
    "We find out that December's revenue should be 3500 instead of 3000, a mistake that shouldn't have happened but it did.\n",
    "We need to update the list to correct this mistake\n",
    "\"\"\"\n",
    "monthly_revenue[3] = 3500\n",
    "print(monthly_revenue)"
   ]
  },
  {
   "cell_type": "code",
   "execution_count": 15,
   "metadata": {
    "id": "jano7OELp4So"
   },
   "outputs": [
    {
     "data": {
      "text/plain": [
       "\"\\nPlease update October's revenue as it should be 1800\\n\""
      ]
     },
     "execution_count": 15,
     "metadata": {},
     "output_type": "execute_result"
    }
   ],
   "source": [
    "\"\"\"\n",
    "Please update October's revenue as it should be 1800\n",
    "\"\"\"\n",
    "\n",
    "# Your Code Starts Here\n",
    "\n",
    "# Your Code Ends Here"
   ]
  },
  {
   "cell_type": "markdown",
   "metadata": {
    "id": "2-VxNsGC748k"
   },
   "source": [
    "**Some examples with Tuple structure - Tuple is Different from List**"
   ]
  },
  {
   "cell_type": "code",
   "execution_count": 16,
   "metadata": {
    "id": "XM6gaTroxViM"
   },
   "outputs": [
    {
     "name": "stdout",
     "output_type": "stream",
     "text": [
      "(1, 2, 3, 'great sale')\n"
     ]
    }
   ],
   "source": [
    "my_tuple = (1, 2, 3, \"great sale\")\n",
    "print(my_tuple)\n"
   ]
  },
  {
   "cell_type": "code",
   "execution_count": 17,
   "metadata": {
    "id": "hLryTJv1ukNN"
   },
   "outputs": [
    {
     "ename": "AttributeError",
     "evalue": "'tuple' object has no attribute 'append'",
     "output_type": "error",
     "traceback": [
      "\u001b[31m---------------------------------------------------------------------------\u001b[39m",
      "\u001b[31mAttributeError\u001b[39m                            Traceback (most recent call last)",
      "\u001b[36mCell\u001b[39m\u001b[36m \u001b[39m\u001b[32mIn[17]\u001b[39m\u001b[32m, line 1\u001b[39m\n\u001b[32m----> \u001b[39m\u001b[32m1\u001b[39m \u001b[43mmy_tuple\u001b[49m\u001b[43m.\u001b[49m\u001b[43mappend\u001b[49m(\u001b[32m4\u001b[39m)\n",
      "\u001b[31mAttributeError\u001b[39m: 'tuple' object has no attribute 'append'"
     ]
    }
   ],
   "source": [
    "my_tuple.append(4)\n"
   ]
  },
  {
   "cell_type": "code",
   "execution_count": null,
   "metadata": {
    "id": "RzELXPMtp4Sp"
   },
   "outputs": [],
   "source": [
    "print(my_tuple[0])"
   ]
  },
  {
   "cell_type": "code",
   "execution_count": null,
   "metadata": {
    "id": "sQQgdAygp4Sp"
   },
   "outputs": [],
   "source": [
    "my_tuple[0] = 3\n",
    "print(my_tuple[0])"
   ]
  },
  {
   "cell_type": "markdown",
   "metadata": {
    "id": "EUg4c1cSp4Sp"
   },
   "source": [
    "***The Benefits of Dictionary: Keys and Values are Matched***"
   ]
  },
  {
   "cell_type": "code",
   "execution_count": null,
   "metadata": {
    "id": "O-thyNNwwr-U"
   },
   "outputs": [],
   "source": [
    "\"\"\"\n",
    "Use a dictionary to restore the revenue of a new business that started in September 2024. Last year's revenues\n",
    "are 2000, 1500, 2600, and 3000 (for Sept., Oct., Nov., and Dec.).\n",
    "\"\"\"\n",
    "\n",
    "monthly_revenue_dict = { \"Sept. 2024\": 2000, \"Oct. 2024\": 1500, \"Nov. 2024\": 2600, \"Dec. 2024\": 3000}\n",
    "print(\"The monthly revenues of our new business are:\")\n",
    "print(monthly_revenue_dict)\n"
   ]
  },
  {
   "cell_type": "code",
   "execution_count": null,
   "metadata": {
    "id": "hVuehlo3p4Sp"
   },
   "outputs": [],
   "source": [
    "# Now we want to add January's revenue 4000 to the list\n",
    "monthly_revenue_dict[\"Jan. 2025\"] = 4000\n",
    "print(\"The monthly revenues of our new business are:\")\n",
    "print(monthly_revenue_dict)\n"
   ]
  },
  {
   "cell_type": "code",
   "execution_count": null,
   "metadata": {
    "id": "TNF3-Mbop4Sp"
   },
   "outputs": [],
   "source": [
    "\"\"\"\n",
    "We find out that December's revenue should be 3500 instead of 3000, a mistake that shouldn't have happened but it did.\n",
    "We need to update the list to correct this mistake\n",
    "\"\"\"\n",
    "\n",
    "monthly_revenue_dict[\"Dec. 2024\"] = 3500\n",
    "print(\"The monthly revenues of our new business are:\")\n",
    "print(monthly_revenue_dict)"
   ]
  },
  {
   "cell_type": "code",
   "execution_count": null,
   "metadata": {
    "id": "aAFPExhIp4Sp"
   },
   "outputs": [],
   "source": [
    "# we want to make a note that Jan.'s sale was great\n",
    "monthly_revenue_dict[\"Jan. 2025\"] = \"great sale\"\n",
    "print(\"The monthly revenues of our new business are:\")\n",
    "print(monthly_revenue_dict)\n"
   ]
  },
  {
   "cell_type": "code",
   "execution_count": null,
   "metadata": {
    "id": "hp1sqCNKp4Sp"
   },
   "outputs": [],
   "source": [
    "# we want to make a note that Jan.'s sale was great\n",
    "monthly_revenue_dict[\"Jan.2025\"] = [4000, \"great sale\"]\n",
    "print(\"The monthly revenues of our new business are:\")\n",
    "print(monthly_revenue_dict)"
   ]
  },
  {
   "cell_type": "code",
   "execution_count": null,
   "metadata": {
    "id": "-UYNTgwQp4Sp"
   },
   "outputs": [],
   "source": [
    "\"\"\"\n",
    "Please update October's revenue to 1800 and add a note for that month \"Keep up the good sales!\"\n",
    "\"\"\"\n",
    "\n",
    "# Your Code Starts Here\n",
    "\n",
    "# Your Code Ends Here"
   ]
  },
  {
   "cell_type": "code",
   "execution_count": null,
   "metadata": {
    "id": "NwxcKGsS9bPm"
   },
   "outputs": [],
   "source": [
    "\"\"\"\n",
    "Please update October's revenue to 1800 and add a note for that month \"Keep up the good sales!\"\n",
    "\"\"\"\n",
    "\n",
    "# Your Code Starts Here\n",
    "\n",
    "# Your Code Ends Here"
   ]
  },
  {
   "cell_type": "markdown",
   "metadata": {
    "id": "QxzkamktzdgY"
   },
   "source": [
    "**Control flow and if statement**\n",
    "\n",
    "Control flow: the order in which individual statements, instructions, or function calls are executed or evaluated. *if*, *elif*, and *else *\n",
    "\n",
    "Loops: you can repeat a block of code multiple times. * for*, *while*"
   ]
  },
  {
   "cell_type": "code",
   "execution_count": null,
   "metadata": {
    "id": "tnfTBRyT0JYJ"
   },
   "outputs": [],
   "source": [
    "numbers = (1, 2, 3, 4, 5)\n",
    "total_sum = 0\n",
    "\n",
    "# For loop to calculate the sum\n",
    "for number in numbers:\n",
    "  total_sum = total_sum + number\n",
    "\n",
    "print(f\"The sum of the numbers is: {total_sum}\")\n",
    "\n"
   ]
  },
  {
   "cell_type": "code",
   "execution_count": null,
   "metadata": {
    "id": "O_xWPdiJ0RZf"
   },
   "outputs": [],
   "source": [
    "numbers = (1, 2, 3, 4, 5)\n",
    "index = 0\n",
    "\n",
    "# While loop to print numbers until we reach 4\n",
    "while index < len(numbers) and numbers[index] != 4:\n",
    "    print(f\"Current number: {numbers[index]}\")\n",
    "    index += 1\n",
    "\n",
    "print(\"Reached number 4, stopping the loop.\")\n"
   ]
  },
  {
   "cell_type": "code",
   "execution_count": null,
   "metadata": {
    "id": "vwXcLvNLp4Sp"
   },
   "outputs": [],
   "source": [
    "\"\"\"\n",
    "Use for loop to print out monthly_revenue_dict\n",
    "\"\"\"\n",
    "for key, value in monthly_revenue_dict.items():\n",
    "    print (key)\n",
    "    print (value)\n",
    "\n"
   ]
  },
  {
   "cell_type": "markdown",
   "metadata": {
    "id": "FDw4KfwgpNr7"
   },
   "source": [
    "# **Pearson Correlation**\n",
    "\n",
    "If temperature goes up, does ice cream sale go up too?\n",
    "If we have more web browsing time per customer, will we have more web-based sale?\n",
    "If the number of downloads increases for our company's mobile app, will we have more mobile purchases?\n",
    "\n",
    "These are just a few example questions that show how common and important it is to know how to measure the correlation relationship between two variables.\n",
    "\n",
    "![Pearson.jpg](data:image/jpeg;base64,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)\n",
    "\n",
    "\n",
    "\n",
    "\n",
    "\n",
    "One way to measure that is through calculating Pearson correlation coefficient. The good news is we **do not need** to memorize how to calculate it! Python (and most of the statistical analysis tools) has done that for us :) In this exercise, we learn how to use scipy.stats.pearsonr(array A, array B) to help us caculate it.\n",
    "\n",
    "**Note**: scipy.stats is a very useful Python module that includes many useful functions for statistical analysis.\n",
    "\n",
    "Optional Reading: https://docs.scipy.org/doc/scipy/reference/stats.html\n",
    "\n",
    "\n"
   ]
  },
  {
   "cell_type": "code",
   "execution_count": null,
   "metadata": {
    "id": "xRTUdGRCpIGn"
   },
   "outputs": [],
   "source": [
    "import scipy.stats #Optional Reading: https://docs.scipy.org/doc/scipy/reference/stats.html\n",
    "temperatures = [96, 98, 100, 105, 110, 85, 86, 65]\n",
    "icecream_sales = [100, 120, 150, 180, 200, 80, 75, 50]\n",
    "scipy.stats.pearsonr(temperatures, icecream_sales)"
   ]
  },
  {
   "cell_type": "markdown",
   "metadata": {
    "id": "_i-JBExYVdgq"
   },
   "source": [
    "**What does the result mean?**\n",
    "\n",
    "1). If the Pearson's correlation coefficient (i.e., statstic in the output) is positive (r > 0), then the two variables are positively correlated. If r < 0 (negative correlation coefficient), then the two are negatively correlated. smaller values for Y, and vice versa. If r = 0 then there is not a relationship among the variables.\n",
    "\n",
    "2). The strength of the correlation is indicated by how close r is to 1 or -1. The larger the absolute value of the coefficient, the stronger the correlation, and vice versa.\n",
    "\n",
    "3). Rule of thumb:\n",
    "\n",
    " &nbsp;&nbsp;&nbsp;&nbsp;&nbsp;&nbsp;|r| < 0.3: correlation is quite small; in some cases, it is practically okay to ignore it\n",
    "\n",
    " &nbsp;&nbsp;&nbsp;&nbsp;&nbsp;&nbsp; 0.3 <=|r| < 0.5: correlation is moderate\n",
    "\n",
    " &nbsp;&nbsp;&nbsp;&nbsp;&nbsp;&nbsp; 0.5<= |r| < 0.7: correlation is strong\n",
    "\n",
    "&nbsp;&nbsp;&nbsp;&nbsp;&nbsp;&nbsp;  0.7 <= |r|: correlation is very strong\n",
    "\n",
    "&nbsp;&nbsp;&nbsp;&nbsp;&nbsp;&nbsp;  1 = |r|: perfect correlation\n",
    "\n",
    "\n",
    "\n",
    "\n"
   ]
  },
  {
   "cell_type": "markdown",
   "metadata": {
    "id": "jZTeGdTx0XKE"
   },
   "source": [
    "# **Mini Business Case Study - Sales Analytics for EcoTrek Solutions**\n",
    "\n",
    "**Case Background**\n",
    "\n",
    "You are a new hire at EcoTrek Solutions, a U.S.-based company that specializes in eco-friendly travel accessories. As a business data analyst, your role involves analyzing sales trends and providing insights to help shape the company's marketing and production strategies.\n",
    "\n",
    "**Correlation Analysis Assignment (Due: TUESDAY, 9/2, 11:59 pm.)**\n",
    "\n",
    "After your first successful report, EcoTrek Solutions asks you to analyze last year's sales of its two other products: GreenTote and SolarTrek Water Bottle.  The company suspects there might be underlying factors influencing sales, but they are unsure what these might be. The company hopes to come up with some strategy to help with the sales of the products for the new year.  \n",
    "\n",
    "Your task is to investigate the data to uncover any interesting correlations or trends. To assist in your analysis, the company provides the following monthly data from January to December 2024:\n",
    "\n",
    "|Month\t|Temperature (°F)\t|GreenTote\t|SolarTrek Water Bottle\n",
    "|---|---|---|---|\n",
    "|January\t|40|\t87,500\t|80,900\n",
    "|February |\t45|\t100,625\t|85,200\n",
    "|March\t|55|\t115,725|\t92,500\n",
    "|April\t|65\t|132,075\t|100,980\n",
    "|May\t|75|\t148,875|\t110,500\n",
    "|June\t|85|\t164,500 |\t118,300\n",
    "|July |\t90\t|172,725\t|124,800\n",
    "|August\t|88|\t185,800|\t130,500\n",
    "|September|86|180,900| 128, 800\n",
    "|October| 80|170,000|120, 000\n",
    "|November|70|165,000| 114, 000\n",
    "|December|60|160,000|110, 000\n",
    "\n",
    "**Tasks for you:**\n",
    "\n",
    "Write Python code to accomplish the following:\n",
    "1. Dictionary creation: Create three dictionaries, Temperature, GreenTote, and SolarTrek Water Bottle, with the month (e.g., 'January') as the key and the respective values as the data (temperature or sales revenue).\n",
    "\n",
    "2. Using the created dictionaries, print the month has the highest sales and one that has the lowest sales for the two products; and print the month with the highest and lowest temperatures.\n",
    "\n",
    "3. Calculate Pearson correlation coefficent: use scipy.stats.pearsonr(array A, array B) function to calculate the Pearson coorelation coefficient between:\n",
    "- GreenTote sales and SolarTrek Water Bottle sales.\n",
    "- Temperature and GreenTote sales.\n",
    "- Temperature and SolarTrek Water Bottle sales.\n",
    "\n",
    "4. Based on the result, you will choose one of the following three options to make your recommendation to the company:\n",
    "\n",
    "- Option 1: Develop a joint marketing campaign for the two products.\n",
    "- Option 2: Develop separate marketing campaigns for each product.\n",
    "- Option 3: Explore external factors (e.g., weather, customer preferences) for future analysis.\n",
    "\n",
    "**What to Submit**\n",
    "1. Your Jupyter Notebook file named **YourLastName_FirstInitial_2.ipynb**.\n",
    "2. Please provide comments in the Code cell to explain what your code does in that cell and run your code before submitting it.\n",
    "\n",
    "Note:\n",
    "Code that cannot run will receive 0"
   ]
  }
 ],
 "metadata": {
  "colab": {
   "provenance": []
  },
  "kernelspec": {
   "display_name": "Python [conda env:.conda]",
   "language": "python",
   "name": "conda-env-.conda-py"
  },
  "language_info": {
   "codemirror_mode": {
    "name": "ipython",
    "version": 3
   },
   "file_extension": ".py",
   "mimetype": "text/x-python",
   "name": "python",
   "nbconvert_exporter": "python",
   "pygments_lexer": "ipython3",
   "version": "3.12.8"
  }
 },
 "nbformat": 4,
 "nbformat_minor": 4
}
