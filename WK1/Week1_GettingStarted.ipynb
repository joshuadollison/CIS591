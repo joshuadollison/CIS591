{
 "cells": [
  {
   "cell_type": "markdown",
   "id": "58f29ad1-8a8e-4c15-9dba-46638a6958c2",
   "metadata": {},
   "source": [
    "# Header1\n",
    "\n",
    "## Header 2\n",
    "\n",
    "### A Smaller Header\n",
    "\n",
    "Orderes Lists:\n",
    "1. List Item 1\n",
    "2. Item 2\n",
    "3. Item 3\n",
    "\n",
    "Unordered Lists:\n",
    "* Item 1\n",
    "* Item 2\n",
    "* Thing 3\n",
    "\n",
    "**This is bolded text** <br>\n",
    "*This is italicized text*\n",
    "\n",
    "[The ultimate guide to Markdown](https://www.kaggle.com/code/cuecacuela/2025-the-ultimate-markdown-cheat-sheet)\n",
    "\n",
    "<img src=\"https://miro.medium.com/v2/resize:fit:1400/format:webp/1*ZkL8zeFcekGqxBpVGsj_NQ@2x.jpeg\">"
   ]
  }
 ],
 "metadata": {
  "kernelspec": {
   "display_name": "Python [conda env:.conda]",
   "language": "python",
   "name": "conda-env-.conda-py"
  },
  "language_info": {
   "codemirror_mode": {
    "name": "ipython",
    "version": 3
   },
   "file_extension": ".py",
   "mimetype": "text/x-python",
   "name": "python",
   "nbconvert_exporter": "python",
   "pygments_lexer": "ipython3",
   "version": "3.12.8"
  }
 },
 "nbformat": 4,
 "nbformat_minor": 5
}
