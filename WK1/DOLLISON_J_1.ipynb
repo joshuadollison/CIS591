{
 "cells": [
  {
   "cell_type": "markdown",
   "id": "13bca56f-ba72-4e48-b35a-7923e4e4b924",
   "metadata": {},
   "source": [
    "# Individual Assignment - Week 1\n",
    "\n",
    "## Simple Analysis and Report Assignment\n",
    "\n",
    "### Joshua Dollison\n",
    "### CIS591-86718\n",
    "### 8/27/2025"
   ]
  },
  {
   "cell_type": "markdown",
   "id": "ac6bec27-f8c6-4fe6-b16d-c578a1625cd2",
   "metadata": {},
   "source": [
    "## Pseudo Code\n",
    "\n",
    "1. Define price per unit of the backpack as a constant\n",
    "2. Define the # of units sold in August as a constant\n",
    "3. Given the # of units sold in August and the price per unit, find the total revenue for August\n",
    "   - price per unit * # of units sold in August\n",
    "4. Define the projected sales increase percentage from August to September as a constant\n",
    "5. Given the projected sales September sales increase percentage, find the projected # of units sold in September\n",
    "   - \\# of units sold in August + (# of units sold in August x .15)\n",
    "   - I find this to be more readable/obvious than aug_units x 1.15\n",
    "6. Given the # of units sold in September and the price per unit, find the total revenue for September\n",
    "    - price per unit x # of units sold in September\n",
    "7. Repeat #4-6 for September to October\n",
    "8. Print Total Revenue for August, September, and October.\n",
    "   - August Revenue + September Revenue + October Revenue\n",
    "9. Print the Month Name, Units Sold, and Revenue for August, September and October"
   ]
  },
  {
   "cell_type": "code",
   "execution_count": 1,
   "id": "e62a3e67-079a-4115-8c3c-f3b27de2e869",
   "metadata": {
    "editable": true,
    "slideshow": {
     "slide_type": ""
    },
    "tags": []
   },
   "outputs": [
    {
     "name": "stdout",
     "output_type": "stream",
     "text": [
      "********************************************************************************\n",
      " Total Revenue Projections for August, September, and October: \n",
      "--------------------------------------------------------------------------------\n",
      " $308,875.00\n",
      "********************************************************************************\n",
      " Monthly Sales Revenue Breakdown (Projections) \n",
      "--------------------------------------------------------------------------------\n",
      " Month\t\tUnits Sold\t\tRevenue\n",
      "--------------------------------------------------------------------------------\n",
      " August\t\t2,500\t\t\t$87,500.00\n",
      " September\t2,875\t\t\t$100,625.00\n",
      " October\t3,450\t\t\t$120,750.00\n",
      "********************************************************************************\n"
     ]
    }
   ],
   "source": [
    "# Define the price per unit and initial units sold - all caps since constnat\n",
    "PRICE_PER_UNIT = 35.00\n",
    "INITIAL_UNITS_SOLD = 2500\n",
    "\n",
    "# Define August units sold - this is just the constant, but makes it more readable later as it\n",
    "#    is in the same style as the other months\n",
    "aug_units_sold = INITIAL_UNITS_SOLD\n",
    "\n",
    "# calculate the revenue for august by multiplying the units sold by price per unit\n",
    "aug_revenue = PRICE_PER_UNIT * aug_units_sold\n",
    "\n",
    "# Sales in September are projected to increase by 15% over August.\n",
    "# Define the constant change for sep\n",
    "SEP_PERCENTAGE_CHANGE = 0.15\n",
    "\n",
    "# calculate sep units sold as aug units * 1.15 - code is more readable as presented\n",
    "sep_units_sold = aug_units_sold + (aug_units_sold * SEP_PERCENTAGE_CHANGE)\n",
    "\n",
    "# calculate sep revenue\n",
    "sep_revenue = PRICE_PER_UNIT * sep_units_sold\n",
    "\n",
    "# Sales in October are projected to increase by 20% over September.\n",
    "# Define the constant change for sep\n",
    "OCT_PERCENTAGE_CHANGE = 0.20\n",
    "\n",
    "# calculate oct units sold as sep units * 1.15 - code is more readable as presented\n",
    "oct_units_sold = sep_units_sold + (sep_units_sold * OCT_PERCENTAGE_CHANGE)\n",
    "\n",
    "# calculate sep revenue\n",
    "oct_revenue = PRICE_PER_UNIT * oct_units_sold\n",
    "\n",
    "# calculate total revenue by adding all months revenue\n",
    "total_revenue = aug_revenue + sep_revenue + oct_revenue\n",
    "\n",
    "# print the total projected revenue report\n",
    "print(\"*\" * 80)\n",
    "print(\" Total Revenue Projections for August, September, and October: \")\n",
    "print(\"-\" * 80)\n",
    "print(f\" ${total_revenue:,.2f}\")\n",
    "print(\"*\" * 80)\n",
    "\n",
    "# print the monthly projected revenue report\n",
    "print(\" Monthly Sales Revenue Breakdown (Projections) \")\n",
    "print(\"-\" * 80)\n",
    "print(\" Month\\t\\tUnits Sold\\t\\tRevenue\")\n",
    "print(\"-\" * 80)\n",
    "print(f\" August\\t\\t{int(aug_units_sold):,d}\\t\\t\\t${aug_revenue:,.2f}\")\n",
    "print(f\" September\\t{int(sep_units_sold):,d}\\t\\t\\t${sep_revenue:,.2f}\")\n",
    "print(f\" October\\t{int(oct_units_sold):,d}\\t\\t\\t${oct_revenue:,.2f}\")\n",
    "print(\"*\" * 80)"
   ]
  }
 ],
 "metadata": {
  "kernelspec": {
   "display_name": "Python [conda env:.conda]",
   "language": "python",
   "name": "conda-env-.conda-py"
  },
  "language_info": {
   "codemirror_mode": {
    "name": "ipython",
    "version": 3
   },
   "file_extension": ".py",
   "mimetype": "text/x-python",
   "name": "python",
   "nbconvert_exporter": "python",
   "pygments_lexer": "ipython3",
   "version": "3.12.8"
  }
 },
 "nbformat": 4,
 "nbformat_minor": 5
}
