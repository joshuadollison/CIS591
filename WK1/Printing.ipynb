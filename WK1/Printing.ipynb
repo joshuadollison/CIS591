{
 "cells": [
  {
   "cell_type": "markdown",
   "id": "13f53224",
   "metadata": {},
   "source": [
    "# Questions to consider\n",
    "\n",
    "1. Why do so many introductions to coding languages begin with print statements?\n",
    "    * e.g. print(\"Hello World!\")\n",
    "2. What's the big deal about seeing a collection of words displayed directly below a code cell where those same words are included in a print request?\n",
    "3. How do practitioners use print() statements in the real world?\n",
    "4. How do I handle complext print statements?  \n",
    "    > - e.g. when statements include apostraphes\n",
    "    > - long statements that need multiple lines\n",
    "    > - situations where I want to incorporate dynamic information?"
   ]
  },
  {
   "cell_type": "markdown",
   "id": "305ed44b",
   "metadata": {},
   "source": [
    "# Try ALL of the following and take notes on the questions"
   ]
  },
  {
   "cell_type": "markdown",
   "id": "7d278c28",
   "metadata": {},
   "source": [
    "### 1. Run the next 4 code cells - why do some of them NOT work?"
   ]
  },
  {
   "cell_type": "code",
   "execution_count": 1,
   "id": "b0f524b1",
   "metadata": {},
   "outputs": [
    {
     "name": "stdout",
     "output_type": "stream",
     "text": [
      "I love rock and roll!\n"
     ]
    }
   ],
   "source": [
    "print(\"I love rock and roll!\")"
   ]
  },
  {
   "cell_type": "code",
   "execution_count": 2,
   "id": "7d603ef1",
   "metadata": {},
   "outputs": [
    {
     "ename": "NameError",
     "evalue": "name 'Print' is not defined",
     "output_type": "error",
     "traceback": [
      "\u001b[0;31m---------------------------------------------------------------------------\u001b[0m",
      "\u001b[0;31mNameError\u001b[0m                                 Traceback (most recent call last)",
      "Cell \u001b[0;32mIn[2], line 1\u001b[0m\n\u001b[0;32m----> 1\u001b[0m \u001b[43mPrint\u001b[49m(\u001b[38;5;124m\"\u001b[39m\u001b[38;5;124mI love rock and roll\u001b[39m\u001b[38;5;124m\"\u001b[39m)\n",
      "\u001b[0;31mNameError\u001b[0m: name 'Print' is not defined"
     ]
    }
   ],
   "source": [
    "Print(\"I love rock and roll\")"
   ]
  },
  {
   "cell_type": "code",
   "execution_count": null,
   "id": "0585184f",
   "metadata": {},
   "outputs": [],
   "source": [
    "PRINT(\"I love rock and roll\")"
   ]
  },
  {
   "cell_type": "code",
   "execution_count": 3,
   "id": "be0de387",
   "metadata": {},
   "outputs": [
    {
     "name": "stdout",
     "output_type": "stream",
     "text": [
      "I love rock and roll!\n"
     ]
    }
   ],
   "source": [
    "print('I love rock and roll!')"
   ]
  },
  {
   "cell_type": "markdown",
   "id": "b622e1e0",
   "metadata": {},
   "source": [
    "### 2. Telling Python to skip certain characters"
   ]
  },
  {
   "cell_type": "code",
   "execution_count": null,
   "id": "753fb515",
   "metadata": {},
   "outputs": [],
   "source": [
    "# Run this code cell - you will get an error - do you know why?\n",
    "print('I'm excited to learn Python')"
   ]
  },
  {
   "cell_type": "code",
   "execution_count": 4,
   "id": "1f0251a1",
   "metadata": {},
   "outputs": [
    {
     "name": "stdout",
     "output_type": "stream",
     "text": [
      "I'm excited to learn Python\n"
     ]
    }
   ],
   "source": [
    "# This next option should work - how is this different than the cell above?\n",
    "print(\"I'm excited to learn Python\")"
   ]
  },
  {
   "cell_type": "markdown",
   "id": "da0050c1",
   "metadata": {},
   "source": [
    "> Run the next few code cells and take note of the results - are you taking note of what the variations in syntax are doing?"
   ]
  },
  {
   "cell_type": "code",
   "execution_count": 5,
   "id": "c95c62d4",
   "metadata": {},
   "outputs": [
    {
     "name": "stdout",
     "output_type": "stream",
     "text": [
      "I'm excited to learn Python\n"
     ]
    }
   ],
   "source": [
    "# Question: what is the backslash symbol below doing for us?\n",
    "print('I\\'m excited to learn Python')"
   ]
  },
  {
   "cell_type": "code",
   "execution_count": 6,
   "id": "262a8137",
   "metadata": {},
   "outputs": [
    {
     "name": "stdout",
     "output_type": "stream",
     "text": [
      "\"I'm excited to learn Python!\"\n"
     ]
    }
   ],
   "source": [
    "print('\\\"I\\'m excited to learn Python!\\\"')"
   ]
  },
  {
   "cell_type": "markdown",
   "id": "2b09a434",
   "metadata": {},
   "source": [
    "### 3. Printing long statements\n",
    "\n",
    "> Run each of the code cells below - take note of the differences in each print() <br>\n",
    "statement an the resulting output.<br>\n",
    "Note that not ALL of the print() statements will run without error."
   ]
  },
  {
   "cell_type": "code",
   "execution_count": 7,
   "id": "d2046463",
   "metadata": {},
   "outputs": [
    {
     "name": "stdout",
     "output_type": "stream",
     "text": [
      "Beavers build dams and lodges using tree branches, vegetation, rocks and mud; they chew down trees for building material. Dams restrict water flow, and lodges serve as shelters. Their infrastructure creates wetlands used by many other species, and because of their effect on other organisms in the ecosystem, beavers are considered a keystone species. Adult males and females live in monogamous pairs with their offspring. After their first year, the young help their parents repair dams and lodges; older siblings may also help raise newly-born offspring.\n"
     ]
    }
   ],
   "source": [
    "print(\"Beavers build dams and lodges using tree branches, vegetation, rocks and mud; they chew down trees for building material. Dams restrict water flow, and lodges serve as shelters. Their infrastructure creates wetlands used by many other species, and because of their effect on other organisms in the ecosystem, beavers are considered a keystone species. Adult males and females live in monogamous pairs with their offspring. After their first year, the young help their parents repair dams and lodges; older siblings may also help raise newly-born offspring.\")\n",
    "\n"
   ]
  },
  {
   "cell_type": "code",
   "execution_count": null,
   "id": "c2d35901",
   "metadata": {},
   "outputs": [],
   "source": [
    "print(\"Beavers build dams and lodges using tree branches, vegetation, rocks and mud. \n",
    "      They chew down trees for building material. Dams restrict water flow, and lodges serve as shelters. \n",
    "      Their infrastructure creates wetlands used by many other species, \n",
    "      and because of their effect on other organisms in the ecosystem, \n",
    "      beavers are considered a keystone species. \n",
    "      Adult males and females live in monogamous pairs with their offspring. \n",
    "      After their first year, the young help their parents repair dams and lodges; \n",
    "      older siblings may also help raise newly-born offspring.\")"
   ]
  },
  {
   "cell_type": "code",
   "execution_count": 8,
   "id": "338da7bb",
   "metadata": {},
   "outputs": [
    {
     "name": "stdout",
     "output_type": "stream",
     "text": [
      "Beavers build dams and lodges using tree branches, vegetation, rocks and mud.       They chew down trees for building material. Dams restrict water flow, and lodges serve as shelters.       Their infrastructure creates wetlands used by many other species,      and because of their effect on other organisms in the ecosystem,       beavers are considered a keystone species.       Adult males and females live in monogamous pairs with their offspring.       After their first year, the young help their parents repair dams and lodges;       older siblings may also help raise newly-born offspring.\n"
     ]
    }
   ],
   "source": [
    "print(\"Beavers build dams and lodges using tree branches, vegetation, rocks and mud. \\\n",
    "      They chew down trees for building material. Dams restrict water flow, and lodges serve as shelters. \\\n",
    "      Their infrastructure creates wetlands used by many other species,\\\n",
    "      and because of their effect on other organisms in the ecosystem, \\\n",
    "      beavers are considered a keystone species. \\\n",
    "      Adult males and females live in monogamous pairs with their offspring. \\\n",
    "      After their first year, the young help their parents repair dams and lodges; \\\n",
    "      older siblings may also help raise newly-born offspring.\")"
   ]
  },
  {
   "cell_type": "code",
   "execution_count": 9,
   "id": "ec5b60e6",
   "metadata": {},
   "outputs": [
    {
     "name": "stdout",
     "output_type": "stream",
     "text": [
      "Beavers build dams and lodges using tree branches, vegetation, rocks and mud.\n",
      "They chew down trees for building material.\n",
      "Dams restrict water flow, and lodges serve as shelters.\n",
      "Their infrastructure creates wetlands used by many other species,\n",
      "and because of their effect on other organisms in the ecosystem,\n",
      "beavers are considered a keystone species.\n",
      "Adult males and females live in monogamous pairs with their offspring.\n",
      "After their first year, the young help their parents repair dams and lodges;\n",
      "older siblings may also help raise newly-born offspring.\n"
     ]
    }
   ],
   "source": [
    "print(\"Beavers build dams and lodges using tree branches, vegetation, rocks and mud.\\n\\\n",
    "They chew down trees for building material.\\n\\\n",
    "Dams restrict water flow, and lodges serve as shelters.\\n\\\n",
    "Their infrastructure creates wetlands used by many other species,\\n\\\n",
    "and because of their effect on other organisms in the ecosystem,\\n\\\n",
    "beavers are considered a keystone species.\\n\\\n",
    "Adult males and females live in monogamous pairs with their offspring.\\n\\\n",
    "After their first year, the young help their parents repair dams and lodges;\\n\\\n",
    "older siblings may also help raise newly-born offspring.\")"
   ]
  },
  {
   "cell_type": "code",
   "execution_count": 10,
   "id": "d96acbbd",
   "metadata": {},
   "outputs": [
    {
     "name": "stdout",
     "output_type": "stream",
     "text": [
      "\n",
      "Beavers build dams and lodges using tree branches,vegetation, rocks and mud. \n",
      "They chew down trees for building material.\n",
      "Dams restrict water flow, and lodges serve as shelters.\n",
      "Their infrastructure creates wetlands used by many other species,\n",
      "and because of their effect on other organisms in the ecosystem,\n",
      "beavers are considered a keystone species. \n",
      "Adult males and females live in monogamous pairs with their offspring. \n",
      "After their first year, the young help their parents repair dams and lodges; \n",
      "older siblings may also help raise newly-born offspring.\n",
      "\n"
     ]
    }
   ],
   "source": [
    "print(\"\"\"\n",
    "Beavers build dams and lodges using tree branches,vegetation, rocks and mud. \n",
    "They chew down trees for building material.\n",
    "Dams restrict water flow, and lodges serve as shelters.\n",
    "Their infrastructure creates wetlands used by many other species,\n",
    "and because of their effect on other organisms in the ecosystem,\n",
    "beavers are considered a keystone species. \n",
    "Adult males and females live in monogamous pairs with their offspring. \n",
    "After their first year, the young help their parents repair dams and lodges; \n",
    "older siblings may also help raise newly-born offspring.\n",
    "\"\"\")"
   ]
  },
  {
   "cell_type": "markdown",
   "id": "53f1f0f1",
   "metadata": {},
   "source": [
    "### 4. More complex printing"
   ]
  },
  {
   "cell_type": "code",
   "execution_count": 11,
   "id": "0f72e70b",
   "metadata": {},
   "outputs": [
    {
     "name": "stdout",
     "output_type": "stream",
     "text": [
      "I love rock and roll!I love rock and roll!I love rock and roll!I love rock and roll!I love rock and roll!\n"
     ]
    }
   ],
   "source": [
    "print(\"I love rock and roll!\"*5)"
   ]
  },
  {
   "cell_type": "code",
   "execution_count": 12,
   "id": "90a37c49",
   "metadata": {},
   "outputs": [
    {
     "name": "stdout",
     "output_type": "stream",
     "text": [
      "I love rock and rollI love rock and rollI love rock and roll\n"
     ]
    }
   ],
   "source": [
    "print(\"I love rock and roll\" + \"I love rock and roll\" + \"I love rock and roll\")"
   ]
  },
  {
   "cell_type": "code",
   "execution_count": 13,
   "id": "5d170e6d",
   "metadata": {},
   "outputs": [
    {
     "name": "stdout",
     "output_type": "stream",
     "text": [
      "I love rock and roll!\n",
      "I love rock and roll!\n",
      "I love rock and roll!\n",
      "I love rock and roll!\n",
      "I love rock and roll!\n",
      "\n"
     ]
    }
   ],
   "source": [
    "print(\"I love rock and roll!\\n\"*5)"
   ]
  },
  {
   "cell_type": "code",
   "execution_count": 14,
   "id": "5b6bba4e",
   "metadata": {},
   "outputs": [
    {
     "name": "stdout",
     "output_type": "stream",
     "text": [
      "How many Foo Fighters albums are there?  10\n"
     ]
    }
   ],
   "source": [
    "print(\"How many Foo Fighters albums are there? \", 10)"
   ]
  },
  {
   "cell_type": "code",
   "execution_count": 15,
   "id": "638aa754",
   "metadata": {},
   "outputs": [
    {
     "name": "stdout",
     "output_type": "stream",
     "text": [
      "What am I doing?\n",
      "\n",
      "What am I doing?"
     ]
    }
   ],
   "source": [
    "print(\"What am I doing?\")\n",
    "print()\n",
    "print(\"What am I doing\",end='?')"
   ]
  },
  {
   "cell_type": "code",
   "execution_count": 16,
   "id": "6e783817",
   "metadata": {},
   "outputs": [
    {
     "name": "stdout",
     "output_type": "stream",
     "text": [
      "I'm so confused. What am I doing?????"
     ]
    }
   ],
   "source": [
    "print(\"I'm so confused. What am I doing\",end='?'*5)"
   ]
  },
  {
   "cell_type": "code",
   "execution_count": 17,
   "id": "4e000a1c",
   "metadata": {},
   "outputs": [
    {
     "name": "stdout",
     "output_type": "stream",
     "text": [
      "____________________________________________________________\n",
      "++++++++++++++++++++++++++++++++++++++++++++++++++++++++++++\n",
      "THIS IS AN IMPORTANT MESSAGE!!!!!!!!!!\n",
      "I hope you got that\n",
      "____________________________________________________________\n",
      "++++++++++++++++++++++++++++++++++++++++++++++++++++++++++++\n"
     ]
    }
   ],
   "source": [
    "print('_'*60)\n",
    "print('+'*60)\n",
    "print(\"THIS IS AN IMPORTANT MESSAGE\",end='!'*10)\n",
    "print(\"\\nI hope you got that\")\n",
    "print('_'*60)\n",
    "print('+'*60)"
   ]
  },
  {
   "cell_type": "code",
   "execution_count": 18,
   "id": "4a9cf5c4",
   "metadata": {},
   "outputs": [
    {
     "name": "stdout",
     "output_type": "stream",
     "text": [
      "Hi there how are you\n",
      "\n",
      "Hi there how are you\n"
     ]
    }
   ],
   "source": [
    "print(\"Hi there how are you\")\n",
    "print()\n",
    "print(\"Hi\",\"there\",\"how\",\"are\",\"you\")"
   ]
  },
  {
   "cell_type": "code",
   "execution_count": 19,
   "id": "b0f00420",
   "metadata": {},
   "outputs": [
    {
     "name": "stdout",
     "output_type": "stream",
     "text": [
      "\"Hello!!!\" I have 20 students in class!\n"
     ]
    }
   ],
   "source": [
    "print(\"\\\"Hello!!!\\\"\",\"I have\",20,\"students in class!\")"
   ]
  },
  {
   "cell_type": "code",
   "execution_count": 20,
   "id": "245dbad5",
   "metadata": {},
   "outputs": [
    {
     "name": "stdout",
     "output_type": "stream",
     "text": [
      "Apples:  10 \n",
      "Oranges:  20 \n",
      "Grapes:  28\n",
      "\n",
      "Apples:  10\n",
      "Oranges:  20\n",
      "Grapes:  28\n"
     ]
    }
   ],
   "source": [
    "# One way to print vertically oriented info\n",
    "print(\"Apples: \",10,\n",
    "      \"\\nOranges: \",20,\n",
    "      \"\\nGrapes: \",28\n",
    "     )\n",
    "print()\n",
    "\n",
    "# Another way to print the same thing\n",
    "print(\"Apples: \",10)\n",
    "print(\"Oranges: \", 20,)\n",
    "print(\"Grapes: \",28)"
   ]
  },
  {
   "cell_type": "markdown",
   "id": "2f057bfc",
   "metadata": {},
   "source": [
    "### 5. Looking Ahead - Dynamic Printing Using Variables"
   ]
  },
  {
   "cell_type": "markdown",
   "id": "957568e8",
   "metadata": {},
   "source": [
    "#### Notes:\n",
    "> 1. I see an \"import\" statement"
   ]
  },
  {
   "cell_type": "code",
   "execution_count": 21,
   "id": "bee21d2c",
   "metadata": {},
   "outputs": [
    {
     "name": "stdout",
     "output_type": "stream",
     "text": [
      "\n",
      "There was a young man from {place},\n",
      "Who {activity} his {item} {with_something}.\n",
      "  One night after dark,\n",
      "  {it_did_something} {in_a_place},\n",
      "And he never worked out {reason}.\n",
      "\n"
     ]
    }
   ],
   "source": [
    "import random\n",
    "\n",
    "template = \"\"\"\n",
    "There was a young man from {place},\n",
    "Who {activity} his {item} {with_something}.\n",
    "  One night after dark,\n",
    "  {it_did_something} {in_a_place},\n",
    "And he never worked out {reason}.\n",
    "\"\"\"\n",
    "\n",
    "print(template)"
   ]
  },
  {
   "cell_type": "code",
   "execution_count": 28,
   "id": "551338ba",
   "metadata": {},
   "outputs": [
    {
     "name": "stdout",
     "output_type": "stream",
     "text": [
      "\n",
      "There was a young man from Kent,\n",
      "Who fastened his hand that was bent.\n",
      "  One night after dark,\n",
      "  It turned blue with a bark,\n",
      "And he never worked out its intent.\n",
      "\n"
     ]
    }
   ],
   "source": [
    "# A single syllable and must rhyme with the \"with_something\" items.\n",
    "selected_place = random.choice(\n",
    "    [\"Tashkent\", \"Trent\", \"Kent\", \"Ghent\", ]\n",
    ")  \n",
    "\n",
    "# two syllables.\n",
    "selected_activity = random.choice(\n",
    "    [\"wrapped up\", \"covered\", \"painted\", \"fastened\", ]  \n",
    ")\n",
    "\n",
    "# single syllable.\n",
    "item = random.choice(\n",
    "    [\"head\", \"hand\", \"dog\", \"foot\", ]  \n",
    ")\n",
    "\n",
    "# Three syllables and must rhyme with the \"place\" items.\n",
    "with_something = random.choice(\n",
    "    [\"in a tent\", \"with cement\", \"with some scent\", \"that was bent\", ]  \n",
    ")\n",
    "\n",
    "# Three (ish) syllables.\n",
    "it_did_something = random.choice(\n",
    "    [\"It ran off\", \"It glowed\", \"It blew up\", \"It turned blue\", ]  \n",
    ")\n",
    "\n",
    "# Three syllables and must rhyme with the word, \"dark\".\n",
    "in_a_place = random.choice(\n",
    "    [\"in the park\", \"like a quark\", \"for a lark\", \"with a bark\", ]  \n",
    ")\n",
    "\n",
    "# Three syllables.\n",
    "reason = random.choice(\n",
    "    [\"where it went\", \"its intent\", \"why it went\", \"what it meant\", ]  \n",
    ")\n",
    "\n",
    "limerick = template.format(\n",
    "    place=selected_place,\n",
    "    activity=selected_activity,\n",
    "    item=item,\n",
    "    with_something=with_something,\n",
    "    it_did_something=it_did_something,\n",
    "    in_a_place=in_a_place,\n",
    "    reason=reason,\n",
    ")\n",
    "print(limerick)"
   ]
  }
 ],
 "metadata": {
  "kernelspec": {
   "display_name": "py312",
   "language": "python",
   "name": "python3"
  },
  "language_info": {
   "codemirror_mode": {
    "name": "ipython",
    "version": 3
   },
   "file_extension": ".py",
   "mimetype": "text/x-python",
   "name": "python",
   "nbconvert_exporter": "python",
   "pygments_lexer": "ipython3",
   "version": "3.12.8"
  }
 },
 "nbformat": 4,
 "nbformat_minor": 5
}
