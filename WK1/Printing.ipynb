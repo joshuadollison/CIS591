{
 "cells": [
  {
   "cell_type": "markdown",
   "id": "13f53224",
   "metadata": {
    "editable": true,
    "slideshow": {
     "slide_type": ""
    },
    "tags": []
   },
   "source": [
    "# Questions to consider\n",
    "\n",
    "1. Why do so many introductions to coding languages begin with print statements?\n",
    "    * e.g. print(\"Hello World!\")\n",
    "  \n",
    "    <div class=\"alert alert-block alert-success\">\n",
    "    Thoughts * gpt\n",
    "    </div>\n",
    "\n",
    "    1. Immediate Feedback\n",
    "  \n",
    "        * Printing to the screen is the simplest way to show the student that the code actually did something.\n",
    "        * No setup, no extra tools—just “write this line, run it, and see the output.”\n",
    "    \t* This gives instant gratification, which helps beginners feel successful right away.\n",
    "     \n",
    "    2. Minimal Complexity\n",
    "  \n",
    "        * It introduces only the bare minimum syntax needed in the language:\n",
    "        \t* keywords (like print)\n",
    "        \t* strings (\"Hello World!\")\n",
    "        \t* parentheses or semicolons (depending on the language)\n",
    "    \t* No variables, no loops, no imports—just one concept at a time.\n",
    "\n",
    "    3. Historical Tradition\n",
    "  \n",
    "       * The practice dates back to Brian Kernighan’s “Hello, World!” example in the book The C Programming Language (1978).\n",
    "    \t* That book became foundational, and other language authors copied the pattern.\n",
    "    \t* Over time, “Hello, World!” became a rite of passage in programming culture.\n",
    "  \n",
    "    4. Universality\n",
    "   \n",
    "    \t* Every language—Python, C, Java, Rust, etc.—can display text in some way.\n",
    "    \t* Starting with printing provides a common ground for learners across languages.\n",
    "    \t* It makes it easier to compare languages (“this is how you say hello in C, this is how in Python”).\n",
    "\n",
    "    5. Gateway to Concepts\n",
    "\n",
    "    - From print(\"Hello World!\"), it’s an easy progression to:\n",
    "        * Printing variables → understanding data types\n",
    "        * Printing results of calculations → expressions & operators\n",
    "    \t* Printing in loops → control flow\n",
    "    \t* Formatting output → strings and functions\n",
    "      \n",
    "2. What's the big deal about seeing a collection of words displayed directly below a code cell where those same words are included in a print request?\n",
    "3. How do practitioners use print() statements in the real world?\n",
    "4. How do I handle complext print statements?  \n",
    "    > - e.g. when statements include apostraphes\n",
    "    > - long statements that need multiple lines\n",
    "    > - situations where I want to incorporate dynamic information?"
   ]
  },
  {
   "cell_type": "markdown",
   "id": "305ed44b",
   "metadata": {},
   "source": [
    "# Try ALL of the following and take notes on the questions"
   ]
  },
  {
   "cell_type": "markdown",
   "id": "7d278c28",
   "metadata": {},
   "source": [
    "### 1. Run the next 4 code cells - why do some of them NOT work?"
   ]
  },
  {
   "cell_type": "code",
   "execution_count": 1,
   "id": "b0f524b1",
   "metadata": {},
   "outputs": [
    {
     "name": "stdout",
     "output_type": "stream",
     "text": [
      "I love rock and roll!\n"
     ]
    }
   ],
   "source": [
    "# works fine - calls method, uses matching strings around param\n",
    "print(\"I love rock and roll!\")"
   ]
  },
  {
   "cell_type": "code",
   "execution_count": 3,
   "id": "7d603ef1",
   "metadata": {},
   "outputs": [
    {
     "ename": "NameError",
     "evalue": "name 'Print' is not defined",
     "output_type": "error",
     "traceback": [
      "\u001b[31m---------------------------------------------------------------------------\u001b[39m",
      "\u001b[31mNameError\u001b[39m                                 Traceback (most recent call last)",
      "\u001b[36mCell\u001b[39m\u001b[36m \u001b[39m\u001b[32mIn[3]\u001b[39m\u001b[32m, line 2\u001b[39m\n\u001b[32m      1\u001b[39m \u001b[38;5;66;03m# fails - case sensitive - no Print method in std libs\u001b[39;00m\n\u001b[32m----> \u001b[39m\u001b[32m2\u001b[39m \u001b[43mPrint\u001b[49m(\u001b[33m\"\u001b[39m\u001b[33mI love rock and roll\u001b[39m\u001b[33m\"\u001b[39m)\n",
      "\u001b[31mNameError\u001b[39m: name 'Print' is not defined"
     ]
    }
   ],
   "source": [
    "# fails - case sensitive - no Print method in std libs\n",
    "Print(\"I love rock and roll\")"
   ]
  },
  {
   "cell_type": "code",
   "execution_count": 5,
   "id": "0585184f",
   "metadata": {},
   "outputs": [
    {
     "ename": "NameError",
     "evalue": "name 'PRINT' is not defined",
     "output_type": "error",
     "traceback": [
      "\u001b[31m---------------------------------------------------------------------------\u001b[39m",
      "\u001b[31mNameError\u001b[39m                                 Traceback (most recent call last)",
      "\u001b[36mCell\u001b[39m\u001b[36m \u001b[39m\u001b[32mIn[5]\u001b[39m\u001b[32m, line 2\u001b[39m\n\u001b[32m      1\u001b[39m \u001b[38;5;66;03m# fails - case sensitive - no Print method in std libs\u001b[39;00m\n\u001b[32m----> \u001b[39m\u001b[32m2\u001b[39m \u001b[43mPRINT\u001b[49m(\u001b[33m\"\u001b[39m\u001b[33mI love rock and roll\u001b[39m\u001b[33m\"\u001b[39m)\n",
      "\u001b[31mNameError\u001b[39m: name 'PRINT' is not defined"
     ]
    }
   ],
   "source": [
    "# fails - case sensitive - no PRINT method in std libs\n",
    "PRINT(\"I love rock and roll\")"
   ]
  },
  {
   "cell_type": "code",
   "execution_count": 6,
   "id": "be0de387",
   "metadata": {},
   "outputs": [
    {
     "name": "stdout",
     "output_type": "stream",
     "text": [
      "I love rock and roll!\n"
     ]
    }
   ],
   "source": [
    "# works fine - calls method, matching apostrophes around param\n",
    "print('I love rock and roll!')"
   ]
  },
  {
   "cell_type": "markdown",
   "id": "f4540cad-dde6-4990-98ea-17658abdf4f8",
   "metadata": {
    "editable": true,
    "slideshow": {
     "slide_type": ""
    },
    "tags": []
   },
   "source": [
    "<div class=\"alert alert-block alert-success\">As a note here GPT says:</div>\n",
    "PEP 8 doesn’t force one or the other—it says to be consistent within your project.<br>\n",
    "\t\n",
    "    - A common convention:\n",
    "    \t- Use single quotes by default: 'hello'\n",
    "    \t- Switch to double quotes if the string contains an apostrophe: \"it's\""
   ]
  },
  {
   "cell_type": "markdown",
   "id": "b622e1e0",
   "metadata": {},
   "source": [
    "### 2. Telling Python to skip certain characters"
   ]
  },
  {
   "cell_type": "code",
   "execution_count": 8,
   "id": "753fb515",
   "metadata": {},
   "outputs": [
    {
     "ename": "SyntaxError",
     "evalue": "unterminated string literal (detected at line 2) (2661686428.py, line 2)",
     "output_type": "error",
     "traceback": [
      "  \u001b[36mCell\u001b[39m\u001b[36m \u001b[39m\u001b[32mIn[8]\u001b[39m\u001b[32m, line 2\u001b[39m\n\u001b[31m    \u001b[39m\u001b[31mprint('I'm excited to learn Python')\u001b[39m\n                                      ^\n\u001b[31mSyntaxError\u001b[39m\u001b[31m:\u001b[39m unterminated string literal (detected at line 2)\n"
     ]
    }
   ],
   "source": [
    "# Run this code cell - you will get an error - do you know why?\n",
    "print('I'm excited to learn Python')\n",
    "\n",
    "# The apostrophe in I'm breaks up the pair and needs to be escaped - or replace the outer '' with \"\""
   ]
  },
  {
   "cell_type": "code",
   "execution_count": 11,
   "id": "1f0251a1",
   "metadata": {},
   "outputs": [
    {
     "name": "stdout",
     "output_type": "stream",
     "text": [
      "I'm excited to learn Python\n"
     ]
    }
   ],
   "source": [
    "# This next option should work - how is this different than the cell above?\n",
    "print(\"I'm excited to learn Python\")\n",
    "\n",
    "# Outer '' replaced with \"\". Sees the \"\" as the string delim w/an internal '"
   ]
  },
  {
   "cell_type": "markdown",
   "id": "da0050c1",
   "metadata": {},
   "source": [
    "> Run the next few code cells and take note of the results - are you taking note of what the variations in syntax are doing?"
   ]
  },
  {
   "cell_type": "code",
   "execution_count": 13,
   "id": "c95c62d4",
   "metadata": {},
   "outputs": [
    {
     "name": "stdout",
     "output_type": "stream",
     "text": [
      "I'm excited to learn Python\n"
     ]
    }
   ],
   "source": [
    "# Question: what is the backslash symbol below doing for us?\n",
    "print('I\\'m excited to learn Python')\n",
    "\n",
    "# It's escaping the ' char. Telling it to treat the char ' as a literal char and not\n",
    "#    treat it as a string delimiter"
   ]
  },
  {
   "cell_type": "code",
   "execution_count": 6,
   "id": "262a8137",
   "metadata": {},
   "outputs": [
    {
     "name": "stdout",
     "output_type": "stream",
     "text": [
      "\"I'm excited to learn Python!\"\n"
     ]
    }
   ],
   "source": [
    "print('\\\"I\\'m excited to learn Python!\\\"')"
   ]
  },
  {
   "cell_type": "markdown",
   "id": "2b09a434",
   "metadata": {},
   "source": [
    "### 3. Printing long statements\n",
    "\n",
    "> Run each of the code cells below - take note of the differences in each print() <br>\n",
    "statement an the resulting output.<br>\n",
    "Note that not ALL of the print() statements will run without error."
   ]
  },
  {
   "cell_type": "code",
   "execution_count": 17,
   "id": "d2046463",
   "metadata": {},
   "outputs": [
    {
     "name": "stdout",
     "output_type": "stream",
     "text": [
      "Beavers build dams and lodges using tree branches, vegetation, rocks and mud; they chew down trees for building material. Dams restrict water flow, and lodges serve as shelters. Their infrastructure creates wetlands used by many other species, and because of their effect on other organisms in the ecosystem, beavers are considered a keystone species. Adult males and females live in monogamous pairs with their offspring. After their first year, the young help their parents repair dams and lodges; older siblings may also help raise newly-born offspring.\n"
     ]
    }
   ],
   "source": [
    "# This works, but it is unreadable for devs - nobody has a screen that long - scroll, scroll, scroll...\n",
    "print(\"Beavers build dams and lodges using tree branches, vegetation, rocks and mud; they chew down trees for building material. Dams restrict water flow, and lodges serve as shelters. Their infrastructure creates wetlands used by many other species, and because of their effect on other organisms in the ecosystem, beavers are considered a keystone species. Adult males and females live in monogamous pairs with their offspring. After their first year, the young help their parents repair dams and lodges; older siblings may also help raise newly-born offspring.\")"
   ]
  },
  {
   "cell_type": "code",
   "execution_count": 18,
   "id": "c2d35901",
   "metadata": {},
   "outputs": [
    {
     "ename": "SyntaxError",
     "evalue": "unterminated string literal (detected at line 3) (3305523033.py, line 3)",
     "output_type": "error",
     "traceback": [
      "  \u001b[36mCell\u001b[39m\u001b[36m \u001b[39m\u001b[32mIn[18]\u001b[39m\u001b[32m, line 3\u001b[39m\n\u001b[31m    \u001b[39m\u001b[31mprint(\"Beavers build dams and lodges using tree branches, vegetation, rocks and mud.\u001b[39m\n          ^\n\u001b[31mSyntaxError\u001b[39m\u001b[31m:\u001b[39m unterminated string literal (detected at line 3)\n"
     ]
    }
   ],
   "source": [
    "# This fails b/c there's no line continuation char - it sees the next line as a new instruction\n",
    "#    instead of a continuation of the string literal\n",
    "print(\"Beavers build dams and lodges using tree branches, vegetation, rocks and mud. \n",
    "      They chew down trees for building material. Dams restrict water flow, and lodges serve as shelters. \n",
    "      Their infrastructure creates wetlands used by many other species, \n",
    "      and because of their effect on other organisms in the ecosystem, \n",
    "      beavers are considered a keystone species. \n",
    "      Adult males and females live in monogamous pairs with their offspring. \n",
    "      After their first year, the young help their parents repair dams and lodges; \n",
    "      older siblings may also help raise newly-born offspring.\")"
   ]
  },
  {
   "cell_type": "code",
   "execution_count": 20,
   "id": "338da7bb",
   "metadata": {},
   "outputs": [
    {
     "name": "stdout",
     "output_type": "stream",
     "text": [
      "Beavers build dams and lodges using tree branches, vegetation, rocks and mud.       They chew down trees for building material. Dams restrict water flow, and lodges serve as shelters.       Their infrastructure creates wetlands used by many other species,      and because of their effect on other organisms in the ecosystem,       beavers are considered a keystone species.       Adult males and females live in monogamous pairs with their offspring.       After their first year, the young help their parents repair dams and lodges;       older siblings may also help raise newly-born offspring.\n"
     ]
    }
   ],
   "source": [
    "# This works because the \\ is the line continuation char - it tells the interpreter to just\n",
    "#    see this as one big string. \n",
    "# UNFORTUNATELY - it includes the readability indentation in the code as part of the string\n",
    "print(\"Beavers build dams and lodges using tree branches, vegetation, rocks and mud. \\\n",
    "      They chew down trees for building material. Dams restrict water flow, and lodges serve as shelters. \\\n",
    "      Their infrastructure creates wetlands used by many other species,\\\n",
    "      and because of their effect on other organisms in the ecosystem, \\\n",
    "      beavers are considered a keystone species. \\\n",
    "      Adult males and females live in monogamous pairs with their offspring. \\\n",
    "      After their first year, the young help their parents repair dams and lodges; \\\n",
    "      older siblings may also help raise newly-born offspring.\")"
   ]
  },
  {
   "cell_type": "code",
   "execution_count": 9,
   "id": "ec5b60e6",
   "metadata": {},
   "outputs": [
    {
     "name": "stdout",
     "output_type": "stream",
     "text": [
      "Beavers build dams and lodges using tree branches, vegetation, rocks and mud.\n",
      "They chew down trees for building material.\n",
      "Dams restrict water flow, and lodges serve as shelters.\n",
      "Their infrastructure creates wetlands used by many other species,\n",
      "and because of their effect on other organisms in the ecosystem,\n",
      "beavers are considered a keystone species.\n",
      "Adult males and females live in monogamous pairs with their offspring.\n",
      "After their first year, the young help their parents repair dams and lodges;\n",
      "older siblings may also help raise newly-born offspring.\n"
     ]
    }
   ],
   "source": [
    "# This works, but cleans up the output a bit\n",
    "#    First, it uses the \\n to escape the new line char so that the output puts each line on a new line\n",
    "#    Then, the python line continuation char is added so it can be made readable\n",
    "#    Finally, the indentation is removed so there are no leading chars before each line on output\n",
    "print(\"Beavers build dams and lodges using tree branches, vegetation, rocks and mud.\\n\\\n",
    "They chew down trees for building material.\\n\\\n",
    "Dams restrict water flow, and lodges serve as shelters.\\n\\\n",
    "Their infrastructure creates wetlands used by many other species,\\n\\\n",
    "and because of their effect on other organisms in the ecosystem,\\n\\\n",
    "beavers are considered a keystone species.\\n\\\n",
    "Adult males and females live in monogamous pairs with their offspring.\\n\\\n",
    "After their first year, the young help their parents repair dams and lodges;\\n\\\n",
    "older siblings may also help raise newly-born offspring.\")"
   ]
  },
  {
   "cell_type": "code",
   "execution_count": 22,
   "id": "d96acbbd",
   "metadata": {},
   "outputs": [
    {
     "name": "stdout",
     "output_type": "stream",
     "text": [
      "\n",
      "Beavers build dams and lodges using tree branches,vegetation, rocks and mud. \n",
      "They chew down trees for building material.\n",
      "Dams restrict water flow, and lodges serve as shelters.\n",
      "Their infrastructure creates wetlands used by many other species,\n",
      "and because of their effect on other organisms in the ecosystem,\n",
      "beavers are considered a keystone species. \n",
      "Adult males and females live in monogamous pairs with their offspring. \n",
      "After their first year, the young help their parents repair dams and lodges; \n",
      "older siblings may also help raise newly-born offspring.\n",
      "\n"
     ]
    }
   ],
   "source": [
    "# This uses triple-quoted strings, which are often used for multi-line strings (like big text blocks).\n",
    "#    Inside them, you can still use single (') and double (\") quotes freely, without escaping.\n",
    "#    Unfortunately, you still have to worry about the literal chars being output when you try to indent your code\n",
    "print(\"\"\"\n",
    "Beavers build dams and lodges using tree branches,vegetation, rocks and mud. \n",
    "They chew down trees for building material.\n",
    "Dams restrict water flow, and lodges serve as shelters.\n",
    "Their infrastructure creates wetlands used by many other species,\n",
    "and because of their effect on other organisms in the ecosystem,\n",
    "beavers are considered a keystone species. \n",
    "Adult males and females live in monogamous pairs with their offspring. \n",
    "After their first year, the young help their parents repair dams and lodges; \n",
    "older siblings may also help raise newly-born offspring.\n",
    "\"\"\")"
   ]
  },
  {
   "cell_type": "markdown",
   "id": "16c91e8d-f406-483c-95f9-e707f4ab6c9f",
   "metadata": {},
   "source": [
    "#### Dedent as a trick to get past the literal interpretation"
   ]
  },
  {
   "cell_type": "code",
   "execution_count": 32,
   "id": "186e1979-04f1-46b1-8aef-b9af71e76d23",
   "metadata": {},
   "outputs": [
    {
     "name": "stdout",
     "output_type": "stream",
     "text": [
      "Beavers build dams and lodges using tree branches,vegetation, rocks and mud. \n",
      "They chew down trees for building material.\n",
      "Dams restrict water flow, and lodges serve as shelters.\n",
      "Their infrastructure creates wetlands used by many other species,\n",
      "and because of their effect on other organisms in the ecosystem,\n",
      "beavers are considered a keystone species. \n",
      "Adult males and females live in monogamous pairs with their offspring. \n",
      "After their first year, the young help their parents repair dams and lodges; \n",
      "older siblings may also help raise newly-born offspring.\n",
      "\n"
     ]
    }
   ],
   "source": [
    "import textwrap\n",
    "\n",
    "# now I can indent my code, mind the escape at the top to avoid the extra line\n",
    "print(textwrap.dedent(\"\"\"\\\n",
    "    Beavers build dams and lodges using tree branches,vegetation, rocks and mud. \n",
    "    They chew down trees for building material.\n",
    "    Dams restrict water flow, and lodges serve as shelters.\n",
    "    Their infrastructure creates wetlands used by many other species,\n",
    "    and because of their effect on other organisms in the ecosystem,\n",
    "    beavers are considered a keystone species. \n",
    "    Adult males and females live in monogamous pairs with their offspring. \n",
    "    After their first year, the young help their parents repair dams and lodges; \n",
    "    older siblings may also help raise newly-born offspring.\n",
    "\"\"\"))"
   ]
  },
  {
   "cell_type": "markdown",
   "id": "53f1f0f1",
   "metadata": {
    "editable": true,
    "slideshow": {
     "slide_type": ""
    },
    "tags": []
   },
   "source": [
    "### 4. More complex printing"
   ]
  },
  {
   "cell_type": "code",
   "execution_count": 36,
   "id": "0f72e70b",
   "metadata": {},
   "outputs": [
    {
     "name": "stdout",
     "output_type": "stream",
     "text": [
      "I love rock and roll!I love rock and roll!I love rock and roll!I love rock and roll!I love rock and roll!\n"
     ]
    }
   ],
   "source": [
    "# This shows that string literals can be multiplied. The literal string is repeated 5 times and passed into the print function\n",
    "print(\"I love rock and roll!\"*5)"
   ]
  },
  {
   "cell_type": "code",
   "execution_count": 37,
   "id": "90a37c49",
   "metadata": {},
   "outputs": [
    {
     "name": "stdout",
     "output_type": "stream",
     "text": [
      "I love rock and rollI love rock and rollI love rock and roll\n"
     ]
    }
   ],
   "source": [
    "# This demonstrates string concatenation using the + symbol to build one long string consisting of three smaller strings\n",
    "print(\"I love rock and roll\" + \"I love rock and roll\" + \"I love rock and roll\")"
   ]
  },
  {
   "cell_type": "code",
   "execution_count": 38,
   "id": "5d170e6d",
   "metadata": {},
   "outputs": [
    {
     "name": "stdout",
     "output_type": "stream",
     "text": [
      "I love rock and roll!\n",
      "I love rock and roll!\n",
      "I love rock and roll!\n",
      "I love rock and roll!\n",
      "I love rock and roll!\n",
      "\n"
     ]
    }
   ],
   "source": [
    "# This is identical to the first eg, but it ends each line with a new line char so that the output is more readable\n",
    "print(\"I love rock and roll!\\n\"*5)"
   ]
  },
  {
   "cell_type": "code",
   "execution_count": 45,
   "id": "5b6bba4e",
   "metadata": {},
   "outputs": [
    {
     "name": "stdout",
     "output_type": "stream",
     "text": [
      "How many Foo Fighters albums are there?  10\n",
      "The number of Foo Fighters albums is: 10\n"
     ]
    }
   ],
   "source": [
    "# This shows how the print function implements multiple default args\n",
    "#    It concats them with a space separating them\n",
    "#    It also converts the int into a string saving you from having do it\n",
    "print(\"How many Foo Fighters albums are there? \", 10)\n",
    "\n",
    "# You can change the separation string from the default space to one of your own choosing\n",
    "#    By passing the named sep arg in the desired value\n",
    "print(\"The number of Foo Fighters albums is\", 10, sep=': ')"
   ]
  },
  {
   "cell_type": "code",
   "execution_count": 51,
   "id": "638aa754",
   "metadata": {},
   "outputs": [
    {
     "name": "stdout",
     "output_type": "stream",
     "text": [
      "What am I doing?\n",
      "\n",
      "What am I doing?a b c:this is a custom line end w/out new line"
     ]
    }
   ],
   "source": [
    "# print with no args prints a new line b/c the end named arg defaults to the new line char\n",
    "# Passing in the end named arg suffixes the string w/the value\n",
    "print(\"What am I doing?\")\n",
    "print()\n",
    "print(\"What am I doing\",end='?')\n",
    "\n",
    "# There's no new line at the end when we pass our own value in\n",
    "#   Also demonstrating the multiple default args w/it\n",
    "print('a', 'b', 'c', end=':this is a custom line end w/out new line')"
   ]
  },
  {
   "cell_type": "code",
   "execution_count": 52,
   "id": "6e783817",
   "metadata": {},
   "outputs": [
    {
     "name": "stdout",
     "output_type": "stream",
     "text": [
      "I'm so confused. What am I doing?????"
     ]
    }
   ],
   "source": [
    "# Same as the other multiples - the point is that the string operation occurs before it is passed as an arg\n",
    "print(\"I'm so confused. What am I doing\",end='?'*5)"
   ]
  },
  {
   "cell_type": "code",
   "execution_count": 17,
   "id": "4e000a1c",
   "metadata": {},
   "outputs": [
    {
     "name": "stdout",
     "output_type": "stream",
     "text": [
      "____________________________________________________________\n",
      "++++++++++++++++++++++++++++++++++++++++++++++++++++++++++++\n",
      "THIS IS AN IMPORTANT MESSAGE!!!!!!!!!!\n",
      "I hope you got that\n",
      "____________________________________________________________\n",
      "++++++++++++++++++++++++++++++++++++++++++++++++++++++++++++\n"
     ]
    }
   ],
   "source": [
    "print('_'*60)\n",
    "print('+'*60)\n",
    "print(\"THIS IS AN IMPORTANT MESSAGE\",end='!'*10)\n",
    "print(\"\\nI hope you got that\")\n",
    "print('_'*60)\n",
    "print('+'*60)"
   ]
  },
  {
   "cell_type": "code",
   "execution_count": 18,
   "id": "4a9cf5c4",
   "metadata": {},
   "outputs": [
    {
     "name": "stdout",
     "output_type": "stream",
     "text": [
      "Hi there how are you\n",
      "\n",
      "Hi there how are you\n"
     ]
    }
   ],
   "source": [
    "print(\"Hi there how are you\")\n",
    "print()\n",
    "print(\"Hi\",\"there\",\"how\",\"are\",\"you\")"
   ]
  },
  {
   "cell_type": "code",
   "execution_count": 57,
   "id": "b0f00420",
   "metadata": {},
   "outputs": [
    {
     "name": "stdout",
     "output_type": "stream",
     "text": [
      "\"Hello!!!\" I have 20 students in class!\n",
      "\"Hello!!!\" I have 20 students in class!\n",
      "\"Hello!!! I have 20 students in class!\n"
     ]
    }
   ],
   "source": [
    "# This is showing escaping \" so that they are included explicitly in the output\n",
    "print(\"\\\"Hello!!!\\\"\",\"I have\",20,\"students in class!\")\n",
    "\n",
    "# We also could have just used ''\n",
    "print('\"Hello!!!\"',\"I have\",20,\"students in class!\")\n",
    "\n",
    "# Or \"\"\" \"\"\" or ''' '''\n",
    "print(\"\"\"\"Hello!!!\"\"\"\"\",\"I have\",20,\"students in class!\")"
   ]
  },
  {
   "cell_type": "code",
   "execution_count": 58,
   "id": "245dbad5",
   "metadata": {
    "editable": true,
    "slideshow": {
     "slide_type": ""
    },
    "tags": []
   },
   "outputs": [
    {
     "name": "stdout",
     "output_type": "stream",
     "text": [
      "Apples:  10 \n",
      "Oranges:  20 \n",
      "Grapes:  28\n",
      "\n",
      "Apples:  10\n",
      "Oranges:  20\n",
      "Grapes:  28\n"
     ]
    }
   ],
   "source": [
    "# One way to print vertically oriented info\n",
    "print(\"Apples: \",10,\n",
    "      \"\\nOranges: \",20,\n",
    "      \"\\nGrapes: \",28\n",
    "     )\n",
    "print()\n",
    "\n",
    "# Another way to print the same thing\n",
    "print(\"Apples: \",10)\n",
    "print(\"Oranges: \", 20,)\n",
    "print(\"Grapes: \",28)"
   ]
  },
  {
   "cell_type": "markdown",
   "id": "2f057bfc",
   "metadata": {},
   "source": [
    "### 5. Looking Ahead - Dynamic Printing Using Variables"
   ]
  },
  {
   "cell_type": "markdown",
   "id": "957568e8",
   "metadata": {},
   "source": [
    "#### Notes:\n",
    "> 1. I see an \"import\" statement\n",
    ">\n",
    "> It loads the random module so that we can access randomization methods within it"
   ]
  },
  {
   "cell_type": "code",
   "execution_count": 59,
   "id": "bee21d2c",
   "metadata": {},
   "outputs": [
    {
     "name": "stdout",
     "output_type": "stream",
     "text": [
      "\n",
      "There was a young man from {place},\n",
      "Who {activity} his {item} {with_something}.\n",
      "  One night after dark,\n",
      "  {it_did_something} {in_a_place},\n",
      "And he never worked out {reason}.\n",
      "\n"
     ]
    }
   ],
   "source": [
    "import random\n",
    "\n",
    "# build a string variable named template\n",
    "#    There are place holders built in using {}, but for now when we print, \n",
    "#    they're just part of the literal\n",
    "template = \"\"\"\n",
    "There was a young man from {place},\n",
    "Who {activity} his {item} {with_something}.\n",
    "  One night after dark,\n",
    "  {it_did_something} {in_a_place},\n",
    "And he never worked out {reason}.\n",
    "\"\"\"\n",
    "\n",
    "print(template)"
   ]
  },
  {
   "cell_type": "code",
   "execution_count": 62,
   "id": "551338ba",
   "metadata": {},
   "outputs": [
    {
     "name": "stdout",
     "output_type": "stream",
     "text": [
      "\n",
      "There was a young man from Kent,\n",
      "Who wrapped up his dog with some scent.\n",
      "  One night after dark,\n",
      "  It turned blue like a quark,\n",
      "And he never worked out what it meant.\n",
      "\n"
     ]
    }
   ],
   "source": [
    "# A single syllable and must rhyme with the \"with_something\" items.\n",
    "selected_place = random.choice(\n",
    "    [\"Tashkent\", \"Trent\", \"Kent\", \"Ghent\", ]\n",
    ")  \n",
    "\n",
    "# two syllables.\n",
    "selected_activity = random.choice(\n",
    "    [\"wrapped up\", \"covered\", \"painted\", \"fastened\", ]  \n",
    ")\n",
    "\n",
    "# single syllable.\n",
    "item = random.choice(\n",
    "    [\"head\", \"hand\", \"dog\", \"foot\", ]  \n",
    ")\n",
    "\n",
    "# Three syllables and must rhyme with the \"place\" items.\n",
    "with_something = random.choice(\n",
    "    [\"in a tent\", \"with cement\", \"with some scent\", \"that was bent\", ]  \n",
    ")\n",
    "\n",
    "# Three (ish) syllables.\n",
    "it_did_something = random.choice(\n",
    "    [\"It ran off\", \"It glowed\", \"It blew up\", \"It turned blue\", ]  \n",
    ")\n",
    "\n",
    "# Three syllables and must rhyme with the word, \"dark\".\n",
    "in_a_place = random.choice(\n",
    "    [\"in the park\", \"like a quark\", \"for a lark\", \"with a bark\", ]  \n",
    ")\n",
    "\n",
    "# Three syllables.\n",
    "reason = random.choice(\n",
    "    [\"where it went\", \"its intent\", \"why it went\", \"what it meant\", ]  \n",
    ")\n",
    "\n",
    "# this is pretty slick!\n",
    "# using the choice method in the random module we select one of several offered elements in an array of strings\n",
    "# then we use the template.format method to pass the selected values in along with the names of the associated\n",
    "#    place holder names that were between the {} in the original string\n",
    "# The result is that it replaces the {} with the right selected choices and produces a random/different sentence\n",
    "#    every time it is run\n",
    "limerick = template.format(\n",
    "    place=selected_place,\n",
    "    activity=selected_activity,\n",
    "    item=item,\n",
    "    with_something=with_something,\n",
    "    it_did_something=it_did_something,\n",
    "    in_a_place=in_a_place,\n",
    "    reason=reason,\n",
    ")\n",
    "print(limerick)"
   ]
  }
 ],
 "metadata": {
  "kernelspec": {
   "display_name": "Python [conda env:.conda]",
   "language": "python",
   "name": "conda-env-.conda-py"
  },
  "language_info": {
   "codemirror_mode": {
    "name": "ipython",
    "version": 3
   },
   "file_extension": ".py",
   "mimetype": "text/x-python",
   "name": "python",
   "nbconvert_exporter": "python",
   "pygments_lexer": "ipython3",
   "version": "3.12.8"
  }
 },
 "nbformat": 4,
 "nbformat_minor": 5
}
